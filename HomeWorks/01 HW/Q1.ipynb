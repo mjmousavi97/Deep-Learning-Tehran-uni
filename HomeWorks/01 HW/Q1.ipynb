{
  "nbformat": 4,
  "nbformat_minor": 0,
  "metadata": {
    "colab": {
      "provenance": [],
      "mount_file_id": "1L33i8E6Wr3sSt7JjK5A0k1EOtwrMHhXn",
      "authorship_tag": "ABX9TyOFxnQP/omeiS+yUCgEjj9t",
      "include_colab_link": true
    },
    "kernelspec": {
      "name": "python3",
      "display_name": "Python 3"
    },
    "language_info": {
      "name": "python"
    }
  },
  "cells": [
    {
      "cell_type": "markdown",
      "metadata": {
        "id": "view-in-github",
        "colab_type": "text"
      },
      "source": [
        "<a href=\"https://colab.research.google.com/github/mjmousavi97/Deep-Learning-Tehran-uni/blob/main/HomeWorks/01%20HW/Q1.ipynb\" target=\"_parent\"><img src=\"https://colab.research.google.com/assets/colab-badge.svg\" alt=\"Open In Colab\"/></a>"
      ]
    },
    {
      "cell_type": "markdown",
      "source": [
        "# DFA Simulation with Neural Network\n",
        "\n",
        "## Overview\n",
        "\n",
        "This project implements a simple **deterministic finite automaton (DFA)** that detects the binary pattern `100` in an input stream.  \n",
        "Once the pattern is detected, the automaton transitions to an **accepting state** and stays there for the rest of the input.\n",
        "\n",
        "Additionally, the DFA is simulated using **McCulloch-Pitts neurons**, demonstrating how even simple neural network models can replicate finite automata behavior.\n",
        "\n",
        "---\n",
        "\n",
        "## DFA Description\n",
        "\n",
        "### Alphabet\n",
        "- `{0, 1}`\n",
        "\n",
        "### States\n",
        "- `0`: Start state\n",
        "- `1`, `2`: Intermediate states tracking progress through the pattern\n",
        "- `3`: Accepting state (once `100` is detected)\n",
        "\n",
        "### Behavior\n",
        "- The DFA starts at state `0`.\n",
        "- It looks for the sequence `1 -> 0 -> 0`.\n",
        "- Once this sequence is seen, it transitions to state `3` and remains there, accepting all subsequent inputs.\n",
        "\n",
        "### State Transition Table\n",
        "\n",
        "| Current State | Input | Next State | Acceptance |\n",
        "|---------------|-------|------------|------------|\n",
        "|       0       |   0   |     0      |     0      |\n",
        "|       0       |   1   |     1      |     0      |\n",
        "|       1       |   0   |     2      |     0      |\n",
        "|       1       |   1   |     1      |     0      |\n",
        "|       2       |   0   |     3      |     1      |\n",
        "|       2       |   1   |     1      |     0      |\n",
        "|       3       |   0   |     3      |     1      |\n",
        "|       3       |   1   |     3      |     1      |\n",
        "\n",
        "---\n",
        "\n",
        "## Neural Network Simulation\n",
        "\n",
        "### Architecture\n",
        "We simulate this DFA using **extended McCulloch-Pitts neurons**.\n",
        "\n",
        "#### Inputs\n",
        "- **3 input neurons:**\n",
        "  - 2 neurons encoding the current state (in binary)\n",
        "  - 1 neuron encoding the input bit\n",
        "\n",
        "#### Outputs\n",
        "- **3 output neurons:**\n",
        "  - 2 neurons encoding the next state (in binary)\n",
        "  - 1 neuron indicating acceptance (`1` if in accepting state, `0` otherwise)\n",
        "\n",
        "---\n",
        "\n",
        "### Implementation Notes\n",
        "- Each output (next state bits and acceptance) is modeled by a separate small neural network.\n",
        "- The networks use integer weights and thresholds.\n",
        "- All neurons within a single network use the same threshold.\n",
        "\n",
        "---\n",
        "\n",
        "## Files\n",
        "- `README.md`: This file.\n",
        "- `state_diagram.png`: (Add your DFA state diagram image here.)\n",
        "- `truth_table.xlsx`: (Optional – the full binary truth table for input-to-output mapping.)\n",
        "- `neural_network_design.md`: (Optional – diagrams of the individual neural networks for each output.)\n",
        "\n",
        "---\n",
        "\n",
        "## Example Input\n",
        "For the input string `011001`:\n",
        "1. Start at state `0`.\n",
        "2. Read `0`: stay at `0`.\n",
        "3. Read `1`: move to `1`.\n",
        "4. Read `1`: stay at `1`.\n",
        "5. Read `0`: move to `2`.\n",
        "6. Read `0`: move to `3` (accepting state).\n",
        "7. Read `1`: stay at `3`.\n",
        "\n",
        "Since we end in state `3`, the string is **accepted**.\n",
        "\n",
        "---\n",
        "\n",
        "## License\n",
        "This project is open for academic use. Attribution is appreciated.\n",
        "\n",
        "---\n",
        "\n",
        "## Contact\n",
        "If you have any questions or would like to collaborate, feel free to reach out.\n",
        "\n",
        "---\n"
      ],
      "metadata": {
        "id": "wHZpYAxZ_x6y"
      }
    },
    {
      "cell_type": "code",
      "source": [
        "import numpy as np\n",
        "import itertools"
      ],
      "metadata": {
        "id": "GtbqYQZt_-6r"
      },
      "execution_count": null,
      "outputs": []
    },
    {
      "cell_type": "markdown",
      "source": [
        "<div style=\"text-align: center;\">\n",
        "#  <img src=\"images/1.jpg\" alt=\" \" width=\"300\"/>\n",
        "</div>\n"
      ],
      "metadata": {
        "id": "8Ha3gvmLAOTx"
      }
    },
    {
      "cell_type": "code",
      "source": [],
      "metadata": {
        "id": "the5FkZoDiN5"
      },
      "execution_count": null,
      "outputs": []
    }
  ]
}