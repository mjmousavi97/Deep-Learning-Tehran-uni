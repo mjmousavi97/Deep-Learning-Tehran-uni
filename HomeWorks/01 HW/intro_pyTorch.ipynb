{
  "nbformat": 4,
  "nbformat_minor": 0,
  "metadata": {
    "colab": {
      "provenance": [],
      "gpuType": "T4",
      "authorship_tag": "ABX9TyPmsYASqviy2guRI7TEwvmk",
      "include_colab_link": true
    },
    "kernelspec": {
      "name": "python3",
      "display_name": "Python 3"
    },
    "language_info": {
      "name": "python"
    },
    "accelerator": "GPU"
  },
  "cells": [
    {
      "cell_type": "markdown",
      "metadata": {
        "id": "view-in-github",
        "colab_type": "text"
      },
      "source": [
        "<a href=\"https://colab.research.google.com/github/mjmousavi97/Deep-Learning-Tehran-uni/blob/main/HomeWorks/01%20HW/intro_pyTorch.ipynb\" target=\"_parent\"><img src=\"https://colab.research.google.com/assets/colab-badge.svg\" alt=\"Open In Colab\"/></a>"
      ]
    },
    {
      "cell_type": "code",
      "execution_count": 2,
      "metadata": {
        "id": "7DIk6S1lBzWv"
      },
      "outputs": [],
      "source": [
        "import torch"
      ]
    },
    {
      "cell_type": "code",
      "source": [
        "data = [[1, 2], [3, 4]]\n",
        "x = torch.tensor(data)\n",
        "print(x)\n",
        "print(x.type())"
      ],
      "metadata": {
        "colab": {
          "base_uri": "https://localhost:8080/"
        },
        "id": "2vY36mO2CaH7",
        "outputId": "67fdbcd4-4dac-46fc-80a7-ecd2d405cd55"
      },
      "execution_count": 3,
      "outputs": [
        {
          "output_type": "stream",
          "name": "stdout",
          "text": [
            "tensor([[1, 2],\n",
            "        [3, 4]])\n",
            "torch.LongTensor\n"
          ]
        }
      ]
    },
    {
      "cell_type": "code",
      "source": [
        "print(x.device)"
      ],
      "metadata": {
        "colab": {
          "base_uri": "https://localhost:8080/"
        },
        "id": "Z_LHutOpCpU-",
        "outputId": "8ad545e9-7a13-441f-825f-04bf979d04b6"
      },
      "execution_count": 4,
      "outputs": [
        {
          "output_type": "stream",
          "name": "stdout",
          "text": [
            "cpu\n"
          ]
        }
      ]
    },
    {
      "cell_type": "code",
      "source": [
        "if torch.cuda.is_available():\n",
        "    DEVICE = 'cuda'\n",
        "else:\n",
        "    DEVICE = 'cpu'\n",
        "\n",
        "print(DEVICE)"
      ],
      "metadata": {
        "colab": {
          "base_uri": "https://localhost:8080/"
        },
        "id": "uhdc0NRXC34M",
        "outputId": "df31e13f-1ceb-464c-f7ce-4b71545369a7"
      },
      "execution_count": 5,
      "outputs": [
        {
          "output_type": "stream",
          "name": "stdout",
          "text": [
            "cuda\n"
          ]
        }
      ]
    },
    {
      "cell_type": "code",
      "source": [
        "x = x.to(DEVICE)\n",
        "print(x.device)"
      ],
      "metadata": {
        "colab": {
          "base_uri": "https://localhost:8080/"
        },
        "id": "AIJrCq01Dalo",
        "outputId": "09236599-dc58-4b5c-e311-20913cdeaac5"
      },
      "execution_count": 5,
      "outputs": [
        {
          "output_type": "stream",
          "name": "stdout",
          "text": [
            "cpu\n"
          ]
        }
      ]
    },
    {
      "cell_type": "code",
      "source": [
        "import numpy as np"
      ],
      "metadata": {
        "id": "vijOMRqPDrzi"
      },
      "execution_count": 6,
      "outputs": []
    },
    {
      "cell_type": "code",
      "source": [
        "arr = np.array(data)\n",
        "x = torch.from_numpy(arr)\n",
        "\n",
        "print(x.type())"
      ],
      "metadata": {
        "colab": {
          "base_uri": "https://localhost:8080/"
        },
        "id": "zy41lEbxDy4T",
        "outputId": "8334d790-962f-4348-b13e-57e5b48a8b98"
      },
      "execution_count": 7,
      "outputs": [
        {
          "output_type": "stream",
          "name": "stdout",
          "text": [
            "torch.LongTensor\n"
          ]
        }
      ]
    },
    {
      "cell_type": "code",
      "source": [
        "ones = torch.ones_like(x)\n",
        "rands = torch.rand_like(x, dtype=torch.float)\n",
        "\n",
        "print(ones)\n",
        "print(rands)"
      ],
      "metadata": {
        "colab": {
          "base_uri": "https://localhost:8080/"
        },
        "id": "tl0srOXQECe2",
        "outputId": "89f7e51a-9bc0-4356-ef1a-06f423fdfda4"
      },
      "execution_count": 8,
      "outputs": [
        {
          "output_type": "stream",
          "name": "stdout",
          "text": [
            "tensor([[1, 1],\n",
            "        [1, 1]])\n",
            "tensor([[0.8368, 0.4563],\n",
            "        [0.2921, 0.3921]])\n"
          ]
        }
      ]
    },
    {
      "cell_type": "code",
      "source": [
        "shape = (2, 3)\n",
        "ones = torch.ones(shape)\n",
        "zeros = torch.zeros(shape)\n",
        "rands = torch.rand(shape)\n",
        "\n",
        "print(ones, '\\n')\n",
        "print(zeros, '\\n')\n",
        "print(rands)"
      ],
      "metadata": {
        "colab": {
          "base_uri": "https://localhost:8080/"
        },
        "id": "A_6sSZy6Eoat",
        "outputId": "b74e249b-c731-462e-81fa-8efba232784f"
      },
      "execution_count": 9,
      "outputs": [
        {
          "output_type": "stream",
          "name": "stdout",
          "text": [
            "tensor([[1., 1., 1.],\n",
            "        [1., 1., 1.]]) \n",
            "\n",
            "tensor([[0., 0., 0.],\n",
            "        [0., 0., 0.]]) \n",
            "\n",
            "tensor([[0.6340, 0.6265, 0.3451],\n",
            "        [0.1547, 0.2181, 0.9418]])\n"
          ]
        }
      ]
    },
    {
      "cell_type": "code",
      "source": [
        "print(rands.shape)"
      ],
      "metadata": {
        "colab": {
          "base_uri": "https://localhost:8080/"
        },
        "id": "1luqjz8tFUaL",
        "outputId": "f3923377-4420-4ead-a9be-e84cff5e12c1"
      },
      "execution_count": 10,
      "outputs": [
        {
          "output_type": "stream",
          "name": "stdout",
          "text": [
            "torch.Size([2, 3])\n"
          ]
        }
      ]
    },
    {
      "cell_type": "code",
      "source": [
        "print(rands.type())"
      ],
      "metadata": {
        "colab": {
          "base_uri": "https://localhost:8080/"
        },
        "id": "mjFvxE-jFgFb",
        "outputId": "55300a42-f68f-4276-b09e-f743dd80ec43"
      },
      "execution_count": 11,
      "outputs": [
        {
          "output_type": "stream",
          "name": "stdout",
          "text": [
            "torch.FloatTensor\n"
          ]
        }
      ]
    },
    {
      "cell_type": "code",
      "source": [
        "print(rands.device)"
      ],
      "metadata": {
        "colab": {
          "base_uri": "https://localhost:8080/"
        },
        "id": "dRersfgLFiAR",
        "outputId": "13f9e33b-ab51-44f6-dd3f-2f3ce6e5550a"
      },
      "execution_count": 12,
      "outputs": [
        {
          "output_type": "stream",
          "name": "stdout",
          "text": [
            "cpu\n"
          ]
        }
      ]
    },
    {
      "cell_type": "code",
      "source": [
        " x = torch.ones((4, 4))\n",
        " x[:, 1] = 0\n",
        " print(x)"
      ],
      "metadata": {
        "colab": {
          "base_uri": "https://localhost:8080/"
        },
        "id": "xIavAPpUFmg1",
        "outputId": "dcb95ecc-8f02-4cee-b393-547d5b504d65"
      },
      "execution_count": 13,
      "outputs": [
        {
          "output_type": "stream",
          "name": "stdout",
          "text": [
            "tensor([[1., 0., 1., 1.],\n",
            "        [1., 0., 1., 1.],\n",
            "        [1., 0., 1., 1.],\n",
            "        [1., 0., 1., 1.]])\n"
          ]
        }
      ]
    },
    {
      "cell_type": "code",
      "source": [
        "x1 = torch.cat((x, x, x), dim=1)"
      ],
      "metadata": {
        "id": "mOPlSmYuGNtQ"
      },
      "execution_count": 14,
      "outputs": []
    },
    {
      "cell_type": "code",
      "source": [
        "x1"
      ],
      "metadata": {
        "colab": {
          "base_uri": "https://localhost:8080/"
        },
        "id": "BtDiUOvwGUFu",
        "outputId": "e8a94b44-6998-4203-e5f6-f79b3529c7d7"
      },
      "execution_count": 15,
      "outputs": [
        {
          "output_type": "execute_result",
          "data": {
            "text/plain": [
              "tensor([[1., 0., 1., 1., 1., 0., 1., 1., 1., 0., 1., 1.],\n",
              "        [1., 0., 1., 1., 1., 0., 1., 1., 1., 0., 1., 1.],\n",
              "        [1., 0., 1., 1., 1., 0., 1., 1., 1., 0., 1., 1.],\n",
              "        [1., 0., 1., 1., 1., 0., 1., 1., 1., 0., 1., 1.]])"
            ]
          },
          "metadata": {},
          "execution_count": 15
        }
      ]
    },
    {
      "cell_type": "code",
      "source": [
        " x = x*2"
      ],
      "metadata": {
        "id": "hxEa1G7nGU1G"
      },
      "execution_count": 16,
      "outputs": []
    },
    {
      "cell_type": "code",
      "source": [
        "x"
      ],
      "metadata": {
        "colab": {
          "base_uri": "https://localhost:8080/"
        },
        "id": "FVpolv3CGhKE",
        "outputId": "28b0beac-93af-4b90-b9c5-e901bd7a3e42"
      },
      "execution_count": 17,
      "outputs": [
        {
          "output_type": "execute_result",
          "data": {
            "text/plain": [
              "tensor([[2., 0., 2., 2.],\n",
              "        [2., 0., 2., 2.],\n",
              "        [2., 0., 2., 2.],\n",
              "        [2., 0., 2., 2.]])"
            ]
          },
          "metadata": {},
          "execution_count": 17
        }
      ]
    },
    {
      "cell_type": "code",
      "source": [
        "x.mul(x)    # Elementvise"
      ],
      "metadata": {
        "colab": {
          "base_uri": "https://localhost:8080/"
        },
        "id": "RMoLkZQ_Ghf-",
        "outputId": "eb2a78bf-a685-4544-ec22-2ae7fa92f983"
      },
      "execution_count": 18,
      "outputs": [
        {
          "output_type": "execute_result",
          "data": {
            "text/plain": [
              "tensor([[4., 0., 4., 4.],\n",
              "        [4., 0., 4., 4.],\n",
              "        [4., 0., 4., 4.],\n",
              "        [4., 0., 4., 4.]])"
            ]
          },
          "metadata": {},
          "execution_count": 18
        }
      ]
    },
    {
      "cell_type": "code",
      "source": [
        "x1 = torch.ones_like(x)"
      ],
      "metadata": {
        "id": "CVrqKwTJGlCk"
      },
      "execution_count": 19,
      "outputs": []
    },
    {
      "cell_type": "code",
      "source": [
        "x1"
      ],
      "metadata": {
        "colab": {
          "base_uri": "https://localhost:8080/"
        },
        "id": "ixj-mWIOIItb",
        "outputId": "ea72172a-76dd-4713-c086-a385cdd0fcc4"
      },
      "execution_count": 20,
      "outputs": [
        {
          "output_type": "execute_result",
          "data": {
            "text/plain": [
              "tensor([[1., 1., 1., 1.],\n",
              "        [1., 1., 1., 1.],\n",
              "        [1., 1., 1., 1.],\n",
              "        [1., 1., 1., 1.]])"
            ]
          },
          "metadata": {},
          "execution_count": 20
        }
      ]
    },
    {
      "cell_type": "code",
      "source": [
        "x1.matmul(x1)"
      ],
      "metadata": {
        "colab": {
          "base_uri": "https://localhost:8080/"
        },
        "id": "B3Uo9ClWIK-I",
        "outputId": "0b38a39c-ba42-4ded-d6d2-d40c183303de"
      },
      "execution_count": 21,
      "outputs": [
        {
          "output_type": "execute_result",
          "data": {
            "text/plain": [
              "tensor([[4., 4., 4., 4.],\n",
              "        [4., 4., 4., 4.],\n",
              "        [4., 4., 4., 4.],\n",
              "        [4., 4., 4., 4.]])"
            ]
          },
          "metadata": {},
          "execution_count": 21
        }
      ]
    },
    {
      "cell_type": "code",
      "source": [
        "x1 @ x1"
      ],
      "metadata": {
        "colab": {
          "base_uri": "https://localhost:8080/"
        },
        "id": "Xl4egWCrIPrW",
        "outputId": "5d27410e-f9e2-483e-9b57-154585cb410b"
      },
      "execution_count": 22,
      "outputs": [
        {
          "output_type": "execute_result",
          "data": {
            "text/plain": [
              "tensor([[4., 4., 4., 4.],\n",
              "        [4., 4., 4., 4.],\n",
              "        [4., 4., 4., 4.],\n",
              "        [4., 4., 4., 4.]])"
            ]
          },
          "metadata": {},
          "execution_count": 22
        }
      ]
    },
    {
      "cell_type": "code",
      "source": [
        "print(x1 + 5)"
      ],
      "metadata": {
        "colab": {
          "base_uri": "https://localhost:8080/"
        },
        "id": "jklacQPEIS0l",
        "outputId": "11f7a621-6e6b-4f3e-9484-51e69b2f372b"
      },
      "execution_count": 23,
      "outputs": [
        {
          "output_type": "stream",
          "name": "stdout",
          "text": [
            "tensor([[6., 6., 6., 6.],\n",
            "        [6., 6., 6., 6.],\n",
            "        [6., 6., 6., 6.],\n",
            "        [6., 6., 6., 6.]])\n"
          ]
        }
      ]
    },
    {
      "cell_type": "code",
      "source": [
        "x1.add(5)"
      ],
      "metadata": {
        "colab": {
          "base_uri": "https://localhost:8080/"
        },
        "id": "SUig-cWpIc7C",
        "outputId": "27347836-35c1-440d-a8dc-f7d30e6c6cc8"
      },
      "execution_count": 24,
      "outputs": [
        {
          "output_type": "execute_result",
          "data": {
            "text/plain": [
              "tensor([[6., 6., 6., 6.],\n",
              "        [6., 6., 6., 6.],\n",
              "        [6., 6., 6., 6.],\n",
              "        [6., 6., 6., 6.]])"
            ]
          },
          "metadata": {},
          "execution_count": 24
        }
      ]
    },
    {
      "cell_type": "code",
      "source": [
        "x1"
      ],
      "metadata": {
        "colab": {
          "base_uri": "https://localhost:8080/"
        },
        "id": "0Ry1P97CIuKF",
        "outputId": "31870479-e18c-4d7f-f9ff-f90549630bfb"
      },
      "execution_count": 25,
      "outputs": [
        {
          "output_type": "execute_result",
          "data": {
            "text/plain": [
              "tensor([[1., 1., 1., 1.],\n",
              "        [1., 1., 1., 1.],\n",
              "        [1., 1., 1., 1.],\n",
              "        [1., 1., 1., 1.]])"
            ]
          },
          "metadata": {},
          "execution_count": 25
        }
      ]
    },
    {
      "cell_type": "code",
      "source": [
        "x1.add_(5)"
      ],
      "metadata": {
        "colab": {
          "base_uri": "https://localhost:8080/"
        },
        "id": "AJ9jMd4fIkuQ",
        "outputId": "b410e794-67ad-42d5-f068-f30adcddfaf5"
      },
      "execution_count": 26,
      "outputs": [
        {
          "output_type": "execute_result",
          "data": {
            "text/plain": [
              "tensor([[6., 6., 6., 6.],\n",
              "        [6., 6., 6., 6.],\n",
              "        [6., 6., 6., 6.],\n",
              "        [6., 6., 6., 6.]])"
            ]
          },
          "metadata": {},
          "execution_count": 26
        }
      ]
    },
    {
      "cell_type": "code",
      "source": [
        "x1"
      ],
      "metadata": {
        "colab": {
          "base_uri": "https://localhost:8080/"
        },
        "id": "lJbHcsGYIlbZ",
        "outputId": "20da8ae6-4a20-4ecb-e5ab-302e277e9dcc"
      },
      "execution_count": 27,
      "outputs": [
        {
          "output_type": "execute_result",
          "data": {
            "text/plain": [
              "tensor([[6., 6., 6., 6.],\n",
              "        [6., 6., 6., 6.],\n",
              "        [6., 6., 6., 6.],\n",
              "        [6., 6., 6., 6.]])"
            ]
          },
          "metadata": {},
          "execution_count": 27
        }
      ]
    },
    {
      "cell_type": "code",
      "source": [
        "t = torch.ones((4, 4))\n",
        "n = t.numpy()\n",
        "\n",
        "print(t)\n",
        "print(n)"
      ],
      "metadata": {
        "colab": {
          "base_uri": "https://localhost:8080/"
        },
        "id": "9yUWZN0fIrgi",
        "outputId": "0ae3f053-9e53-45ba-f27f-741d695f58b6"
      },
      "execution_count": 28,
      "outputs": [
        {
          "output_type": "stream",
          "name": "stdout",
          "text": [
            "tensor([[1., 1., 1., 1.],\n",
            "        [1., 1., 1., 1.],\n",
            "        [1., 1., 1., 1.],\n",
            "        [1., 1., 1., 1.]])\n",
            "[[1. 1. 1. 1.]\n",
            " [1. 1. 1. 1.]\n",
            " [1. 1. 1. 1.]\n",
            " [1. 1. 1. 1.]]\n"
          ]
        }
      ]
    },
    {
      "cell_type": "code",
      "source": [
        "print(t.type())\n",
        "print(type(n))"
      ],
      "metadata": {
        "colab": {
          "base_uri": "https://localhost:8080/"
        },
        "id": "0NYdKvsJJxeI",
        "outputId": "e31aa759-7380-4990-aa5a-f1aeadc1a4cc"
      },
      "execution_count": 29,
      "outputs": [
        {
          "output_type": "stream",
          "name": "stdout",
          "text": [
            "torch.FloatTensor\n",
            "<class 'numpy.ndarray'>\n"
          ]
        }
      ]
    },
    {
      "cell_type": "code",
      "source": [
        "t.add_(1)"
      ],
      "metadata": {
        "colab": {
          "base_uri": "https://localhost:8080/"
        },
        "id": "ij4PHeibJ0rn",
        "outputId": "3d6ce1de-4614-4f1d-ae3f-7b1a6e00ea74"
      },
      "execution_count": 30,
      "outputs": [
        {
          "output_type": "execute_result",
          "data": {
            "text/plain": [
              "tensor([[2., 2., 2., 2.],\n",
              "        [2., 2., 2., 2.],\n",
              "        [2., 2., 2., 2.],\n",
              "        [2., 2., 2., 2.]])"
            ]
          },
          "metadata": {},
          "execution_count": 30
        }
      ]
    },
    {
      "cell_type": "code",
      "source": [
        "t"
      ],
      "metadata": {
        "colab": {
          "base_uri": "https://localhost:8080/"
        },
        "id": "i-n5jrYQKEeg",
        "outputId": "be01daa0-e3b0-4238-a844-e26c60ae7398"
      },
      "execution_count": 31,
      "outputs": [
        {
          "output_type": "execute_result",
          "data": {
            "text/plain": [
              "tensor([[2., 2., 2., 2.],\n",
              "        [2., 2., 2., 2.],\n",
              "        [2., 2., 2., 2.],\n",
              "        [2., 2., 2., 2.]])"
            ]
          },
          "metadata": {},
          "execution_count": 31
        }
      ]
    },
    {
      "cell_type": "code",
      "source": [
        "n"
      ],
      "metadata": {
        "colab": {
          "base_uri": "https://localhost:8080/"
        },
        "id": "fQ3NZIg-KE6M",
        "outputId": "75d5a11e-bd21-4bdd-e1ed-2dc510a7a893"
      },
      "execution_count": 32,
      "outputs": [
        {
          "output_type": "execute_result",
          "data": {
            "text/plain": [
              "array([[2., 2., 2., 2.],\n",
              "       [2., 2., 2., 2.],\n",
              "       [2., 2., 2., 2.],\n",
              "       [2., 2., 2., 2.]], dtype=float32)"
            ]
          },
          "metadata": {},
          "execution_count": 32
        }
      ]
    },
    {
      "cell_type": "code",
      "source": [
        "a = torch.tensor([2., 3.], requires_grad=True)\n",
        "b = torch.tensor([6., 4.], requires_grad=True)\n",
        "\n",
        "Q = 3*a**3 - b** 2"
      ],
      "metadata": {
        "id": "PkX3faqYKFYM"
      },
      "execution_count": 33,
      "outputs": []
    },
    {
      "cell_type": "code",
      "source": [
        "ext_gradient = torch.ones_like(Q)\n",
        "Q.backward(gradient=ext_gradient)"
      ],
      "metadata": {
        "id": "eollnqKlLM-2"
      },
      "execution_count": 34,
      "outputs": []
    },
    {
      "cell_type": "code",
      "source": [
        "print(a.grad)"
      ],
      "metadata": {
        "colab": {
          "base_uri": "https://localhost:8080/"
        },
        "id": "HtYV_8NcLYi6",
        "outputId": "2133b1ee-2c81-4d94-9c9c-dc3385155eb9"
      },
      "execution_count": 35,
      "outputs": [
        {
          "output_type": "stream",
          "name": "stdout",
          "text": [
            "tensor([36., 81.])\n"
          ]
        }
      ]
    },
    {
      "cell_type": "code",
      "source": [
        "print(b.grad)"
      ],
      "metadata": {
        "colab": {
          "base_uri": "https://localhost:8080/"
        },
        "id": "6oF_w019QCON",
        "outputId": "424664b9-2338-45a5-bbfd-b2c5b74a4bf9"
      },
      "execution_count": 36,
      "outputs": [
        {
          "output_type": "stream",
          "name": "stdout",
          "text": [
            "tensor([-12.,  -8.])\n"
          ]
        }
      ]
    },
    {
      "cell_type": "markdown",
      "source": [
        "# Data loading and preprocessing"
      ],
      "metadata": {
        "id": "izdrZennQNPL"
      }
    },
    {
      "cell_type": "code",
      "source": [
        "import torchvision\n",
        "import torchvision.transforms as transforms"
      ],
      "metadata": {
        "id": "43YvsjWMSdSk"
      },
      "execution_count": 6,
      "outputs": []
    },
    {
      "cell_type": "code",
      "source": [
        "original_set = torchvision.datasets.MNIST(root='./',\n",
        "                                          download=True,\n",
        "                                          train=True,\n",
        "                                          transform=transforms.Compose([transforms.ToTensor(),transforms.Normalize(0,1)])\n",
        "                                          )\n",
        "\n",
        "test_set = torchvision.datasets.MNIST(root='./',\n",
        "                                          download=True,\n",
        "                                          train=False,\n",
        "                                          transform=transforms.Compose([transforms.ToTensor(),transforms.Normalize(0,1)])\n",
        "                                          )\n"
      ],
      "metadata": {
        "colab": {
          "base_uri": "https://localhost:8080/"
        },
        "id": "6nSBV5vjXiuG",
        "outputId": "775a0bf8-9389-43a0-ef90-0079328f2d7c"
      },
      "execution_count": 7,
      "outputs": [
        {
          "output_type": "stream",
          "name": "stderr",
          "text": [
            "100%|██████████| 9.91M/9.91M [00:00<00:00, 17.2MB/s]\n",
            "100%|██████████| 28.9k/28.9k [00:00<00:00, 485kB/s]\n",
            "100%|██████████| 1.65M/1.65M [00:00<00:00, 4.43MB/s]\n",
            "100%|██████████| 4.54k/4.54k [00:00<00:00, 5.86MB/s]\n"
          ]
        }
      ]
    },
    {
      "cell_type": "code",
      "source": [
        "from torch.utils.data import random_split, Dataset, DataLoader\n",
        "\n",
        "train_set, val_set = random_split(original_set, [50000, 10000])"
      ],
      "metadata": {
        "id": "DSNDZ-y5ZhVP"
      },
      "execution_count": 8,
      "outputs": []
    },
    {
      "cell_type": "code",
      "source": [
        "print(f\"Size of the training set: {len(train_set)}\")\n",
        "print(f\"Size of the validation set: {len(val_set)}\")\n",
        "print(f\"Size of the test set: {len(test_set)}\")\n"
      ],
      "metadata": {
        "colab": {
          "base_uri": "https://localhost:8080/"
        },
        "id": "EDnQkNQrayYx",
        "outputId": "d5376c31-327f-4707-9bfd-710e1c8f9b85"
      },
      "execution_count": 9,
      "outputs": [
        {
          "output_type": "stream",
          "name": "stdout",
          "text": [
            "Size of the training set: 50000\n",
            "Size of the validation set: 10000\n",
            "Size of the test set: 10000\n"
          ]
        }
      ]
    },
    {
      "cell_type": "code",
      "source": [
        "## Create the data loaders\n",
        "train_loader = DataLoader(train_set, batch_size=256, shuffle=True)\n",
        "val_loader = DataLoader(val_set, batch_size=256, shuffle=True)\n",
        "test_loader = DataLoader(test_set, batch_size=256, shuffle=True)"
      ],
      "metadata": {
        "id": "q9DAssZAa6C0"
      },
      "execution_count": 10,
      "outputs": []
    },
    {
      "cell_type": "code",
      "source": [
        "classes = {0: \"Zero\", 1: \"One\", 2: \"Two\", 3: \"Three\", 4: \"Four\", 5: \"Five\", 6: \"Six\", 7: \"Seven\", 8: \"Eight\", 9: \"Nine\"}\n",
        "class_names = [\"Zero\",\"One\", \"Two\", \"Three\", \"Four\", \"Five\", \"Six\", \"Seven\", \"Eight\", \"Nine\"]\n"
      ],
      "metadata": {
        "id": "aJg4iE_HbuaK"
      },
      "execution_count": 11,
      "outputs": []
    },
    {
      "cell_type": "code",
      "source": [
        "import matplotlib.pyplot as plt\n",
        "import itertools"
      ],
      "metadata": {
        "id": "syoJmUC7byOH"
      },
      "execution_count": 12,
      "outputs": []
    },
    {
      "cell_type": "code",
      "source": [
        "def imshow(image_array, labels, classes):\n",
        "    figure, axs = plt.subplots(2, 5)\n",
        "    counter = 0\n",
        "    for i in range(2):\n",
        "        for j in range(5):\n",
        "            imgtmp = torch.transpose(image_array[counter], 0, 2)\n",
        "            axs[i][j].imshow(torch.transpose(imgtmp, 0, 1).reshape((28, 28)))\n",
        "            axs[i][j].set_title(classes[distinct_classes[counter]])\n",
        "            axs[i][j].axis('off')\n",
        "            counter += 1\n",
        "\n",
        "    plt.show()\n",
        "\n",
        "\n",
        "data_iter = iter(train_loader)\n",
        "images, labels = next(data_iter)\n",
        "\n",
        "\n",
        "## Visualize one sample from each class\n",
        "distinct_images = []\n",
        "distinct_classes = []\n",
        "counter = 0\n",
        "for i in range(len(labels)):\n",
        "    if int(labels[i]) not in distinct_classes:\n",
        "        counter += 1\n",
        "        distinct_images.append(images[i])\n",
        "        distinct_classes.append(int(labels[i]))\n",
        "    if counter == 10:\n",
        "        break\n",
        "imshow(distinct_images, distinct_classes, classes)"
      ],
      "metadata": {
        "colab": {
          "base_uri": "https://localhost:8080/",
          "height": 346
        },
        "id": "Kfrz632Zh7FP",
        "outputId": "c58175bc-44e4-4bd9-c0a0-31f59bb5fad0"
      },
      "execution_count": 13,
      "outputs": [
        {
          "output_type": "display_data",
          "data": {
            "text/plain": [
              "<Figure size 640x480 with 10 Axes>"
            ],
            "image/png": "[encoded data removed]"
          },
          "metadata": {}
        }
      ]
    },
    {
      "cell_type": "code",
      "source": [
        "import torch.nn as nn\n",
        "import torch.nn.functional as F"
      ],
      "metadata": {
        "id": "cIiwlueJmEsN"
      },
      "execution_count": 14,
      "outputs": []
    },
    {
      "cell_type": "code",
      "source": [
        "class FC(nn.Module):\n",
        "    def __init__(self,input_size, hidden_size, num_classes):\n",
        "       super().__init__()\n",
        "       self.fc1 = nn.Linear(input_size, hidden_size)\n",
        "       self.fc2 = nn.Linear(hidden_size, num_classes)\n",
        "       self.softm = nn.Softmax(dim=1)\n",
        "\n",
        "\n",
        "    def forward(self, x):\n",
        "        out = self.fc1(x)\n",
        "        out = F.relu(out)\n",
        "        out = self.fc2(out)\n",
        "        out = self.softm(out)\n",
        "\n",
        "        return out\n"
      ],
      "metadata": {
        "id": "7IVrcC1Bs-WA"
      },
      "execution_count": 21,
      "outputs": []
    },
    {
      "cell_type": "code",
      "source": [
        "## The method for fitting an epoch of data to the model\n",
        "\n",
        "def fit(model, train_loader, optimizer, criterion):\n",
        "    model.train()   # Training mode (allow weight updates)\n",
        "    train_running_loss = 0.0\n",
        "    train_running_correct = 0\n",
        "    counter = 0\n",
        "    total = 0\n",
        "    for i, data in enumerate(train_loader):\n",
        "        counter += 1\n",
        "        data, target = data[0].to(DEVICE), data[1].to(DEVICE)\n",
        "        data = data.reshape(-1, 28*28)    ## Reshape the image data for the fully-connected NN\n",
        "        total += target.size(0)\n",
        "        optimizer.zero_grad()   # Reset gradients\n",
        "        outputs = model(data)   # Calculate outputs\n",
        "        loss = criterion(outputs, target)     ## Calculate Loss\n",
        "        train_running_loss += loss.item()\n",
        "        _, preds = torch.max(outputs.data, 1)\n",
        "        train_running_correct += (preds == target).sum().item() ## Number of correct preds\n",
        "        loss.backward()   ## Backpropage the loss and calculate the gradients\n",
        "        optimizer.step()   ## Update the weights using backpropagation\n",
        "\n",
        "    train_loss = train_running_loss / counter ## Total epoch loss\n",
        "    train_accuracy = 100. * train_running_correct / total ## Mean epoch accuracy\n",
        "    return train_loss, train_accuracy"
      ],
      "metadata": {
        "id": "slVZz5tjvo0H"
      },
      "execution_count": 22,
      "outputs": []
    },
    {
      "cell_type": "code",
      "source": [
        "## The method for evaluating the validation data\n",
        "\n",
        "def validation(model, data_loader, criterion):\n",
        "    model.eval()    ## Evaluation mode (do not allow weight updates)\n",
        "    val_running_loss = 0.0\n",
        "    val_running_correct = 0\n",
        "    counter = 0\n",
        "    total = 0\n",
        "    for i, data in enumerate(data_loader):\n",
        "        counter += 1\n",
        "        data, target = data[0].to(DEVICE), data[1].to(DEVICE)\n",
        "        data = data.reshape(-1, 28*28)\n",
        "        total += target.size(0)\n",
        "        outputs = model(data)\n",
        "        loss = criterion(outputs, target)\n",
        "        val_running_loss += loss.item()\n",
        "        _, preds = torch.max(outputs.data, 1)\n",
        "        val_running_correct += (preds == target).sum().item()\n",
        "        ## No backprop here (because we are validating)\n",
        "\n",
        "    val_loss = val_running_loss / counter\n",
        "    val_accuracy = 100. * val_running_correct / total\n",
        "    return val_loss, val_accuracy"
      ],
      "metadata": {
        "id": "MocOQQOeGeMU"
      },
      "execution_count": 23,
      "outputs": []
    },
    {
      "cell_type": "code",
      "source": [
        "import torch.optim as optim\n",
        "import time\n",
        "\n",
        "## The main method for training the model through epochs\n",
        "def train(hparams, train_loader, val_loader):\n",
        "\n",
        "    model = FC(28*28, 256, 10)\n",
        "    model.to(DEVICE) ## Model from CPU to GPU\n",
        "    optimizer = optim.Adam(model.parameters(), lr=hparams['lr'])  ## Adam optimized\n",
        "\n",
        "    criterion = nn.CrossEntropyLoss() ## Cross entropy loss\n",
        "    train_loss = []\n",
        "    train_accuracy = []\n",
        "    val_loss = []\n",
        "    val_accuracy = []\n",
        "\n",
        "    start = time.time()\n",
        "    ## Loop over epochs\n",
        "    for epoch in range(hparams['epochs']):\n",
        "        print(f\"Epoch {epoch+1} of {hparams['epochs']}\")\n",
        "        train_epoch_loss, train_epoch_accuracy = fit(\n",
        "            model, train_loader, optimizer, criterion\n",
        "        ) ## Fit the model using the training set\n",
        "        val_epoch_loss, val_epoch_accuracy = validation(model, val_loader, criterion)   ## Evaluate the model on the val set\n",
        "        train_loss.append(train_epoch_loss)\n",
        "        train_accuracy.append(train_epoch_accuracy)\n",
        "\n",
        "        val_loss.append(val_epoch_loss)\n",
        "        val_accuracy.append(val_epoch_accuracy)\n",
        "\n",
        "        print(f\"Train Loss: {train_epoch_loss:.4f}, Train Acc: {train_epoch_accuracy:.2f},\\\n",
        "         Val Loss: {val_epoch_loss:.4f}, Val Acc: {val_epoch_accuracy:.2f}\")\n",
        "\n",
        "    end = time.time()\n",
        "\n",
        "    print(f\"Training time: {(end-start)/60:.3f} minutes\")\n",
        "    return model, train_loss, train_accuracy, val_loss, val_accuracy"
      ],
      "metadata": {
        "id": "bI-X26-dxUsU"
      },
      "execution_count": 24,
      "outputs": []
    },
    {
      "cell_type": "code",
      "source": [
        "# Hyperparameters dict\n",
        "hparams = {'batch_size': 256, 'lr': 2e-3, 'epochs': 15}\n",
        "model = FC(28*28, 256, 10)\n",
        "model.to(DEVICE)\n",
        "from torchsummary import summary\n",
        "summary(model, (28*28,), batch_size=hparams['batch_size'], device='cuda')"
      ],
      "metadata": {
        "colab": {
          "base_uri": "https://localhost:8080/"
        },
        "id": "jduMdwmhGh7K",
        "outputId": "45785955-b158-4fa8-bade-1c837fd2801b"
      },
      "execution_count": 25,
      "outputs": [
        {
          "output_type": "stream",
          "name": "stdout",
          "text": [
            "----------------------------------------------------------------\n",
            "        Layer (type)               Output Shape         Param #\n",
            "================================================================\n",
            "            Linear-1                 [256, 256]         200,960\n",
            "            Linear-2                  [256, 10]           2,570\n",
            "           Softmax-3                  [256, 10]               0\n",
            "================================================================\n",
            "Total params: 203,530\n",
            "Trainable params: 203,530\n",
            "Non-trainable params: 0\n",
            "----------------------------------------------------------------\n",
            "Input size (MB): 0.77\n",
            "Forward/backward pass size (MB): 0.54\n",
            "Params size (MB): 0.78\n",
            "Estimated Total Size (MB): 2.08\n",
            "----------------------------------------------------------------\n"
          ]
        }
      ]
    },
    {
      "cell_type": "code",
      "source": [
        "model, train_loss, train_accuracy, val_loss, val_accuracy = train(hparams, train_loader, val_loader) ### train the model"
      ],
      "metadata": {
        "colab": {
          "base_uri": "https://localhost:8080/"
        },
        "id": "qy5G6aIKGj_R",
        "outputId": "ea45129c-e70d-46ed-cf74-833ed79affdd"
      },
      "execution_count": 26,
      "outputs": [
        {
          "output_type": "stream",
          "name": "stdout",
          "text": [
            "Epoch 1 of 15\n",
            "Train Loss: 1.6310, Train Acc: 86.11,         Val Loss: 1.5446, Val Acc: 92.57\n",
            "Epoch 2 of 15\n",
            "Train Loss: 1.5307, Train Acc: 93.80,         Val Loss: 1.5290, Val Acc: 93.69\n",
            "Epoch 3 of 15\n",
            "Train Loss: 1.5141, Train Acc: 95.22,         Val Loss: 1.5187, Val Acc: 94.98\n",
            "Epoch 4 of 15\n",
            "Train Loss: 1.5035, Train Acc: 96.23,         Val Loss: 1.5158, Val Acc: 94.98\n",
            "Epoch 5 of 15\n",
            "Train Loss: 1.4958, Train Acc: 96.90,         Val Loss: 1.5034, Val Acc: 96.01\n",
            "Epoch 6 of 15\n",
            "Train Loss: 1.4902, Train Acc: 97.44,         Val Loss: 1.5032, Val Acc: 96.05\n",
            "Epoch 7 of 15\n",
            "Train Loss: 1.4860, Train Acc: 97.86,         Val Loss: 1.5008, Val Acc: 96.30\n",
            "Epoch 8 of 15\n",
            "Train Loss: 1.4833, Train Acc: 98.06,         Val Loss: 1.4959, Val Acc: 96.62\n",
            "Epoch 9 of 15\n",
            "Train Loss: 1.4806, Train Acc: 98.31,         Val Loss: 1.4954, Val Acc: 96.68\n",
            "Epoch 10 of 15\n",
            "Train Loss: 1.4790, Train Acc: 98.44,         Val Loss: 1.4941, Val Acc: 96.78\n",
            "Epoch 11 of 15\n",
            "Train Loss: 1.4772, Train Acc: 98.58,         Val Loss: 1.4942, Val Acc: 96.81\n",
            "Epoch 12 of 15\n",
            "Train Loss: 1.4761, Train Acc: 98.70,         Val Loss: 1.4934, Val Acc: 96.92\n",
            "Epoch 13 of 15\n",
            "Train Loss: 1.4749, Train Acc: 98.79,         Val Loss: 1.4920, Val Acc: 96.94\n",
            "Epoch 14 of 15\n",
            "Train Loss: 1.4738, Train Acc: 98.88,         Val Loss: 1.4927, Val Acc: 96.91\n",
            "Epoch 15 of 15\n",
            "Train Loss: 1.4733, Train Acc: 98.93,         Val Loss: 1.4936, Val Acc: 97.13\n",
            "Training time: 3.052 minutes\n"
          ]
        }
      ]
    },
    {
      "cell_type": "code",
      "source": [
        "import matplotlib.pyplot as plt\n",
        "\n",
        "def plot_training(train_loss, val_loss, train_acc, val_acc):\n",
        "    epochs = range(1, len(train_loss) + 1)\n",
        "\n",
        "    plt.figure(figsize=(12, 5))\n",
        "\n",
        "    # Plot Loss\n",
        "    plt.subplot(1, 2, 1)\n",
        "    plt.plot(epochs, train_loss, 'bo-', label='Train Loss')\n",
        "    plt.plot(epochs, val_loss, 'ro-', label='Val Loss')\n",
        "    plt.title('Loss Over Epochs')\n",
        "    plt.xlabel('Epoch')\n",
        "    plt.ylabel('Loss')\n",
        "    plt.legend()\n",
        "\n",
        "    # Plot Accuracy\n",
        "    plt.subplot(1, 2, 2)\n",
        "    plt.plot(epochs, train_acc, 'bo-', label='Train Accuracy')\n",
        "    plt.plot(epochs, val_acc, 'ro-', label='Val Accuracy')\n",
        "    plt.title('Accuracy Over Epochs')\n",
        "    plt.xlabel('Epoch')\n",
        "    plt.ylabel('Accuracy (%)')\n",
        "    plt.legend()\n",
        "\n",
        "    plt.tight_layout()\n",
        "    plt.show()\n"
      ],
      "metadata": {
        "id": "gaUYK8FWH3Df"
      },
      "execution_count": 27,
      "outputs": []
    },
    {
      "cell_type": "code",
      "source": [
        "plot_training(train_loss, val_loss, train_accuracy, val_accuracy)"
      ],
      "metadata": {
        "colab": {
          "base_uri": "https://localhost:8080/",
          "height": 507
        },
        "id": "GStVUHpgIl2n",
        "outputId": "727ee6ab-ea20-4bd6-b68f-629109708eb4"
      },
      "execution_count": 28,
      "outputs": [
        {
          "output_type": "display_data",
          "data": {
            "text/plain": [
              "<Figure size 1200x500 with 2 Axes>"
            ],
            "image/png": "[encoded data removed]"
          },
          "metadata": {}
        }
      ]
    },
    {
      "cell_type": "code",
      "source": [
        "torch.save(model.state_dict(), 'saved_model')"
      ],
      "metadata": {
        "id": "2zzOHfq5I1_5"
      },
      "execution_count": 29,
      "outputs": []
    },
    {
      "cell_type": "code",
      "source": [],
      "metadata": {
        "id": "9Nh0oZPRJAv9"
      },
      "execution_count": null,
      "outputs": []
    }
  ]
}