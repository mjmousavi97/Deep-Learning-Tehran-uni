{
  "nbformat": 4,
  "nbformat_minor": 0,
  "metadata": {
    "colab": {
      "provenance": [],
      "gpuType": "T4",
      "authorship_tag": "ABX9TyOgT3KfZkXLycfrgsh9lVGB",
      "include_colab_link": true
    },
    "kernelspec": {
      "name": "python3",
      "display_name": "Python 3"
    },
    "language_info": {
      "name": "python"
    },
    "accelerator": "GPU"
  },
  "cells": [
    {
      "cell_type": "markdown",
      "metadata": {
        "id": "view-in-github",
        "colab_type": "text"
      },
      "source": [
        "<a href=\"https://colab.research.google.com/github/mjmousavi97/Deep-Learning-Tehran-uni/blob/main/HomeWorks/01%20HW/tensorflow_intro.ipynb\" target=\"_parent\"><img src=\"https://colab.research.google.com/assets/colab-badge.svg\" alt=\"Open In Colab\"/></a>"
      ]
    },
    {
      "cell_type": "markdown",
      "source": [
        "## TensorFlow\n",
        "Mohammad Javad"
      ],
      "metadata": {
        "id": "RtNTytOiZ-2I"
      }
    },
    {
      "cell_type": "markdown",
      "source": [
        "TensorFlow is a large and powerful library that provides a wide range of functions and features for building and training machine learning models. However, there are a few functions that are particularly important and commonly used. Here are some of the most important functions in TensorFlow:\n",
        "\n",
        "* tf.constant(): This function creates a constant tensor with a specified value. It is often used to define input data or model parameters that are not changed during training.\n",
        "\n",
        "* tf.Variable(): This function creates a mutable tensor variable that can be modified during training. Variables are often used to store model parameters that are updated during optimization.\n",
        "\n",
        "\n",
        "* tf.matmul(): This function performs matrix multiplication between two tensors. It is a fundamental building block for many machine learning models, including neural networks.\n",
        "\n",
        "* tf.nn.relu(): This function implements the rectified linear activation function, which is commonly used in neural networks. It helps to introduce non-linearity into the model and can improve its ability to learn complex patterns.\n",
        "\n",
        "* tf.train.Optimizer(): This class provides a variety of optimization algorithms that can be used to train machine learning models. Some common optimizers include Stochastic Gradient Descent (SGD), Adam, and Adagrad.\n",
        "\n",
        "* tf.reduce_mean(): This function computes the mean of a tensor along a specified axis. It is often used to compute the loss function during training.\n",
        "\n",
        "These are just a few of the most important functions in TensorFlow, but there are many others that are also useful for building and training machine learning models."
      ],
      "metadata": {
        "id": "rZl3C3ZUaUv2"
      }
    },
    {
      "cell_type": "code",
      "source": [
        "import tensorflow as tf\n",
        "import numpy as np\n",
        "import matplotlib.pyplot as plt"
      ],
      "metadata": {
        "id": "Dh0M96U9aZWE"
      },
      "execution_count": 8,
      "outputs": []
    },
    {
      "cell_type": "code",
      "source": [
        "!nvidia-smi"
      ],
      "metadata": {
        "colab": {
          "base_uri": "https://localhost:8080/"
        },
        "id": "X6SYFa4SalKz",
        "outputId": "52554bcc-422a-4adb-85c9-6742ff536b8c"
      },
      "execution_count": 9,
      "outputs": [
        {
          "output_type": "stream",
          "name": "stdout",
          "text": [
            "Thu Jul 31 05:38:04 2025       \n",
            "+-----------------------------------------------------------------------------------------+\n",
            "| NVIDIA-SMI 550.54.15              Driver Version: 550.54.15      CUDA Version: 12.4     |\n",
            "|-----------------------------------------+------------------------+----------------------+\n",
            "| GPU  Name                 Persistence-M | Bus-Id          Disp.A | Volatile Uncorr. ECC |\n",
            "| Fan  Temp   Perf          Pwr:Usage/Cap |           Memory-Usage | GPU-Util  Compute M. |\n",
            "|                                         |                        |               MIG M. |\n",
            "|=========================================+========================+======================|\n",
            "|   0  Tesla T4                       Off |   00000000:00:04.0 Off |                    0 |\n",
            "| N/A   38C    P8              9W /   70W |       0MiB /  15360MiB |      0%      Default |\n",
            "|                                         |                        |                  N/A |\n",
            "+-----------------------------------------+------------------------+----------------------+\n",
            "                                                                                         \n",
            "+-----------------------------------------------------------------------------------------+\n",
            "| Processes:                                                                              |\n",
            "|  GPU   GI   CI        PID   Type   Process name                              GPU Memory |\n",
            "|        ID   ID                                                               Usage      |\n",
            "|=========================================================================================|\n",
            "|  No running processes found                                                             |\n",
            "+-----------------------------------------------------------------------------------------+\n"
          ]
        }
      ]
    },
    {
      "cell_type": "code",
      "source": [
        "x = tf.constant(42)\n",
        "tf.print(x)\n",
        "print(x)"
      ],
      "metadata": {
        "colab": {
          "base_uri": "https://localhost:8080/"
        },
        "id": "1jU59m0ebU5u",
        "outputId": "a7bde40f-ba25-49ad-b520-30fcfed7f050"
      },
      "execution_count": 10,
      "outputs": [
        {
          "output_type": "stream",
          "name": "stdout",
          "text": [
            "42\n",
            "tf.Tensor(42, shape=(), dtype=int32)\n"
          ]
        }
      ]
    },
    {
      "cell_type": "code",
      "source": [
        "y = tf.constant([1, 2, 3])\n",
        "tf.print(y)\n",
        "print(y)"
      ],
      "metadata": {
        "colab": {
          "base_uri": "https://localhost:8080/"
        },
        "id": "7C-LgETqb1xz",
        "outputId": "84756db1-23e3-4a83-e54a-3fb01133c181"
      },
      "execution_count": null,
      "outputs": [
        {
          "output_type": "stream",
          "name": "stdout",
          "text": [
            "[1 2 3]\n",
            "tf.Tensor([1 2 3], shape=(3,), dtype=int32)\n"
          ]
        }
      ]
    },
    {
      "cell_type": "code",
      "source": [
        "z = tf.constant(\n",
        "    [\n",
        "        [1, 2],\n",
        "        [3, 4]\n",
        "    ]\n",
        ")\n",
        "tf.print(z)\n",
        "print(z)"
      ],
      "metadata": {
        "colab": {
          "base_uri": "https://localhost:8080/"
        },
        "id": "nf9Nc04JcIAs",
        "outputId": "7d060c2c-d2a2-4100-b04e-5f87a709a478"
      },
      "execution_count": null,
      "outputs": [
        {
          "output_type": "stream",
          "name": "stdout",
          "text": [
            "[[1 2]\n",
            " [3 4]]\n",
            "tf.Tensor(\n",
            "[[1 2]\n",
            " [3 4]], shape=(2, 2), dtype=int32)\n"
          ]
        }
      ]
    },
    {
      "cell_type": "code",
      "source": [
        "a = tf.constant(([[1, 2], [3, 4]]))\n",
        "b = tf.constant([[5, 6], [7, 8]])\n",
        "\n",
        "c = tf.add(a, b)\n",
        "tf.print(c)"
      ],
      "metadata": {
        "colab": {
          "base_uri": "https://localhost:8080/"
        },
        "id": "CshEyNn6ccXO",
        "outputId": "8cb0025c-be50-4fc8-a487-3db7a398c9c8"
      },
      "execution_count": null,
      "outputs": [
        {
          "output_type": "stream",
          "name": "stdout",
          "text": [
            "[[6 8]\n",
            " [10 12]]\n"
          ]
        }
      ]
    },
    {
      "cell_type": "code",
      "source": [
        "d = tf.multiply(a, b)\n",
        "tf.print(d)"
      ],
      "metadata": {
        "colab": {
          "base_uri": "https://localhost:8080/"
        },
        "id": "oClmhPaOc19L",
        "outputId": "e7b7ad47-f1e3-4ad6-fb53-4d51014ca8c5"
      },
      "execution_count": null,
      "outputs": [
        {
          "output_type": "stream",
          "name": "stdout",
          "text": [
            "[[5 12]\n",
            " [21 32]]\n"
          ]
        }
      ]
    },
    {
      "cell_type": "code",
      "source": [
        "e = tf.matmul(a, b)\n",
        "tf.print(e)"
      ],
      "metadata": {
        "colab": {
          "base_uri": "https://localhost:8080/"
        },
        "id": "3BgQvrUAc_WS",
        "outputId": "1bd521ac-f90f-4819-85b1-d3fec7dd6afb"
      },
      "execution_count": null,
      "outputs": [
        {
          "output_type": "stream",
          "name": "stdout",
          "text": [
            "[[19 22]\n",
            " [43 50]]\n"
          ]
        }
      ]
    },
    {
      "cell_type": "code",
      "source": [
        "f = tf.subtract(a, b)\n",
        "tf.print(f)"
      ],
      "metadata": {
        "colab": {
          "base_uri": "https://localhost:8080/"
        },
        "id": "JqF-xzk6dhJv",
        "outputId": "9e97294b-71ca-447f-fb89-2848593b7c09"
      },
      "execution_count": null,
      "outputs": [
        {
          "output_type": "stream",
          "name": "stdout",
          "text": [
            "[[-4 -4]\n",
            " [-4 -4]]\n"
          ]
        }
      ]
    },
    {
      "cell_type": "code",
      "source": [
        "g = tf.divide(a, b)\n",
        "tf.print(g)"
      ],
      "metadata": {
        "colab": {
          "base_uri": "https://localhost:8080/"
        },
        "id": "mXz34VJdduMl",
        "outputId": "6e87120a-dbef-4895-90a6-a9127e2f7f00"
      },
      "execution_count": null,
      "outputs": [
        {
          "output_type": "stream",
          "name": "stdout",
          "text": [
            "[[0.2 0.33333333333333331]\n",
            " [0.42857142857142855 0.5]]\n"
          ]
        }
      ]
    },
    {
      "cell_type": "markdown",
      "source": [
        "# Variables\n",
        "\n",
        "In TensorFlow, a Variable is a tensor whose value can be changed during the computation. Variables are typically used to represent the parameters of a machine learning model. You can create a variable using the tf.Variable function, like this:"
      ],
      "metadata": {
        "id": "ABEUf-tid5PM"
      }
    },
    {
      "cell_type": "code",
      "source": [
        "w = tf.Variable(tf.random.normal([2, 3]), name='weights')\n",
        "b = tf.Variable(tf.random.normal([2]), name='biases')\n",
        "tf.print(w)\n",
        "print('\\n')\n",
        "tf.print(b)"
      ],
      "metadata": {
        "colab": {
          "base_uri": "https://localhost:8080/"
        },
        "id": "_JLRI2pQeEL2",
        "outputId": "6d7b05de-794d-41b4-812f-9d430e8e05bd"
      },
      "execution_count": null,
      "outputs": [
        {
          "output_type": "stream",
          "name": "stdout",
          "text": [
            "[[1.31258023 -1.31197274 0.00414866162]\n",
            " [0.633579373 0.418994755 0.565889239]]\n",
            "\n",
            "\n",
            "[1.11200118 0.540875435]\n"
          ]
        }
      ]
    },
    {
      "cell_type": "markdown",
      "source": [
        "tf.nn.relu\n",
        "\n",
        "tf.nn.relu(\n",
        "    features, name=None\n",
        ")\n",
        "\n",
        "ReLU(x)=max(0,x)"
      ],
      "metadata": {
        "id": "UkC4YFp7fr7n"
      }
    },
    {
      "cell_type": "code",
      "source": [
        "x = tf.linspace(-2, 2, 201)\n",
        "x = tf.cast(x, tf.float32)\n",
        "plt.plot(x, tf.nn.relu(x))"
      ],
      "metadata": {
        "colab": {
          "base_uri": "https://localhost:8080/",
          "height": 447
        },
        "id": "NWsvEbDsf60c",
        "outputId": "8d3e723a-897e-4eb5-f39e-68a60c840b47"
      },
      "execution_count": null,
      "outputs": [
        {
          "output_type": "execute_result",
          "data": {
            "text/plain": [
              "[<matplotlib.lines.Line2D at 0x785e824f3550>]"
            ]
          },
          "metadata": {},
          "execution_count": 22
        },
        {
          "output_type": "display_data",
          "data": {
            "text/plain": [
              "<Figure size 640x480 with 1 Axes>"
            ],
            "image/png": "[encoded data removed]"
          },
          "metadata": {}
        }
      ]
    },
    {
      "cell_type": "code",
      "source": [
        "x = tf.linspace(-4, 4, 201)\n",
        "x = tf.cast(x, tf.float32)\n",
        "plt.plot(x, tf.nn.softmax(x))"
      ],
      "metadata": {
        "colab": {
          "base_uri": "https://localhost:8080/",
          "height": 447
        },
        "id": "ccQMVMqKgdeg",
        "outputId": "42ab7e05-0555-44ff-f3e9-12c4a09e8e35"
      },
      "execution_count": null,
      "outputs": [
        {
          "output_type": "execute_result",
          "data": {
            "text/plain": [
              "[<matplotlib.lines.Line2D at 0x785e81f00710>]"
            ]
          },
          "metadata": {},
          "execution_count": 25
        },
        {
          "output_type": "display_data",
          "data": {
            "text/plain": [
              "<Figure size 640x480 with 1 Axes>"
            ],
            "image/png": "[encoded data removed]"
          },
          "metadata": {}
        }
      ]
    },
    {
      "cell_type": "code",
      "source": [
        "x = tf.linspace(-6, 6, 200)\n",
        "x = tf.cast(x, tf.float32)\n",
        "plt.plot(x, tf.nn.tanh(x))"
      ],
      "metadata": {
        "colab": {
          "base_uri": "https://localhost:8080/",
          "height": 447
        },
        "id": "87zX3PSGg7Di",
        "outputId": "08165d5b-57cb-4b86-88cf-802c2ba5b020"
      },
      "execution_count": null,
      "outputs": [
        {
          "output_type": "execute_result",
          "data": {
            "text/plain": [
              "[<matplotlib.lines.Line2D at 0x785e81af44d0>]"
            ]
          },
          "metadata": {},
          "execution_count": 26
        },
        {
          "output_type": "display_data",
          "data": {
            "text/plain": [
              "<Figure size 640x480 with 1 Axes>"
            ],
            "image/png": "[encoded data removed]"
          },
          "metadata": {}
        }
      ]
    },
    {
      "cell_type": "code",
      "source": [
        "x = tf.linspace(-6, 6, 200)\n",
        "x = tf.cast(x, tf.float32)\n",
        "plt.plot(x, tf.nn.sigmoid(x))"
      ],
      "metadata": {
        "colab": {
          "base_uri": "https://localhost:8080/",
          "height": 447
        },
        "id": "bcSBxl5Fhhnf",
        "outputId": "f08c5df5-9413-4007-b90d-08da82f71254"
      },
      "execution_count": null,
      "outputs": [
        {
          "output_type": "execute_result",
          "data": {
            "text/plain": [
              "[<matplotlib.lines.Line2D at 0x785e81f36650>]"
            ]
          },
          "metadata": {},
          "execution_count": 27
        },
        {
          "output_type": "display_data",
          "data": {
            "text/plain": [
              "<Figure size 640x480 with 1 Axes>"
            ],
            "image/png": "[encoded data removed]"
          },
          "metadata": {}
        }
      ]
    },
    {
      "cell_type": "markdown",
      "source": [
        "## mlp with TensorFlow\n",
        "Mohammad Javad"
      ],
      "metadata": {
        "id": "D-sthxyNh3_K"
      }
    },
    {
      "cell_type": "code",
      "source": [
        "from keras.datasets import mnist\n",
        "from tensorflow.keras.utils import to_categorical"
      ],
      "metadata": {
        "id": "fnvmME3glsZY"
      },
      "execution_count": 5,
      "outputs": []
    },
    {
      "cell_type": "code",
      "source": [
        "def load_data():\n",
        "    (X_train, y_train), (X_test, y_test) = mnist.load_data()\n",
        "    X_train = np.reshape(X_train, (X_train.shape[0], -1))\n",
        "    X_test = np.reshape(X_test, (X_test.shape[0], -1))\n",
        "\n",
        "    X_train = X_train / 255\n",
        "    X_test = X_test / 255\n",
        "\n",
        "    y_train = to_categorical(y_train)\n",
        "    y_test = to_categorical(y_test)\n",
        "\n",
        "    return X_train, X_test, y_train, y_test"
      ],
      "metadata": {
        "id": "Qz7IcBnIl-7Y"
      },
      "execution_count": 6,
      "outputs": []
    },
    {
      "cell_type": "code",
      "source": [
        "X_train, X_test, y_train, y_test = load_data()"
      ],
      "metadata": {
        "id": "-3Nsg6mPmYhe"
      },
      "execution_count": 11,
      "outputs": []
    },
    {
      "cell_type": "code",
      "source": [
        "print(X_train.shape)\n",
        "print(y_train.shape)\n",
        "print(X_test.shape)\n",
        "print(y_test.shape)"
      ],
      "metadata": {
        "colab": {
          "base_uri": "https://localhost:8080/"
        },
        "id": "5jrkLI06osUv",
        "outputId": "f45f9cc8-d5a3-4778-9d73-ffff7ca4b297"
      },
      "execution_count": 12,
      "outputs": [
        {
          "output_type": "stream",
          "name": "stdout",
          "text": [
            "(60000, 784)\n",
            "(60000, 10)\n",
            "(10000, 784)\n",
            "(10000, 10)\n"
          ]
        }
      ]
    },
    {
      "cell_type": "code",
      "source": [
        "class MLP:\n",
        "    def __init__(self, layers):\n",
        "        self.layers = layers\n",
        "        self.L = len(layers)\n",
        "        self.num_features = layers[0]\n",
        "        self.num_classes = layers[-1]\n",
        "        self.w = {}\n",
        "        self.b = {}\n",
        "        self.dw = {}\n",
        "        self.db = {}\n",
        "\n",
        "    def initialize(self):\n",
        "        for i in range(1, self.L):\n",
        "            self.w[i] = tf.Variable(tf.random.normal(shape=(self.layers[i], self.layers[i-1])))\n",
        "            self.b[i] = tf.Variable(tf.random.normal(shape=(self.layers[i], 1)))\n",
        "\n",
        "    def forward_pass(self, X):\n",
        "        A = tf.convert_to_tensor(X, dtype=tf.float32)\n",
        "        for i in range(1, self.L):\n",
        "            Z = tf.matmul(A, tf.transpose(self.w[i])) + tf.transpose(self.b[i])\n",
        "            if i != (self.L - 1):\n",
        "                A = tf.nn.relu(Z)\n",
        "            else:\n",
        "                A = Z\n",
        "        return A\n",
        "\n",
        "    def compute_loss(self, A, Y):\n",
        "        loss = tf.nn.softmax_cross_entropy_with_logits(labels=Y, logits=A)\n",
        "        return tf.reduce_mean(loss)\n",
        "\n",
        "    def update_params(self, lr):\n",
        "        for i in range(1, self.L):\n",
        "            self.w[i].assign_sub(lr * self.dw[i])\n",
        "            self.b[i].assign_sub(lr * self.db[i])\n",
        "\n",
        "    def predict(self, x):\n",
        "        A = self.forward_pass(x)\n",
        "        return tf.argmax(tf.nn.softmax(A), axis=1)\n",
        "\n",
        "    def info(self):\n",
        "        num_params = 0\n",
        "        for i in range(1, self.L):\n",
        "            num_params += self.w[i].shape[0] * self.w[i].shape[1]\n",
        "            num_params += self.b[i].shape[0]\n",
        "        print('Input Features:', self.num_features)\n",
        "        print('Number of Classes:', self.num_classes)\n",
        "        print('Hidden Layers:')\n",
        "        print('--------------')\n",
        "        for i in range(1, self.L - 1):\n",
        "            print(f'Layer {i}, Units {self.layers[i]}')\n",
        "        print('--------------')\n",
        "        print('Number of parameters:', num_params)\n",
        "\n",
        "    def train_on_batch(self, X, Y, lr):\n",
        "        X = tf.convert_to_tensor(X, dtype=tf.float32)\n",
        "        Y = tf.convert_to_tensor(Y, dtype=tf.float32)\n",
        "\n",
        "        with tf.GradientTape(persistent=True) as tape:\n",
        "            A = self.forward_pass(X)\n",
        "            loss = self.compute_loss(A, Y)\n",
        "\n",
        "        for i in range(1, self.L):\n",
        "            self.dw[i] = tape.gradient(loss, self.w[i])\n",
        "            self.db[i] = tape.gradient(loss, self.b[i])\n",
        "\n",
        "        del tape\n",
        "        self.update_params(lr)\n",
        "        return loss.numpy()\n",
        "\n",
        "    def train(self, x_train, y_train, x_test, y_test, epochs, steps_per_epoch, batch_size, lr):\n",
        "        history = {\n",
        "            'val_loss': [],\n",
        "            'train_loss': [],\n",
        "            'val_acc': []\n",
        "        }\n",
        "\n",
        "        for e in range(epochs):\n",
        "            epoch_train_loss = 0.0\n",
        "            print(f'Epoch {e}', end='.')\n",
        "\n",
        "            for i in range(steps_per_epoch):\n",
        "                start = i * batch_size\n",
        "                end = start + batch_size\n",
        "\n",
        "                x_batch = x_train[start:end]\n",
        "                y_batch = y_train[start:end]\n",
        "\n",
        "                batch_loss = self.train_on_batch(x_batch, y_batch, lr)\n",
        "                epoch_train_loss += batch_loss\n",
        "\n",
        "                if i % max(1, steps_per_epoch // 10) == 0:\n",
        "                    print('.', end='')\n",
        "\n",
        "            avg_train_loss = epoch_train_loss / steps_per_epoch\n",
        "            history['train_loss'].append(avg_train_loss)\n",
        "\n",
        "            val_A = self.forward_pass(x_test)\n",
        "            val_loss = self.compute_loss(val_A, y_test).numpy()\n",
        "            history['val_loss'].append(val_loss)\n",
        "\n",
        "            val_preds = self.predict(x_test)\n",
        "            val_acc = np.mean(np.argmax(y_test, axis=1) == val_preds.numpy())\n",
        "            history['val_acc'].append(val_acc)\n",
        "\n",
        "            print(f' Val acc: {val_acc:.4f}')\n",
        "\n",
        "        return history\n"
      ],
      "metadata": {
        "id": "tgCPJPZyouW_"
      },
      "execution_count": 13,
      "outputs": []
    },
    {
      "cell_type": "code",
      "source": [
        "net = MLP([784, 128, 128, 10])\n",
        "net.initialize()\n",
        "net.info()"
      ],
      "metadata": {
        "id": "MRefEIEDMAtR",
        "colab": {
          "base_uri": "https://localhost:8080/"
        },
        "outputId": "9d4ce30b-4937-45d6-f9d2-7386fdbac77b"
      },
      "execution_count": 15,
      "outputs": [
        {
          "output_type": "stream",
          "name": "stdout",
          "text": [
            "Input Features: 784\n",
            "Number of Classes: 10\n",
            "Hidden Layers:\n",
            "--------------\n",
            "Layer 1, Units 128\n",
            "Layer 2, Units 128\n",
            "--------------\n",
            "Number of parameters: 118282\n"
          ]
        }
      ]
    },
    {
      "cell_type": "code",
      "source": [
        "batch_size = 120\n",
        "epochs = 5\n",
        "steps_per_epoch = int(X_train.shape[0]/batch_size)\n",
        "lr = 3e-3\n",
        "print('Steps per epoch', steps_per_epoch)"
      ],
      "metadata": {
        "colab": {
          "base_uri": "https://localhost:8080/"
        },
        "id": "--lqLXId_Vrf",
        "outputId": "89819918-0171-4b77-8cd5-5f8a3a0bd709"
      },
      "execution_count": 17,
      "outputs": [
        {
          "output_type": "stream",
          "name": "stdout",
          "text": [
            "Steps per epoch 500\n"
          ]
        }
      ]
    },
    {
      "cell_type": "code",
      "source": [
        "history = net.train(\n",
        "    X_train,y_train,\n",
        "    X_test, y_test,\n",
        "    epochs, steps_per_epoch,\n",
        "    batch_size, lr)"
      ],
      "metadata": {
        "colab": {
          "base_uri": "https://localhost:8080/"
        },
        "id": "NBXfgY6X_jIu",
        "outputId": "21ae4de7-2172-4878-ff86-2e3cb0626bdd"
      },
      "execution_count": 18,
      "outputs": [
        {
          "output_type": "stream",
          "name": "stdout",
          "text": [
            "Epoch 0........... Val acc: 0.8068\n",
            "Epoch 1........... Val acc: 0.8380\n",
            "Epoch 2........... Val acc: 0.8490\n",
            "Epoch 3........... Val acc: 0.8582\n",
            "Epoch 4........... Val acc: 0.8640\n"
          ]
        }
      ]
    },
    {
      "cell_type": "code",
      "source": [
        "def plot_results(history):\n",
        "    plt.figure(figsize=(12, 4))\n",
        "    epochs = len(history['val_loss'])\n",
        "    plt.subplot(1, 2, 1)\n",
        "    plt.plot(range(epochs), history['val_loss'], label='Val Loss')\n",
        "    plt.plot(range(epochs), history['train_loss'], label='Train Loss')\n",
        "    plt.xticks(list(range(epochs)))\n",
        "    plt.xlabel('Epochs')\n",
        "    plt.ylabel('Loss')\n",
        "    plt.legend()\n",
        "    plt.subplot(1, 2, 2)\n",
        "    plt.plot(range(epochs), history['val_acc'], label='Val Acc')\n",
        "    plt.xticks(list(range(epochs)))\n",
        "    plt.xlabel('Epochs')\n",
        "    plt.ylabel('Accuracy')\n",
        "    plt.legend()\n",
        "    return plt"
      ],
      "metadata": {
        "id": "cc23FWv0_rVS"
      },
      "execution_count": 19,
      "outputs": []
    },
    {
      "cell_type": "code",
      "source": [
        "plot_results(history).show()"
      ],
      "metadata": {
        "colab": {
          "base_uri": "https://localhost:8080/",
          "height": 388
        },
        "id": "-ZrEOFH4AZts",
        "outputId": "5bb0bfa2-a2bc-49d8-c240-0b867148e79a"
      },
      "execution_count": 20,
      "outputs": [
        {
          "output_type": "display_data",
          "data": {
            "text/plain": [
              "<Figure size 1200x400 with 2 Axes>"
            ],
            "image/png": "[encoded data removed]"
          },
          "metadata": {}
        }
      ]
    },
    {
      "cell_type": "code",
      "source": [],
      "metadata": {
        "id": "m-bGPssAAevW"
      },
      "execution_count": null,
      "outputs": []
    }
  ]
}