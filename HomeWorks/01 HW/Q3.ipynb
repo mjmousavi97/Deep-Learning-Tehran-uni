{
  "nbformat": 4,
  "nbformat_minor": 0,
  "metadata": {
    "colab": {
      "provenance": [],
      "authorship_tag": "ABX9TyPa3qLXRh+O/TjrQBGVwYEW",
      "include_colab_link": true
    },
    "kernelspec": {
      "name": "python3",
      "display_name": "Python 3"
    },
    "language_info": {
      "name": "python"
    }
  },
  "cells": [
    {
      "cell_type": "markdown",
      "metadata": {
        "id": "view-in-github",
        "colab_type": "text"
      },
      "source": [
        "<a href=\"https://colab.research.google.com/github/mjmousavi97/Deep-Learning-Tehran-uni/blob/main/HomeWorks/01%20HW/Q3.ipynb\" target=\"_parent\"><img src=\"https://colab.research.google.com/assets/colab-badge.svg\" alt=\"Open In Colab\"/></a>"
      ]
    },
    {
      "cell_type": "markdown",
      "source": [
        "## 🧠 MRI and MRII Algorithms Explained\n",
        "\n",
        "### 🎯 What Are MRI and MRII?\n",
        "\n",
        "MRI (Modified Regularized Incremental) and MRII (Modified Regularized Incremental Improved) are enhanced learning algorithms for training neural networks. They are especially useful for:\n",
        "\n",
        "- Faster convergence  \n",
        "- Reducing overfitting  \n",
        "- Handling noisy or streaming data\n",
        "\n",
        "---\n",
        "\n",
        "## 🔹 MRI: Modified Regularized Incremental Algorithm\n",
        "\n",
        "### ✅ Concept\n",
        "\n",
        "MRI is a variation of the incremental learning algorithm that includes **regularization** to prevent overfitting.\n",
        "\n",
        "### ✅ Key Steps:\n",
        "\n",
        "1. Start with random weights  \n",
        "2. Process training data one by one or in small batches  \n",
        "3. Compute prediction and error  \n",
        "4. Update weights using gradient descent **with regularization**\n",
        "\n",
        "### ✅ Cost Function:\n",
        "\n",
        "$$\n",
        "E(w) = \\frac{1}{2}(y - \\hat{y})^2 + \\frac{\\lambda}{2} \\sum w^2\n",
        "$$\n",
        "\n",
        "### ✅ Weight Update Rule:\n",
        "\n",
        "$$\n",
        "w^{(t+1)} = w^{(t)} + \\eta \\cdot (y - \\hat{y}) \\cdot x - \\eta \\cdot \\lambda \\cdot w^{(t)}\n",
        "$$\n",
        "\n",
        "Where:  \n",
        "- \\( \\eta \\): learning rate  \n",
        "- \\( \\lambda \\): regularization coefficient  \n",
        "\n",
        "---\n",
        "\n",
        "## 🔹 MRII: Modified Regularized Incremental with Improvement\n",
        "\n",
        "### ✅ Motivation\n",
        "\n",
        "MRI does not use momentum or adaptive learning rate.  \n",
        "MRII improves upon MRI by including:\n",
        "\n",
        "- **Momentum**  \n",
        "- **Adaptive learning rate**\n",
        "\n",
        "### ✅ Update Formula:\n",
        "\n",
        "$$\n",
        "w^{(t+1)} = w^{(t)} - \\eta_t \\cdot \\left( \\nabla E(w^{(t)}) + \\lambda \\cdot w^{(t)} \\right) + \\alpha \\cdot \\Delta w^{(t-1)}\n",
        "$$\n",
        "\n",
        "Where:  \n",
        "- \\( \\eta_t \\): time-dependent learning rate  \n",
        "- \\( \\alpha \\): momentum coefficient (e.g., 0.9)  \n",
        "- \\( \\Delta w^{(t-1)} \\): previous weight update  \n",
        "\n",
        "---\n",
        "\n",
        "## 📊 Comparison Table\n",
        "\n",
        "| Feature                 | MRI       | MRII      |\n",
        "|------------------------|-----------|-----------|\n",
        "| Incremental Learning   | ✅        | ✅        |\n",
        "| Regularization         | ✅        | ✅        |\n",
        "| Momentum               | ❌        | ✅        |\n",
        "| Adaptive Learning Rate | ❌        | ✅        |\n",
        "| Convergence Speed      | Moderate  | Faster    |\n",
        "| Overfitting Risk       | Low       | Lower     |\n",
        "| Complexity             | Simpler   | Advanced  |\n",
        "\n",
        "---\n",
        "\n",
        "## 🧪 Summary\n",
        "\n",
        "- **MRI** adds regularization to standard incremental learning.  \n",
        "- **MRII** improves MRI by using momentum and adaptive learning rate.  \n",
        "- Both aim to improve generalization and learning efficiency.\n"
      ],
      "metadata": {
        "id": "yOtFT78if9RT"
      }
    }
  ]
}