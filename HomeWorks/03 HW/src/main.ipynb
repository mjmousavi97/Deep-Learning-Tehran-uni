{
  "nbformat": 4,
  "nbformat_minor": 0,
  "metadata": {
    "colab": {
      "provenance": [],
      "authorship_tag": "ABX9TyNcYdocnWwtqitoetl1ow00",
      "include_colab_link": true
    },
    "kernelspec": {
      "name": "python3",
      "display_name": "Python 3"
    },
    "language_info": {
      "name": "python"
    }
  },
  "cells": [
    {
      "cell_type": "markdown",
      "metadata": {
        "id": "view-in-github",
        "colab_type": "text"
      },
      "source": [
        "<a href=\"https://colab.research.google.com/github/mjmousavi97/Deep-Learning-Tehran-uni/blob/main/HomeWorks/03%20HW/src/main.ipynb\" target=\"_parent\"><img src=\"https://colab.research.google.com/assets/colab-badge.svg\" alt=\"Open In Colab\"/></a>"
      ]
    },
    {
      "cell_type": "code",
      "execution_count": 2,
      "metadata": {
        "id": "HUD7kKamDDQO"
      },
      "outputs": [],
      "source": [
        "import torch\n",
        "import torch.nn as nn\n",
        "import torch.nn.functional as F"
      ]
    },
    {
      "cell_type": "code",
      "source": [
        "class SCNNB(nn.Module):\n",
        "    \"\"\"\n",
        "    Shallow Convolutional Neural Network with Batch Normalization (SCNNB).\n",
        "\n",
        "    Architecture (for input 28x28x1 like MNIST):\n",
        "        - Conv(3x3, 32 filters, padding=1) + BN + ReLU\n",
        "        - MaxPool(2x2)\n",
        "        - Conv(3x3, 64 filters, padding=1) + BN + ReLU\n",
        "        - MaxPool(2x2)\n",
        "        - Flatten\n",
        "        - FC(3136 -> 1280) + ReLU\n",
        "        - Dropout(0.5)\n",
        "        - FC(1280 -> num_classes)\n",
        "\n",
        "    Notes:\n",
        "        - Padding=1 keeps spatial size before pooling.\n",
        "        - For MNIST (1x28x28) → Flatten=3136 (64*7*7).\n",
        "        - For CIFAR-10 (3x32x32) → Flatten=4096 (64*8*8).\n",
        "        - Forward returns raw logits; use nn.CrossEntropyLoss for training.\n",
        "    \"\"\"\n",
        "\n",
        "    def __init__(self, in_channels: int = 1, num_classes: int = 10, input_size: int = 28):\n",
        "        \"\"\"\n",
        "        Initialize the SCNNB model.\n",
        "\n",
        "        Args:\n",
        "            in_channels (int): Number of input channels (1 for grayscale, 3 for RGB).\n",
        "            num_classes (int): Number of output classes.\n",
        "            input_size (int): Height/Width of the input image (assumed square).\n",
        "        \"\"\"\n",
        "        super().__init__()\n",
        "        self.input_size  = input_size\n",
        "        self.in_channels = in_channels\n",
        "        self.num_classes = num_classes\n",
        "\n",
        "        # ---- Feature extractor ----\n",
        "        self.conv1 = nn.Conv2d(in_channels, 32, kernel_size=3, stride=1, padding=1, bias=False)\n",
        "        self.bn1   = nn.BatchNorm2d(32)\n",
        "        self.pool1 = nn.MaxPool2d(kernel_size=2, stride=2)\n",
        "\n",
        "        self.conv2 = nn.Conv2d(32, 64, kernel_size=3, stride=1, padding=1, bias=False)\n",
        "        self.bn2   = nn.BatchNorm2d(64)\n",
        "        self.pool2 = nn.MaxPool2d(kernel_size=2, stride=2)\n",
        "\n",
        "        # ---- Classifier ----\n",
        "        feat_dim   = self._calc_feat_dim()  # Dynamically compute flattened feature dimension\n",
        "        self.fc1   = nn.Linear(feat_dim, 1280)\n",
        "        self.drop1 = nn.Dropout(p=0.5)\n",
        "        self.fc_out= nn.Linear(1280, num_classes)\n",
        "\n",
        "    def _calc_feat_dim(self) -> int:\n",
        "        \"\"\"\n",
        "        Compute the number of features after the convolution + pooling layers.\n",
        "        This ensures the fully connected layer is correctly sized for any input.\n",
        "\n",
        "        Returns:\n",
        "            int: Flattened feature dimension.\n",
        "        \"\"\"\n",
        "        with torch.no_grad():\n",
        "            device = next(self.parameters()).device  # Match the device of the model\n",
        "            tmp = torch.zeros((1, self.in_channels, self.input_size, self.input_size), device=device)\n",
        "            tmp = self.pool1(F.relu(self.bn1(self.conv1(tmp))))\n",
        "            tmp = self.pool2(F.relu(self.bn2(self.conv2(tmp))))\n",
        "            return tmp.numel()\n",
        "\n",
        "    def forward(self, x: torch.Tensor) -> torch.Tensor:\n",
        "        \"\"\"\n",
        "        Forward pass of SCNNB.\n",
        "\n",
        "        Args:\n",
        "            x (torch.Tensor): Input tensor of shape (N, C, H, W).\n",
        "\n",
        "        Returns:\n",
        "            torch.Tensor: Logits of shape (N, num_classes).\n",
        "        \"\"\"\n",
        "        # ---- Feature extraction ----\n",
        "        x = self.pool1(F.relu(self.bn1(self.conv1(x))))\n",
        "        x = self.pool2(F.relu(self.bn2(self.conv2(x))))\n",
        "\n",
        "        # ---- Classification head ----\n",
        "        x = torch.flatten(x, start_dim=1)   # Flatten to (N, feat_dim)\n",
        "        x = F.relu(self.fc1(x))             # Fully connected hidden layer\n",
        "        x = self.drop1(x)                   # Dropout for regularization\n",
        "        logits = self.fc_out(x)             # Output logits (no softmax)\n",
        "        return logits\n"
      ],
      "metadata": {
        "id": "N7OIH-cfDsQQ"
      },
      "execution_count": 3,
      "outputs": []
    },
    {
      "cell_type": "code",
      "source": [],
      "metadata": {
        "id": "qQ685UL2PEif"
      },
      "execution_count": null,
      "outputs": []
    }
  ]
}