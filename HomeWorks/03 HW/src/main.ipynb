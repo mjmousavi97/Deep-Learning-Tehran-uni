{
  "nbformat": 4,
  "nbformat_minor": 0,
  "metadata": {
    "colab": {
      "provenance": [],
      "authorship_tag": "ABX9TyNjjx7soYb2voNROXyfEulB",
      "include_colab_link": true
    },
    "kernelspec": {
      "name": "python3",
      "display_name": "Python 3"
    },
    "language_info": {
      "name": "python"
    }
  },
  "cells": [
    {
      "cell_type": "markdown",
      "metadata": {
        "id": "view-in-github",
        "colab_type": "text"
      },
      "source": [
        "<a href=\"https://colab.research.google.com/github/mjmousavi97/Deep-Learning-Tehran-uni/blob/main/HomeWorks/03%20HW/src/main.ipynb\" target=\"_parent\"><img src=\"https://colab.research.google.com/assets/colab-badge.svg\" alt=\"Open In Colab\"/></a>"
      ]
    },
    {
      "cell_type": "code",
      "execution_count": 2,
      "metadata": {
        "id": "HUD7kKamDDQO"
      },
      "outputs": [],
      "source": [
        "import torch\n",
        "import torch.nn as nn\n",
        "import torch.nn.functional as F\n",
        "import os\n",
        "import torchvision\n",
        "from torchvision import datasets, transforms\n",
        "from torch.utils.data import Subset, DataLoader\n",
        "from PIL import Image\n",
        "import torch.optim as optim\n",
        "import matplotlib.pyplot as plt\n",
        "from tqdm import tqdm\n",
        "import seaborn as sns\n",
        "from timeit import default_timer as timer"
      ]
    },
    {
      "cell_type": "code",
      "source": [
        "# Define a transformation pipeline for preprocessing images\n",
        "transform = transforms.Compose(\n",
        "    [\n",
        "        # 1. Convert the input image (PIL Image or NumPy array) into a PyTorch tensor.\n",
        "        #    - Converts pixel values from range [0, 255] to [0.0, 1.0].\n",
        "        transforms.ToTensor(),\n",
        "\n",
        "        # 2. Randomly flip the image horizontally with probability 0.5.\n",
        "        #    - Useful for data augmentation to improve model generalization.\n",
        "        transforms.RandomHorizontalFlip(p=0.5),\n",
        "\n",
        "        # 3. Normalize the image tensor using mean=0.5 and std=0.5.\n",
        "        #    - Formula: (x - mean) / std\n",
        "        #    - This maps values from [0.0, 1.0] to [-1.0, 1.0].\n",
        "        transforms.Normalize((0.5,), (0.5,))\n",
        "    ]\n",
        ")\n",
        "\n",
        "\"\"\"\n",
        "Docstring:\n",
        "----------\n",
        "This transformation pipeline is designed for preprocessing image data\n",
        "before feeding it into a neural network.\n",
        "\n",
        "Steps applied to each image:\n",
        "1. Convert the image to a tensor with values in [0,1].\n",
        "2. Apply a random horizontal flip with probability 0.5\n",
        "   (data augmentation).\n",
        "3. Normalize the tensor so that pixel values fall in [-1,1].\n",
        "\n",
        "Typical use case: applied to image datasets (e.g., MNIST, CIFAR-10)\n",
        "to improve training stability and generalization.\n",
        "\"\"\""
      ],
      "metadata": {
        "colab": {
          "base_uri": "https://localhost:8080/",
          "height": 72
        },
        "id": "VsCj88zlZVej",
        "outputId": "1046dc47-1ca6-4d25-9f70-fddceffd0862"
      },
      "execution_count": 5,
      "outputs": [
        {
          "output_type": "execute_result",
          "data": {
            "text/plain": [
              "'\\nDocstring:\\n----------\\nThis transformation pipeline is designed for preprocessing image data \\nbefore feeding it into a neural network.\\n\\nSteps applied to each image:\\n1. Convert the image to a tensor with values in [0,1].\\n2. Apply a random horizontal flip with probability 0.5 \\n   (data augmentation).\\n3. Normalize the tensor so that pixel values fall in [-1,1].\\n\\nTypical use case: applied to image datasets (e.g., MNIST, CIFAR-10)\\nto improve training stability and generalization.\\n'"
            ],
            "application/vnd.google.colaboratory.intrinsic+json": {
              "type": "string"
            }
          },
          "metadata": {},
          "execution_count": 5
        }
      ]
    },
    {
      "cell_type": "code",
      "source": [
        "# Load the FashionMNIST training dataset\n",
        "train_dataset_FashionMNIST = torchvision.datasets.FashionMNIST(\n",
        "    root=\"data\",          # Directory where the dataset will be stored/downloaded\n",
        "    train=True,           # True = load the training split (60,000 images)\n",
        "    download=True,        # Download the dataset if it's not already on disk\n",
        "    transform=transform   # Apply preprocessing pipeline (ToTensor, augmentation, normalization)\n",
        ")\n",
        "\n",
        "# Load the FashionMNIST test dataset\n",
        "test_dataset_FashionMNIST = torchvision.datasets.FashionMNIST(\n",
        "    root=\"data\",          # Same directory used for training dataset\n",
        "    train=False,          # False = load the test split (10,000 images)\n",
        "    download=True,        # Download if not already present\n",
        "    transform=transform   # Apply the same preprocessing pipeline as training\n",
        ")"
      ],
      "metadata": {
        "colab": {
          "base_uri": "https://localhost:8080/"
        },
        "id": "dCQWTQuRZVbJ",
        "outputId": "a8622430-6e9a-49bf-cd63-8faa194a383a"
      },
      "execution_count": 6,
      "outputs": [
        {
          "output_type": "stream",
          "name": "stderr",
          "text": [
            "100%|██████████| 26.4M/26.4M [00:02<00:00, 12.6MB/s]\n",
            "100%|██████████| 29.5k/29.5k [00:00<00:00, 202kB/s]\n",
            "100%|██████████| 4.42M/4.42M [00:01<00:00, 3.75MB/s]\n",
            "100%|██████████| 5.15k/5.15k [00:00<00:00, 9.59MB/s]\n"
          ]
        }
      ]
    },
    {
      "cell_type": "code",
      "source": [
        "# Load the MNIST training dataset\n",
        "train_dataset_MNIST = torchvision.datasets.MNIST(\n",
        "    root=\"data\",\n",
        "    train=True,\n",
        "    download=True,\n",
        "    transform=transform\n",
        ")\n",
        "\n",
        "# Load the MNIST test dataset\n",
        "test_dataset_MNIST = torchvision.datasets.MNIST(\n",
        "    root=\"data\",\n",
        "    train=False,\n",
        "    download=True,\n",
        "    transform=transform\n",
        ")"
      ],
      "metadata": {
        "colab": {
          "base_uri": "https://localhost:8080/"
        },
        "id": "SGpNiJUNZVYc",
        "outputId": "880fcd31-78a5-4be8-8f9a-446a0d97be22"
      },
      "execution_count": 7,
      "outputs": [
        {
          "output_type": "stream",
          "name": "stderr",
          "text": [
            "100%|██████████| 9.91M/9.91M [00:00<00:00, 15.3MB/s]\n",
            "100%|██████████| 28.9k/28.9k [00:00<00:00, 456kB/s]\n",
            "100%|██████████| 1.65M/1.65M [00:00<00:00, 4.23MB/s]\n",
            "100%|██████████| 4.54k/4.54k [00:00<00:00, 7.79MB/s]\n"
          ]
        }
      ]
    },
    {
      "cell_type": "code",
      "source": [
        "# Load the CIFAR10 training dataset\n",
        "train_dataset_CIFAR10 = torchvision.datasets.CIFAR10(\n",
        "    root=\"data\",\n",
        "    train=True,\n",
        "    download=True,\n",
        "    transform=transform\n",
        ")\n",
        "\n",
        "# Load the CIFAR10 test dataset\n",
        "test_dataset_CIFAR10 = torchvision.datasets.CIFAR10(\n",
        "    root=\"data\",\n",
        "    train=False,\n",
        "    download=True,\n",
        "    transform=transform\n",
        ")\n"
      ],
      "metadata": {
        "colab": {
          "base_uri": "https://localhost:8080/"
        },
        "id": "nIr3Pj9OZVVf",
        "outputId": "29232e07-c18a-4371-f6b5-df2bd20357a7"
      },
      "execution_count": 8,
      "outputs": [
        {
          "output_type": "stream",
          "name": "stderr",
          "text": [
            "100%|██████████| 170M/170M [00:05<00:00, 29.0MB/s]\n"
          ]
        }
      ]
    },
    {
      "cell_type": "code",
      "source": [
        "def create_dataloader(train_raw_dataset, test_raw_dataset, batch_size):\n",
        "    \"\"\"\n",
        "    Create PyTorch DataLoaders for training and testing datasets.\n",
        "\n",
        "    Parameters\n",
        "    ----------\n",
        "    train_raw_dataset : torch.utils.data.Dataset\n",
        "        The training dataset (e.g., MNIST, CIFAR-10).\n",
        "    test_raw_dataset : torch.utils.data.Dataset\n",
        "        The test dataset (e.g., MNIST, CIFAR-10).\n",
        "    batch_size : int\n",
        "        Number of samples per batch to load.\n",
        "\n",
        "    Returns\n",
        "    -------\n",
        "    train_dataloader : torch.utils.data.DataLoader\n",
        "        DataLoader for the training dataset with shuffling enabled.\n",
        "    test_dataloader : torch.utils.data.DataLoader\n",
        "        DataLoader for the test dataset with shuffling disabled.\n",
        "    \"\"\"\n",
        "    train_dataloader = DataLoader(\n",
        "        dataset=train_raw_dataset,\n",
        "        batch_size=batch_size,\n",
        "        num_workers=2,   # number of subprocesses to use for data loading\n",
        "        shuffle=True     # shuffle only for training\n",
        "    )\n",
        "\n",
        "    test_dataloader = DataLoader(\n",
        "        dataset=test_raw_dataset,\n",
        "        batch_size=batch_size,\n",
        "        num_workers=2,\n",
        "        shuffle=False    # don't shuffle test data\n",
        "    )\n",
        "\n",
        "    return train_dataloader, test_dataloader\n"
      ],
      "metadata": {
        "id": "ugXOqmq1ZVSq"
      },
      "execution_count": 13,
      "outputs": []
    },
    {
      "cell_type": "code",
      "source": [
        "# Create dataloaders for FashionMNIST\n",
        "train_dataloader_FashionMNIST, test_dataloader_FashionMNIST = create_dataloader(\n",
        "    train_dataset_FashionMNIST, test_dataset_FashionMNIST, batch_size=128\n",
        ")\n",
        "\n",
        "# Create dataloaders for MNIST\n",
        "train_dataloader_MNIST, test_dataloader_MNIST = create_dataloader(\n",
        "    train_dataset_MNIST, test_dataset_MNIST, batch_size=128\n",
        ")\n",
        "\n",
        "# Create dataloaders for CIFAR-10\n",
        "train_dataloader_CIFAR10, test_dataloader_CIFAR10 = create_dataloader(\n",
        "    train_dataset_CIFAR10, test_dataset_CIFAR10, batch_size=128\n",
        ")"
      ],
      "metadata": {
        "id": "RD7mpbJxZVPp"
      },
      "execution_count": 14,
      "outputs": []
    },
    {
      "cell_type": "code",
      "source": [
        "print(\"FashionMNIST classes:\", train_dataset_FashionMNIST.classes)\n",
        "print(\"MNIST classes:\", train_dataset_MNIST.classes)\n",
        "print(\"CIFAR-10 classes:\", train_dataset_CIFAR10.classes)"
      ],
      "metadata": {
        "colab": {
          "base_uri": "https://localhost:8080/"
        },
        "id": "rrus9kyjZVM4",
        "outputId": "9e733ad5-1d0f-4a49-97bf-d397bff1a677"
      },
      "execution_count": 24,
      "outputs": [
        {
          "output_type": "stream",
          "name": "stdout",
          "text": [
            "FashionMNIST classes: ['T-shirt/top', 'Trouser', 'Pullover', 'Dress', 'Coat', 'Sandal', 'Shirt', 'Sneaker', 'Bag', 'Ankle boot']\n",
            "MNIST classes: ['0 - zero', '1 - one', '2 - two', '3 - three', '4 - four', '5 - five', '6 - six', '7 - seven', '8 - eight', '9 - nine']\n",
            "CIFAR-10 classes: ['airplane', 'automobile', 'bird', 'cat', 'deer', 'dog', 'frog', 'horse', 'ship', 'truck']\n"
          ]
        }
      ]
    },
    {
      "cell_type": "code",
      "source": [
        "def show_sample(data_dataloader, mean, std):\n",
        "    batch_images, batch_labels = next(iter(data_dataloader))\n",
        "    normed_image = batch_images[0]      # first image in batch\n",
        "    label = batch_labels[0]             # its label\n",
        "\n",
        "    # Denormalize: x * std + mean\n",
        "    original_image = (normed_image * std) + mean\n",
        "\n",
        "    # Remove channel dimension (1, H, W) -> (H, W)\n",
        "    plt.imshow(original_image.permute(1, 2, 0), cmap=\"gray\")\n",
        "    plt.title(f\"Label: {label.item()}\")\n",
        "    plt.axis(\"off\")\n",
        "    plt.show()\n",
        "    print(f\"Image size: {original_image.shape}\")"
      ],
      "metadata": {
        "id": "eCwXWKEOZVJ4"
      },
      "execution_count": 61,
      "outputs": []
    },
    {
      "cell_type": "code",
      "source": [
        "show_sample(train_dataloader_FashionMNIST, mean=0.5, std=0.5)"
      ],
      "metadata": {
        "colab": {
          "base_uri": "https://localhost:8080/",
          "height": 446
        },
        "id": "I86WUqxdZU6V",
        "outputId": "e1b286c4-776c-40a1-a497-74557e0cec2d"
      },
      "execution_count": 62,
      "outputs": [
        {
          "output_type": "display_data",
          "data": {
            "text/plain": [
              "<Figure size 640x480 with 1 Axes>"
            ],
            "image/png": "[encoded data removed]"
          },
          "metadata": {}
        },
        {
          "output_type": "stream",
          "name": "stdout",
          "text": [
            "Image size: torch.Size([1, 28, 28])\n"
          ]
        }
      ]
    },
    {
      "cell_type": "code",
      "source": [
        "show_sample(train_dataloader_MNIST, mean=0.5, std=0.5)"
      ],
      "metadata": {
        "colab": {
          "base_uri": "https://localhost:8080/",
          "height": 446
        },
        "id": "qqzHCByqZUvZ",
        "outputId": "52235eb1-6546-4f01-c323-d0e4f7714c06"
      },
      "execution_count": 63,
      "outputs": [
        {
          "output_type": "display_data",
          "data": {
            "text/plain": [
              "<Figure size 640x480 with 1 Axes>"
            ],
            "image/png": "[encoded data removed]"
          },
          "metadata": {}
        },
        {
          "output_type": "stream",
          "name": "stdout",
          "text": [
            "Image size: torch.Size([1, 28, 28])\n"
          ]
        }
      ]
    },
    {
      "cell_type": "code",
      "source": [
        "show_sample(train_dataloader_CIFAR10, mean=0.5, std=0.5)"
      ],
      "metadata": {
        "colab": {
          "base_uri": "https://localhost:8080/",
          "height": 446
        },
        "id": "5UvybEU6yYm8",
        "outputId": "1f6ce934-9910-42e2-d057-51e73c51e808"
      },
      "execution_count": 69,
      "outputs": [
        {
          "output_type": "display_data",
          "data": {
            "text/plain": [
              "<Figure size 640x480 with 1 Axes>"
            ],
            "image/png": "[encoded data removed]"
          },
          "metadata": {}
        },
        {
          "output_type": "stream",
          "name": "stdout",
          "text": [
            "Image size: torch.Size([3, 32, 32])\n"
          ]
        }
      ]
    },
    {
      "cell_type": "markdown",
      "source": [
        "# First Model"
      ],
      "metadata": {
        "id": "xB1YLKXM_O6-"
      }
    },
    {
      "cell_type": "code",
      "source": [
        "class SCNNB(nn.Module):\n",
        "    \"\"\"\n",
        "    Shallow Convolutional Neural Network with Batch Normalization (SCNNB).\n",
        "\n",
        "    Architecture (for input 28x28x1 like MNIST):\n",
        "        - Conv(3x3, 32 filters, padding=1) + BN + ReLU\n",
        "        - MaxPool(2x2)\n",
        "        - Conv(3x3, 64 filters, padding=1) + BN + ReLU\n",
        "        - MaxPool(2x2)\n",
        "        - Flatten\n",
        "        - FC(3136 -> 1280) + ReLU\n",
        "        - Dropout(0.5)\n",
        "        - FC(1280 -> num_classes)\n",
        "\n",
        "    Notes:\n",
        "        - Padding=1 keeps spatial size before pooling.\n",
        "        - For MNIST (1x28x28) → Flatten=3136 (64*7*7).\n",
        "        - For CIFAR-10 (3x32x32) → Flatten=4096 (64*8*8).\n",
        "        - Forward returns raw logits; use nn.CrossEntropyLoss for training.\n",
        "    \"\"\"\n",
        "\n",
        "    def __init__(self, in_channels: int = 1, num_classes: int = 10, input_size: int = 28):\n",
        "        \"\"\"\n",
        "        Initialize the SCNNB model.\n",
        "\n",
        "        Args:\n",
        "            in_channels (int): Number of input channels (1 for grayscale, 3 for RGB).\n",
        "            num_classes (int): Number of output classes.\n",
        "            input_size (int): Height/Width of the input image (assumed square).\n",
        "        \"\"\"\n",
        "        super().__init__()\n",
        "        self.input_size  = input_size\n",
        "        self.in_channels = in_channels\n",
        "        self.num_classes = num_classes\n",
        "\n",
        "        # ---- Feature extractor ----\n",
        "        self.conv1 = nn.Conv2d(in_channels, 32, kernel_size=3, stride=1, padding=1, bias=False)\n",
        "        self.bn1   = nn.BatchNorm2d(32)\n",
        "        self.pool1 = nn.MaxPool2d(kernel_size=2, stride=2)\n",
        "\n",
        "        self.conv2 = nn.Conv2d(32, 64, kernel_size=3, stride=1, padding=1, bias=False)\n",
        "        self.bn2   = nn.BatchNorm2d(64)\n",
        "        self.pool2 = nn.MaxPool2d(kernel_size=2, stride=2)\n",
        "\n",
        "        # ---- Classifier ----\n",
        "        feat_dim   = self._calc_feat_dim()  # Dynamically compute flattened feature dimension\n",
        "        self.fc1   = nn.Linear(feat_dim, 1280)\n",
        "        self.drop1 = nn.Dropout(p=0.5)\n",
        "        self.fc_out= nn.Linear(1280, num_classes)\n",
        "\n",
        "    def _calc_feat_dim(self) -> int:\n",
        "        \"\"\"\n",
        "        Compute the number of features after the convolution + pooling layers.\n",
        "        This ensures the fully connected layer is correctly sized for any input.\n",
        "\n",
        "        Returns:\n",
        "            int: Flattened feature dimension.\n",
        "        \"\"\"\n",
        "        with torch.no_grad():\n",
        "            device = next(self.parameters()).device  # Match the device of the model\n",
        "            tmp = torch.zeros((1, self.in_channels, self.input_size, self.input_size), device=device)\n",
        "            tmp = self.pool1(F.relu(self.bn1(self.conv1(tmp))))\n",
        "            tmp = self.pool2(F.relu(self.bn2(self.conv2(tmp))))\n",
        "            return tmp.numel()\n",
        "\n",
        "    def forward(self, x: torch.Tensor) -> torch.Tensor:\n",
        "        \"\"\"\n",
        "        Forward pass of SCNNB.\n",
        "\n",
        "        Args:\n",
        "            x (torch.Tensor): Input tensor of shape (N, C, H, W).\n",
        "\n",
        "        Returns:\n",
        "            torch.Tensor: Logits of shape (N, num_classes).\n",
        "        \"\"\"\n",
        "        # ---- Feature extraction ----\n",
        "        x = self.pool1(F.relu(self.bn1(self.conv1(x))))\n",
        "        x = self.pool2(F.relu(self.bn2(self.conv2(x))))\n",
        "\n",
        "        # ---- Classification head ----\n",
        "        x = torch.flatten(x, start_dim=1)   # Flatten to (N, feat_dim)\n",
        "        x = F.relu(self.fc1(x))             # Fully connected hidden layer\n",
        "        x = self.drop1(x)                   # Dropout for regularization\n",
        "        logits = self.fc_out(x)             # Output logits (no softmax)\n",
        "        return logits\n"
      ],
      "metadata": {
        "id": "N7OIH-cfDsQQ"
      },
      "execution_count": 71,
      "outputs": []
    },
    {
      "cell_type": "code",
      "source": [
        "num_classes_MNIST = len(train_dataset_MNIST.classes)\n",
        "num_classes_FashionMNIST = len(train_dataset_FashionMNIST.classes)\n",
        "num_classes_CIFAR10 = len(train_dataset_CIFAR10.classes)"
      ],
      "metadata": {
        "id": "ckx5r2SL3hPe"
      },
      "execution_count": 73,
      "outputs": []
    },
    {
      "cell_type": "code",
      "source": [
        "modell = SCNNB(in_channels=1, num_classes=num_classes_MNIST, input_size=28)\n",
        "model2 = SCNNB(in_channels=1, num_classes=num_classes_FashionMNIST, input_size=28)\n",
        "model3 = SCNNB(in_channels=3, num_classes=num_classes_CIFAR10, input_size=32)"
      ],
      "metadata": {
        "id": "qQ685UL2PEif"
      },
      "execution_count": 76,
      "outputs": []
    },
    {
      "cell_type": "code",
      "source": [
        "random_sample = torch.randn((1, 3, 32, 32))\n",
        "model3(random_sample).shape"
      ],
      "metadata": {
        "colab": {
          "base_uri": "https://localhost:8080/"
        },
        "id": "qWzwj0c44JPL",
        "outputId": "010fd4ec-a883-499a-a420-2e9c7a2d1570"
      },
      "execution_count": 77,
      "outputs": [
        {
          "output_type": "execute_result",
          "data": {
            "text/plain": [
              "torch.Size([1, 10])"
            ]
          },
          "metadata": {},
          "execution_count": 77
        }
      ]
    },
    {
      "cell_type": "markdown",
      "source": [
        "# Second Model"
      ],
      "metadata": {
        "id": "QkLoyLdB58Gw"
      }
    },
    {
      "cell_type": "code",
      "source": [
        "class SCNNB_a(nn.Module):\n",
        "    \"\"\"\n",
        "    Shallow Convolutional Neural Network with automatic feature dimension calculation.\n",
        "\n",
        "    Architecture:\n",
        "        - Two convolutional layers with ReLU activation and MaxPooling\n",
        "        - Batch normalization after the second convolution\n",
        "        - Fully connected classifier with one hidden layer, ReLU, and Dropout\n",
        "        - Output layer produces logits for classification\n",
        "\n",
        "    Attributes:\n",
        "        in_channels (int): Number of channels in the input image (e.g., 1 for grayscale, 3 for RGB)\n",
        "        image_size (int): Height and width of the square input image\n",
        "        num_classes (int): Number of output classes for classification\n",
        "        CNN_block (nn.Sequential): Feature extraction layers (convolutions + activations + pooling)\n",
        "        classifier (nn.Sequential): Fully connected layers for classification\n",
        "    \"\"\"\n",
        "\n",
        "    def __init__(self, in_channels=1, num_classes=10, image_size=28):\n",
        "        super().__init__()\n",
        "\n",
        "        self.in_channels = in_channels\n",
        "        self.image_size = image_size\n",
        "        self.num_classes = num_classes\n",
        "\n",
        "        # Feature extraction block\n",
        "        self.CNN_block = nn.Sequential(\n",
        "            nn.Conv2d(in_channels=in_channels, out_channels=32, kernel_size=3, stride=1, padding=1, bias=True),\n",
        "            nn.ReLU(),\n",
        "            nn.MaxPool2d(kernel_size=2, stride=2),\n",
        "\n",
        "            nn.Conv2d(in_channels=32, out_channels=64, kernel_size=3, stride=1, padding=1, bias=False),\n",
        "            nn.BatchNorm2d(num_features=64),\n",
        "            nn.ReLU(),\n",
        "            nn.MaxPool2d(kernel_size=2, stride=2)\n",
        "        )\n",
        "\n",
        "        # Fully connected classifier\n",
        "        self.classifier = nn.Sequential(\n",
        "            nn.Flatten(),\n",
        "            nn.Linear(in_features=self._calc_feat_dim(), out_features=1280),\n",
        "            nn.ReLU(),\n",
        "            nn.Dropout(p=0.5),\n",
        "            nn.Linear(in_features=1280, out_features=self.num_classes)\n",
        "        )\n",
        "\n",
        "    def _calc_feat_dim(self) -> int:\n",
        "        \"\"\"\n",
        "        Compute the flattened feature dimension after CNN_block.\n",
        "\n",
        "        This ensures the linear layer is correctly sized for any input image size.\n",
        "\n",
        "        Returns:\n",
        "            int: Number of features after flattening the CNN output\n",
        "        \"\"\"\n",
        "        with torch.no_grad():\n",
        "            device = next(self.parameters()).device  # match the model's device\n",
        "            tmp = torch.zeros((1, self.in_channels, self.image_size, self.image_size), device=device)\n",
        "            tmp = self.CNN_block(tmp)\n",
        "            return tmp.numel()\n",
        "\n",
        "    def forward(self, x: torch.Tensor) -> torch.Tensor:\n",
        "        \"\"\"\n",
        "        Forward pass through the network.\n",
        "\n",
        "        Args:\n",
        "            x (torch.Tensor): Input tensor of shape (batch_size, in_channels, image_size, image_size)\n",
        "\n",
        "        Returns:\n",
        "            torch.Tensor: Output logits of shape (batch_size, num_classes)\n",
        "        \"\"\"\n",
        "        x = self.CNN_block(x)\n",
        "        x = self.classifier(x)\n",
        "        return x"
      ],
      "metadata": {
        "id": "v8DnBPhw_Vc1"
      },
      "execution_count": 78,
      "outputs": []
    },
    {
      "cell_type": "markdown",
      "source": [
        "# Third Model"
      ],
      "metadata": {
        "id": "i2rqmqG1IShW"
      }
    },
    {
      "cell_type": "code",
      "source": [
        "class SCNNB_b(nn.Module):\n",
        "    \"\"\"\n",
        "    Shallow Convolutional Neural Network with automatic feature dimension calculation.\n",
        "\n",
        "    Architecture:\n",
        "        - Two convolutional layers with ReLU activation and MaxPooling\n",
        "        - No Batch Normalization\n",
        "        - Fully connected classifier with one hidden layer, ReLU, and Dropout\n",
        "        - Output layer produces logits for classification\n",
        "\n",
        "    Attributes:\n",
        "        in_channels (int): Number of channels in the input image (e.g., 1 for grayscale, 3 for RGB)\n",
        "        image_size (int): Height and width of the square input image\n",
        "        num_classes (int): Number of output classes for classification\n",
        "        CNN_block (nn.Sequential): Feature extraction layers (convolutions + activations + pooling)\n",
        "        classifier (nn.Sequential): Fully connected layers for classification\n",
        "    \"\"\"\n",
        "\n",
        "    def __init__(self, in_channels=1, num_classes=10, image_size=28):\n",
        "        super().__init__()\n",
        "\n",
        "        self.in_channels = in_channels\n",
        "        self.image_size = image_size\n",
        "        self.num_classes = num_classes\n",
        "\n",
        "        # Feature extraction block\n",
        "        self.CNN_block = nn.Sequential(\n",
        "            nn.Conv2d(in_channels=in_channels, out_channels=32, kernel_size=3, stride=1, padding=1, bias=True),\n",
        "            nn.ReLU(),\n",
        "            nn.MaxPool2d(kernel_size=2, stride=2),\n",
        "\n",
        "            nn.Conv2d(in_channels=32, out_channels=64, kernel_size=3, stride=1, padding=1, bias=True),\n",
        "            nn.ReLU(),\n",
        "            nn.MaxPool2d(kernel_size=2, stride=2)\n",
        "        )\n",
        "\n",
        "        # Fully connected classifier\n",
        "        self.classifier = nn.Sequential(\n",
        "            nn.Flatten(),\n",
        "            nn.Linear(in_features=self._calc_feat_dim(), out_features=1280),\n",
        "            nn.ReLU(),\n",
        "            nn.Dropout(p=0.5),\n",
        "            nn.Linear(in_features=1280, out_features=self.num_classes)\n",
        "        )\n",
        "\n",
        "    def _calc_feat_dim(self) -> int:\n",
        "        \"\"\"\n",
        "        Compute the flattened feature dimension after CNN_block.\n",
        "\n",
        "        This ensures the linear layer is correctly sized for any input image size.\n",
        "\n",
        "        Returns:\n",
        "            int: Number of features after flattening the CNN output\n",
        "        \"\"\"\n",
        "        with torch.no_grad():\n",
        "            device = next(self.parameters()).device  # match the model's device\n",
        "            tmp = torch.zeros((1, self.in_channels, self.image_size, self.image_size), device=device)\n",
        "            tmp = self.CNN_block(tmp)\n",
        "            return tmp.numel()\n",
        "\n",
        "    def forward(self, x: torch.Tensor) -> torch.Tensor:\n",
        "        \"\"\"\n",
        "        Forward pass through the network.\n",
        "\n",
        "        Args:\n",
        "            x (torch.Tensor): Input tensor of shape (batch_size, in_channels, image_size, image_size)\n",
        "\n",
        "        Returns:\n",
        "            torch.Tensor: Output logits of shape (batch_size, num_classes)\n",
        "        \"\"\"\n",
        "        x = self.CNN_block(x)\n",
        "        x = self.classifier(x)\n",
        "        return x"
      ],
      "metadata": {
        "id": "5r5q_4ToIy5r"
      },
      "execution_count": 80,
      "outputs": []
    },
    {
      "cell_type": "code",
      "source": [],
      "metadata": {
        "id": "vE6hCiRcJEg6"
      },
      "execution_count": null,
      "outputs": []
    }
  ]
}