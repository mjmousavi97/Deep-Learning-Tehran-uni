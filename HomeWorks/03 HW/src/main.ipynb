{
  "nbformat": 4,
  "nbformat_minor": 0,
  "metadata": {
    "colab": {
      "provenance": [],
      "gpuType": "T4",
      "authorship_tag": "ABX9TyMa0/rTnw2B0TSHR2R353Q/",
      "include_colab_link": true
    },
    "kernelspec": {
      "name": "python3",
      "display_name": "Python 3"
    },
    "language_info": {
      "name": "python"
    },
    "accelerator": "GPU"
  },
  "cells": [
    {
      "cell_type": "markdown",
      "metadata": {
        "id": "view-in-github",
        "colab_type": "text"
      },
      "source": [
        "<a href=\"https://colab.research.google.com/github/mjmousavi97/Deep-Learning-Tehran-uni/blob/main/HomeWorks/03%20HW/src/main.ipynb\" target=\"_parent\"><img src=\"https://colab.research.google.com/assets/colab-badge.svg\" alt=\"Open In Colab\"/></a>"
      ]
    },
    {
      "cell_type": "code",
      "execution_count": 64,
      "metadata": {
        "id": "HUD7kKamDDQO"
      },
      "outputs": [],
      "source": [
        "import torch\n",
        "from torch import nn\n",
        "import torch.nn.functional as F\n",
        "from torch.utils.data import DataLoader, Dataset\n",
        "\n",
        "import torchvision\n",
        "from torchvision import transforms\n",
        "from torchvision.datasets import ImageFolder\n",
        "\n",
        "import matplotlib.pyplot as plt\n",
        "import numpy as np\n",
        "import seaborn as sns\n",
        "import os\n",
        "import random\n",
        "import glob\n",
        "import cv2\n",
        "from tqdm import tqdm\n",
        "from PIL import Image\n",
        "\n",
        "from timeit import default_timer as timer"
      ]
    },
    {
      "cell_type": "code",
      "source": [
        "# Define a transformation pipeline for preprocessing images\n",
        "transform = transforms.Compose(\n",
        "    [\n",
        "        # 1. Convert the input image (PIL Image or NumPy array) into a PyTorch tensor.\n",
        "        #    - Converts pixel values from range [0, 255] to [0.0, 1.0].\n",
        "        transforms.ToTensor(),\n",
        "\n",
        "        # 2. Randomly flip the image horizontally with probability 0.5.\n",
        "        #    - Useful for data augmentation to improve model generalization.\n",
        "        transforms.RandomHorizontalFlip(p=0.5),\n",
        "\n",
        "        # 3. Normalize the image tensor using mean=0.5 and std=0.5.\n",
        "        #    - Formula: (x - mean) / std\n",
        "        #    - This maps values from [0.0, 1.0] to [-1.0, 1.0].\n",
        "        transforms.Normalize((0.5,), (0.5,))\n",
        "    ]\n",
        ")\n",
        "\n",
        "\"\"\"\n",
        "Docstring:\n",
        "----------\n",
        "This transformation pipeline is designed for preprocessing image data\n",
        "before feeding it into a neural network.\n",
        "\n",
        "Steps applied to each image:\n",
        "1. Convert the image to a tensor with values in [0,1].\n",
        "2. Apply a random horizontal flip with probability 0.5\n",
        "   (data augmentation).\n",
        "3. Normalize the tensor so that pixel values fall in [-1,1].\n",
        "\n",
        "Typical use case: applied to image datasets (e.g., MNIST, CIFAR-10)\n",
        "to improve training stability and generalization.\n",
        "\"\"\""
      ],
      "metadata": {
        "colab": {
          "base_uri": "https://localhost:8080/",
          "height": 72
        },
        "id": "VsCj88zlZVej",
        "outputId": "e15a3696-131e-4953-ee47-37d697474de0"
      },
      "execution_count": 2,
      "outputs": [
        {
          "output_type": "execute_result",
          "data": {
            "text/plain": [
              "'\\nDocstring:\\n----------\\nThis transformation pipeline is designed for preprocessing image data\\nbefore feeding it into a neural network.\\n\\nSteps applied to each image:\\n1. Convert the image to a tensor with values in [0,1].\\n2. Apply a random horizontal flip with probability 0.5\\n   (data augmentation).\\n3. Normalize the tensor so that pixel values fall in [-1,1].\\n\\nTypical use case: applied to image datasets (e.g., MNIST, CIFAR-10)\\nto improve training stability and generalization.\\n'"
            ],
            "application/vnd.google.colaboratory.intrinsic+json": {
              "type": "string"
            }
          },
          "metadata": {},
          "execution_count": 2
        }
      ]
    },
    {
      "cell_type": "code",
      "source": [
        "# Load the FashionMNIST training dataset\n",
        "train_dataset_FashionMNIST = torchvision.datasets.FashionMNIST(\n",
        "    root=\"data\",          # Directory where the dataset will be stored/downloaded\n",
        "    train=True,           # True = load the training split (60,000 images)\n",
        "    download=True,        # Download the dataset if it's not already on disk\n",
        "    transform=transform   # Apply preprocessing pipeline (ToTensor, augmentation, normalization)\n",
        ")\n",
        "\n",
        "# Load the FashionMNIST test dataset\n",
        "test_dataset_FashionMNIST = torchvision.datasets.FashionMNIST(\n",
        "    root=\"data\",          # Same directory used for training dataset\n",
        "    train=False,          # False = load the test split (10,000 images)\n",
        "    download=True,        # Download if not already present\n",
        "    transform=transform   # Apply the same preprocessing pipeline as training\n",
        ")"
      ],
      "metadata": {
        "colab": {
          "base_uri": "https://localhost:8080/"
        },
        "id": "dCQWTQuRZVbJ",
        "outputId": "0355996f-c713-4eaa-d898-a528201a6fe2"
      },
      "execution_count": 3,
      "outputs": [
        {
          "output_type": "stream",
          "name": "stderr",
          "text": [
            "100%|██████████| 26.4M/26.4M [00:00<00:00, 112MB/s]\n",
            "100%|██████████| 29.5k/29.5k [00:00<00:00, 3.84MB/s]\n",
            "100%|██████████| 4.42M/4.42M [00:00<00:00, 62.9MB/s]\n",
            "100%|██████████| 5.15k/5.15k [00:00<00:00, 10.0MB/s]\n"
          ]
        }
      ]
    },
    {
      "cell_type": "code",
      "source": [
        "# Load the MNIST training dataset\n",
        "train_dataset_MNIST = torchvision.datasets.MNIST(\n",
        "    root=\"data\",\n",
        "    train=True,\n",
        "    download=True,\n",
        "    transform=transform\n",
        ")\n",
        "\n",
        "# Load the MNIST test dataset\n",
        "test_dataset_MNIST = torchvision.datasets.MNIST(\n",
        "    root=\"data\",\n",
        "    train=False,\n",
        "    download=True,\n",
        "    transform=transform\n",
        ")"
      ],
      "metadata": {
        "colab": {
          "base_uri": "https://localhost:8080/"
        },
        "id": "SGpNiJUNZVYc",
        "outputId": "1030dc02-d341-4bff-9fe9-854e60bc8daa"
      },
      "execution_count": 4,
      "outputs": [
        {
          "output_type": "stream",
          "name": "stderr",
          "text": [
            "100%|██████████| 9.91M/9.91M [00:00<00:00, 11.3MB/s]\n",
            "100%|██████████| 28.9k/28.9k [00:00<00:00, 341kB/s]\n",
            "100%|██████████| 1.65M/1.65M [00:00<00:00, 3.13MB/s]\n",
            "100%|██████████| 4.54k/4.54k [00:00<00:00, 6.84MB/s]\n"
          ]
        }
      ]
    },
    {
      "cell_type": "code",
      "source": [
        "# Load the CIFAR10 training dataset\n",
        "train_dataset_CIFAR10 = torchvision.datasets.CIFAR10(\n",
        "    root=\"data\",\n",
        "    train=True,\n",
        "    download=True,\n",
        "    transform=transform\n",
        ")\n",
        "\n",
        "# Load the CIFAR10 test dataset\n",
        "test_dataset_CIFAR10 = torchvision.datasets.CIFAR10(\n",
        "    root=\"data\",\n",
        "    train=False,\n",
        "    download=True,\n",
        "    transform=transform\n",
        ")\n"
      ],
      "metadata": {
        "colab": {
          "base_uri": "https://localhost:8080/"
        },
        "id": "nIr3Pj9OZVVf",
        "outputId": "3e9e9dbc-f4b8-4382-a6df-6d94ad938092"
      },
      "execution_count": 5,
      "outputs": [
        {
          "output_type": "stream",
          "name": "stderr",
          "text": [
            "100%|██████████| 170M/170M [00:06<00:00, 24.5MB/s]\n"
          ]
        }
      ]
    },
    {
      "cell_type": "code",
      "source": [
        "def create_dataloader(train_raw_dataset, test_raw_dataset, batch_size):\n",
        "    \"\"\"\n",
        "    Create PyTorch DataLoaders for training and testing datasets.\n",
        "\n",
        "    Parameters\n",
        "    ----------\n",
        "    train_raw_dataset : torch.utils.data.Dataset\n",
        "        The training dataset (e.g., MNIST, CIFAR-10).\n",
        "    test_raw_dataset : torch.utils.data.Dataset\n",
        "        The test dataset (e.g., MNIST, CIFAR-10).\n",
        "    batch_size : int\n",
        "        Number of samples per batch to load.\n",
        "\n",
        "    Returns\n",
        "    -------\n",
        "    train_dataloader : torch.utils.data.DataLoader\n",
        "        DataLoader for the training dataset with shuffling enabled.\n",
        "    test_dataloader : torch.utils.data.DataLoader\n",
        "        DataLoader for the test dataset with shuffling disabled.\n",
        "    \"\"\"\n",
        "    train_dataloader = DataLoader(\n",
        "        dataset=train_raw_dataset,\n",
        "        batch_size=batch_size,\n",
        "        num_workers=2,   # number of subprocesses to use for data loading\n",
        "        shuffle=True     # shuffle only for training\n",
        "    )\n",
        "\n",
        "    test_dataloader = DataLoader(\n",
        "        dataset=test_raw_dataset,\n",
        "        batch_size=batch_size,\n",
        "        num_workers=2,\n",
        "        shuffle=False    # don't shuffle test data\n",
        "    )\n",
        "\n",
        "    return train_dataloader, test_dataloader\n"
      ],
      "metadata": {
        "id": "ugXOqmq1ZVSq"
      },
      "execution_count": 6,
      "outputs": []
    },
    {
      "cell_type": "code",
      "source": [
        "# Create dataloaders for FashionMNIST\n",
        "train_dataloader_FashionMNIST, test_dataloader_FashionMNIST = create_dataloader(\n",
        "    train_dataset_FashionMNIST, test_dataset_FashionMNIST, batch_size=128\n",
        ")\n",
        "\n",
        "# Create dataloaders for MNIST\n",
        "train_dataloader_MNIST, test_dataloader_MNIST = create_dataloader(\n",
        "    train_dataset_MNIST, test_dataset_MNIST, batch_size=128\n",
        ")\n",
        "\n",
        "# Create dataloaders for CIFAR-10\n",
        "train_dataloader_CIFAR10, test_dataloader_CIFAR10 = create_dataloader(\n",
        "    train_dataset_CIFAR10, test_dataset_CIFAR10, batch_size=128\n",
        ")"
      ],
      "metadata": {
        "id": "RD7mpbJxZVPp"
      },
      "execution_count": 7,
      "outputs": []
    },
    {
      "cell_type": "code",
      "source": [
        "print(\"FashionMNIST classes:\", train_dataset_FashionMNIST.classes)\n",
        "print(\"MNIST classes:\", train_dataset_MNIST.classes)\n",
        "print(\"CIFAR-10 classes:\", train_dataset_CIFAR10.classes)"
      ],
      "metadata": {
        "colab": {
          "base_uri": "https://localhost:8080/"
        },
        "id": "rrus9kyjZVM4",
        "outputId": "5d682928-19f7-4c6f-acb8-77294d7e1233"
      },
      "execution_count": 8,
      "outputs": [
        {
          "output_type": "stream",
          "name": "stdout",
          "text": [
            "FashionMNIST classes: ['T-shirt/top', 'Trouser', 'Pullover', 'Dress', 'Coat', 'Sandal', 'Shirt', 'Sneaker', 'Bag', 'Ankle boot']\n",
            "MNIST classes: ['0 - zero', '1 - one', '2 - two', '3 - three', '4 - four', '5 - five', '6 - six', '7 - seven', '8 - eight', '9 - nine']\n",
            "CIFAR-10 classes: ['airplane', 'automobile', 'bird', 'cat', 'deer', 'dog', 'frog', 'horse', 'ship', 'truck']\n"
          ]
        }
      ]
    },
    {
      "cell_type": "code",
      "source": [
        "def show_sample(data_dataloader, mean, std):\n",
        "    batch_images, batch_labels = next(iter(data_dataloader))\n",
        "    normed_image = batch_images[0]      # first image in batch\n",
        "    label = batch_labels[0]             # its label\n",
        "\n",
        "    # Denormalize: x * std + mean\n",
        "    original_image = (normed_image * std) + mean\n",
        "\n",
        "    # Remove channel dimension (1, H, W) -> (H, W)\n",
        "    plt.imshow(original_image.permute(1, 2, 0), cmap=\"gray\")\n",
        "    plt.title(f\"Label: {label.item()}\")\n",
        "    plt.axis(\"off\")\n",
        "    plt.show()\n",
        "    print(f\"Image size: {original_image.shape}\")"
      ],
      "metadata": {
        "id": "eCwXWKEOZVJ4"
      },
      "execution_count": 9,
      "outputs": []
    },
    {
      "cell_type": "code",
      "source": [
        "show_sample(train_dataloader_FashionMNIST, mean=0.5, std=0.5)"
      ],
      "metadata": {
        "colab": {
          "base_uri": "https://localhost:8080/",
          "height": 446
        },
        "id": "I86WUqxdZU6V",
        "outputId": "d3c7ec53-6612-419a-895b-d0304ab3582c"
      },
      "execution_count": 10,
      "outputs": [
        {
          "output_type": "display_data",
          "data": {
            "text/plain": [
              "<Figure size 640x480 with 1 Axes>"
            ],
            "image/png": "[encoded data removed]"
          },
          "metadata": {}
        },
        {
          "output_type": "stream",
          "name": "stdout",
          "text": [
            "Image size: torch.Size([1, 28, 28])\n"
          ]
        }
      ]
    },
    {
      "cell_type": "code",
      "source": [
        "show_sample(train_dataloader_MNIST, mean=0.5, std=0.5)"
      ],
      "metadata": {
        "colab": {
          "base_uri": "https://localhost:8080/",
          "height": 446
        },
        "id": "qqzHCByqZUvZ",
        "outputId": "e42ed9db-c0de-4093-b3be-46f8ecc2ee71"
      },
      "execution_count": 11,
      "outputs": [
        {
          "output_type": "display_data",
          "data": {
            "text/plain": [
              "<Figure size 640x480 with 1 Axes>"
            ],
            "image/png": "[encoded data removed]"
          },
          "metadata": {}
        },
        {
          "output_type": "stream",
          "name": "stdout",
          "text": [
            "Image size: torch.Size([1, 28, 28])\n"
          ]
        }
      ]
    },
    {
      "cell_type": "code",
      "source": [
        "show_sample(train_dataloader_CIFAR10, mean=0.5, std=0.5)"
      ],
      "metadata": {
        "colab": {
          "base_uri": "https://localhost:8080/",
          "height": 446
        },
        "id": "5UvybEU6yYm8",
        "outputId": "de5bb1e9-0680-4b33-f5f8-a25d47ffda91"
      },
      "execution_count": 12,
      "outputs": [
        {
          "output_type": "display_data",
          "data": {
            "text/plain": [
              "<Figure size 640x480 with 1 Axes>"
            ],
            "image/png": "[encoded data removed]"
          },
          "metadata": {}
        },
        {
          "output_type": "stream",
          "name": "stdout",
          "text": [
            "Image size: torch.Size([3, 32, 32])\n"
          ]
        }
      ]
    },
    {
      "cell_type": "markdown",
      "source": [
        "# First Model"
      ],
      "metadata": {
        "id": "xB1YLKXM_O6-"
      }
    },
    {
      "cell_type": "code",
      "source": [
        "class SCNNB(nn.Module):\n",
        "    \"\"\"\n",
        "    Shallow Convolutional Neural Network with Batch Normalization (SCNNB).\n",
        "\n",
        "    Architecture (for input 28x28x1 like MNIST):\n",
        "        - Conv(3x3, 32 filters, padding=1) + BN + ReLU\n",
        "        - MaxPool(2x2)\n",
        "        - Conv(3x3, 64 filters, padding=1) + BN + ReLU\n",
        "        - MaxPool(2x2)\n",
        "        - Flatten\n",
        "        - FC(3136 -> 1280) + ReLU\n",
        "        - Dropout(0.5)\n",
        "        - FC(1280 -> num_classes)\n",
        "\n",
        "    Notes:\n",
        "        - Padding=1 keeps spatial size before pooling.\n",
        "        - For MNIST (1x28x28) → Flatten=3136 (64*7*7).\n",
        "        - For CIFAR-10 (3x32x32) → Flatten=4096 (64*8*8).\n",
        "        - Forward returns raw logits; use nn.CrossEntropyLoss for training.\n",
        "    \"\"\"\n",
        "\n",
        "    def __init__(self, in_channels: int = 1, num_classes: int = 10, input_size: int = 28):\n",
        "        \"\"\"\n",
        "        Initialize the SCNNB model.\n",
        "\n",
        "        Args:\n",
        "            in_channels (int): Number of input channels (1 for grayscale, 3 for RGB).\n",
        "            num_classes (int): Number of output classes.\n",
        "            input_size (int): Height/Width of the input image (assumed square).\n",
        "        \"\"\"\n",
        "        super().__init__()\n",
        "        self.input_size  = input_size\n",
        "        self.in_channels = in_channels\n",
        "        self.num_classes = num_classes\n",
        "\n",
        "        # ---- Feature extractor ----\n",
        "        self.conv1 = nn.Conv2d(in_channels, 32, kernel_size=3, stride=1, padding=1, bias=False)\n",
        "        self.bn1   = nn.BatchNorm2d(32)\n",
        "        self.pool1 = nn.MaxPool2d(kernel_size=2, stride=2)\n",
        "\n",
        "        self.conv2 = nn.Conv2d(32, 64, kernel_size=3, stride=1, padding=1, bias=False)\n",
        "        self.bn2   = nn.BatchNorm2d(64)\n",
        "        self.pool2 = nn.MaxPool2d(kernel_size=2, stride=2)\n",
        "\n",
        "        # ---- Classifier ----\n",
        "        feat_dim   = self._calc_feat_dim()  # Dynamically compute flattened feature dimension\n",
        "        self.fc1   = nn.Linear(feat_dim, 1280)\n",
        "        self.drop1 = nn.Dropout(p=0.5)\n",
        "        self.fc_out= nn.Linear(1280, num_classes)\n",
        "\n",
        "    def _calc_feat_dim(self) -> int:\n",
        "        \"\"\"\n",
        "        Compute the number of features after the convolution + pooling layers.\n",
        "        This ensures the fully connected layer is correctly sized for any input.\n",
        "\n",
        "        Returns:\n",
        "            int: Flattened feature dimension.\n",
        "        \"\"\"\n",
        "        with torch.no_grad():\n",
        "            device = next(self.parameters()).device  # Match the device of the model\n",
        "            tmp = torch.zeros((1, self.in_channels, self.input_size, self.input_size), device=device)\n",
        "            tmp = self.pool1(F.relu(self.bn1(self.conv1(tmp))))\n",
        "            tmp = self.pool2(F.relu(self.bn2(self.conv2(tmp))))\n",
        "            return tmp.numel()\n",
        "\n",
        "    def forward(self, x: torch.Tensor) -> torch.Tensor:\n",
        "        \"\"\"\n",
        "        Forward pass of SCNNB.\n",
        "\n",
        "        Args:\n",
        "            x (torch.Tensor): Input tensor of shape (N, C, H, W).\n",
        "\n",
        "        Returns:\n",
        "            torch.Tensor: Logits of shape (N, num_classes).\n",
        "        \"\"\"\n",
        "        # ---- Feature extraction ----\n",
        "        x = self.pool1(F.relu(self.bn1(self.conv1(x))))\n",
        "        x = self.pool2(F.relu(self.bn2(self.conv2(x))))\n",
        "\n",
        "        # ---- Classification head ----\n",
        "        x = torch.flatten(x, start_dim=1)   # Flatten to (N, feat_dim)\n",
        "        x = F.relu(self.fc1(x))             # Fully connected hidden layer\n",
        "        x = self.drop1(x)                   # Dropout for regularization\n",
        "        logits = self.fc_out(x)             # Output logits (no softmax)\n",
        "        return logits\n"
      ],
      "metadata": {
        "id": "N7OIH-cfDsQQ"
      },
      "execution_count": 13,
      "outputs": []
    },
    {
      "cell_type": "code",
      "source": [
        "num_classes_MNIST = len(train_dataset_MNIST.classes)\n",
        "num_classes_FashionMNIST = len(train_dataset_FashionMNIST.classes)\n",
        "num_classes_CIFAR10 = len(train_dataset_CIFAR10.classes)"
      ],
      "metadata": {
        "id": "ckx5r2SL3hPe"
      },
      "execution_count": 14,
      "outputs": []
    },
    {
      "cell_type": "code",
      "source": [
        "model1 = SCNNB(in_channels=1, num_classes=num_classes_MNIST, input_size=28)\n",
        "model2 = SCNNB(in_channels=1, num_classes=num_classes_FashionMNIST, input_size=28)\n",
        "model3 = SCNNB(in_channels=3, num_classes=num_classes_CIFAR10, input_size=32)"
      ],
      "metadata": {
        "id": "qQ685UL2PEif"
      },
      "execution_count": 55,
      "outputs": []
    },
    {
      "cell_type": "code",
      "source": [
        "random_sample = torch.randn((1, 3, 32, 32))\n",
        "model3(random_sample).shape"
      ],
      "metadata": {
        "colab": {
          "base_uri": "https://localhost:8080/"
        },
        "id": "qWzwj0c44JPL",
        "outputId": "3422cedb-3040-4a36-e7a6-4725f69016c7"
      },
      "execution_count": 16,
      "outputs": [
        {
          "output_type": "execute_result",
          "data": {
            "text/plain": [
              "torch.Size([1, 10])"
            ]
          },
          "metadata": {},
          "execution_count": 16
        }
      ]
    },
    {
      "cell_type": "markdown",
      "source": [
        "# Second Model"
      ],
      "metadata": {
        "id": "QkLoyLdB58Gw"
      }
    },
    {
      "cell_type": "code",
      "source": [
        "class SCNNB_a(nn.Module):\n",
        "    \"\"\"\n",
        "    Shallow Convolutional Neural Network with automatic feature dimension calculation.\n",
        "\n",
        "    Architecture:\n",
        "        - Two convolutional layers with ReLU activation and MaxPooling\n",
        "        - Batch normalization after the second convolution\n",
        "        - Fully connected classifier with one hidden layer, ReLU, and Dropout\n",
        "        - Output layer produces logits for classification\n",
        "\n",
        "    Attributes:\n",
        "        in_channels (int): Number of channels in the input image (e.g., 1 for grayscale, 3 for RGB)\n",
        "        image_size (int): Height and width of the square input image\n",
        "        num_classes (int): Number of output classes for classification\n",
        "        CNN_block (nn.Sequential): Feature extraction layers (convolutions + activations + pooling)\n",
        "        classifier (nn.Sequential): Fully connected layers for classification\n",
        "    \"\"\"\n",
        "\n",
        "    def __init__(self, in_channels=1, num_classes=10, image_size=28):\n",
        "        super().__init__()\n",
        "\n",
        "        self.in_channels = in_channels\n",
        "        self.image_size = image_size\n",
        "        self.num_classes = num_classes\n",
        "\n",
        "        # Feature extraction block\n",
        "        self.CNN_block = nn.Sequential(\n",
        "            nn.Conv2d(in_channels=in_channels, out_channels=32, kernel_size=3, stride=1, padding=1, bias=True),\n",
        "            nn.ReLU(),\n",
        "            nn.MaxPool2d(kernel_size=2, stride=2),\n",
        "\n",
        "            nn.Conv2d(in_channels=32, out_channels=64, kernel_size=3, stride=1, padding=1, bias=False),\n",
        "            nn.BatchNorm2d(num_features=64),\n",
        "            nn.ReLU(),\n",
        "            nn.MaxPool2d(kernel_size=2, stride=2)\n",
        "        )\n",
        "\n",
        "        # Fully connected classifier\n",
        "        self.classifier = nn.Sequential(\n",
        "            nn.Flatten(),\n",
        "            nn.Linear(in_features=self._calc_feat_dim(), out_features=1280),\n",
        "            nn.ReLU(),\n",
        "            nn.Dropout(p=0.5),\n",
        "            nn.Linear(in_features=1280, out_features=self.num_classes)\n",
        "        )\n",
        "\n",
        "    def _calc_feat_dim(self) -> int:\n",
        "        \"\"\"\n",
        "        Compute the flattened feature dimension after CNN_block.\n",
        "\n",
        "        This ensures the linear layer is correctly sized for any input image size.\n",
        "\n",
        "        Returns:\n",
        "            int: Number of features after flattening the CNN output\n",
        "        \"\"\"\n",
        "        with torch.no_grad():\n",
        "            device = next(self.parameters()).device  # match the model's device\n",
        "            tmp = torch.zeros((1, self.in_channels, self.image_size, self.image_size), device=device)\n",
        "            tmp = self.CNN_block(tmp)\n",
        "            return tmp.numel()\n",
        "\n",
        "    def forward(self, x: torch.Tensor) -> torch.Tensor:\n",
        "        \"\"\"\n",
        "        Forward pass through the network.\n",
        "\n",
        "        Args:\n",
        "            x (torch.Tensor): Input tensor of shape (batch_size, in_channels, image_size, image_size)\n",
        "\n",
        "        Returns:\n",
        "            torch.Tensor: Output logits of shape (batch_size, num_classes)\n",
        "        \"\"\"\n",
        "        x = self.CNN_block(x)\n",
        "        x = self.classifier(x)\n",
        "        return x"
      ],
      "metadata": {
        "id": "v8DnBPhw_Vc1"
      },
      "execution_count": 17,
      "outputs": []
    },
    {
      "cell_type": "code",
      "source": [
        "model4 = SCNNB_a(in_channels=1, num_classes=10, image_size=28)\n",
        "model5 = SCNNB_a(in_channels=1, num_classes=10, image_size=28)\n",
        "model6 = SCNNB_a(in_channels=3, num_classes=10, image_size=32)"
      ],
      "metadata": {
        "id": "mudZ_R1hfciU"
      },
      "execution_count": 56,
      "outputs": []
    },
    {
      "cell_type": "markdown",
      "source": [
        "# Third Model"
      ],
      "metadata": {
        "id": "i2rqmqG1IShW"
      }
    },
    {
      "cell_type": "code",
      "source": [
        "class SCNNB_b(nn.Module):\n",
        "    \"\"\"\n",
        "    Shallow Convolutional Neural Network with automatic feature dimension calculation.\n",
        "\n",
        "    Architecture:\n",
        "        - Two convolutional layers with ReLU activation and MaxPooling\n",
        "        - No Batch Normalization\n",
        "        - Fully connected classifier with one hidden layer, ReLU, and Dropout\n",
        "        - Output layer produces logits for classification\n",
        "\n",
        "    Attributes:\n",
        "        in_channels (int): Number of channels in the input image (e.g., 1 for grayscale, 3 for RGB)\n",
        "        image_size (int): Height and width of the square input image\n",
        "        num_classes (int): Number of output classes for classification\n",
        "        CNN_block (nn.Sequential): Feature extraction layers (convolutions + activations + pooling)\n",
        "        classifier (nn.Sequential): Fully connected layers for classification\n",
        "    \"\"\"\n",
        "\n",
        "    def __init__(self, in_channels=1, num_classes=10, image_size=28):\n",
        "        super().__init__()\n",
        "\n",
        "        self.in_channels = in_channels\n",
        "        self.image_size = image_size\n",
        "        self.num_classes = num_classes\n",
        "\n",
        "        # Feature extraction block\n",
        "        self.CNN_block = nn.Sequential(\n",
        "            nn.Conv2d(in_channels=in_channels, out_channels=32, kernel_size=3, stride=1, padding=1, bias=True),\n",
        "            nn.ReLU(),\n",
        "            nn.MaxPool2d(kernel_size=2, stride=2),\n",
        "\n",
        "            nn.Conv2d(in_channels=32, out_channels=64, kernel_size=3, stride=1, padding=1, bias=True),\n",
        "            nn.ReLU(),\n",
        "            nn.MaxPool2d(kernel_size=2, stride=2)\n",
        "        )\n",
        "\n",
        "        # Fully connected classifier\n",
        "        self.classifier = nn.Sequential(\n",
        "            nn.Flatten(),\n",
        "            nn.Linear(in_features=self._calc_feat_dim(), out_features=1280),\n",
        "            nn.ReLU(),\n",
        "            nn.Dropout(p=0.5),\n",
        "            nn.Linear(in_features=1280, out_features=self.num_classes)\n",
        "        )\n",
        "\n",
        "    def _calc_feat_dim(self) -> int:\n",
        "        \"\"\"\n",
        "        Compute the flattened feature dimension after CNN_block.\n",
        "\n",
        "        This ensures the linear layer is correctly sized for any input image size.\n",
        "\n",
        "        Returns:\n",
        "            int: Number of features after flattening the CNN output\n",
        "        \"\"\"\n",
        "        with torch.no_grad():\n",
        "            device = next(self.parameters()).device  # match the model's device\n",
        "            tmp = torch.zeros((1, self.in_channels, self.image_size, self.image_size), device=device)\n",
        "            tmp = self.CNN_block(tmp)\n",
        "            return tmp.numel()\n",
        "\n",
        "    def forward(self, x: torch.Tensor) -> torch.Tensor:\n",
        "        \"\"\"\n",
        "        Forward pass through the network.\n",
        "\n",
        "        Args:\n",
        "            x (torch.Tensor): Input tensor of shape (batch_size, in_channels, image_size, image_size)\n",
        "\n",
        "        Returns:\n",
        "            torch.Tensor: Output logits of shape (batch_size, num_classes)\n",
        "        \"\"\"\n",
        "        x = self.CNN_block(x)\n",
        "        x = self.classifier(x)\n",
        "        return x"
      ],
      "metadata": {
        "id": "5r5q_4ToIy5r"
      },
      "execution_count": 19,
      "outputs": []
    },
    {
      "cell_type": "code",
      "source": [
        "model7 = SCNNB_b(in_channels=1, num_classes=10, image_size=28)\n",
        "model8 = SCNNB_b(in_channels=1, num_classes=10, image_size=28)\n",
        "model9 = SCNNB_b(in_channels=3, num_classes=10, image_size=32)"
      ],
      "metadata": {
        "id": "gVEMdOe5f2GG"
      },
      "execution_count": 57,
      "outputs": []
    },
    {
      "cell_type": "markdown",
      "source": [
        "# Define `train_step` & `test_step`"
      ],
      "metadata": {
        "id": "vE6hCiRcJEg6"
      }
    },
    {
      "cell_type": "code",
      "source": [
        "def train_step(model, data_loader, loss_fn, optimizer, accuracy_fn, device):\n",
        "    \"\"\"\n",
        "    Performs one full training epoch over the provided data loader.\n",
        "\n",
        "    Args:\n",
        "        model (torch.nn.Module): The neural network model to train.\n",
        "        data_loader (DataLoader): DataLoader providing training batches.\n",
        "        loss_fn (callable): Loss function to compute the error.\n",
        "        optimizer (torch.optim.Optimizer): Optimizer for updating model parameters.\n",
        "        accuracy_fn (callable): Function to calculate accuracy.\n",
        "        device (torch.device): Device to run computations on (CPU or GPU).\n",
        "\n",
        "    Returns:\n",
        "        tuple: (average_train_loss, average_train_accuracy) over the epoch.\n",
        "    \"\"\"\n",
        "    model.to(device)  # Move model to the specified device (CPU or GPU)\n",
        "    train_loss, train_acc, counter = 0, 0, 0\n",
        "\n",
        "    with tqdm(data_loader, desc='  train') as train_tqdm:\n",
        "        for X, y in train_tqdm:\n",
        "            # Move data to the specified device\n",
        "            X, y = X.to(device), y.to(device)\n",
        "\n",
        "            # Forward pass: predict outputs\n",
        "            y_pred = model(X)\n",
        "\n",
        "            # Compute the loss for current batch\n",
        "            loss = loss_fn(y_pred, y)\n",
        "\n",
        "            # Accumulate loss and accuracy values\n",
        "            train_loss += loss.item()  # Convert tensor loss to float before accumulating\n",
        "            train_acc += accuracy_fn(true=y, pred=y_pred).item()\n",
        "\n",
        "            counter += 1  # Increment batch counter\n",
        "\n",
        "            # Update tqdm progress bar postfix with current average accuracy and loss\n",
        "            train_tqdm.set_postfix(\n",
        "                train_acc=train_acc / counter,\n",
        "                train_loss=train_loss / counter,\n",
        "                refresh=True\n",
        "            )\n",
        "\n",
        "             # Zero gradients before backward pass\n",
        "            optimizer.zero_grad()\n",
        "\n",
        "            # Backward pass: compute gradients\n",
        "            loss.backward()\n",
        "\n",
        "            # Update model parameters\n",
        "            optimizer.step()\n",
        "\n",
        "        # Compute average loss and accuracy over all batches\n",
        "        train_loss /= len(data_loader)\n",
        "        train_acc /= len(data_loader)\n",
        "\n",
        "    return train_loss, train_acc\n"
      ],
      "metadata": {
        "id": "RMgbz6vve-4i"
      },
      "execution_count": 21,
      "outputs": []
    },
    {
      "cell_type": "code",
      "source": [
        "def test_step(model, data_loader, loss_fn, accuracy_fn, device):\n",
        "    \"\"\"\n",
        "    Evaluate a trained model on a test dataset.\n",
        "\n",
        "    Args:\n",
        "        model (torch.nn.Module): The trained PyTorch model to evaluate.\n",
        "        data_loader (torch.utils.data.DataLoader): DataLoader containing the test dataset.\n",
        "        loss_fn (callable): Loss function used to compute the evaluation loss.\n",
        "        accuracy_fn (callable): Function to compute accuracy.\n",
        "                                 Should accept `true` (ground truth labels) and `pred` (model predictions).\n",
        "        device (torch.device or str): Device to perform computation on ('cpu' or 'cuda').\n",
        "\n",
        "    Returns:\n",
        "        tuple:\n",
        "            test_loss (float) - Average loss over the test dataset.\n",
        "            test_acc (float) - Average accuracy over the test dataset.\n",
        "    \"\"\"\n",
        "\n",
        "    # Move the model to the specified device (CPU or GPU)\n",
        "    model.to(device)\n",
        "\n",
        "    # Initialize accumulators for loss, accuracy, and batch count\n",
        "    test_loss, test_acc, counter = 0, 0, 0\n",
        "\n",
        "    # Set the model to evaluation mode (important for layers like dropout, batch norm)\n",
        "    model.eval()\n",
        "\n",
        "    # Use tqdm for a progress bar over the test DataLoader\n",
        "    with tqdm(data_loader, desc='  test') as test_tqdm:\n",
        "        for X, y in test_tqdm:\n",
        "            # Move input data and labels to the selected device\n",
        "            X, y = X.to(device), y.to(device)\n",
        "\n",
        "            # Forward pass (no gradient calculation needed for testing)\n",
        "            test_pred = model(X)\n",
        "\n",
        "            # Accumulate the loss (detach from computation graph)\n",
        "            test_loss += loss_fn(test_pred, y)\n",
        "\n",
        "            # Accumulate accuracy (move predictions and labels back to CPU for calculation)\n",
        "            test_acc += accuracy_fn(true=y, pred=test_pred).item()\n",
        "\n",
        "            # Keep track of processed batches\n",
        "            counter += 1\n",
        "\n",
        "            # Update the progress bar display\n",
        "            test_tqdm.set_postfix(\n",
        "                test_acc=test_acc / counter,\n",
        "                test_loss=test_loss / counter,\n",
        "                refresh=True\n",
        "            )\n",
        "\n",
        "        # Compute the average loss and accuracy over all batches\n",
        "        test_loss /= len(data_loader)\n",
        "        test_acc /= len(data_loader)\n",
        "\n",
        "    return test_loss, test_acc\n",
        "\n"
      ],
      "metadata": {
        "id": "i2SkBrodn66R"
      },
      "execution_count": 22,
      "outputs": []
    },
    {
      "cell_type": "markdown",
      "source": [
        "# Define `accuracy_fn`, `loss_fn` and `optimizer`"
      ],
      "metadata": {
        "id": "bAnHh3k0qdcz"
      }
    },
    {
      "cell_type": "code",
      "source": [
        "loss_fn =nn.CrossEntropyLoss()"
      ],
      "metadata": {
        "id": "ODEcGLojqgeM"
      },
      "execution_count": 23,
      "outputs": []
    },
    {
      "cell_type": "code",
      "source": [
        "device = \"cuda\" if torch.cuda.is_available() else \"cpu\""
      ],
      "metadata": {
        "id": "zkyXsGwTrsKG"
      },
      "execution_count": 24,
      "outputs": []
    },
    {
      "cell_type": "code",
      "source": [
        "def accuracy_fn(true, pred):\n",
        "    # pred: raw logits from model\n",
        "    pred_labels = torch.argmax(pred, dim=1)   # class with max logit\n",
        "    acc = (pred_labels == true).float().mean()  # accuracy\n",
        "    return acc"
      ],
      "metadata": {
        "id": "gCtyp8GYsk6k"
      },
      "execution_count": 25,
      "outputs": []
    },
    {
      "cell_type": "code",
      "source": [
        "def optimizer(model):\n",
        "  optimizer = torch.optim.SGD(model.parameters(), lr=0.02, momentum=0.9, weight_decay=0.000005)\n",
        "  return optimizer\n",
        "\n",
        "optimizer1 = optimizer(model1)\n",
        "optimizer2 = optimizer(model2)\n",
        "optimizer3 = optimizer(model3)\n",
        "optimizer4 = optimizer(model4)\n",
        "optimizer5 = optimizer(model5)\n",
        "optimizer6 = optimizer(model6)\n",
        "optimizer7 = optimizer(model7)\n",
        "optimizer8 = optimizer(model8)\n",
        "optimizer9 = optimizer(model9)"
      ],
      "metadata": {
        "id": "vP9-rvAJtkDO"
      },
      "execution_count": 59,
      "outputs": []
    },
    {
      "cell_type": "markdown",
      "source": [
        "# Define `fit` function"
      ],
      "metadata": {
        "id": "oh0yvefhtlEc"
      }
    },
    {
      "cell_type": "code",
      "source": [
        "def fit(model,\n",
        "        train_loader,\n",
        "        test_loader,\n",
        "        loss_fn,\n",
        "        optimizer,\n",
        "        accuracy_fn,\n",
        "        device,\n",
        "        epochs=20):\n",
        "    \"\"\"\n",
        "    Train and evaluate a PyTorch model.\n",
        "\n",
        "    Args:\n",
        "        model (torch.nn.Module): The neural network model to train.\n",
        "        train_loader (torch.utils.data.DataLoader): DataLoader for training data.\n",
        "        test_loader (torch.utils.data.DataLoader): DataLoader for test/validation data.\n",
        "        loss_fn (callable): Loss function.\n",
        "        optimizer (torch.optim.Optimizer): Optimizer for updating model parameters.\n",
        "        accuracy_fn (callable): Function to compute accuracy.\n",
        "        device (torch.device): Device to run computations on ('cpu' or 'cuda').\n",
        "        epochs (int, optional): Number of training epochs. Default is 20.\n",
        "\n",
        "    Returns:\n",
        "        dict: A dictionary containing:\n",
        "            - \"train_loss\" (list): Training loss per epoch.\n",
        "            - \"train_acc\" (list): Training accuracy per epoch.\n",
        "            - \"test_loss\" (list): Test loss per epoch.\n",
        "            - \"test_acc\" (list): Test accuracy per epoch.\n",
        "            - \"total_time\" (float): Total training time in seconds.\n",
        "    \"\"\"\n",
        "\n",
        "    # Lists to store training and testing metrics for each epoch\n",
        "    train_epoch_loss = []\n",
        "    train_epoch_accuracy = []\n",
        "    test_epoch_loss = []\n",
        "    test_epoch_accuracy = []\n",
        "\n",
        "    # Start timer for total training duration\n",
        "    start_time = timer()\n",
        "\n",
        "    for epoch in range(epochs):\n",
        "        print(f\"EPOCH {epoch + 1}/{epochs} :\")\n",
        "\n",
        "        # -------- Training step --------\n",
        "        train_loss, train_acc = train_step(\n",
        "            model=model,\n",
        "            data_loader=train_loader,\n",
        "            loss_fn=loss_fn,\n",
        "            optimizer=optimizer,\n",
        "            accuracy_fn=accuracy_fn,\n",
        "            device=device\n",
        "        )\n",
        "\n",
        "        # -------- Testing/Validation step --------\n",
        "        with torch.no_grad():  # Disable gradient computation for efficiency\n",
        "            test_loss, test_acc = test_step(\n",
        "                model=model,\n",
        "                data_loader=test_loader,\n",
        "                loss_fn=loss_fn,\n",
        "                accuracy_fn=accuracy_fn,\n",
        "                device=device\n",
        "            )\n",
        "\n",
        "        # Store results (convert tensors to Python floats if necessary)\n",
        "        train_epoch_loss.append(train_loss.item() if torch.is_tensor(train_loss) else train_loss)\n",
        "        train_epoch_accuracy.append(train_acc.item() if torch.is_tensor(train_acc) else train_acc)\n",
        "        test_epoch_loss.append(test_loss.item() if torch.is_tensor(test_loss) else test_loss)\n",
        "        test_epoch_accuracy.append(test_acc.item() if torch.is_tensor(test_acc) else test_acc)\n",
        "\n",
        "        # Free GPU memory to avoid memory buildup\n",
        "        del train_loss, train_acc, test_loss, test_acc\n",
        "        torch.cuda.empty_cache()\n",
        "\n",
        "    # End timer\n",
        "    end_time = timer()\n",
        "    total_time = end_time - start_time\n",
        "    print(f\"Total training time: {total_time:.3f} seconds\")\n",
        "\n",
        "    # Return metrics in a dictionary\n",
        "    return {\n",
        "        \"train_loss\": train_epoch_loss,\n",
        "        \"train_acc\": train_epoch_accuracy,\n",
        "        \"test_loss\": test_epoch_loss,\n",
        "        \"test_acc\": test_epoch_accuracy,\n",
        "        \"total_time\": total_time\n",
        "    }\n"
      ],
      "metadata": {
        "id": "zP3sGi6Zokn_"
      },
      "execution_count": 27,
      "outputs": []
    },
    {
      "cell_type": "markdown",
      "source": [
        "# Implementation Results"
      ],
      "metadata": {
        "id": "nlaDux2spWyu"
      }
    },
    {
      "cell_type": "code",
      "source": [
        "def accloss_plots(train_loss1, test_loss1, train_acc1, test_acc1,\n",
        "                  train_loss2, test_loss2, train_acc2, test_acc2,\n",
        "                  train_loss3, test_loss3, train_acc3, test_acc3):\n",
        "    num_epochs = len(train_loss1)\n",
        "    plt.figure(figsize=(13, 10))\n",
        "\n",
        "    # Plot training loss for all sets\n",
        "    plt.subplot(221)\n",
        "    plt.plot(train_loss1, '-.', label='Train Set SCNNB')\n",
        "    plt.plot(train_loss2, '-.', label='Train Set SCNNB-a')\n",
        "    plt.plot(train_loss3, '-.', label='Train Set SCNNB-b')\n",
        "    plt.xlabel('Epochs', fontsize=10, labelpad=8)\n",
        "    plt.title('Loss', fontsize=25, pad=15)\n",
        "    plt.grid()\n",
        "    plt.legend()\n",
        "    sns.despine()\n",
        "\n",
        "    # Plot training accuracy for all sets\n",
        "    plt.subplot(222)\n",
        "    plt.plot(train_acc1, '-.', label='Train Set SCNNB')\n",
        "    plt.plot(train_acc2, '-.', label='Train Set SCNNB-a')\n",
        "    plt.plot(train_acc3, '-.', label='Train Set SCNNB-b')\n",
        "    plt.xlabel('Epochs', fontsize=10, labelpad=8)\n",
        "    plt.title('Accuracy', fontsize=25, pad=15)\n",
        "    plt.tight_layout(pad=3)\n",
        "    plt.grid()\n",
        "    plt.legend()\n",
        "    sns.despine()\n",
        "\n",
        "    # Plot testing loss for all sets\n",
        "    plt.subplot(223)\n",
        "    plt.plot(test_loss1, '-.', label='Test Set SCNNB')\n",
        "    plt.plot(test_loss2, '-.', label='Test Set SCNNB-a')\n",
        "    plt.plot(test_loss3, '-.', label='Test Set SCNNB-b')\n",
        "    plt.xlabel('Epochs', fontsize=10, labelpad=8)\n",
        "    plt.title('Loss', fontsize=25, pad=15)\n",
        "    plt.grid()\n",
        "    plt.legend()\n",
        "    sns.despine()\n",
        "\n",
        "    # Plot testing accuracy for all sets\n",
        "    plt.subplot(224)\n",
        "    plt.plot(test_acc1, '-.', label='Test Set SCNNB')\n",
        "    plt.plot(test_acc2, '-.', label='Test Set SCNNB-a')\n",
        "    plt.plot(test_acc3, '-.', label='Test Set SCNNB-b')\n",
        "    plt.xlabel('Epochs', fontsize=10, labelpad=8)\n",
        "    plt.title('Accuracy', fontsize=25, pad=15)\n",
        "    plt.tight_layout(pad=3)\n",
        "    plt.grid()\n",
        "    plt.legend()\n",
        "    sns.despine()\n",
        "\n",
        "    plt.show()\n"
      ],
      "metadata": {
        "id": "FHs1_2urupwe"
      },
      "execution_count": 28,
      "outputs": []
    },
    {
      "cell_type": "markdown",
      "source": [
        "# Fit for MNIST dataset"
      ],
      "metadata": {
        "id": "r3DrjpTpB0vd"
      }
    },
    {
      "cell_type": "markdown",
      "source": [
        "### Model 1"
      ],
      "metadata": {
        "id": "x9en5IzJCIHw"
      }
    },
    {
      "cell_type": "code",
      "source": [
        "result1_MNIST = fit(model=model1,\n",
        "                    train_loader=train_dataloader_MNIST,\n",
        "                    test_loader=test_dataloader_MNIST,\n",
        "                    loss_fn=loss_fn,\n",
        "                    optimizer=optimizer1,\n",
        "                    accuracy_fn=accuracy_fn,\n",
        "                    device=device,\n",
        "                    epochs=40)"
      ],
      "metadata": {
        "colab": {
          "base_uri": "https://localhost:8080/"
        },
        "id": "eKK3XoIqCKd1",
        "outputId": "7da46191-2a5b-400d-bfdc-7d4724377374"
      },
      "execution_count": 29,
      "outputs": [
        {
          "output_type": "stream",
          "name": "stdout",
          "text": [
            "EPOCH 1/40 :\n"
          ]
        },
        {
          "output_type": "stream",
          "name": "stderr",
          "text": [
            "  train: 100%|██████████| 469/469 [00:17<00:00, 26.73it/s, train_acc=0.91, train_loss=0.275]\n",
            "  test: 100%|██████████| 79/79 [00:03<00:00, 21.93it/s, test_acc=0.974, test_loss=tensor(0.0840, device='cuda:0')]\n"
          ]
        },
        {
          "output_type": "stream",
          "name": "stdout",
          "text": [
            "EPOCH 2/40 :\n"
          ]
        },
        {
          "output_type": "stream",
          "name": "stderr",
          "text": [
            "  train: 100%|██████████| 469/469 [00:16<00:00, 28.88it/s, train_acc=0.979, train_loss=0.0691]\n",
            "  test: 100%|██████████| 79/79 [00:02<00:00, 30.77it/s, test_acc=0.983, test_loss=tensor(0.0512, device='cuda:0')]\n"
          ]
        },
        {
          "output_type": "stream",
          "name": "stdout",
          "text": [
            "EPOCH 3/40 :\n"
          ]
        },
        {
          "output_type": "stream",
          "name": "stderr",
          "text": [
            "  train: 100%|██████████| 469/469 [00:18<00:00, 24.71it/s, train_acc=0.985, train_loss=0.0466]\n",
            "  test: 100%|██████████| 79/79 [00:03<00:00, 25.42it/s, test_acc=0.985, test_loss=tensor(0.0448, device='cuda:0')]\n"
          ]
        },
        {
          "output_type": "stream",
          "name": "stdout",
          "text": [
            "EPOCH 4/40 :\n"
          ]
        },
        {
          "output_type": "stream",
          "name": "stderr",
          "text": [
            "  train: 100%|██████████| 469/469 [00:16<00:00, 29.31it/s, train_acc=0.989, train_loss=0.0356]\n",
            "  test: 100%|██████████| 79/79 [00:02<00:00, 31.60it/s, test_acc=0.986, test_loss=tensor(0.0423, device='cuda:0')]\n"
          ]
        },
        {
          "output_type": "stream",
          "name": "stdout",
          "text": [
            "EPOCH 5/40 :\n"
          ]
        },
        {
          "output_type": "stream",
          "name": "stderr",
          "text": [
            "  train: 100%|██████████| 469/469 [00:16<00:00, 29.18it/s, train_acc=0.991, train_loss=0.0287]\n",
            "  test: 100%|██████████| 79/79 [00:03<00:00, 22.43it/s, test_acc=0.988, test_loss=tensor(0.0388, device='cuda:0')]\n"
          ]
        },
        {
          "output_type": "stream",
          "name": "stdout",
          "text": [
            "EPOCH 6/40 :\n"
          ]
        },
        {
          "output_type": "stream",
          "name": "stderr",
          "text": [
            "  train: 100%|██████████| 469/469 [00:15<00:00, 29.53it/s, train_acc=0.992, train_loss=0.0242]\n",
            "  test: 100%|██████████| 79/79 [00:02<00:00, 31.84it/s, test_acc=0.988, test_loss=tensor(0.0406, device='cuda:0')]\n"
          ]
        },
        {
          "output_type": "stream",
          "name": "stdout",
          "text": [
            "EPOCH 7/40 :\n"
          ]
        },
        {
          "output_type": "stream",
          "name": "stderr",
          "text": [
            "  train: 100%|██████████| 469/469 [00:16<00:00, 29.17it/s, train_acc=0.994, train_loss=0.0193]\n",
            "  test: 100%|██████████| 79/79 [00:03<00:00, 22.58it/s, test_acc=0.987, test_loss=tensor(0.0376, device='cuda:0')]\n"
          ]
        },
        {
          "output_type": "stream",
          "name": "stdout",
          "text": [
            "EPOCH 8/40 :\n"
          ]
        },
        {
          "output_type": "stream",
          "name": "stderr",
          "text": [
            "  train: 100%|██████████| 469/469 [00:16<00:00, 28.96it/s, train_acc=0.995, train_loss=0.017]\n",
            "  test: 100%|██████████| 79/79 [00:02<00:00, 32.13it/s, test_acc=0.988, test_loss=tensor(0.0420, device='cuda:0')]\n"
          ]
        },
        {
          "output_type": "stream",
          "name": "stdout",
          "text": [
            "EPOCH 9/40 :\n"
          ]
        },
        {
          "output_type": "stream",
          "name": "stderr",
          "text": [
            "  train: 100%|██████████| 469/469 [00:15<00:00, 29.39it/s, train_acc=0.995, train_loss=0.015]\n",
            "  test: 100%|██████████| 79/79 [00:03<00:00, 25.70it/s, test_acc=0.987, test_loss=tensor(0.0420, device='cuda:0')]\n"
          ]
        },
        {
          "output_type": "stream",
          "name": "stdout",
          "text": [
            "EPOCH 10/40 :\n"
          ]
        },
        {
          "output_type": "stream",
          "name": "stderr",
          "text": [
            "  train: 100%|██████████| 469/469 [00:16<00:00, 28.52it/s, train_acc=0.996, train_loss=0.012]\n",
            "  test: 100%|██████████| 79/79 [00:02<00:00, 31.97it/s, test_acc=0.988, test_loss=tensor(0.0387, device='cuda:0')]\n"
          ]
        },
        {
          "output_type": "stream",
          "name": "stdout",
          "text": [
            "EPOCH 11/40 :\n"
          ]
        },
        {
          "output_type": "stream",
          "name": "stderr",
          "text": [
            "  train: 100%|██████████| 469/469 [00:16<00:00, 29.19it/s, train_acc=0.997, train_loss=0.0105]\n",
            "  test: 100%|██████████| 79/79 [00:02<00:00, 28.46it/s, test_acc=0.989, test_loss=tensor(0.0406, device='cuda:0')]\n"
          ]
        },
        {
          "output_type": "stream",
          "name": "stdout",
          "text": [
            "EPOCH 12/40 :\n"
          ]
        },
        {
          "output_type": "stream",
          "name": "stderr",
          "text": [
            "  train: 100%|██████████| 469/469 [00:16<00:00, 28.26it/s, train_acc=0.997, train_loss=0.00814]\n",
            "  test: 100%|██████████| 79/79 [00:02<00:00, 31.76it/s, test_acc=0.99, test_loss=tensor(0.0393, device='cuda:0')]\n"
          ]
        },
        {
          "output_type": "stream",
          "name": "stdout",
          "text": [
            "EPOCH 13/40 :\n"
          ]
        },
        {
          "output_type": "stream",
          "name": "stderr",
          "text": [
            "  train: 100%|██████████| 469/469 [00:16<00:00, 29.24it/s, train_acc=0.998, train_loss=0.00703]\n",
            "  test: 100%|██████████| 79/79 [00:02<00:00, 31.75it/s, test_acc=0.988, test_loss=tensor(0.0465, device='cuda:0')]\n"
          ]
        },
        {
          "output_type": "stream",
          "name": "stdout",
          "text": [
            "EPOCH 14/40 :\n"
          ]
        },
        {
          "output_type": "stream",
          "name": "stderr",
          "text": [
            "  train: 100%|██████████| 469/469 [00:16<00:00, 27.64it/s, train_acc=0.998, train_loss=0.00729]\n",
            "  test: 100%|██████████| 79/79 [00:02<00:00, 31.90it/s, test_acc=0.991, test_loss=tensor(0.0362, device='cuda:0')]\n"
          ]
        },
        {
          "output_type": "stream",
          "name": "stdout",
          "text": [
            "EPOCH 15/40 :\n"
          ]
        },
        {
          "output_type": "stream",
          "name": "stderr",
          "text": [
            "  train: 100%|██████████| 469/469 [00:15<00:00, 29.63it/s, train_acc=0.999, train_loss=0.00547]\n",
            "  test: 100%|██████████| 79/79 [00:02<00:00, 32.32it/s, test_acc=0.991, test_loss=tensor(0.0377, device='cuda:0')]\n"
          ]
        },
        {
          "output_type": "stream",
          "name": "stdout",
          "text": [
            "EPOCH 16/40 :\n"
          ]
        },
        {
          "output_type": "stream",
          "name": "stderr",
          "text": [
            "  train: 100%|██████████| 469/469 [00:16<00:00, 28.04it/s, train_acc=0.999, train_loss=0.00452]\n",
            "  test: 100%|██████████| 79/79 [00:02<00:00, 29.09it/s, test_acc=0.99, test_loss=tensor(0.0396, device='cuda:0')]\n"
          ]
        },
        {
          "output_type": "stream",
          "name": "stdout",
          "text": [
            "EPOCH 17/40 :\n"
          ]
        },
        {
          "output_type": "stream",
          "name": "stderr",
          "text": [
            "  train: 100%|██████████| 469/469 [00:15<00:00, 29.50it/s, train_acc=0.999, train_loss=0.00393]\n",
            "  test: 100%|██████████| 79/79 [00:02<00:00, 30.19it/s, test_acc=0.988, test_loss=tensor(0.0454, device='cuda:0')]\n"
          ]
        },
        {
          "output_type": "stream",
          "name": "stdout",
          "text": [
            "EPOCH 18/40 :\n"
          ]
        },
        {
          "output_type": "stream",
          "name": "stderr",
          "text": [
            "  train: 100%|██████████| 469/469 [00:16<00:00, 28.64it/s, train_acc=0.999, train_loss=0.00381]\n",
            "  test: 100%|██████████| 79/79 [00:03<00:00, 25.73it/s, test_acc=0.99, test_loss=tensor(0.0406, device='cuda:0')]\n"
          ]
        },
        {
          "output_type": "stream",
          "name": "stdout",
          "text": [
            "EPOCH 19/40 :\n"
          ]
        },
        {
          "output_type": "stream",
          "name": "stderr",
          "text": [
            "  train: 100%|██████████| 469/469 [00:16<00:00, 29.23it/s, train_acc=0.999, train_loss=0.00193]\n",
            "  test: 100%|██████████| 79/79 [00:02<00:00, 30.84it/s, test_acc=0.99, test_loss=tensor(0.0423, device='cuda:0')]\n"
          ]
        },
        {
          "output_type": "stream",
          "name": "stdout",
          "text": [
            "EPOCH 20/40 :\n"
          ]
        },
        {
          "output_type": "stream",
          "name": "stderr",
          "text": [
            "  train: 100%|██████████| 469/469 [00:16<00:00, 29.26it/s, train_acc=0.999, train_loss=0.00239]\n",
            "  test: 100%|██████████| 79/79 [00:03<00:00, 23.03it/s, test_acc=0.991, test_loss=tensor(0.0383, device='cuda:0')]\n"
          ]
        },
        {
          "output_type": "stream",
          "name": "stdout",
          "text": [
            "EPOCH 21/40 :\n"
          ]
        },
        {
          "output_type": "stream",
          "name": "stderr",
          "text": [
            "  train: 100%|██████████| 469/469 [00:16<00:00, 29.05it/s, train_acc=0.999, train_loss=0.00211]\n",
            "  test: 100%|██████████| 79/79 [00:02<00:00, 30.82it/s, test_acc=0.991, test_loss=tensor(0.0413, device='cuda:0')]\n"
          ]
        },
        {
          "output_type": "stream",
          "name": "stdout",
          "text": [
            "EPOCH 22/40 :\n"
          ]
        },
        {
          "output_type": "stream",
          "name": "stderr",
          "text": [
            "  train: 100%|██████████| 469/469 [00:16<00:00, 29.18it/s, train_acc=0.999, train_loss=0.00199]\n",
            "  test: 100%|██████████| 79/79 [00:03<00:00, 22.24it/s, test_acc=0.992, test_loss=tensor(0.0483, device='cuda:0')]\n"
          ]
        },
        {
          "output_type": "stream",
          "name": "stdout",
          "text": [
            "EPOCH 23/40 :\n"
          ]
        },
        {
          "output_type": "stream",
          "name": "stderr",
          "text": [
            "  train: 100%|██████████| 469/469 [00:15<00:00, 29.31it/s, train_acc=1, train_loss=0.00147]\n",
            "  test: 100%|██████████| 79/79 [00:02<00:00, 31.74it/s, test_acc=0.991, test_loss=tensor(0.0451, device='cuda:0')]\n"
          ]
        },
        {
          "output_type": "stream",
          "name": "stdout",
          "text": [
            "EPOCH 24/40 :\n"
          ]
        },
        {
          "output_type": "stream",
          "name": "stderr",
          "text": [
            "  train: 100%|██████████| 469/469 [00:15<00:00, 29.38it/s, train_acc=1, train_loss=0.00177]\n",
            "  test: 100%|██████████| 79/79 [00:03<00:00, 25.66it/s, test_acc=0.99, test_loss=tensor(0.0469, device='cuda:0')]\n"
          ]
        },
        {
          "output_type": "stream",
          "name": "stdout",
          "text": [
            "EPOCH 25/40 :\n"
          ]
        },
        {
          "output_type": "stream",
          "name": "stderr",
          "text": [
            "  train: 100%|██████████| 469/469 [00:16<00:00, 28.56it/s, train_acc=0.999, train_loss=0.00205]\n",
            "  test: 100%|██████████| 79/79 [00:02<00:00, 30.43it/s, test_acc=0.99, test_loss=tensor(0.0466, device='cuda:0')]\n"
          ]
        },
        {
          "output_type": "stream",
          "name": "stdout",
          "text": [
            "EPOCH 26/40 :\n"
          ]
        },
        {
          "output_type": "stream",
          "name": "stderr",
          "text": [
            "  train: 100%|██████████| 469/469 [00:16<00:00, 29.25it/s, train_acc=1, train_loss=0.00142]\n",
            "  test: 100%|██████████| 79/79 [00:02<00:00, 27.86it/s, test_acc=0.99, test_loss=tensor(0.0426, device='cuda:0')]\n"
          ]
        },
        {
          "output_type": "stream",
          "name": "stdout",
          "text": [
            "EPOCH 27/40 :\n"
          ]
        },
        {
          "output_type": "stream",
          "name": "stderr",
          "text": [
            "  train: 100%|██████████| 469/469 [00:16<00:00, 27.86it/s, train_acc=0.999, train_loss=0.00279]\n",
            "  test: 100%|██████████| 79/79 [00:02<00:00, 31.46it/s, test_acc=0.989, test_loss=tensor(0.0510, device='cuda:0')]\n"
          ]
        },
        {
          "output_type": "stream",
          "name": "stdout",
          "text": [
            "EPOCH 28/40 :\n"
          ]
        },
        {
          "output_type": "stream",
          "name": "stderr",
          "text": [
            "  train: 100%|██████████| 469/469 [00:15<00:00, 29.42it/s, train_acc=1, train_loss=0.00063]\n",
            "  test: 100%|██████████| 79/79 [00:02<00:00, 31.39it/s, test_acc=0.991, test_loss=tensor(0.0456, device='cuda:0')]\n"
          ]
        },
        {
          "output_type": "stream",
          "name": "stdout",
          "text": [
            "EPOCH 29/40 :\n"
          ]
        },
        {
          "output_type": "stream",
          "name": "stderr",
          "text": [
            "  train: 100%|██████████| 469/469 [00:17<00:00, 27.53it/s, train_acc=1, train_loss=0.000209]\n",
            "  test: 100%|██████████| 79/79 [00:02<00:00, 31.79it/s, test_acc=0.992, test_loss=tensor(0.0419, device='cuda:0')]\n"
          ]
        },
        {
          "output_type": "stream",
          "name": "stdout",
          "text": [
            "EPOCH 30/40 :\n"
          ]
        },
        {
          "output_type": "stream",
          "name": "stderr",
          "text": [
            "  train: 100%|██████████| 469/469 [00:16<00:00, 29.29it/s, train_acc=1, train_loss=0.000604]\n",
            "  test: 100%|██████████| 79/79 [00:02<00:00, 31.63it/s, test_acc=0.991, test_loss=tensor(0.0531, device='cuda:0')]\n"
          ]
        },
        {
          "output_type": "stream",
          "name": "stdout",
          "text": [
            "EPOCH 31/40 :\n"
          ]
        },
        {
          "output_type": "stream",
          "name": "stderr",
          "text": [
            "  train: 100%|██████████| 469/469 [00:16<00:00, 27.83it/s, train_acc=1, train_loss=0.00089]\n",
            "  test: 100%|██████████| 79/79 [00:02<00:00, 32.03it/s, test_acc=0.991, test_loss=tensor(0.0423, device='cuda:0')]\n"
          ]
        },
        {
          "output_type": "stream",
          "name": "stdout",
          "text": [
            "EPOCH 32/40 :\n"
          ]
        },
        {
          "output_type": "stream",
          "name": "stderr",
          "text": [
            "  train: 100%|██████████| 469/469 [00:16<00:00, 29.17it/s, train_acc=1, train_loss=0.000217]\n",
            "  test: 100%|██████████| 79/79 [00:02<00:00, 31.45it/s, test_acc=0.991, test_loss=tensor(0.0466, device='cuda:0')]\n"
          ]
        },
        {
          "output_type": "stream",
          "name": "stdout",
          "text": [
            "EPOCH 33/40 :\n"
          ]
        },
        {
          "output_type": "stream",
          "name": "stderr",
          "text": [
            "  train: 100%|██████████| 469/469 [00:16<00:00, 28.00it/s, train_acc=1, train_loss=0.00103]\n",
            "  test: 100%|██████████| 79/79 [00:02<00:00, 27.80it/s, test_acc=0.991, test_loss=tensor(0.0436, device='cuda:0')]\n"
          ]
        },
        {
          "output_type": "stream",
          "name": "stdout",
          "text": [
            "EPOCH 34/40 :\n"
          ]
        },
        {
          "output_type": "stream",
          "name": "stderr",
          "text": [
            "  train: 100%|██████████| 469/469 [00:16<00:00, 29.14it/s, train_acc=1, train_loss=8.3e-5]\n",
            "  test: 100%|██████████| 79/79 [00:02<00:00, 31.31it/s, test_acc=0.991, test_loss=tensor(0.0438, device='cuda:0')]\n"
          ]
        },
        {
          "output_type": "stream",
          "name": "stdout",
          "text": [
            "EPOCH 35/40 :\n"
          ]
        },
        {
          "output_type": "stream",
          "name": "stderr",
          "text": [
            "  train: 100%|██████████| 469/469 [00:16<00:00, 27.65it/s, train_acc=1, train_loss=5.09e-5]\n",
            "  test: 100%|██████████| 79/79 [00:02<00:00, 26.84it/s, test_acc=0.992, test_loss=tensor(0.0439, device='cuda:0')]\n"
          ]
        },
        {
          "output_type": "stream",
          "name": "stdout",
          "text": [
            "EPOCH 36/40 :\n"
          ]
        },
        {
          "output_type": "stream",
          "name": "stderr",
          "text": [
            "  train: 100%|██████████| 469/469 [00:16<00:00, 29.08it/s, train_acc=1, train_loss=4.1e-5]\n",
            "  test: 100%|██████████| 79/79 [00:02<00:00, 31.11it/s, test_acc=0.991, test_loss=tensor(0.0470, device='cuda:0')]\n"
          ]
        },
        {
          "output_type": "stream",
          "name": "stdout",
          "text": [
            "EPOCH 37/40 :\n"
          ]
        },
        {
          "output_type": "stream",
          "name": "stderr",
          "text": [
            "  train: 100%|██████████| 469/469 [00:16<00:00, 28.44it/s, train_acc=1, train_loss=3.48e-5]\n",
            "  test: 100%|██████████| 79/79 [00:03<00:00, 25.38it/s, test_acc=0.991, test_loss=tensor(0.0414, device='cuda:0')]\n"
          ]
        },
        {
          "output_type": "stream",
          "name": "stdout",
          "text": [
            "EPOCH 38/40 :\n"
          ]
        },
        {
          "output_type": "stream",
          "name": "stderr",
          "text": [
            "  train: 100%|██████████| 469/469 [00:16<00:00, 28.86it/s, train_acc=1, train_loss=3.12e-5]\n",
            "  test: 100%|██████████| 79/79 [00:02<00:00, 31.18it/s, test_acc=0.991, test_loss=tensor(0.0456, device='cuda:0')]\n"
          ]
        },
        {
          "output_type": "stream",
          "name": "stdout",
          "text": [
            "EPOCH 39/40 :\n"
          ]
        },
        {
          "output_type": "stream",
          "name": "stderr",
          "text": [
            "  train: 100%|██████████| 469/469 [00:16<00:00, 28.91it/s, train_acc=1, train_loss=2.87e-5]\n",
            "  test: 100%|██████████| 79/79 [00:03<00:00, 23.14it/s, test_acc=0.991, test_loss=tensor(0.0463, device='cuda:0')]\n"
          ]
        },
        {
          "output_type": "stream",
          "name": "stdout",
          "text": [
            "EPOCH 40/40 :\n"
          ]
        },
        {
          "output_type": "stream",
          "name": "stderr",
          "text": [
            "  train: 100%|██████████| 469/469 [00:16<00:00, 28.86it/s, train_acc=1, train_loss=2.57e-5]\n",
            "  test: 100%|██████████| 79/79 [00:02<00:00, 30.88it/s, test_acc=0.991, test_loss=tensor(0.0451, device='cuda:0')]\n"
          ]
        },
        {
          "output_type": "stream",
          "name": "stdout",
          "text": [
            "Total training time: 766.163 seconds\n"
          ]
        }
      ]
    },
    {
      "cell_type": "code",
      "source": [
        "torch.save(model1.state_dict(), \"trained_model1.pth\")"
      ],
      "metadata": {
        "id": "Fm_uYcDhMNUm"
      },
      "execution_count": 44,
      "outputs": []
    },
    {
      "cell_type": "code",
      "source": [
        "images, labels = next(iter(test_dataloader_MNIST))\n",
        "image, label = images[0], labels[0]"
      ],
      "metadata": {
        "id": "hPkxB3yWDT3-"
      },
      "execution_count": 40,
      "outputs": []
    },
    {
      "cell_type": "code",
      "source": [
        "    original_image = (image * 0.5) + 0.5\n",
        "\n",
        "    plt.imshow(original_image.permute(1, 2, 0), cmap=\"gray\")\n",
        "    plt.title(f\"Label: {label.item()}\")\n",
        "    plt.axis(\"off\")\n",
        "    plt.show()"
      ],
      "metadata": {
        "colab": {
          "base_uri": "https://localhost:8080/",
          "height": 428
        },
        "id": "09Dsj9xXI4bx",
        "outputId": "e88cbf3c-7944-459f-fb60-50a6e02b876d"
      },
      "execution_count": 41,
      "outputs": [
        {
          "output_type": "display_data",
          "data": {
            "text/plain": [
              "<Figure size 640x480 with 1 Axes>"
            ],
            "image/png": "[encoded data removed]"
          },
          "metadata": {}
        }
      ]
    },
    {
      "cell_type": "code",
      "source": [
        "image = image.to(device)\n",
        "\n",
        "model1.eval()\n",
        "\n",
        "with torch.no_grad():\n",
        "    output = model1(image.unsqueeze(dim=0))\n",
        "    predicted_class = torch.argmax(output, dim=1).item()\n",
        "\n",
        "print(\"True label:\", label.item())\n",
        "print(\"Predicted label:\", predicted_class)"
      ],
      "metadata": {
        "colab": {
          "base_uri": "https://localhost:8080/"
        },
        "id": "nTWx0avaKRH1",
        "outputId": "4cde3bf7-d9d5-473e-dd61-ad8927d86cec"
      },
      "execution_count": 43,
      "outputs": [
        {
          "output_type": "stream",
          "name": "stdout",
          "text": [
            "True label: 7\n",
            "Predicted label: 7\n"
          ]
        }
      ]
    },
    {
      "cell_type": "markdown",
      "source": [
        "## Model 4"
      ],
      "metadata": {
        "id": "40jrJ3ilKZK6"
      }
    },
    {
      "cell_type": "code",
      "source": [
        "result4_MNIST = fit(model=model4,\n",
        "                    train_loader=train_dataloader_MNIST,\n",
        "                    test_loader=test_dataloader_MNIST,\n",
        "                    loss_fn=loss_fn,\n",
        "                    optimizer=optimizer4,\n",
        "                    accuracy_fn=accuracy_fn,\n",
        "                    device=device,\n",
        "                    epochs=40)"
      ],
      "metadata": {
        "colab": {
          "base_uri": "https://localhost:8080/"
        },
        "id": "xYIJhpKDNjoN",
        "outputId": "f381ff07-3f10-434f-89d3-02572a6202f4"
      },
      "execution_count": 45,
      "outputs": [
        {
          "output_type": "stream",
          "name": "stdout",
          "text": [
            "EPOCH 1/40 :\n"
          ]
        },
        {
          "output_type": "stream",
          "name": "stderr",
          "text": [
            "  train: 100%|██████████| 469/469 [00:16<00:00, 28.17it/s, train_acc=0.911, train_loss=0.272]\n",
            "  test: 100%|██████████| 79/79 [00:03<00:00, 25.44it/s, test_acc=0.966, test_loss=tensor(0.1013, device='cuda:0')]\n"
          ]
        },
        {
          "output_type": "stream",
          "name": "stdout",
          "text": [
            "EPOCH 2/40 :\n"
          ]
        },
        {
          "output_type": "stream",
          "name": "stderr",
          "text": [
            "  train: 100%|██████████| 469/469 [00:15<00:00, 29.57it/s, train_acc=0.979, train_loss=0.0678]\n",
            "  test: 100%|██████████| 79/79 [00:02<00:00, 31.48it/s, test_acc=0.982, test_loss=tensor(0.0536, device='cuda:0')]\n"
          ]
        },
        {
          "output_type": "stream",
          "name": "stdout",
          "text": [
            "EPOCH 3/40 :\n"
          ]
        },
        {
          "output_type": "stream",
          "name": "stderr",
          "text": [
            "  train: 100%|██████████| 469/469 [00:16<00:00, 28.96it/s, train_acc=0.985, train_loss=0.0469]\n",
            "  test: 100%|██████████| 79/79 [00:03<00:00, 23.60it/s, test_acc=0.983, test_loss=tensor(0.0486, device='cuda:0')]\n"
          ]
        },
        {
          "output_type": "stream",
          "name": "stdout",
          "text": [
            "EPOCH 4/40 :\n"
          ]
        },
        {
          "output_type": "stream",
          "name": "stderr",
          "text": [
            "  train: 100%|██████████| 469/469 [00:15<00:00, 29.42it/s, train_acc=0.989, train_loss=0.0343]\n",
            "  test: 100%|██████████| 79/79 [00:02<00:00, 31.06it/s, test_acc=0.985, test_loss=tensor(0.0460, device='cuda:0')]\n"
          ]
        },
        {
          "output_type": "stream",
          "name": "stdout",
          "text": [
            "EPOCH 5/40 :\n"
          ]
        },
        {
          "output_type": "stream",
          "name": "stderr",
          "text": [
            "  train: 100%|██████████| 469/469 [00:16<00:00, 29.12it/s, train_acc=0.991, train_loss=0.0284]\n",
            "  test: 100%|██████████| 79/79 [00:03<00:00, 22.35it/s, test_acc=0.987, test_loss=tensor(0.0385, device='cuda:0')]\n"
          ]
        },
        {
          "output_type": "stream",
          "name": "stdout",
          "text": [
            "EPOCH 6/40 :\n"
          ]
        },
        {
          "output_type": "stream",
          "name": "stderr",
          "text": [
            "  train: 100%|██████████| 469/469 [00:16<00:00, 28.88it/s, train_acc=0.993, train_loss=0.0225]\n",
            "  test: 100%|██████████| 79/79 [00:02<00:00, 31.43it/s, test_acc=0.989, test_loss=tensor(0.0354, device='cuda:0')]\n"
          ]
        },
        {
          "output_type": "stream",
          "name": "stdout",
          "text": [
            "EPOCH 7/40 :\n"
          ]
        },
        {
          "output_type": "stream",
          "name": "stderr",
          "text": [
            "  train: 100%|██████████| 469/469 [00:15<00:00, 29.42it/s, train_acc=0.994, train_loss=0.0185]\n",
            "  test: 100%|██████████| 79/79 [00:03<00:00, 23.35it/s, test_acc=0.986, test_loss=tensor(0.0399, device='cuda:0')]\n"
          ]
        },
        {
          "output_type": "stream",
          "name": "stdout",
          "text": [
            "EPOCH 8/40 :\n"
          ]
        },
        {
          "output_type": "stream",
          "name": "stderr",
          "text": [
            "  train: 100%|██████████| 469/469 [00:16<00:00, 29.03it/s, train_acc=0.995, train_loss=0.0153]\n",
            "  test: 100%|██████████| 79/79 [00:02<00:00, 31.71it/s, test_acc=0.989, test_loss=tensor(0.0306, device='cuda:0')]\n"
          ]
        },
        {
          "output_type": "stream",
          "name": "stdout",
          "text": [
            "EPOCH 9/40 :\n"
          ]
        },
        {
          "output_type": "stream",
          "name": "stderr",
          "text": [
            "  train: 100%|██████████| 469/469 [00:16<00:00, 29.30it/s, train_acc=0.996, train_loss=0.0125]\n",
            "  test: 100%|██████████| 79/79 [00:03<00:00, 24.81it/s, test_acc=0.988, test_loss=tensor(0.0366, device='cuda:0')]\n"
          ]
        },
        {
          "output_type": "stream",
          "name": "stdout",
          "text": [
            "EPOCH 10/40 :\n"
          ]
        },
        {
          "output_type": "stream",
          "name": "stderr",
          "text": [
            "  train: 100%|██████████| 469/469 [00:16<00:00, 28.63it/s, train_acc=0.996, train_loss=0.0114]\n",
            "  test: 100%|██████████| 79/79 [00:02<00:00, 31.18it/s, test_acc=0.99, test_loss=tensor(0.0335, device='cuda:0')]\n"
          ]
        },
        {
          "output_type": "stream",
          "name": "stdout",
          "text": [
            "EPOCH 11/40 :\n"
          ]
        },
        {
          "output_type": "stream",
          "name": "stderr",
          "text": [
            "  train: 100%|██████████| 469/469 [00:15<00:00, 29.38it/s, train_acc=0.998, train_loss=0.00798]\n",
            "  test: 100%|██████████| 79/79 [00:02<00:00, 30.77it/s, test_acc=0.99, test_loss=tensor(0.0349, device='cuda:0')]\n"
          ]
        },
        {
          "output_type": "stream",
          "name": "stdout",
          "text": [
            "EPOCH 12/40 :\n"
          ]
        },
        {
          "output_type": "stream",
          "name": "stderr",
          "text": [
            "  train: 100%|██████████| 469/469 [00:16<00:00, 27.77it/s, train_acc=0.998, train_loss=0.00759]\n",
            "  test: 100%|██████████| 79/79 [00:02<00:00, 31.96it/s, test_acc=0.988, test_loss=tensor(0.0415, device='cuda:0')]\n"
          ]
        },
        {
          "output_type": "stream",
          "name": "stdout",
          "text": [
            "EPOCH 13/40 :\n"
          ]
        },
        {
          "output_type": "stream",
          "name": "stderr",
          "text": [
            "  train: 100%|██████████| 469/469 [00:16<00:00, 29.22it/s, train_acc=0.998, train_loss=0.00697]\n",
            "  test: 100%|██████████| 79/79 [00:02<00:00, 31.68it/s, test_acc=0.988, test_loss=tensor(0.0397, device='cuda:0')]\n"
          ]
        },
        {
          "output_type": "stream",
          "name": "stdout",
          "text": [
            "EPOCH 14/40 :\n"
          ]
        },
        {
          "output_type": "stream",
          "name": "stderr",
          "text": [
            "  train: 100%|██████████| 469/469 [00:16<00:00, 27.68it/s, train_acc=0.998, train_loss=0.00609]\n",
            "  test: 100%|██████████| 79/79 [00:02<00:00, 31.10it/s, test_acc=0.989, test_loss=tensor(0.0401, device='cuda:0')]\n"
          ]
        },
        {
          "output_type": "stream",
          "name": "stdout",
          "text": [
            "EPOCH 15/40 :\n"
          ]
        },
        {
          "output_type": "stream",
          "name": "stderr",
          "text": [
            "  train: 100%|██████████| 469/469 [00:15<00:00, 29.34it/s, train_acc=0.998, train_loss=0.00576]\n",
            "  test: 100%|██████████| 79/79 [00:02<00:00, 31.66it/s, test_acc=0.989, test_loss=tensor(0.0426, device='cuda:0')]\n"
          ]
        },
        {
          "output_type": "stream",
          "name": "stdout",
          "text": [
            "EPOCH 16/40 :\n"
          ]
        },
        {
          "output_type": "stream",
          "name": "stderr",
          "text": [
            "  train: 100%|██████████| 469/469 [00:17<00:00, 27.33it/s, train_acc=0.999, train_loss=0.00369]\n",
            "  test: 100%|██████████| 79/79 [00:02<00:00, 31.51it/s, test_acc=0.99, test_loss=tensor(0.0378, device='cuda:0')]\n"
          ]
        },
        {
          "output_type": "stream",
          "name": "stdout",
          "text": [
            "EPOCH 17/40 :\n"
          ]
        },
        {
          "output_type": "stream",
          "name": "stderr",
          "text": [
            "  train: 100%|██████████| 469/469 [00:16<00:00, 28.79it/s, train_acc=0.999, train_loss=0.00434]\n",
            "  test: 100%|██████████| 79/79 [00:02<00:00, 30.42it/s, test_acc=0.987, test_loss=tensor(0.0447, device='cuda:0')]\n"
          ]
        },
        {
          "output_type": "stream",
          "name": "stdout",
          "text": [
            "EPOCH 18/40 :\n"
          ]
        },
        {
          "output_type": "stream",
          "name": "stderr",
          "text": [
            "  train: 100%|██████████| 469/469 [00:16<00:00, 28.00it/s, train_acc=0.999, train_loss=0.00411]\n",
            "  test: 100%|██████████| 79/79 [00:02<00:00, 27.76it/s, test_acc=0.985, test_loss=tensor(0.0586, device='cuda:0')]\n"
          ]
        },
        {
          "output_type": "stream",
          "name": "stdout",
          "text": [
            "EPOCH 19/40 :\n"
          ]
        },
        {
          "output_type": "stream",
          "name": "stderr",
          "text": [
            "  train: 100%|██████████| 469/469 [00:16<00:00, 29.09it/s, train_acc=0.998, train_loss=0.0053]\n",
            "  test: 100%|██████████| 79/79 [00:02<00:00, 29.92it/s, test_acc=0.99, test_loss=tensor(0.0379, device='cuda:0')]\n"
          ]
        },
        {
          "output_type": "stream",
          "name": "stdout",
          "text": [
            "EPOCH 20/40 :\n"
          ]
        },
        {
          "output_type": "stream",
          "name": "stderr",
          "text": [
            "  train: 100%|██████████| 469/469 [00:16<00:00, 28.35it/s, train_acc=0.999, train_loss=0.00246]\n",
            "  test: 100%|██████████| 79/79 [00:03<00:00, 26.09it/s, test_acc=0.991, test_loss=tensor(0.0389, device='cuda:0')]\n"
          ]
        },
        {
          "output_type": "stream",
          "name": "stdout",
          "text": [
            "EPOCH 21/40 :\n"
          ]
        },
        {
          "output_type": "stream",
          "name": "stderr",
          "text": [
            "  train: 100%|██████████| 469/469 [00:15<00:00, 29.37it/s, train_acc=0.999, train_loss=0.00227]\n",
            "  test: 100%|██████████| 79/79 [00:02<00:00, 31.38it/s, test_acc=0.991, test_loss=tensor(0.0354, device='cuda:0')]\n"
          ]
        },
        {
          "output_type": "stream",
          "name": "stdout",
          "text": [
            "EPOCH 22/40 :\n"
          ]
        },
        {
          "output_type": "stream",
          "name": "stderr",
          "text": [
            "  train: 100%|██████████| 469/469 [00:16<00:00, 28.76it/s, train_acc=1, train_loss=0.00141]\n",
            "  test: 100%|██████████| 79/79 [00:03<00:00, 24.00it/s, test_acc=0.99, test_loss=tensor(0.0415, device='cuda:0')]\n"
          ]
        },
        {
          "output_type": "stream",
          "name": "stdout",
          "text": [
            "EPOCH 23/40 :\n"
          ]
        },
        {
          "output_type": "stream",
          "name": "stderr",
          "text": [
            "  train: 100%|██████████| 469/469 [00:15<00:00, 29.42it/s, train_acc=1, train_loss=0.00145]\n",
            "  test: 100%|██████████| 79/79 [00:02<00:00, 31.30it/s, test_acc=0.992, test_loss=tensor(0.0385, device='cuda:0')]\n"
          ]
        },
        {
          "output_type": "stream",
          "name": "stdout",
          "text": [
            "EPOCH 24/40 :\n"
          ]
        },
        {
          "output_type": "stream",
          "name": "stderr",
          "text": [
            "  train: 100%|██████████| 469/469 [00:16<00:00, 29.15it/s, train_acc=1, train_loss=0.000756]\n",
            "  test: 100%|██████████| 79/79 [00:03<00:00, 22.43it/s, test_acc=0.991, test_loss=tensor(0.0398, device='cuda:0')]\n"
          ]
        },
        {
          "output_type": "stream",
          "name": "stdout",
          "text": [
            "EPOCH 25/40 :\n"
          ]
        },
        {
          "output_type": "stream",
          "name": "stderr",
          "text": [
            "  train: 100%|██████████| 469/469 [00:16<00:00, 28.95it/s, train_acc=1, train_loss=0.00111]\n",
            "  test: 100%|██████████| 79/79 [00:02<00:00, 30.91it/s, test_acc=0.991, test_loss=tensor(0.0370, device='cuda:0')]\n"
          ]
        },
        {
          "output_type": "stream",
          "name": "stdout",
          "text": [
            "EPOCH 26/40 :\n"
          ]
        },
        {
          "output_type": "stream",
          "name": "stderr",
          "text": [
            "  train: 100%|██████████| 469/469 [00:16<00:00, 29.01it/s, train_acc=1, train_loss=0.000254]\n",
            "  test: 100%|██████████| 79/79 [00:03<00:00, 23.40it/s, test_acc=0.991, test_loss=tensor(0.0373, device='cuda:0')]\n"
          ]
        },
        {
          "output_type": "stream",
          "name": "stdout",
          "text": [
            "EPOCH 27/40 :\n"
          ]
        },
        {
          "output_type": "stream",
          "name": "stderr",
          "text": [
            "  train: 100%|██████████| 469/469 [00:16<00:00, 28.97it/s, train_acc=1, train_loss=0.000717]\n",
            "  test: 100%|██████████| 79/79 [00:02<00:00, 31.58it/s, test_acc=0.991, test_loss=tensor(0.0452, device='cuda:0')]\n"
          ]
        },
        {
          "output_type": "stream",
          "name": "stdout",
          "text": [
            "EPOCH 28/40 :\n"
          ]
        },
        {
          "output_type": "stream",
          "name": "stderr",
          "text": [
            "  train: 100%|██████████| 469/469 [00:16<00:00, 29.11it/s, train_acc=1, train_loss=0.000793]\n",
            "  test: 100%|██████████| 79/79 [00:02<00:00, 26.71it/s, test_acc=0.991, test_loss=tensor(0.0404, device='cuda:0')]\n"
          ]
        },
        {
          "output_type": "stream",
          "name": "stdout",
          "text": [
            "EPOCH 29/40 :\n"
          ]
        },
        {
          "output_type": "stream",
          "name": "stderr",
          "text": [
            "  train: 100%|██████████| 469/469 [00:16<00:00, 28.29it/s, train_acc=1, train_loss=0.000449]\n",
            "  test: 100%|██████████| 79/79 [00:02<00:00, 31.08it/s, test_acc=0.99, test_loss=tensor(0.0415, device='cuda:0')]\n"
          ]
        },
        {
          "output_type": "stream",
          "name": "stdout",
          "text": [
            "EPOCH 30/40 :\n"
          ]
        },
        {
          "output_type": "stream",
          "name": "stderr",
          "text": [
            "  train: 100%|██████████| 469/469 [00:16<00:00, 29.16it/s, train_acc=1, train_loss=0.000422]\n",
            "  test: 100%|██████████| 79/79 [00:02<00:00, 29.86it/s, test_acc=0.992, test_loss=tensor(0.0355, device='cuda:0')]\n"
          ]
        },
        {
          "output_type": "stream",
          "name": "stdout",
          "text": [
            "EPOCH 31/40 :\n"
          ]
        },
        {
          "output_type": "stream",
          "name": "stderr",
          "text": [
            "  train: 100%|██████████| 469/469 [00:16<00:00, 27.65it/s, train_acc=1, train_loss=0.000384]\n",
            "  test: 100%|██████████| 79/79 [00:02<00:00, 31.26it/s, test_acc=0.991, test_loss=tensor(0.0387, device='cuda:0')]\n"
          ]
        },
        {
          "output_type": "stream",
          "name": "stdout",
          "text": [
            "EPOCH 32/40 :\n"
          ]
        },
        {
          "output_type": "stream",
          "name": "stderr",
          "text": [
            "  train: 100%|██████████| 469/469 [00:16<00:00, 29.13it/s, train_acc=1, train_loss=9.45e-5]\n",
            "  test: 100%|██████████| 79/79 [00:02<00:00, 31.40it/s, test_acc=0.992, test_loss=tensor(0.0361, device='cuda:0')]\n"
          ]
        },
        {
          "output_type": "stream",
          "name": "stdout",
          "text": [
            "EPOCH 33/40 :\n"
          ]
        },
        {
          "output_type": "stream",
          "name": "stderr",
          "text": [
            "  train: 100%|██████████| 469/469 [00:17<00:00, 27.47it/s, train_acc=1, train_loss=7.17e-5]\n",
            "  test: 100%|██████████| 79/79 [00:02<00:00, 31.40it/s, test_acc=0.991, test_loss=tensor(0.0378, device='cuda:0')]\n"
          ]
        },
        {
          "output_type": "stream",
          "name": "stdout",
          "text": [
            "EPOCH 34/40 :\n"
          ]
        },
        {
          "output_type": "stream",
          "name": "stderr",
          "text": [
            "  train: 100%|██████████| 469/469 [00:16<00:00, 28.95it/s, train_acc=1, train_loss=0.000255]\n",
            "  test: 100%|██████████| 79/79 [00:02<00:00, 30.92it/s, test_acc=0.991, test_loss=tensor(0.0396, device='cuda:0')]\n"
          ]
        },
        {
          "output_type": "stream",
          "name": "stdout",
          "text": [
            "EPOCH 35/40 :\n"
          ]
        },
        {
          "output_type": "stream",
          "name": "stderr",
          "text": [
            "  train: 100%|██████████| 469/469 [00:17<00:00, 27.23it/s, train_acc=1, train_loss=0.000279]\n",
            "  test: 100%|██████████| 79/79 [00:02<00:00, 31.56it/s, test_acc=0.991, test_loss=tensor(0.0434, device='cuda:0')]\n"
          ]
        },
        {
          "output_type": "stream",
          "name": "stdout",
          "text": [
            "EPOCH 36/40 :\n"
          ]
        },
        {
          "output_type": "stream",
          "name": "stderr",
          "text": [
            "  train: 100%|██████████| 469/469 [00:16<00:00, 29.24it/s, train_acc=1, train_loss=5.94e-5]\n",
            "  test: 100%|██████████| 79/79 [00:02<00:00, 30.49it/s, test_acc=0.991, test_loss=tensor(0.0387, device='cuda:0')]\n"
          ]
        },
        {
          "output_type": "stream",
          "name": "stdout",
          "text": [
            "EPOCH 37/40 :\n"
          ]
        },
        {
          "output_type": "stream",
          "name": "stderr",
          "text": [
            "  train: 100%|██████████| 469/469 [00:16<00:00, 27.63it/s, train_acc=1, train_loss=3.92e-5]\n",
            "  test: 100%|██████████| 79/79 [00:02<00:00, 29.89it/s, test_acc=0.992, test_loss=tensor(0.0403, device='cuda:0')]\n"
          ]
        },
        {
          "output_type": "stream",
          "name": "stdout",
          "text": [
            "EPOCH 38/40 :\n"
          ]
        },
        {
          "output_type": "stream",
          "name": "stderr",
          "text": [
            "  train: 100%|██████████| 469/469 [00:16<00:00, 28.98it/s, train_acc=1, train_loss=4.2e-5]\n",
            "  test: 100%|██████████| 79/79 [00:02<00:00, 31.57it/s, test_acc=0.992, test_loss=tensor(0.0381, device='cuda:0')]\n"
          ]
        },
        {
          "output_type": "stream",
          "name": "stdout",
          "text": [
            "EPOCH 39/40 :\n"
          ]
        },
        {
          "output_type": "stream",
          "name": "stderr",
          "text": [
            "  train: 100%|██████████| 469/469 [00:16<00:00, 27.76it/s, train_acc=1, train_loss=2.99e-5]\n",
            "  test: 100%|██████████| 79/79 [00:02<00:00, 28.26it/s, test_acc=0.992, test_loss=tensor(0.0376, device='cuda:0')]\n"
          ]
        },
        {
          "output_type": "stream",
          "name": "stdout",
          "text": [
            "EPOCH 40/40 :\n"
          ]
        },
        {
          "output_type": "stream",
          "name": "stderr",
          "text": [
            "  train: 100%|██████████| 469/469 [00:16<00:00, 28.85it/s, train_acc=1, train_loss=2.68e-5]\n",
            "  test: 100%|██████████| 79/79 [00:02<00:00, 31.13it/s, test_acc=0.992, test_loss=tensor(0.0417, device='cuda:0')]"
          ]
        },
        {
          "output_type": "stream",
          "name": "stdout",
          "text": [
            "Total training time: 763.736 seconds\n"
          ]
        },
        {
          "output_type": "stream",
          "name": "stderr",
          "text": [
            "\n"
          ]
        }
      ]
    },
    {
      "cell_type": "code",
      "source": [
        "torch.save(model4.state_dict(), \"trained_model4.pth\")"
      ],
      "metadata": {
        "id": "q5p533JIN2E5"
      },
      "execution_count": 46,
      "outputs": []
    },
    {
      "cell_type": "code",
      "source": [
        "result7_MNIST = fit(model=model7,\n",
        "                    train_loader=train_dataloader_MNIST,\n",
        "                    test_loader=test_dataloader_MNIST,\n",
        "                    loss_fn=loss_fn,\n",
        "                    optimizer=optimizer7,\n",
        "                    accuracy_fn=accuracy_fn,\n",
        "                    device=device,\n",
        "                    epochs=40)"
      ],
      "metadata": {
        "colab": {
          "base_uri": "https://localhost:8080/"
        },
        "id": "yVeCl6gDQ2cs",
        "outputId": "4afdd6ba-3da1-4933-934e-58738b826898"
      },
      "execution_count": 47,
      "outputs": [
        {
          "output_type": "stream",
          "name": "stdout",
          "text": [
            "EPOCH 1/40 :\n"
          ]
        },
        {
          "output_type": "stream",
          "name": "stderr",
          "text": [
            "  train: 100%|██████████| 469/469 [00:16<00:00, 28.48it/s, train_acc=0.866, train_loss=0.416]\n",
            "  test: 100%|██████████| 79/79 [00:03<00:00, 24.34it/s, test_acc=0.965, test_loss=tensor(0.1098, device='cuda:0')]\n"
          ]
        },
        {
          "output_type": "stream",
          "name": "stdout",
          "text": [
            "EPOCH 2/40 :\n"
          ]
        },
        {
          "output_type": "stream",
          "name": "stderr",
          "text": [
            "  train: 100%|██████████| 469/469 [00:16<00:00, 28.58it/s, train_acc=0.975, train_loss=0.0834]\n",
            "  test: 100%|██████████| 79/79 [00:02<00:00, 30.58it/s, test_acc=0.98, test_loss=tensor(0.0626, device='cuda:0')]\n"
          ]
        },
        {
          "output_type": "stream",
          "name": "stdout",
          "text": [
            "EPOCH 3/40 :\n"
          ]
        },
        {
          "output_type": "stream",
          "name": "stderr",
          "text": [
            "  train: 100%|██████████| 469/469 [00:16<00:00, 28.40it/s, train_acc=0.982, train_loss=0.0563]\n",
            "  test: 100%|██████████| 79/79 [00:03<00:00, 22.56it/s, test_acc=0.984, test_loss=tensor(0.0474, device='cuda:0')]\n"
          ]
        },
        {
          "output_type": "stream",
          "name": "stdout",
          "text": [
            "EPOCH 4/40 :\n"
          ]
        },
        {
          "output_type": "stream",
          "name": "stderr",
          "text": [
            "  train: 100%|██████████| 469/469 [00:16<00:00, 28.23it/s, train_acc=0.986, train_loss=0.0455]\n",
            "  test: 100%|██████████| 79/79 [00:02<00:00, 30.76it/s, test_acc=0.981, test_loss=tensor(0.0555, device='cuda:0')]\n"
          ]
        },
        {
          "output_type": "stream",
          "name": "stdout",
          "text": [
            "EPOCH 5/40 :\n"
          ]
        },
        {
          "output_type": "stream",
          "name": "stderr",
          "text": [
            "  train: 100%|██████████| 469/469 [00:16<00:00, 28.83it/s, train_acc=0.988, train_loss=0.0374]\n",
            "  test: 100%|██████████| 79/79 [00:03<00:00, 22.22it/s, test_acc=0.983, test_loss=tensor(0.0499, device='cuda:0')]\n"
          ]
        },
        {
          "output_type": "stream",
          "name": "stdout",
          "text": [
            "EPOCH 6/40 :\n"
          ]
        },
        {
          "output_type": "stream",
          "name": "stderr",
          "text": [
            "  train: 100%|██████████| 469/469 [00:17<00:00, 27.12it/s, train_acc=0.991, train_loss=0.0305]\n",
            "  test: 100%|██████████| 79/79 [00:02<00:00, 31.60it/s, test_acc=0.986, test_loss=tensor(0.0405, device='cuda:0')]\n"
          ]
        },
        {
          "output_type": "stream",
          "name": "stdout",
          "text": [
            "EPOCH 7/40 :\n"
          ]
        },
        {
          "output_type": "stream",
          "name": "stderr",
          "text": [
            "  train: 100%|██████████| 469/469 [00:16<00:00, 29.24it/s, train_acc=0.992, train_loss=0.026]\n",
            "  test: 100%|██████████| 79/79 [00:03<00:00, 21.94it/s, test_acc=0.986, test_loss=tensor(0.0385, device='cuda:0')]\n"
          ]
        },
        {
          "output_type": "stream",
          "name": "stdout",
          "text": [
            "EPOCH 8/40 :\n"
          ]
        },
        {
          "output_type": "stream",
          "name": "stderr",
          "text": [
            "  train: 100%|██████████| 469/469 [00:16<00:00, 29.28it/s, train_acc=0.993, train_loss=0.0229]\n",
            "  test: 100%|██████████| 79/79 [00:02<00:00, 31.60it/s, test_acc=0.987, test_loss=tensor(0.0371, device='cuda:0')]\n"
          ]
        },
        {
          "output_type": "stream",
          "name": "stdout",
          "text": [
            "EPOCH 9/40 :\n"
          ]
        },
        {
          "output_type": "stream",
          "name": "stderr",
          "text": [
            "  train: 100%|██████████| 469/469 [00:16<00:00, 29.02it/s, train_acc=0.994, train_loss=0.0193]\n",
            "  test: 100%|██████████| 79/79 [00:03<00:00, 22.62it/s, test_acc=0.989, test_loss=tensor(0.0336, device='cuda:0')]\n"
          ]
        },
        {
          "output_type": "stream",
          "name": "stdout",
          "text": [
            "EPOCH 10/40 :\n"
          ]
        },
        {
          "output_type": "stream",
          "name": "stderr",
          "text": [
            "  train: 100%|██████████| 469/469 [00:15<00:00, 29.61it/s, train_acc=0.995, train_loss=0.0171]\n",
            "  test: 100%|██████████| 79/79 [00:02<00:00, 31.73it/s, test_acc=0.986, test_loss=tensor(0.0422, device='cuda:0')]\n"
          ]
        },
        {
          "output_type": "stream",
          "name": "stdout",
          "text": [
            "EPOCH 11/40 :\n"
          ]
        },
        {
          "output_type": "stream",
          "name": "stderr",
          "text": [
            "  train: 100%|██████████| 469/469 [00:15<00:00, 29.60it/s, train_acc=0.995, train_loss=0.0156]\n",
            "  test: 100%|██████████| 79/79 [00:03<00:00, 26.17it/s, test_acc=0.986, test_loss=tensor(0.0431, device='cuda:0')]\n"
          ]
        },
        {
          "output_type": "stream",
          "name": "stdout",
          "text": [
            "EPOCH 12/40 :\n"
          ]
        },
        {
          "output_type": "stream",
          "name": "stderr",
          "text": [
            "  train: 100%|██████████| 469/469 [00:16<00:00, 28.71it/s, train_acc=0.996, train_loss=0.013]\n",
            "  test: 100%|██████████| 79/79 [00:02<00:00, 31.80it/s, test_acc=0.988, test_loss=tensor(0.0364, device='cuda:0')]\n"
          ]
        },
        {
          "output_type": "stream",
          "name": "stdout",
          "text": [
            "EPOCH 13/40 :\n"
          ]
        },
        {
          "output_type": "stream",
          "name": "stderr",
          "text": [
            "  train: 100%|██████████| 469/469 [00:15<00:00, 30.02it/s, train_acc=0.997, train_loss=0.0103]\n",
            "  test: 100%|██████████| 79/79 [00:02<00:00, 32.34it/s, test_acc=0.987, test_loss=tensor(0.0396, device='cuda:0')]\n"
          ]
        },
        {
          "output_type": "stream",
          "name": "stdout",
          "text": [
            "EPOCH 14/40 :\n"
          ]
        },
        {
          "output_type": "stream",
          "name": "stderr",
          "text": [
            "  train: 100%|██████████| 469/469 [00:16<00:00, 28.07it/s, train_acc=0.997, train_loss=0.00972]\n",
            "  test: 100%|██████████| 79/79 [00:02<00:00, 32.17it/s, test_acc=0.987, test_loss=tensor(0.0453, device='cuda:0')]\n"
          ]
        },
        {
          "output_type": "stream",
          "name": "stdout",
          "text": [
            "EPOCH 15/40 :\n"
          ]
        },
        {
          "output_type": "stream",
          "name": "stderr",
          "text": [
            "  train: 100%|██████████| 469/469 [00:15<00:00, 29.79it/s, train_acc=0.997, train_loss=0.00878]\n",
            "  test: 100%|██████████| 79/79 [00:02<00:00, 31.33it/s, test_acc=0.987, test_loss=tensor(0.0422, device='cuda:0')]\n"
          ]
        },
        {
          "output_type": "stream",
          "name": "stdout",
          "text": [
            "EPOCH 16/40 :\n"
          ]
        },
        {
          "output_type": "stream",
          "name": "stderr",
          "text": [
            "  train: 100%|██████████| 469/469 [00:16<00:00, 28.31it/s, train_acc=0.998, train_loss=0.00784]\n",
            "  test: 100%|██████████| 79/79 [00:02<00:00, 29.42it/s, test_acc=0.987, test_loss=tensor(0.0431, device='cuda:0')]\n"
          ]
        },
        {
          "output_type": "stream",
          "name": "stdout",
          "text": [
            "EPOCH 17/40 :\n"
          ]
        },
        {
          "output_type": "stream",
          "name": "stderr",
          "text": [
            "  train: 100%|██████████| 469/469 [00:15<00:00, 29.70it/s, train_acc=0.998, train_loss=0.00613]\n",
            "  test: 100%|██████████| 79/79 [00:02<00:00, 31.83it/s, test_acc=0.989, test_loss=tensor(0.0392, device='cuda:0')]\n"
          ]
        },
        {
          "output_type": "stream",
          "name": "stdout",
          "text": [
            "EPOCH 18/40 :\n"
          ]
        },
        {
          "output_type": "stream",
          "name": "stderr",
          "text": [
            "  train: 100%|██████████| 469/469 [00:16<00:00, 29.29it/s, train_acc=0.998, train_loss=0.00621]\n",
            "  test: 100%|██████████| 79/79 [00:03<00:00, 24.41it/s, test_acc=0.989, test_loss=tensor(0.0342, device='cuda:0')]\n"
          ]
        },
        {
          "output_type": "stream",
          "name": "stdout",
          "text": [
            "EPOCH 19/40 :\n"
          ]
        },
        {
          "output_type": "stream",
          "name": "stderr",
          "text": [
            "  train: 100%|██████████| 469/469 [00:15<00:00, 29.35it/s, train_acc=0.998, train_loss=0.00591]\n",
            "  test: 100%|██████████| 79/79 [00:02<00:00, 32.31it/s, test_acc=0.987, test_loss=tensor(0.0464, device='cuda:0')]\n"
          ]
        },
        {
          "output_type": "stream",
          "name": "stdout",
          "text": [
            "EPOCH 20/40 :\n"
          ]
        },
        {
          "output_type": "stream",
          "name": "stderr",
          "text": [
            "  train: 100%|██████████| 469/469 [00:15<00:00, 29.66it/s, train_acc=0.999, train_loss=0.00439]\n",
            "  test: 100%|██████████| 79/79 [00:03<00:00, 22.06it/s, test_acc=0.99, test_loss=tensor(0.0368, device='cuda:0')]\n"
          ]
        },
        {
          "output_type": "stream",
          "name": "stdout",
          "text": [
            "EPOCH 21/40 :\n"
          ]
        },
        {
          "output_type": "stream",
          "name": "stderr",
          "text": [
            "  train: 100%|██████████| 469/469 [00:15<00:00, 29.35it/s, train_acc=0.999, train_loss=0.00365]\n",
            "  test: 100%|██████████| 79/79 [00:02<00:00, 31.65it/s, test_acc=0.989, test_loss=tensor(0.0388, device='cuda:0')]\n"
          ]
        },
        {
          "output_type": "stream",
          "name": "stdout",
          "text": [
            "EPOCH 22/40 :\n"
          ]
        },
        {
          "output_type": "stream",
          "name": "stderr",
          "text": [
            "  train: 100%|██████████| 469/469 [00:16<00:00, 29.21it/s, train_acc=0.999, train_loss=0.00355]\n",
            "  test: 100%|██████████| 79/79 [00:03<00:00, 25.87it/s, test_acc=0.991, test_loss=tensor(0.0371, device='cuda:0')]\n"
          ]
        },
        {
          "output_type": "stream",
          "name": "stdout",
          "text": [
            "EPOCH 23/40 :\n"
          ]
        },
        {
          "output_type": "stream",
          "name": "stderr",
          "text": [
            "  train: 100%|██████████| 469/469 [00:16<00:00, 28.83it/s, train_acc=0.999, train_loss=0.00287]\n",
            "  test: 100%|██████████| 79/79 [00:02<00:00, 31.75it/s, test_acc=0.99, test_loss=tensor(0.0383, device='cuda:0')]\n"
          ]
        },
        {
          "output_type": "stream",
          "name": "stdout",
          "text": [
            "EPOCH 24/40 :\n"
          ]
        },
        {
          "output_type": "stream",
          "name": "stderr",
          "text": [
            "  train: 100%|██████████| 469/469 [00:16<00:00, 29.25it/s, train_acc=0.999, train_loss=0.00234]\n",
            "  test: 100%|██████████| 79/79 [00:02<00:00, 29.68it/s, test_acc=0.99, test_loss=tensor(0.0374, device='cuda:0')]\n"
          ]
        },
        {
          "output_type": "stream",
          "name": "stdout",
          "text": [
            "EPOCH 25/40 :\n"
          ]
        },
        {
          "output_type": "stream",
          "name": "stderr",
          "text": [
            "  train: 100%|██████████| 469/469 [00:16<00:00, 27.79it/s, train_acc=1, train_loss=0.00141]\n",
            "  test: 100%|██████████| 79/79 [00:02<00:00, 31.39it/s, test_acc=0.99, test_loss=tensor(0.0388, device='cuda:0')]\n"
          ]
        },
        {
          "output_type": "stream",
          "name": "stdout",
          "text": [
            "EPOCH 26/40 :\n"
          ]
        },
        {
          "output_type": "stream",
          "name": "stderr",
          "text": [
            "  train: 100%|██████████| 469/469 [00:15<00:00, 29.47it/s, train_acc=1, train_loss=0.00137]\n",
            "  test: 100%|██████████| 79/79 [00:02<00:00, 31.62it/s, test_acc=0.99, test_loss=tensor(0.0365, device='cuda:0')]\n"
          ]
        },
        {
          "output_type": "stream",
          "name": "stdout",
          "text": [
            "EPOCH 27/40 :\n"
          ]
        },
        {
          "output_type": "stream",
          "name": "stderr",
          "text": [
            "  train: 100%|██████████| 469/469 [00:17<00:00, 27.57it/s, train_acc=1, train_loss=0.000948]\n",
            "  test: 100%|██████████| 79/79 [00:02<00:00, 32.41it/s, test_acc=0.99, test_loss=tensor(0.0363, device='cuda:0')]\n"
          ]
        },
        {
          "output_type": "stream",
          "name": "stdout",
          "text": [
            "EPOCH 28/40 :\n"
          ]
        },
        {
          "output_type": "stream",
          "name": "stderr",
          "text": [
            "  train: 100%|██████████| 469/469 [00:15<00:00, 29.46it/s, train_acc=1, train_loss=0.000858]\n",
            "  test: 100%|██████████| 79/79 [00:02<00:00, 30.40it/s, test_acc=0.99, test_loss=tensor(0.0366, device='cuda:0')]\n"
          ]
        },
        {
          "output_type": "stream",
          "name": "stdout",
          "text": [
            "EPOCH 29/40 :\n"
          ]
        },
        {
          "output_type": "stream",
          "name": "stderr",
          "text": [
            "  train: 100%|██████████| 469/469 [00:16<00:00, 28.15it/s, train_acc=1, train_loss=0.000754]\n",
            "  test: 100%|██████████| 79/79 [00:02<00:00, 28.72it/s, test_acc=0.99, test_loss=tensor(0.0401, device='cuda:0')]\n"
          ]
        },
        {
          "output_type": "stream",
          "name": "stdout",
          "text": [
            "EPOCH 30/40 :\n"
          ]
        },
        {
          "output_type": "stream",
          "name": "stderr",
          "text": [
            "  train: 100%|██████████| 469/469 [00:15<00:00, 29.48it/s, train_acc=1, train_loss=0.000579]\n",
            "  test: 100%|██████████| 79/79 [00:02<00:00, 31.44it/s, test_acc=0.991, test_loss=tensor(0.0374, device='cuda:0')]\n"
          ]
        },
        {
          "output_type": "stream",
          "name": "stdout",
          "text": [
            "EPOCH 31/40 :\n"
          ]
        },
        {
          "output_type": "stream",
          "name": "stderr",
          "text": [
            "  train: 100%|██████████| 469/469 [00:16<00:00, 28.66it/s, train_acc=1, train_loss=0.000376]\n",
            "  test: 100%|██████████| 79/79 [00:03<00:00, 24.68it/s, test_acc=0.99, test_loss=tensor(0.0365, device='cuda:0')]\n"
          ]
        },
        {
          "output_type": "stream",
          "name": "stdout",
          "text": [
            "EPOCH 32/40 :\n"
          ]
        },
        {
          "output_type": "stream",
          "name": "stderr",
          "text": [
            "  train: 100%|██████████| 469/469 [00:16<00:00, 28.88it/s, train_acc=1, train_loss=0.000394]\n",
            "  test: 100%|██████████| 79/79 [00:02<00:00, 31.04it/s, test_acc=0.99, test_loss=tensor(0.0377, device='cuda:0')]\n"
          ]
        },
        {
          "output_type": "stream",
          "name": "stdout",
          "text": [
            "EPOCH 33/40 :\n"
          ]
        },
        {
          "output_type": "stream",
          "name": "stderr",
          "text": [
            "  train: 100%|██████████| 469/469 [00:16<00:00, 28.80it/s, train_acc=1, train_loss=0.000333]\n",
            "  test: 100%|██████████| 79/79 [00:03<00:00, 23.76it/s, test_acc=0.99, test_loss=tensor(0.0380, device='cuda:0')]\n"
          ]
        },
        {
          "output_type": "stream",
          "name": "stdout",
          "text": [
            "EPOCH 34/40 :\n"
          ]
        },
        {
          "output_type": "stream",
          "name": "stderr",
          "text": [
            "  train: 100%|██████████| 469/469 [00:16<00:00, 29.14it/s, train_acc=1, train_loss=0.000276]\n",
            "  test: 100%|██████████| 79/79 [00:02<00:00, 30.90it/s, test_acc=0.99, test_loss=tensor(0.0363, device='cuda:0')]\n"
          ]
        },
        {
          "output_type": "stream",
          "name": "stdout",
          "text": [
            "EPOCH 35/40 :\n"
          ]
        },
        {
          "output_type": "stream",
          "name": "stderr",
          "text": [
            "  train: 100%|██████████| 469/469 [00:16<00:00, 29.16it/s, train_acc=1, train_loss=0.000252]\n",
            "  test: 100%|██████████| 79/79 [00:03<00:00, 22.28it/s, test_acc=0.991, test_loss=tensor(0.0365, device='cuda:0')]\n"
          ]
        },
        {
          "output_type": "stream",
          "name": "stdout",
          "text": [
            "EPOCH 36/40 :\n"
          ]
        },
        {
          "output_type": "stream",
          "name": "stderr",
          "text": [
            "  train: 100%|██████████| 469/469 [00:18<00:00, 24.96it/s, train_acc=1, train_loss=0.000333]\n",
            "  test: 100%|██████████| 79/79 [00:02<00:00, 26.37it/s, test_acc=0.99, test_loss=tensor(0.0385, device='cuda:0')]\n"
          ]
        },
        {
          "output_type": "stream",
          "name": "stdout",
          "text": [
            "EPOCH 37/40 :\n"
          ]
        },
        {
          "output_type": "stream",
          "name": "stderr",
          "text": [
            "  train: 100%|██████████| 469/469 [00:18<00:00, 25.56it/s, train_acc=1, train_loss=0.000675]\n",
            "  test: 100%|██████████| 79/79 [00:02<00:00, 29.96it/s, test_acc=0.99, test_loss=tensor(0.0371, device='cuda:0')]\n"
          ]
        },
        {
          "output_type": "stream",
          "name": "stdout",
          "text": [
            "EPOCH 38/40 :\n"
          ]
        },
        {
          "output_type": "stream",
          "name": "stderr",
          "text": [
            "  train: 100%|██████████| 469/469 [00:16<00:00, 28.32it/s, train_acc=1, train_loss=0.000206]\n",
            "  test: 100%|██████████| 79/79 [00:03<00:00, 25.50it/s, test_acc=0.991, test_loss=tensor(0.0371, device='cuda:0')]\n"
          ]
        },
        {
          "output_type": "stream",
          "name": "stdout",
          "text": [
            "EPOCH 39/40 :\n"
          ]
        },
        {
          "output_type": "stream",
          "name": "stderr",
          "text": [
            "  train: 100%|██████████| 469/469 [00:20<00:00, 23.27it/s, train_acc=1, train_loss=0.000114]\n",
            "  test: 100%|██████████| 79/79 [00:02<00:00, 28.63it/s, test_acc=0.991, test_loss=tensor(0.0391, device='cuda:0')]\n"
          ]
        },
        {
          "output_type": "stream",
          "name": "stdout",
          "text": [
            "EPOCH 40/40 :\n"
          ]
        },
        {
          "output_type": "stream",
          "name": "stderr",
          "text": [
            "  train: 100%|██████████| 469/469 [00:19<00:00, 23.83it/s, train_acc=1, train_loss=0.000103]\n",
            "  test: 100%|██████████| 79/79 [00:02<00:00, 30.44it/s, test_acc=0.99, test_loss=tensor(0.0373, device='cuda:0')]"
          ]
        },
        {
          "output_type": "stream",
          "name": "stdout",
          "text": [
            "Total training time: 774.444 seconds\n"
          ]
        },
        {
          "output_type": "stream",
          "name": "stderr",
          "text": [
            "\n"
          ]
        }
      ]
    },
    {
      "cell_type": "code",
      "source": [
        "torch.save(model7.state_dict(), \"trained_model7.pth\")"
      ],
      "metadata": {
        "id": "B_KnHhAtUW0s"
      },
      "execution_count": 61,
      "outputs": []
    },
    {
      "cell_type": "markdown",
      "source": [
        "# Fit for FasshinMNIST dataset"
      ],
      "metadata": {
        "id": "Qg3RRTpaRGvg"
      }
    },
    {
      "cell_type": "markdown",
      "source": [
        "## Model 1"
      ],
      "metadata": {
        "id": "bdtPPju_Tt-q"
      }
    },
    {
      "cell_type": "code",
      "source": [
        "result2_FashionMNIST = fit(model=model2,\n",
        "                           train_loader=train_dataloader_FashionMNIST,\n",
        "                           test_loader=test_dataloader_FashionMNIST,\n",
        "                           loss_fn=loss_fn,\n",
        "                           optimizer=optimizer2,\n",
        "                           accuracy_fn=accuracy_fn,\n",
        "                           device=device,\n",
        "                           epochs=30)"
      ],
      "metadata": {
        "colab": {
          "base_uri": "https://localhost:8080/"
        },
        "id": "YaACtKkLT4Zh",
        "outputId": "b42f93d8-add0-484f-f84a-9c72a3fa65ae"
      },
      "execution_count": 60,
      "outputs": [
        {
          "output_type": "stream",
          "name": "stdout",
          "text": [
            "EPOCH 1/30 :\n"
          ]
        },
        {
          "output_type": "stream",
          "name": "stderr",
          "text": [
            "  train: 100%|██████████| 469/469 [00:16<00:00, 28.28it/s, train_acc=0.848, train_loss=0.423]\n",
            "  test: 100%|██████████| 79/79 [00:03<00:00, 21.27it/s, test_acc=0.873, test_loss=tensor(0.3365, device='cuda:0')]\n"
          ]
        },
        {
          "output_type": "stream",
          "name": "stdout",
          "text": [
            "EPOCH 2/30 :\n"
          ]
        },
        {
          "output_type": "stream",
          "name": "stderr",
          "text": [
            "  train: 100%|██████████| 469/469 [00:19<00:00, 24.58it/s, train_acc=0.9, train_loss=0.27]\n",
            "  test: 100%|██████████| 79/79 [00:02<00:00, 30.77it/s, test_acc=0.899, test_loss=tensor(0.2984, device='cuda:0')]\n"
          ]
        },
        {
          "output_type": "stream",
          "name": "stdout",
          "text": [
            "EPOCH 3/30 :\n"
          ]
        },
        {
          "output_type": "stream",
          "name": "stderr",
          "text": [
            "  train: 100%|██████████| 469/469 [00:16<00:00, 28.52it/s, train_acc=0.916, train_loss=0.228]\n",
            "  test: 100%|██████████| 79/79 [00:02<00:00, 30.23it/s, test_acc=0.912, test_loss=tensor(0.2466, device='cuda:0')]\n"
          ]
        },
        {
          "output_type": "stream",
          "name": "stdout",
          "text": [
            "EPOCH 4/30 :\n"
          ]
        },
        {
          "output_type": "stream",
          "name": "stderr",
          "text": [
            "  train: 100%|██████████| 469/469 [00:17<00:00, 26.85it/s, train_acc=0.926, train_loss=0.199]\n",
            "  test: 100%|██████████| 79/79 [00:02<00:00, 29.79it/s, test_acc=0.909, test_loss=tensor(0.2512, device='cuda:0')]\n"
          ]
        },
        {
          "output_type": "stream",
          "name": "stdout",
          "text": [
            "EPOCH 5/30 :\n"
          ]
        },
        {
          "output_type": "stream",
          "name": "stderr",
          "text": [
            "  train: 100%|██████████| 469/469 [00:16<00:00, 28.36it/s, train_acc=0.934, train_loss=0.174]\n",
            "  test: 100%|██████████| 79/79 [00:02<00:00, 29.86it/s, test_acc=0.913, test_loss=tensor(0.2575, device='cuda:0')]\n"
          ]
        },
        {
          "output_type": "stream",
          "name": "stdout",
          "text": [
            "EPOCH 6/30 :\n"
          ]
        },
        {
          "output_type": "stream",
          "name": "stderr",
          "text": [
            "  train: 100%|██████████| 469/469 [00:17<00:00, 26.74it/s, train_acc=0.943, train_loss=0.153]\n",
            "  test: 100%|██████████| 79/79 [00:02<00:00, 29.97it/s, test_acc=0.914, test_loss=tensor(0.2445, device='cuda:0')]\n"
          ]
        },
        {
          "output_type": "stream",
          "name": "stdout",
          "text": [
            "EPOCH 7/30 :\n"
          ]
        },
        {
          "output_type": "stream",
          "name": "stderr",
          "text": [
            "  train: 100%|██████████| 469/469 [00:16<00:00, 28.70it/s, train_acc=0.95, train_loss=0.135]\n",
            "  test: 100%|██████████| 79/79 [00:02<00:00, 30.15it/s, test_acc=0.916, test_loss=tensor(0.2522, device='cuda:0')]\n"
          ]
        },
        {
          "output_type": "stream",
          "name": "stdout",
          "text": [
            "EPOCH 8/30 :\n"
          ]
        },
        {
          "output_type": "stream",
          "name": "stderr",
          "text": [
            "  train: 100%|██████████| 469/469 [00:17<00:00, 26.73it/s, train_acc=0.954, train_loss=0.12]\n",
            "  test: 100%|██████████| 79/79 [00:02<00:00, 30.38it/s, test_acc=0.918, test_loss=tensor(0.2647, device='cuda:0')]\n"
          ]
        },
        {
          "output_type": "stream",
          "name": "stdout",
          "text": [
            "EPOCH 9/30 :\n"
          ]
        },
        {
          "output_type": "stream",
          "name": "stderr",
          "text": [
            "  train: 100%|██████████| 469/469 [00:16<00:00, 28.36it/s, train_acc=0.961, train_loss=0.106]\n",
            "  test: 100%|██████████| 79/79 [00:02<00:00, 30.18it/s, test_acc=0.916, test_loss=tensor(0.2559, device='cuda:0')]\n"
          ]
        },
        {
          "output_type": "stream",
          "name": "stdout",
          "text": [
            "EPOCH 10/30 :\n"
          ]
        },
        {
          "output_type": "stream",
          "name": "stderr",
          "text": [
            "  train: 100%|██████████| 469/469 [00:17<00:00, 26.87it/s, train_acc=0.966, train_loss=0.0924]\n",
            "  test: 100%|██████████| 79/79 [00:02<00:00, 30.35it/s, test_acc=0.917, test_loss=tensor(0.2733, device='cuda:0')]\n"
          ]
        },
        {
          "output_type": "stream",
          "name": "stdout",
          "text": [
            "EPOCH 11/30 :\n"
          ]
        },
        {
          "output_type": "stream",
          "name": "stderr",
          "text": [
            "  train: 100%|██████████| 469/469 [00:16<00:00, 28.60it/s, train_acc=0.97, train_loss=0.0813]\n",
            "  test: 100%|██████████| 79/79 [00:02<00:00, 31.09it/s, test_acc=0.918, test_loss=tensor(0.2756, device='cuda:0')]\n"
          ]
        },
        {
          "output_type": "stream",
          "name": "stdout",
          "text": [
            "EPOCH 12/30 :\n"
          ]
        },
        {
          "output_type": "stream",
          "name": "stderr",
          "text": [
            "  train: 100%|██████████| 469/469 [00:17<00:00, 27.05it/s, train_acc=0.974, train_loss=0.0716]\n",
            "  test: 100%|██████████| 79/79 [00:02<00:00, 29.99it/s, test_acc=0.917, test_loss=tensor(0.3025, device='cuda:0')]\n"
          ]
        },
        {
          "output_type": "stream",
          "name": "stdout",
          "text": [
            "EPOCH 13/30 :\n"
          ]
        },
        {
          "output_type": "stream",
          "name": "stderr",
          "text": [
            "  train: 100%|██████████| 469/469 [00:16<00:00, 28.54it/s, train_acc=0.977, train_loss=0.0611]\n",
            "  test: 100%|██████████| 79/79 [00:02<00:00, 30.23it/s, test_acc=0.918, test_loss=tensor(0.3167, device='cuda:0')]\n"
          ]
        },
        {
          "output_type": "stream",
          "name": "stdout",
          "text": [
            "EPOCH 14/30 :\n"
          ]
        },
        {
          "output_type": "stream",
          "name": "stderr",
          "text": [
            "  train: 100%|██████████| 469/469 [00:17<00:00, 27.07it/s, train_acc=0.98, train_loss=0.0567]\n",
            "  test: 100%|██████████| 79/79 [00:02<00:00, 30.55it/s, test_acc=0.919, test_loss=tensor(0.3312, device='cuda:0')]\n"
          ]
        },
        {
          "output_type": "stream",
          "name": "stdout",
          "text": [
            "EPOCH 15/30 :\n"
          ]
        },
        {
          "output_type": "stream",
          "name": "stderr",
          "text": [
            "  train: 100%|██████████| 469/469 [00:16<00:00, 28.64it/s, train_acc=0.983, train_loss=0.0477]\n",
            "  test: 100%|██████████| 79/79 [00:02<00:00, 30.82it/s, test_acc=0.92, test_loss=tensor(0.3479, device='cuda:0')]\n"
          ]
        },
        {
          "output_type": "stream",
          "name": "stdout",
          "text": [
            "EPOCH 16/30 :\n"
          ]
        },
        {
          "output_type": "stream",
          "name": "stderr",
          "text": [
            "  train: 100%|██████████| 469/469 [00:17<00:00, 26.68it/s, train_acc=0.983, train_loss=0.046]\n",
            "  test: 100%|██████████| 79/79 [00:02<00:00, 30.79it/s, test_acc=0.92, test_loss=tensor(0.3457, device='cuda:0')]\n"
          ]
        },
        {
          "output_type": "stream",
          "name": "stdout",
          "text": [
            "EPOCH 17/30 :\n"
          ]
        },
        {
          "output_type": "stream",
          "name": "stderr",
          "text": [
            "  train: 100%|██████████| 469/469 [00:16<00:00, 28.66it/s, train_acc=0.987, train_loss=0.0354]\n",
            "  test: 100%|██████████| 79/79 [00:02<00:00, 29.84it/s, test_acc=0.919, test_loss=tensor(0.3813, device='cuda:0')]\n"
          ]
        },
        {
          "output_type": "stream",
          "name": "stdout",
          "text": [
            "EPOCH 18/30 :\n"
          ]
        },
        {
          "output_type": "stream",
          "name": "stderr",
          "text": [
            "  train: 100%|██████████| 469/469 [00:17<00:00, 27.22it/s, train_acc=0.988, train_loss=0.0348]\n",
            "  test: 100%|██████████| 79/79 [00:02<00:00, 30.37it/s, test_acc=0.919, test_loss=tensor(0.3953, device='cuda:0')]\n"
          ]
        },
        {
          "output_type": "stream",
          "name": "stdout",
          "text": [
            "EPOCH 19/30 :\n"
          ]
        },
        {
          "output_type": "stream",
          "name": "stderr",
          "text": [
            "  train: 100%|██████████| 469/469 [00:16<00:00, 28.69it/s, train_acc=0.988, train_loss=0.0332]\n",
            "  test: 100%|██████████| 79/79 [00:02<00:00, 29.05it/s, test_acc=0.917, test_loss=tensor(0.4150, device='cuda:0')]\n"
          ]
        },
        {
          "output_type": "stream",
          "name": "stdout",
          "text": [
            "EPOCH 20/30 :\n"
          ]
        },
        {
          "output_type": "stream",
          "name": "stderr",
          "text": [
            "  train: 100%|██████████| 469/469 [00:17<00:00, 27.17it/s, train_acc=0.988, train_loss=0.0343]\n",
            "  test: 100%|██████████| 79/79 [00:02<00:00, 30.68it/s, test_acc=0.917, test_loss=tensor(0.4008, device='cuda:0')]\n"
          ]
        },
        {
          "output_type": "stream",
          "name": "stdout",
          "text": [
            "EPOCH 21/30 :\n"
          ]
        },
        {
          "output_type": "stream",
          "name": "stderr",
          "text": [
            "  train: 100%|██████████| 469/469 [00:16<00:00, 28.67it/s, train_acc=0.989, train_loss=0.0314]\n",
            "  test: 100%|██████████| 79/79 [00:02<00:00, 30.43it/s, test_acc=0.919, test_loss=tensor(0.4412, device='cuda:0')]\n"
          ]
        },
        {
          "output_type": "stream",
          "name": "stdout",
          "text": [
            "EPOCH 22/30 :\n"
          ]
        },
        {
          "output_type": "stream",
          "name": "stderr",
          "text": [
            "  train: 100%|██████████| 469/469 [00:17<00:00, 26.91it/s, train_acc=0.991, train_loss=0.0262]\n",
            "  test: 100%|██████████| 79/79 [00:02<00:00, 30.45it/s, test_acc=0.92, test_loss=tensor(0.4266, device='cuda:0')]\n"
          ]
        },
        {
          "output_type": "stream",
          "name": "stdout",
          "text": [
            "EPOCH 23/30 :\n"
          ]
        },
        {
          "output_type": "stream",
          "name": "stderr",
          "text": [
            "  train: 100%|██████████| 469/469 [00:16<00:00, 28.66it/s, train_acc=0.992, train_loss=0.0216]\n",
            "  test: 100%|██████████| 79/79 [00:02<00:00, 30.59it/s, test_acc=0.918, test_loss=tensor(0.4471, device='cuda:0')]\n"
          ]
        },
        {
          "output_type": "stream",
          "name": "stdout",
          "text": [
            "EPOCH 24/30 :\n"
          ]
        },
        {
          "output_type": "stream",
          "name": "stderr",
          "text": [
            "  train: 100%|██████████| 469/469 [00:17<00:00, 27.01it/s, train_acc=0.993, train_loss=0.0212]\n",
            "  test: 100%|██████████| 79/79 [00:02<00:00, 30.27it/s, test_acc=0.915, test_loss=tensor(0.4588, device='cuda:0')]\n"
          ]
        },
        {
          "output_type": "stream",
          "name": "stdout",
          "text": [
            "EPOCH 25/30 :\n"
          ]
        },
        {
          "output_type": "stream",
          "name": "stderr",
          "text": [
            "  train: 100%|██████████| 469/469 [00:16<00:00, 28.72it/s, train_acc=0.993, train_loss=0.0202]\n",
            "  test: 100%|██████████| 79/79 [00:02<00:00, 30.43it/s, test_acc=0.92, test_loss=tensor(0.4466, device='cuda:0')]\n"
          ]
        },
        {
          "output_type": "stream",
          "name": "stdout",
          "text": [
            "EPOCH 26/30 :\n"
          ]
        },
        {
          "output_type": "stream",
          "name": "stderr",
          "text": [
            "  train: 100%|██████████| 469/469 [00:17<00:00, 27.06it/s, train_acc=0.993, train_loss=0.0192]\n",
            "  test: 100%|██████████| 79/79 [00:02<00:00, 30.04it/s, test_acc=0.922, test_loss=tensor(0.4564, device='cuda:0')]\n"
          ]
        },
        {
          "output_type": "stream",
          "name": "stdout",
          "text": [
            "EPOCH 27/30 :\n"
          ]
        },
        {
          "output_type": "stream",
          "name": "stderr",
          "text": [
            "  train: 100%|██████████| 469/469 [00:16<00:00, 28.89it/s, train_acc=0.995, train_loss=0.0146]\n",
            "  test: 100%|██████████| 79/79 [00:02<00:00, 31.12it/s, test_acc=0.917, test_loss=tensor(0.5319, device='cuda:0')]\n"
          ]
        },
        {
          "output_type": "stream",
          "name": "stdout",
          "text": [
            "EPOCH 28/30 :\n"
          ]
        },
        {
          "output_type": "stream",
          "name": "stderr",
          "text": [
            "  train: 100%|██████████| 469/469 [00:17<00:00, 26.87it/s, train_acc=0.995, train_loss=0.0146]\n",
            "  test: 100%|██████████| 79/79 [00:02<00:00, 30.82it/s, test_acc=0.921, test_loss=tensor(0.5297, device='cuda:0')]\n"
          ]
        },
        {
          "output_type": "stream",
          "name": "stdout",
          "text": [
            "EPOCH 29/30 :\n"
          ]
        },
        {
          "output_type": "stream",
          "name": "stderr",
          "text": [
            "  train: 100%|██████████| 469/469 [00:16<00:00, 28.69it/s, train_acc=0.994, train_loss=0.0175]\n",
            "  test: 100%|██████████| 79/79 [00:02<00:00, 30.84it/s, test_acc=0.92, test_loss=tensor(0.4864, device='cuda:0')]\n"
          ]
        },
        {
          "output_type": "stream",
          "name": "stdout",
          "text": [
            "EPOCH 30/30 :\n"
          ]
        },
        {
          "output_type": "stream",
          "name": "stderr",
          "text": [
            "  train: 100%|██████████| 469/469 [00:17<00:00, 26.96it/s, train_acc=0.996, train_loss=0.0127]\n",
            "  test: 100%|██████████| 79/79 [00:02<00:00, 31.51it/s, test_acc=0.924, test_loss=tensor(0.5119, device='cuda:0')]"
          ]
        },
        {
          "output_type": "stream",
          "name": "stdout",
          "text": [
            "Total training time: 588.314 seconds\n"
          ]
        },
        {
          "output_type": "stream",
          "name": "stderr",
          "text": [
            "\n"
          ]
        }
      ]
    },
    {
      "cell_type": "code",
      "source": [
        "torch.save(model2.state_dict(), \"trained_model2.pth\")"
      ],
      "metadata": {
        "id": "a5Yl5y4pUqwI"
      },
      "execution_count": 62,
      "outputs": []
    },
    {
      "cell_type": "markdown",
      "source": [
        "## Model 2"
      ],
      "metadata": {
        "id": "XduOdcAYYRSx"
      }
    },
    {
      "cell_type": "code",
      "source": [
        "result5_FashionMNIST = fit(model=model5,\n",
        "                           train_loader=train_dataloader_FashionMNIST,\n",
        "                           test_loader=test_dataloader_FashionMNIST,\n",
        "                           loss_fn=loss_fn,\n",
        "                           optimizer=optimizer5,\n",
        "                           accuracy_fn=accuracy_fn,\n",
        "                           device=device,\n",
        "                           epochs=30)"
      ],
      "metadata": {
        "colab": {
          "base_uri": "https://localhost:8080/"
        },
        "id": "Cs3u6GYaYXG4",
        "outputId": "4ddf5053-1bab-4068-f5cd-b40712b30da6"
      },
      "execution_count": 63,
      "outputs": [
        {
          "output_type": "stream",
          "name": "stdout",
          "text": [
            "EPOCH 1/30 :\n"
          ]
        },
        {
          "output_type": "stream",
          "name": "stderr",
          "text": [
            "  train: 100%|██████████| 469/469 [00:15<00:00, 29.63it/s, train_acc=0.812, train_loss=0.52]\n",
            "  test: 100%|██████████| 79/79 [00:03<00:00, 23.64it/s, test_acc=0.875, test_loss=tensor(0.3439, device='cuda:0')]\n"
          ]
        },
        {
          "output_type": "stream",
          "name": "stdout",
          "text": [
            "EPOCH 2/30 :\n"
          ]
        },
        {
          "output_type": "stream",
          "name": "stderr",
          "text": [
            "  train: 100%|██████████| 469/469 [00:16<00:00, 29.15it/s, train_acc=0.895, train_loss=0.288]\n",
            "  test: 100%|██████████| 79/79 [00:02<00:00, 31.87it/s, test_acc=0.9, test_loss=tensor(0.2811, device='cuda:0')]\n"
          ]
        },
        {
          "output_type": "stream",
          "name": "stdout",
          "text": [
            "EPOCH 3/30 :\n"
          ]
        },
        {
          "output_type": "stream",
          "name": "stderr",
          "text": [
            "  train: 100%|██████████| 469/469 [00:15<00:00, 29.42it/s, train_acc=0.912, train_loss=0.239]\n",
            "  test: 100%|██████████| 79/79 [00:02<00:00, 27.30it/s, test_acc=0.902, test_loss=tensor(0.2562, device='cuda:0')]\n"
          ]
        },
        {
          "output_type": "stream",
          "name": "stdout",
          "text": [
            "EPOCH 4/30 :\n"
          ]
        },
        {
          "output_type": "stream",
          "name": "stderr",
          "text": [
            "  train: 100%|██████████| 469/469 [00:16<00:00, 28.52it/s, train_acc=0.924, train_loss=0.206]\n",
            "  test: 100%|██████████| 79/79 [00:02<00:00, 30.95it/s, test_acc=0.914, test_loss=tensor(0.2393, device='cuda:0')]\n"
          ]
        },
        {
          "output_type": "stream",
          "name": "stdout",
          "text": [
            "EPOCH 5/30 :\n"
          ]
        },
        {
          "output_type": "stream",
          "name": "stderr",
          "text": [
            "  train: 100%|██████████| 469/469 [00:16<00:00, 29.14it/s, train_acc=0.93, train_loss=0.187]\n",
            "  test: 100%|██████████| 79/79 [00:02<00:00, 31.49it/s, test_acc=0.915, test_loss=tensor(0.2325, device='cuda:0')]\n"
          ]
        },
        {
          "output_type": "stream",
          "name": "stdout",
          "text": [
            "EPOCH 6/30 :\n"
          ]
        },
        {
          "output_type": "stream",
          "name": "stderr",
          "text": [
            "  train: 100%|██████████| 469/469 [00:16<00:00, 27.67it/s, train_acc=0.938, train_loss=0.167]\n",
            "  test: 100%|██████████| 79/79 [00:02<00:00, 29.85it/s, test_acc=0.919, test_loss=tensor(0.2371, device='cuda:0')]\n"
          ]
        },
        {
          "output_type": "stream",
          "name": "stdout",
          "text": [
            "EPOCH 7/30 :\n"
          ]
        },
        {
          "output_type": "stream",
          "name": "stderr",
          "text": [
            "  train: 100%|██████████| 469/469 [00:16<00:00, 29.22it/s, train_acc=0.944, train_loss=0.15]\n",
            "  test: 100%|██████████| 79/79 [00:02<00:00, 31.50it/s, test_acc=0.912, test_loss=tensor(0.2461, device='cuda:0')]\n"
          ]
        },
        {
          "output_type": "stream",
          "name": "stdout",
          "text": [
            "EPOCH 8/30 :\n"
          ]
        },
        {
          "output_type": "stream",
          "name": "stderr",
          "text": [
            "  train: 100%|██████████| 469/469 [00:17<00:00, 27.41it/s, train_acc=0.95, train_loss=0.134]\n",
            "  test: 100%|██████████| 79/79 [00:02<00:00, 31.62it/s, test_acc=0.914, test_loss=tensor(0.2516, device='cuda:0')]\n"
          ]
        },
        {
          "output_type": "stream",
          "name": "stdout",
          "text": [
            "EPOCH 9/30 :\n"
          ]
        },
        {
          "output_type": "stream",
          "name": "stderr",
          "text": [
            "  train: 100%|██████████| 469/469 [00:16<00:00, 29.24it/s, train_acc=0.956, train_loss=0.12]\n",
            "  test: 100%|██████████| 79/79 [00:02<00:00, 31.28it/s, test_acc=0.925, test_loss=tensor(0.2389, device='cuda:0')]\n"
          ]
        },
        {
          "output_type": "stream",
          "name": "stdout",
          "text": [
            "EPOCH 10/30 :\n"
          ]
        },
        {
          "output_type": "stream",
          "name": "stderr",
          "text": [
            "  train: 100%|██████████| 469/469 [00:17<00:00, 27.09it/s, train_acc=0.961, train_loss=0.108]\n",
            "  test: 100%|██████████| 79/79 [00:02<00:00, 31.57it/s, test_acc=0.924, test_loss=tensor(0.2364, device='cuda:0')]\n"
          ]
        },
        {
          "output_type": "stream",
          "name": "stdout",
          "text": [
            "EPOCH 11/30 :\n"
          ]
        },
        {
          "output_type": "stream",
          "name": "stderr",
          "text": [
            "  train: 100%|██████████| 469/469 [00:15<00:00, 29.41it/s, train_acc=0.965, train_loss=0.0947]\n",
            "  test: 100%|██████████| 79/79 [00:02<00:00, 31.52it/s, test_acc=0.919, test_loss=tensor(0.2635, device='cuda:0')]\n"
          ]
        },
        {
          "output_type": "stream",
          "name": "stdout",
          "text": [
            "EPOCH 12/30 :\n"
          ]
        },
        {
          "output_type": "stream",
          "name": "stderr",
          "text": [
            "  train: 100%|██████████| 469/469 [00:19<00:00, 24.35it/s, train_acc=0.97, train_loss=0.0816]\n",
            "  test: 100%|██████████| 79/79 [00:02<00:00, 31.65it/s, test_acc=0.92, test_loss=tensor(0.2802, device='cuda:0')]\n"
          ]
        },
        {
          "output_type": "stream",
          "name": "stdout",
          "text": [
            "EPOCH 13/30 :\n"
          ]
        },
        {
          "output_type": "stream",
          "name": "stderr",
          "text": [
            "  train: 100%|██████████| 469/469 [00:16<00:00, 29.08it/s, train_acc=0.972, train_loss=0.076]\n",
            "  test: 100%|██████████| 79/79 [00:02<00:00, 31.23it/s, test_acc=0.92, test_loss=tensor(0.2792, device='cuda:0')]\n"
          ]
        },
        {
          "output_type": "stream",
          "name": "stdout",
          "text": [
            "EPOCH 14/30 :\n"
          ]
        },
        {
          "output_type": "stream",
          "name": "stderr",
          "text": [
            "  train: 100%|██████████| 469/469 [00:17<00:00, 27.53it/s, train_acc=0.975, train_loss=0.0674]\n",
            "  test: 100%|██████████| 79/79 [00:02<00:00, 31.44it/s, test_acc=0.923, test_loss=tensor(0.2725, device='cuda:0')]\n"
          ]
        },
        {
          "output_type": "stream",
          "name": "stdout",
          "text": [
            "EPOCH 15/30 :\n"
          ]
        },
        {
          "output_type": "stream",
          "name": "stderr",
          "text": [
            "  train: 100%|██████████| 469/469 [00:15<00:00, 29.51it/s, train_acc=0.978, train_loss=0.0593]\n",
            "  test: 100%|██████████| 79/79 [00:02<00:00, 31.14it/s, test_acc=0.923, test_loss=tensor(0.2982, device='cuda:0')]\n"
          ]
        },
        {
          "output_type": "stream",
          "name": "stdout",
          "text": [
            "EPOCH 16/30 :\n"
          ]
        },
        {
          "output_type": "stream",
          "name": "stderr",
          "text": [
            "  train: 100%|██████████| 469/469 [00:17<00:00, 27.38it/s, train_acc=0.981, train_loss=0.0532]\n",
            "  test: 100%|██████████| 79/79 [00:02<00:00, 31.64it/s, test_acc=0.923, test_loss=tensor(0.3051, device='cuda:0')]\n"
          ]
        },
        {
          "output_type": "stream",
          "name": "stdout",
          "text": [
            "EPOCH 17/30 :\n"
          ]
        },
        {
          "output_type": "stream",
          "name": "stderr",
          "text": [
            "  train: 100%|██████████| 469/469 [00:16<00:00, 28.07it/s, train_acc=0.983, train_loss=0.0451]\n",
            "  test: 100%|██████████| 79/79 [00:02<00:00, 30.36it/s, test_acc=0.926, test_loss=tensor(0.3168, device='cuda:0')]\n"
          ]
        },
        {
          "output_type": "stream",
          "name": "stdout",
          "text": [
            "EPOCH 18/30 :\n"
          ]
        },
        {
          "output_type": "stream",
          "name": "stderr",
          "text": [
            "  train: 100%|██████████| 469/469 [00:17<00:00, 27.20it/s, train_acc=0.984, train_loss=0.0432]\n",
            "  test: 100%|██████████| 79/79 [00:02<00:00, 30.99it/s, test_acc=0.925, test_loss=tensor(0.3238, device='cuda:0')]\n"
          ]
        },
        {
          "output_type": "stream",
          "name": "stdout",
          "text": [
            "EPOCH 19/30 :\n"
          ]
        },
        {
          "output_type": "stream",
          "name": "stderr",
          "text": [
            "  train: 100%|██████████| 469/469 [00:16<00:00, 28.89it/s, train_acc=0.987, train_loss=0.0368]\n",
            "  test: 100%|██████████| 79/79 [00:02<00:00, 31.14it/s, test_acc=0.922, test_loss=tensor(0.3319, device='cuda:0')]\n"
          ]
        },
        {
          "output_type": "stream",
          "name": "stdout",
          "text": [
            "EPOCH 20/30 :\n"
          ]
        },
        {
          "output_type": "stream",
          "name": "stderr",
          "text": [
            "  train: 100%|██████████| 469/469 [00:16<00:00, 28.08it/s, train_acc=0.987, train_loss=0.0356]\n",
            "  test: 100%|██████████| 79/79 [00:02<00:00, 27.65it/s, test_acc=0.926, test_loss=tensor(0.3550, device='cuda:0')]\n"
          ]
        },
        {
          "output_type": "stream",
          "name": "stdout",
          "text": [
            "EPOCH 21/30 :\n"
          ]
        },
        {
          "output_type": "stream",
          "name": "stderr",
          "text": [
            "  train: 100%|██████████| 469/469 [00:16<00:00, 29.01it/s, train_acc=0.99, train_loss=0.0289]\n",
            "  test: 100%|██████████| 79/79 [00:02<00:00, 30.58it/s, test_acc=0.929, test_loss=tensor(0.3426, device='cuda:0')]\n"
          ]
        },
        {
          "output_type": "stream",
          "name": "stdout",
          "text": [
            "EPOCH 22/30 :\n"
          ]
        },
        {
          "output_type": "stream",
          "name": "stderr",
          "text": [
            "  train: 100%|██████████| 469/469 [00:16<00:00, 28.48it/s, train_acc=0.99, train_loss=0.0284]\n",
            "  test: 100%|██████████| 79/79 [00:03<00:00, 23.95it/s, test_acc=0.925, test_loss=tensor(0.3750, device='cuda:0')]\n"
          ]
        },
        {
          "output_type": "stream",
          "name": "stdout",
          "text": [
            "EPOCH 23/30 :\n"
          ]
        },
        {
          "output_type": "stream",
          "name": "stderr",
          "text": [
            "  train: 100%|██████████| 469/469 [00:16<00:00, 29.12it/s, train_acc=0.991, train_loss=0.0255]\n",
            "  test: 100%|██████████| 79/79 [00:02<00:00, 30.85it/s, test_acc=0.926, test_loss=tensor(0.3542, device='cuda:0')]\n"
          ]
        },
        {
          "output_type": "stream",
          "name": "stdout",
          "text": [
            "EPOCH 24/30 :\n"
          ]
        },
        {
          "output_type": "stream",
          "name": "stderr",
          "text": [
            "  train: 100%|██████████| 469/469 [00:16<00:00, 28.88it/s, train_acc=0.991, train_loss=0.0251]\n",
            "  test: 100%|██████████| 79/79 [00:03<00:00, 22.89it/s, test_acc=0.924, test_loss=tensor(0.3775, device='cuda:0')]\n"
          ]
        },
        {
          "output_type": "stream",
          "name": "stdout",
          "text": [
            "EPOCH 25/30 :\n"
          ]
        },
        {
          "output_type": "stream",
          "name": "stderr",
          "text": [
            "  train: 100%|██████████| 469/469 [00:15<00:00, 29.46it/s, train_acc=0.993, train_loss=0.0199]\n",
            "  test: 100%|██████████| 79/79 [00:02<00:00, 30.33it/s, test_acc=0.927, test_loss=tensor(0.3945, device='cuda:0')]\n"
          ]
        },
        {
          "output_type": "stream",
          "name": "stdout",
          "text": [
            "EPOCH 26/30 :\n"
          ]
        },
        {
          "output_type": "stream",
          "name": "stderr",
          "text": [
            "  train: 100%|██████████| 469/469 [00:15<00:00, 29.38it/s, train_acc=0.993, train_loss=0.0191]\n",
            "  test: 100%|██████████| 79/79 [00:03<00:00, 24.08it/s, test_acc=0.928, test_loss=tensor(0.4014, device='cuda:0')]\n"
          ]
        },
        {
          "output_type": "stream",
          "name": "stdout",
          "text": [
            "EPOCH 27/30 :\n"
          ]
        },
        {
          "output_type": "stream",
          "name": "stderr",
          "text": [
            "  train: 100%|██████████| 469/469 [00:16<00:00, 28.76it/s, train_acc=0.993, train_loss=0.0198]\n",
            "  test: 100%|██████████| 79/79 [00:02<00:00, 31.28it/s, test_acc=0.926, test_loss=tensor(0.3836, device='cuda:0')]\n"
          ]
        },
        {
          "output_type": "stream",
          "name": "stdout",
          "text": [
            "EPOCH 28/30 :\n"
          ]
        },
        {
          "output_type": "stream",
          "name": "stderr",
          "text": [
            "  train: 100%|██████████| 469/469 [00:15<00:00, 29.44it/s, train_acc=0.993, train_loss=0.0201]\n",
            "  test: 100%|██████████| 79/79 [00:02<00:00, 27.24it/s, test_acc=0.921, test_loss=tensor(0.4225, device='cuda:0')]\n"
          ]
        },
        {
          "output_type": "stream",
          "name": "stdout",
          "text": [
            "EPOCH 29/30 :\n"
          ]
        },
        {
          "output_type": "stream",
          "name": "stderr",
          "text": [
            "  train: 100%|██████████| 469/469 [00:16<00:00, 27.65it/s, train_acc=0.994, train_loss=0.0151]\n",
            "  test: 100%|██████████| 79/79 [00:02<00:00, 31.01it/s, test_acc=0.925, test_loss=tensor(0.4380, device='cuda:0')]\n"
          ]
        },
        {
          "output_type": "stream",
          "name": "stdout",
          "text": [
            "EPOCH 30/30 :\n"
          ]
        },
        {
          "output_type": "stream",
          "name": "stderr",
          "text": [
            "  train: 100%|██████████| 469/469 [00:16<00:00, 28.55it/s, train_acc=0.995, train_loss=0.0128]\n",
            "  test: 100%|██████████| 79/79 [00:02<00:00, 27.92it/s, test_acc=0.925, test_loss=tensor(0.4579, device='cuda:0')]"
          ]
        },
        {
          "output_type": "stream",
          "name": "stdout",
          "text": [
            "Total training time: 575.667 seconds\n"
          ]
        },
        {
          "output_type": "stream",
          "name": "stderr",
          "text": [
            "\n"
          ]
        }
      ]
    },
    {
      "cell_type": "code",
      "source": [
        "torch.save(model5.state_dict(), \"trained_model5.pth\")"
      ],
      "metadata": {
        "id": "ROW8cNa_YhL4"
      },
      "execution_count": 65,
      "outputs": []
    },
    {
      "cell_type": "markdown",
      "source": [
        "## Model 3"
      ],
      "metadata": {
        "id": "UOUkoYxBYxKl"
      }
    },
    {
      "cell_type": "code",
      "source": [
        "result8_FashionMNIST = fit(model=model8,\n",
        "                           train_loader=train_dataloader_FashionMNIST,\n",
        "                           test_loader=test_dataloader_FashionMNIST,\n",
        "                           loss_fn=loss_fn,\n",
        "                           optimizer=optimizer8,\n",
        "                           accuracy_fn=accuracy_fn,\n",
        "                           device=device,\n",
        "                           epochs=30)"
      ],
      "metadata": {
        "colab": {
          "base_uri": "https://localhost:8080/"
        },
        "id": "Lf0pBtgCY0gi",
        "outputId": "37cbf591-f45b-4a69-d2c5-398518c25d38"
      },
      "execution_count": 66,
      "outputs": [
        {
          "output_type": "stream",
          "name": "stdout",
          "text": [
            "EPOCH 1/30 :\n"
          ]
        },
        {
          "output_type": "stream",
          "name": "stderr",
          "text": [
            "  train: 100%|██████████| 469/469 [00:15<00:00, 29.68it/s, train_acc=0.778, train_loss=0.616]\n",
            "  test: 100%|██████████| 79/79 [00:02<00:00, 31.84it/s, test_acc=0.843, test_loss=tensor(0.4207, device='cuda:0')]\n"
          ]
        },
        {
          "output_type": "stream",
          "name": "stdout",
          "text": [
            "EPOCH 2/30 :\n"
          ]
        },
        {
          "output_type": "stream",
          "name": "stderr",
          "text": [
            "  train: 100%|██████████| 469/469 [00:16<00:00, 29.19it/s, train_acc=0.882, train_loss=0.325]\n",
            "  test: 100%|██████████| 79/79 [00:03<00:00, 23.41it/s, test_acc=0.887, test_loss=tensor(0.3119, device='cuda:0')]\n"
          ]
        },
        {
          "output_type": "stream",
          "name": "stdout",
          "text": [
            "EPOCH 3/30 :\n"
          ]
        },
        {
          "output_type": "stream",
          "name": "stderr",
          "text": [
            "  train: 100%|██████████| 469/469 [00:16<00:00, 29.25it/s, train_acc=0.899, train_loss=0.275]\n",
            "  test: 100%|██████████| 79/79 [00:02<00:00, 30.30it/s, test_acc=0.893, test_loss=tensor(0.2843, device='cuda:0')]\n"
          ]
        },
        {
          "output_type": "stream",
          "name": "stdout",
          "text": [
            "EPOCH 4/30 :\n"
          ]
        },
        {
          "output_type": "stream",
          "name": "stderr",
          "text": [
            "  train: 100%|██████████| 469/469 [00:15<00:00, 29.49it/s, train_acc=0.909, train_loss=0.246]\n",
            "  test: 100%|██████████| 79/79 [00:02<00:00, 28.67it/s, test_acc=0.906, test_loss=tensor(0.2617, device='cuda:0')]\n"
          ]
        },
        {
          "output_type": "stream",
          "name": "stdout",
          "text": [
            "EPOCH 5/30 :\n"
          ]
        },
        {
          "output_type": "stream",
          "name": "stderr",
          "text": [
            "  train: 100%|██████████| 469/469 [00:16<00:00, 27.80it/s, train_acc=0.917, train_loss=0.222]\n",
            "  test: 100%|██████████| 79/79 [00:02<00:00, 31.06it/s, test_acc=0.905, test_loss=tensor(0.2654, device='cuda:0')]\n"
          ]
        },
        {
          "output_type": "stream",
          "name": "stdout",
          "text": [
            "EPOCH 6/30 :\n"
          ]
        },
        {
          "output_type": "stream",
          "name": "stderr",
          "text": [
            "  train: 100%|██████████| 469/469 [00:15<00:00, 29.42it/s, train_acc=0.923, train_loss=0.209]\n",
            "  test: 100%|██████████| 79/79 [00:02<00:00, 30.84it/s, test_acc=0.894, test_loss=tensor(0.2777, device='cuda:0')]\n"
          ]
        },
        {
          "output_type": "stream",
          "name": "stdout",
          "text": [
            "EPOCH 7/30 :\n"
          ]
        },
        {
          "output_type": "stream",
          "name": "stderr",
          "text": [
            "  train: 100%|██████████| 469/469 [00:17<00:00, 27.32it/s, train_acc=0.929, train_loss=0.191]\n",
            "  test: 100%|██████████| 79/79 [00:02<00:00, 30.87it/s, test_acc=0.916, test_loss=tensor(0.2307, device='cuda:0')]\n"
          ]
        },
        {
          "output_type": "stream",
          "name": "stdout",
          "text": [
            "EPOCH 8/30 :\n"
          ]
        },
        {
          "output_type": "stream",
          "name": "stderr",
          "text": [
            "  train: 100%|██████████| 469/469 [00:16<00:00, 29.20it/s, train_acc=0.936, train_loss=0.175]\n",
            "  test: 100%|██████████| 79/79 [00:02<00:00, 31.47it/s, test_acc=0.907, test_loss=tensor(0.2607, device='cuda:0')]\n"
          ]
        },
        {
          "output_type": "stream",
          "name": "stdout",
          "text": [
            "EPOCH 9/30 :\n"
          ]
        },
        {
          "output_type": "stream",
          "name": "stderr",
          "text": [
            "  train: 100%|██████████| 469/469 [00:16<00:00, 27.68it/s, train_acc=0.939, train_loss=0.164]\n",
            "  test: 100%|██████████| 79/79 [00:02<00:00, 31.84it/s, test_acc=0.916, test_loss=tensor(0.2362, device='cuda:0')]\n"
          ]
        },
        {
          "output_type": "stream",
          "name": "stdout",
          "text": [
            "EPOCH 10/30 :\n"
          ]
        },
        {
          "output_type": "stream",
          "name": "stderr",
          "text": [
            "  train: 100%|██████████| 469/469 [00:16<00:00, 29.24it/s, train_acc=0.946, train_loss=0.151]\n",
            "  test: 100%|██████████| 79/79 [00:02<00:00, 30.54it/s, test_acc=0.922, test_loss=tensor(0.2223, device='cuda:0')]\n"
          ]
        },
        {
          "output_type": "stream",
          "name": "stdout",
          "text": [
            "EPOCH 11/30 :\n"
          ]
        },
        {
          "output_type": "stream",
          "name": "stderr",
          "text": [
            "  train: 100%|██████████| 469/469 [00:17<00:00, 27.48it/s, train_acc=0.949, train_loss=0.139]\n",
            "  test: 100%|██████████| 79/79 [00:02<00:00, 29.63it/s, test_acc=0.917, test_loss=tensor(0.2468, device='cuda:0')]\n"
          ]
        },
        {
          "output_type": "stream",
          "name": "stdout",
          "text": [
            "EPOCH 12/30 :\n"
          ]
        },
        {
          "output_type": "stream",
          "name": "stderr",
          "text": [
            "  train: 100%|██████████| 469/469 [00:15<00:00, 29.62it/s, train_acc=0.952, train_loss=0.129]\n",
            "  test: 100%|██████████| 79/79 [00:02<00:00, 31.07it/s, test_acc=0.921, test_loss=tensor(0.2355, device='cuda:0')]\n"
          ]
        },
        {
          "output_type": "stream",
          "name": "stdout",
          "text": [
            "EPOCH 13/30 :\n"
          ]
        },
        {
          "output_type": "stream",
          "name": "stderr",
          "text": [
            "  train: 100%|██████████| 469/469 [00:16<00:00, 27.90it/s, train_acc=0.957, train_loss=0.118]\n",
            "  test: 100%|██████████| 79/79 [00:02<00:00, 28.88it/s, test_acc=0.92, test_loss=tensor(0.2373, device='cuda:0')]\n"
          ]
        },
        {
          "output_type": "stream",
          "name": "stdout",
          "text": [
            "EPOCH 14/30 :\n"
          ]
        },
        {
          "output_type": "stream",
          "name": "stderr",
          "text": [
            "  train: 100%|██████████| 469/469 [00:16<00:00, 29.17it/s, train_acc=0.96, train_loss=0.108]\n",
            "  test: 100%|██████████| 79/79 [00:02<00:00, 31.52it/s, test_acc=0.924, test_loss=tensor(0.2376, device='cuda:0')]\n"
          ]
        },
        {
          "output_type": "stream",
          "name": "stdout",
          "text": [
            "EPOCH 15/30 :\n"
          ]
        },
        {
          "output_type": "stream",
          "name": "stderr",
          "text": [
            "  train: 100%|██████████| 469/469 [00:16<00:00, 28.59it/s, train_acc=0.964, train_loss=0.0983]\n",
            "  test: 100%|██████████| 79/79 [00:03<00:00, 24.84it/s, test_acc=0.922, test_loss=tensor(0.2301, device='cuda:0')]\n"
          ]
        },
        {
          "output_type": "stream",
          "name": "stdout",
          "text": [
            "EPOCH 16/30 :\n"
          ]
        },
        {
          "output_type": "stream",
          "name": "stderr",
          "text": [
            "  train: 100%|██████████| 469/469 [00:16<00:00, 28.94it/s, train_acc=0.968, train_loss=0.0903]\n",
            "  test: 100%|██████████| 79/79 [00:02<00:00, 31.09it/s, test_acc=0.92, test_loss=tensor(0.2614, device='cuda:0')]\n"
          ]
        },
        {
          "output_type": "stream",
          "name": "stdout",
          "text": [
            "EPOCH 17/30 :\n"
          ]
        },
        {
          "output_type": "stream",
          "name": "stderr",
          "text": [
            "  train: 100%|██████████| 469/469 [00:15<00:00, 29.50it/s, train_acc=0.972, train_loss=0.0784]\n",
            "  test: 100%|██████████| 79/79 [00:03<00:00, 22.32it/s, test_acc=0.923, test_loss=tensor(0.2535, device='cuda:0')]\n"
          ]
        },
        {
          "output_type": "stream",
          "name": "stdout",
          "text": [
            "EPOCH 18/30 :\n"
          ]
        },
        {
          "output_type": "stream",
          "name": "stderr",
          "text": [
            "  train: 100%|██████████| 469/469 [00:16<00:00, 29.28it/s, train_acc=0.973, train_loss=0.0743]\n",
            "  test: 100%|██████████| 79/79 [00:02<00:00, 31.41it/s, test_acc=0.922, test_loss=tensor(0.2675, device='cuda:0')]\n"
          ]
        },
        {
          "output_type": "stream",
          "name": "stdout",
          "text": [
            "EPOCH 19/30 :\n"
          ]
        },
        {
          "output_type": "stream",
          "name": "stderr",
          "text": [
            "  train: 100%|██████████| 469/469 [00:15<00:00, 29.50it/s, train_acc=0.976, train_loss=0.0674]\n",
            "  test: 100%|██████████| 79/79 [00:03<00:00, 22.93it/s, test_acc=0.92, test_loss=tensor(0.2708, device='cuda:0')]\n"
          ]
        },
        {
          "output_type": "stream",
          "name": "stdout",
          "text": [
            "EPOCH 20/30 :\n"
          ]
        },
        {
          "output_type": "stream",
          "name": "stderr",
          "text": [
            "  train: 100%|██████████| 469/469 [00:16<00:00, 28.98it/s, train_acc=0.978, train_loss=0.0611]\n",
            "  test: 100%|██████████| 79/79 [00:02<00:00, 32.13it/s, test_acc=0.919, test_loss=tensor(0.2723, device='cuda:0')]\n"
          ]
        },
        {
          "output_type": "stream",
          "name": "stdout",
          "text": [
            "EPOCH 21/30 :\n"
          ]
        },
        {
          "output_type": "stream",
          "name": "stderr",
          "text": [
            "  train: 100%|██████████| 469/469 [00:16<00:00, 28.98it/s, train_acc=0.98, train_loss=0.0555]\n",
            "  test: 100%|██████████| 79/79 [00:03<00:00, 25.06it/s, test_acc=0.921, test_loss=tensor(0.2973, device='cuda:0')]\n"
          ]
        },
        {
          "output_type": "stream",
          "name": "stdout",
          "text": [
            "EPOCH 22/30 :\n"
          ]
        },
        {
          "output_type": "stream",
          "name": "stderr",
          "text": [
            "  train: 100%|██████████| 469/469 [00:16<00:00, 28.76it/s, train_acc=0.983, train_loss=0.048]\n",
            "  test: 100%|██████████| 79/79 [00:02<00:00, 31.47it/s, test_acc=0.924, test_loss=tensor(0.2877, device='cuda:0')]\n"
          ]
        },
        {
          "output_type": "stream",
          "name": "stdout",
          "text": [
            "EPOCH 23/30 :\n"
          ]
        },
        {
          "output_type": "stream",
          "name": "stderr",
          "text": [
            "  train: 100%|██████████| 469/469 [00:16<00:00, 28.95it/s, train_acc=0.984, train_loss=0.0435]\n",
            "  test: 100%|██████████| 79/79 [00:02<00:00, 27.13it/s, test_acc=0.922, test_loss=tensor(0.3060, device='cuda:0')]\n"
          ]
        },
        {
          "output_type": "stream",
          "name": "stdout",
          "text": [
            "EPOCH 24/30 :\n"
          ]
        },
        {
          "output_type": "stream",
          "name": "stderr",
          "text": [
            "  train: 100%|██████████| 469/469 [00:16<00:00, 27.82it/s, train_acc=0.987, train_loss=0.0368]\n",
            "  test: 100%|██████████| 79/79 [00:02<00:00, 31.05it/s, test_acc=0.923, test_loss=tensor(0.3066, device='cuda:0')]\n"
          ]
        },
        {
          "output_type": "stream",
          "name": "stdout",
          "text": [
            "EPOCH 25/30 :\n"
          ]
        },
        {
          "output_type": "stream",
          "name": "stderr",
          "text": [
            "  train: 100%|██████████| 469/469 [00:16<00:00, 29.25it/s, train_acc=0.987, train_loss=0.0362]\n",
            "  test: 100%|██████████| 79/79 [00:02<00:00, 31.10it/s, test_acc=0.925, test_loss=tensor(0.3360, device='cuda:0')]\n"
          ]
        },
        {
          "output_type": "stream",
          "name": "stdout",
          "text": [
            "EPOCH 26/30 :\n"
          ]
        },
        {
          "output_type": "stream",
          "name": "stderr",
          "text": [
            "  train: 100%|██████████| 469/469 [00:16<00:00, 27.65it/s, train_acc=0.989, train_loss=0.0302]\n",
            "  test: 100%|██████████| 79/79 [00:02<00:00, 31.47it/s, test_acc=0.925, test_loss=tensor(0.3118, device='cuda:0')]\n"
          ]
        },
        {
          "output_type": "stream",
          "name": "stdout",
          "text": [
            "EPOCH 27/30 :\n"
          ]
        },
        {
          "output_type": "stream",
          "name": "stderr",
          "text": [
            "  train: 100%|██████████| 469/469 [00:16<00:00, 29.07it/s, train_acc=0.991, train_loss=0.0259]\n",
            "  test: 100%|██████████| 79/79 [00:02<00:00, 30.09it/s, test_acc=0.929, test_loss=tensor(0.3162, device='cuda:0')]\n"
          ]
        },
        {
          "output_type": "stream",
          "name": "stdout",
          "text": [
            "EPOCH 28/30 :\n"
          ]
        },
        {
          "output_type": "stream",
          "name": "stderr",
          "text": [
            "  train: 100%|██████████| 469/469 [00:17<00:00, 27.58it/s, train_acc=0.993, train_loss=0.0218]\n",
            "  test: 100%|██████████| 79/79 [00:02<00:00, 31.21it/s, test_acc=0.925, test_loss=tensor(0.3435, device='cuda:0')]\n"
          ]
        },
        {
          "output_type": "stream",
          "name": "stdout",
          "text": [
            "EPOCH 29/30 :\n"
          ]
        },
        {
          "output_type": "stream",
          "name": "stderr",
          "text": [
            "  train: 100%|██████████| 469/469 [00:16<00:00, 28.97it/s, train_acc=0.994, train_loss=0.0184]\n",
            "  test: 100%|██████████| 79/79 [00:02<00:00, 31.39it/s, test_acc=0.919, test_loss=tensor(0.3899, device='cuda:0')]\n"
          ]
        },
        {
          "output_type": "stream",
          "name": "stdout",
          "text": [
            "EPOCH 30/30 :\n"
          ]
        },
        {
          "output_type": "stream",
          "name": "stderr",
          "text": [
            "  train: 100%|██████████| 469/469 [00:17<00:00, 27.44it/s, train_acc=0.994, train_loss=0.018]\n",
            "  test: 100%|██████████| 79/79 [00:02<00:00, 30.95it/s, test_acc=0.927, test_loss=tensor(0.3559, device='cuda:0')]"
          ]
        },
        {
          "output_type": "stream",
          "name": "stdout",
          "text": [
            "Total training time: 571.520 seconds\n"
          ]
        },
        {
          "output_type": "stream",
          "name": "stderr",
          "text": [
            "\n"
          ]
        }
      ]
    },
    {
      "cell_type": "code",
      "source": [
        "torch.save(model8.state_dict(), \"trained_model8.pth\")"
      ],
      "metadata": {
        "id": "36w0XnDTbQQv"
      },
      "execution_count": 67,
      "outputs": []
    },
    {
      "cell_type": "code",
      "source": [],
      "metadata": {
        "id": "i6RcOaGzmhnX"
      },
      "execution_count": null,
      "outputs": []
    }
  ]
}