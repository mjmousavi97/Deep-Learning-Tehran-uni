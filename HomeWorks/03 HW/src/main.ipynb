{
  "nbformat": 4,
  "nbformat_minor": 0,
  "metadata": {
    "colab": {
      "provenance": [],
      "gpuType": "T4",
      "authorship_tag": "ABX9TyOxdryQk5DtArlNRbN6NCQH",
      "include_colab_link": true
    },
    "kernelspec": {
      "name": "python3",
      "display_name": "Python 3"
    },
    "language_info": {
      "name": "python"
    },
    "accelerator": "GPU"
  },
  "cells": [
    {
      "cell_type": "markdown",
      "metadata": {
        "id": "view-in-github",
        "colab_type": "text"
      },
      "source": [
        "<a href=\"https://colab.research.google.com/github/mjmousavi97/Deep-Learning-Tehran-uni/blob/main/HomeWorks/03%20HW/src/main.ipynb\" target=\"_parent\"><img src=\"https://colab.research.google.com/assets/colab-badge.svg\" alt=\"Open In Colab\"/></a>"
      ]
    },
    {
      "cell_type": "code",
      "execution_count": 1,
      "metadata": {
        "id": "HUD7kKamDDQO"
      },
      "outputs": [],
      "source": [
        "import torch\n",
        "from torch import nn\n",
        "import torch.nn.functional as F\n",
        "from torch.utils.data import DataLoader, Dataset\n",
        "\n",
        "import torchvision\n",
        "from torchvision import transforms\n",
        "from torchvision.datasets import ImageFolder\n",
        "\n",
        "import matplotlib.pyplot as plt\n",
        "import numpy as np\n",
        "import seaborn as sns\n",
        "import os\n",
        "import random\n",
        "import glob\n",
        "import cv2\n",
        "from tqdm import tqdm\n",
        "from PIL import Image\n",
        "\n",
        "from timeit import default_timer as timer"
      ]
    },
    {
      "cell_type": "code",
      "source": [
        "# Define a transformation pipeline for preprocessing images\n",
        "transform = transforms.Compose(\n",
        "    [\n",
        "        # 1. Convert the input image (PIL Image or NumPy array) into a PyTorch tensor.\n",
        "        #    - Converts pixel values from range [0, 255] to [0.0, 1.0].\n",
        "        transforms.ToTensor(),\n",
        "\n",
        "        # 2. Randomly flip the image horizontally with probability 0.5.\n",
        "        #    - Useful for data augmentation to improve model generalization.\n",
        "        transforms.RandomHorizontalFlip(p=0.5),\n",
        "\n",
        "        # 3. Normalize the image tensor using mean=0.5 and std=0.5.\n",
        "        #    - Formula: (x - mean) / std\n",
        "        #    - This maps values from [0.0, 1.0] to [-1.0, 1.0].\n",
        "        transforms.Normalize((0.5,), (0.5,))\n",
        "    ]\n",
        ")\n",
        "\n",
        "\"\"\"\n",
        "Docstring:\n",
        "----------\n",
        "This transformation pipeline is designed for preprocessing image data\n",
        "before feeding it into a neural network.\n",
        "\n",
        "Steps applied to each image:\n",
        "1. Convert the image to a tensor with values in [0,1].\n",
        "2. Apply a random horizontal flip with probability 0.5\n",
        "   (data augmentation).\n",
        "3. Normalize the tensor so that pixel values fall in [-1,1].\n",
        "\n",
        "Typical use case: applied to image datasets (e.g., MNIST, CIFAR-10)\n",
        "to improve training stability and generalization.\n",
        "\"\"\""
      ],
      "metadata": {
        "colab": {
          "base_uri": "https://localhost:8080/",
          "height": 72
        },
        "id": "VsCj88zlZVej",
        "outputId": "d0674853-e088-4bb1-b6b5-64f8038c801f"
      },
      "execution_count": 2,
      "outputs": [
        {
          "output_type": "execute_result",
          "data": {
            "text/plain": [
              "'\\nDocstring:\\n----------\\nThis transformation pipeline is designed for preprocessing image data\\nbefore feeding it into a neural network.\\n\\nSteps applied to each image:\\n1. Convert the image to a tensor with values in [0,1].\\n2. Apply a random horizontal flip with probability 0.5\\n   (data augmentation).\\n3. Normalize the tensor so that pixel values fall in [-1,1].\\n\\nTypical use case: applied to image datasets (e.g., MNIST, CIFAR-10)\\nto improve training stability and generalization.\\n'"
            ],
            "application/vnd.google.colaboratory.intrinsic+json": {
              "type": "string"
            }
          },
          "metadata": {},
          "execution_count": 2
        }
      ]
    },
    {
      "cell_type": "code",
      "source": [
        "# Load the FashionMNIST training dataset\n",
        "train_dataset_FashionMNIST = torchvision.datasets.FashionMNIST(\n",
        "    root=\"data\",          # Directory where the dataset will be stored/downloaded\n",
        "    train=True,           # True = load the training split (60,000 images)\n",
        "    download=True,        # Download the dataset if it's not already on disk\n",
        "    transform=transform   # Apply preprocessing pipeline (ToTensor, augmentation, normalization)\n",
        ")\n",
        "\n",
        "# Load the FashionMNIST test dataset\n",
        "test_dataset_FashionMNIST = torchvision.datasets.FashionMNIST(\n",
        "    root=\"data\",          # Same directory used for training dataset\n",
        "    train=False,          # False = load the test split (10,000 images)\n",
        "    download=True,        # Download if not already present\n",
        "    transform=transform   # Apply the same preprocessing pipeline as training\n",
        ")"
      ],
      "metadata": {
        "colab": {
          "base_uri": "https://localhost:8080/"
        },
        "id": "dCQWTQuRZVbJ",
        "outputId": "73b85d40-77ae-436a-a7d9-c5094e0e54a9"
      },
      "execution_count": 3,
      "outputs": [
        {
          "output_type": "stream",
          "name": "stderr",
          "text": [
            "100%|██████████| 26.4M/26.4M [00:02<00:00, 12.9MB/s]\n",
            "100%|██████████| 29.5k/29.5k [00:00<00:00, 203kB/s]\n",
            "100%|██████████| 4.42M/4.42M [00:01<00:00, 3.82MB/s]\n",
            "100%|██████████| 5.15k/5.15k [00:00<00:00, 13.4MB/s]\n"
          ]
        }
      ]
    },
    {
      "cell_type": "code",
      "source": [
        "# Load the MNIST training dataset\n",
        "train_dataset_MNIST = torchvision.datasets.MNIST(\n",
        "    root=\"data\",\n",
        "    train=True,\n",
        "    download=True,\n",
        "    transform=transform\n",
        ")\n",
        "\n",
        "# Load the MNIST test dataset\n",
        "test_dataset_MNIST = torchvision.datasets.MNIST(\n",
        "    root=\"data\",\n",
        "    train=False,\n",
        "    download=True,\n",
        "    transform=transform\n",
        ")"
      ],
      "metadata": {
        "colab": {
          "base_uri": "https://localhost:8080/"
        },
        "id": "SGpNiJUNZVYc",
        "outputId": "b2d18cad-deb5-4676-d2c7-c1e735f74f3e"
      },
      "execution_count": 4,
      "outputs": [
        {
          "output_type": "stream",
          "name": "stderr",
          "text": [
            "100%|██████████| 9.91M/9.91M [00:00<00:00, 18.8MB/s]\n",
            "100%|██████████| 28.9k/28.9k [00:00<00:00, 510kB/s]\n",
            "100%|██████████| 1.65M/1.65M [00:00<00:00, 4.67MB/s]\n",
            "100%|██████████| 4.54k/4.54k [00:00<00:00, 7.82MB/s]\n"
          ]
        }
      ]
    },
    {
      "cell_type": "code",
      "source": [
        "# Load the CIFAR10 training dataset\n",
        "train_dataset_CIFAR10 = torchvision.datasets.CIFAR10(\n",
        "    root=\"data\",\n",
        "    train=True,\n",
        "    download=True,\n",
        "    transform=transform\n",
        ")\n",
        "\n",
        "# Load the CIFAR10 test dataset\n",
        "test_dataset_CIFAR10 = torchvision.datasets.CIFAR10(\n",
        "    root=\"data\",\n",
        "    train=False,\n",
        "    download=True,\n",
        "    transform=transform\n",
        ")\n"
      ],
      "metadata": {
        "colab": {
          "base_uri": "https://localhost:8080/"
        },
        "id": "nIr3Pj9OZVVf",
        "outputId": "ea6cfb94-fdf0-4292-e058-960905c631af"
      },
      "execution_count": 5,
      "outputs": [
        {
          "output_type": "stream",
          "name": "stderr",
          "text": [
            "100%|██████████| 170M/170M [00:03<00:00, 43.8MB/s]\n"
          ]
        }
      ]
    },
    {
      "cell_type": "code",
      "source": [
        "def create_dataloader(train_raw_dataset, test_raw_dataset, batch_size):\n",
        "    \"\"\"\n",
        "    Create PyTorch DataLoaders for training and testing datasets.\n",
        "\n",
        "    Parameters\n",
        "    ----------\n",
        "    train_raw_dataset : torch.utils.data.Dataset\n",
        "        The training dataset (e.g., MNIST, CIFAR-10).\n",
        "    test_raw_dataset : torch.utils.data.Dataset\n",
        "        The test dataset (e.g., MNIST, CIFAR-10).\n",
        "    batch_size : int\n",
        "        Number of samples per batch to load.\n",
        "\n",
        "    Returns\n",
        "    -------\n",
        "    train_dataloader : torch.utils.data.DataLoader\n",
        "        DataLoader for the training dataset with shuffling enabled.\n",
        "    test_dataloader : torch.utils.data.DataLoader\n",
        "        DataLoader for the test dataset with shuffling disabled.\n",
        "    \"\"\"\n",
        "    train_dataloader = DataLoader(\n",
        "        dataset=train_raw_dataset,\n",
        "        batch_size=batch_size,\n",
        "        num_workers=2,   # number of subprocesses to use for data loading\n",
        "        shuffle=True     # shuffle only for training\n",
        "    )\n",
        "\n",
        "    test_dataloader = DataLoader(\n",
        "        dataset=test_raw_dataset,\n",
        "        batch_size=batch_size,\n",
        "        num_workers=2,\n",
        "        shuffle=False    # don't shuffle test data\n",
        "    )\n",
        "\n",
        "    return train_dataloader, test_dataloader\n"
      ],
      "metadata": {
        "id": "ugXOqmq1ZVSq"
      },
      "execution_count": 6,
      "outputs": []
    },
    {
      "cell_type": "code",
      "source": [
        "# Create dataloaders for FashionMNIST\n",
        "train_dataloader_FashionMNIST, test_dataloader_FashionMNIST = create_dataloader(\n",
        "    train_dataset_FashionMNIST, test_dataset_FashionMNIST, batch_size=128\n",
        ")\n",
        "\n",
        "# Create dataloaders for MNIST\n",
        "train_dataloader_MNIST, test_dataloader_MNIST = create_dataloader(\n",
        "    train_dataset_MNIST, test_dataset_MNIST, batch_size=128\n",
        ")\n",
        "\n",
        "# Create dataloaders for CIFAR-10\n",
        "train_dataloader_CIFAR10, test_dataloader_CIFAR10 = create_dataloader(\n",
        "    train_dataset_CIFAR10, test_dataset_CIFAR10, batch_size=128\n",
        ")"
      ],
      "metadata": {
        "id": "RD7mpbJxZVPp"
      },
      "execution_count": 7,
      "outputs": []
    },
    {
      "cell_type": "code",
      "source": [
        "print(\"FashionMNIST classes:\", train_dataset_FashionMNIST.classes)\n",
        "print(\"MNIST classes:\", train_dataset_MNIST.classes)\n",
        "print(\"CIFAR-10 classes:\", train_dataset_CIFAR10.classes)"
      ],
      "metadata": {
        "colab": {
          "base_uri": "https://localhost:8080/"
        },
        "id": "rrus9kyjZVM4",
        "outputId": "5d682928-19f7-4c6f-acb8-77294d7e1233"
      },
      "execution_count": null,
      "outputs": [
        {
          "output_type": "stream",
          "name": "stdout",
          "text": [
            "FashionMNIST classes: ['T-shirt/top', 'Trouser', 'Pullover', 'Dress', 'Coat', 'Sandal', 'Shirt', 'Sneaker', 'Bag', 'Ankle boot']\n",
            "MNIST classes: ['0 - zero', '1 - one', '2 - two', '3 - three', '4 - four', '5 - five', '6 - six', '7 - seven', '8 - eight', '9 - nine']\n",
            "CIFAR-10 classes: ['airplane', 'automobile', 'bird', 'cat', 'deer', 'dog', 'frog', 'horse', 'ship', 'truck']\n"
          ]
        }
      ]
    },
    {
      "cell_type": "code",
      "source": [
        "def show_sample(data_dataloader, mean, std):\n",
        "    batch_images, batch_labels = next(iter(data_dataloader))\n",
        "    normed_image = batch_images[0]      # first image in batch\n",
        "    label = batch_labels[0]             # its label\n",
        "\n",
        "    # Denormalize: x * std + mean\n",
        "    original_image = (normed_image * std) + mean\n",
        "\n",
        "    # Remove channel dimension (1, H, W) -> (H, W)\n",
        "    plt.imshow(original_image.permute(1, 2, 0), cmap=\"gray\")\n",
        "    plt.title(f\"Label: {label.item()}\")\n",
        "    plt.axis(\"off\")\n",
        "    plt.show()\n",
        "    print(f\"Image size: {original_image.shape}\")"
      ],
      "metadata": {
        "id": "eCwXWKEOZVJ4"
      },
      "execution_count": null,
      "outputs": []
    },
    {
      "cell_type": "code",
      "source": [
        "show_sample(train_dataloader_FashionMNIST, mean=0.5, std=0.5)"
      ],
      "metadata": {
        "colab": {
          "base_uri": "https://localhost:8080/",
          "height": 446
        },
        "id": "I86WUqxdZU6V",
        "outputId": "d3c7ec53-6612-419a-895b-d0304ab3582c"
      },
      "execution_count": null,
      "outputs": [
        {
          "output_type": "display_data",
          "data": {
            "text/plain": [
              "<Figure size 640x480 with 1 Axes>"
            ],
            "image/png": "[encoded data removed]"
          },
          "metadata": {}
        },
        {
          "output_type": "stream",
          "name": "stdout",
          "text": [
            "Image size: torch.Size([1, 28, 28])\n"
          ]
        }
      ]
    },
    {
      "cell_type": "code",
      "source": [
        "show_sample(train_dataloader_MNIST, mean=0.5, std=0.5)"
      ],
      "metadata": {
        "colab": {
          "base_uri": "https://localhost:8080/",
          "height": 446
        },
        "id": "qqzHCByqZUvZ",
        "outputId": "e42ed9db-c0de-4093-b3be-46f8ecc2ee71"
      },
      "execution_count": null,
      "outputs": [
        {
          "output_type": "display_data",
          "data": {
            "text/plain": [
              "<Figure size 640x480 with 1 Axes>"
            ],
            "image/png": "[encoded data removed]"
          },
          "metadata": {}
        },
        {
          "output_type": "stream",
          "name": "stdout",
          "text": [
            "Image size: torch.Size([1, 28, 28])\n"
          ]
        }
      ]
    },
    {
      "cell_type": "code",
      "source": [
        "show_sample(train_dataloader_CIFAR10, mean=0.5, std=0.5)"
      ],
      "metadata": {
        "colab": {
          "base_uri": "https://localhost:8080/",
          "height": 446
        },
        "id": "5UvybEU6yYm8",
        "outputId": "de5bb1e9-0680-4b33-f5f8-a25d47ffda91"
      },
      "execution_count": null,
      "outputs": [
        {
          "output_type": "display_data",
          "data": {
            "text/plain": [
              "<Figure size 640x480 with 1 Axes>"
            ],
            "image/png": "[encoded data removed]"
          },
          "metadata": {}
        },
        {
          "output_type": "stream",
          "name": "stdout",
          "text": [
            "Image size: torch.Size([3, 32, 32])\n"
          ]
        }
      ]
    },
    {
      "cell_type": "markdown",
      "source": [
        "# First Model"
      ],
      "metadata": {
        "id": "xB1YLKXM_O6-"
      }
    },
    {
      "cell_type": "code",
      "source": [
        "class SCNNB(nn.Module):\n",
        "    \"\"\"\n",
        "    Shallow Convolutional Neural Network with Batch Normalization (SCNNB).\n",
        "\n",
        "    Architecture (for input 28x28x1 like MNIST):\n",
        "        - Conv(3x3, 32 filters, padding=1) + BN + ReLU\n",
        "        - MaxPool(2x2)\n",
        "        - Conv(3x3, 64 filters, padding=1) + BN + ReLU\n",
        "        - MaxPool(2x2)\n",
        "        - Flatten\n",
        "        - FC(3136 -> 1280) + ReLU\n",
        "        - Dropout(0.5)\n",
        "        - FC(1280 -> num_classes)\n",
        "\n",
        "    Notes:\n",
        "        - Padding=1 keeps spatial size before pooling.\n",
        "        - For MNIST (1x28x28) → Flatten=3136 (64*7*7).\n",
        "        - For CIFAR-10 (3x32x32) → Flatten=4096 (64*8*8).\n",
        "        - Forward returns raw logits; use nn.CrossEntropyLoss for training.\n",
        "    \"\"\"\n",
        "\n",
        "    def __init__(self, in_channels: int = 1, num_classes: int = 10, input_size: int = 28):\n",
        "        \"\"\"\n",
        "        Initialize the SCNNB model.\n",
        "\n",
        "        Args:\n",
        "            in_channels (int): Number of input channels (1 for grayscale, 3 for RGB).\n",
        "            num_classes (int): Number of output classes.\n",
        "            input_size (int): Height/Width of the input image (assumed square).\n",
        "        \"\"\"\n",
        "        super().__init__()\n",
        "        self.input_size  = input_size\n",
        "        self.in_channels = in_channels\n",
        "        self.num_classes = num_classes\n",
        "\n",
        "        # ---- Feature extractor ----\n",
        "        self.conv1 = nn.Conv2d(in_channels, 32, kernel_size=3, stride=1, padding=1, bias=False)\n",
        "        self.bn1   = nn.BatchNorm2d(32)\n",
        "        self.pool1 = nn.MaxPool2d(kernel_size=2, stride=2)\n",
        "\n",
        "        self.conv2 = nn.Conv2d(32, 64, kernel_size=3, stride=1, padding=1, bias=False)\n",
        "        self.bn2   = nn.BatchNorm2d(64)\n",
        "        self.pool2 = nn.MaxPool2d(kernel_size=2, stride=2)\n",
        "\n",
        "        # ---- Classifier ----\n",
        "        feat_dim   = self._calc_feat_dim()  # Dynamically compute flattened feature dimension\n",
        "        self.fc1   = nn.Linear(feat_dim, 1280)\n",
        "        self.drop1 = nn.Dropout(p=0.5)\n",
        "        self.fc_out= nn.Linear(1280, num_classes)\n",
        "\n",
        "    def _calc_feat_dim(self) -> int:\n",
        "        \"\"\"\n",
        "        Compute the number of features after the convolution + pooling layers.\n",
        "        This ensures the fully connected layer is correctly sized for any input.\n",
        "\n",
        "        Returns:\n",
        "            int: Flattened feature dimension.\n",
        "        \"\"\"\n",
        "        with torch.no_grad():\n",
        "            device = next(self.parameters()).device  # Match the device of the model\n",
        "            tmp = torch.zeros((1, self.in_channels, self.input_size, self.input_size), device=device)\n",
        "            tmp = self.pool1(F.relu(self.bn1(self.conv1(tmp))))\n",
        "            tmp = self.pool2(F.relu(self.bn2(self.conv2(tmp))))\n",
        "            return tmp.numel()\n",
        "\n",
        "    def forward(self, x: torch.Tensor) -> torch.Tensor:\n",
        "        \"\"\"\n",
        "        Forward pass of SCNNB.\n",
        "\n",
        "        Args:\n",
        "            x (torch.Tensor): Input tensor of shape (N, C, H, W).\n",
        "\n",
        "        Returns:\n",
        "            torch.Tensor: Logits of shape (N, num_classes).\n",
        "        \"\"\"\n",
        "        # ---- Feature extraction ----\n",
        "        x = self.pool1(F.relu(self.bn1(self.conv1(x))))\n",
        "        x = self.pool2(F.relu(self.bn2(self.conv2(x))))\n",
        "\n",
        "        # ---- Classification head ----\n",
        "        x = torch.flatten(x, start_dim=1)   # Flatten to (N, feat_dim)\n",
        "        x = F.relu(self.fc1(x))             # Fully connected hidden layer\n",
        "        x = self.drop1(x)                   # Dropout for regularization\n",
        "        logits = self.fc_out(x)             # Output logits (no softmax)\n",
        "        return logits\n"
      ],
      "metadata": {
        "id": "N7OIH-cfDsQQ"
      },
      "execution_count": 8,
      "outputs": []
    },
    {
      "cell_type": "code",
      "source": [
        "num_classes_MNIST = len(train_dataset_MNIST.classes)\n",
        "num_classes_FashionMNIST = len(train_dataset_FashionMNIST.classes)\n",
        "num_classes_CIFAR10 = len(train_dataset_CIFAR10.classes)"
      ],
      "metadata": {
        "id": "ckx5r2SL3hPe"
      },
      "execution_count": 9,
      "outputs": []
    },
    {
      "cell_type": "code",
      "source": [
        "model1 = SCNNB(in_channels=1, num_classes=num_classes_MNIST, input_size=28)\n",
        "model2 = SCNNB(in_channels=1, num_classes=num_classes_FashionMNIST, input_size=28)\n",
        "model3 = SCNNB(in_channels=3, num_classes=num_classes_CIFAR10, input_size=32)"
      ],
      "metadata": {
        "id": "qQ685UL2PEif"
      },
      "execution_count": 10,
      "outputs": []
    },
    {
      "cell_type": "code",
      "source": [
        "random_sample = torch.randn((1, 3, 32, 32))\n",
        "model3(random_sample).shape"
      ],
      "metadata": {
        "colab": {
          "base_uri": "https://localhost:8080/"
        },
        "id": "qWzwj0c44JPL",
        "outputId": "3422cedb-3040-4a36-e7a6-4725f69016c7"
      },
      "execution_count": null,
      "outputs": [
        {
          "output_type": "execute_result",
          "data": {
            "text/plain": [
              "torch.Size([1, 10])"
            ]
          },
          "metadata": {},
          "execution_count": 16
        }
      ]
    },
    {
      "cell_type": "markdown",
      "source": [
        "# Second Model"
      ],
      "metadata": {
        "id": "QkLoyLdB58Gw"
      }
    },
    {
      "cell_type": "code",
      "source": [
        "class SCNNB_a(nn.Module):\n",
        "    \"\"\"\n",
        "    Shallow Convolutional Neural Network with automatic feature dimension calculation.\n",
        "\n",
        "    Architecture:\n",
        "        - Two convolutional layers with ReLU activation and MaxPooling\n",
        "        - Batch normalization after the second convolution\n",
        "        - Fully connected classifier with one hidden layer, ReLU, and Dropout\n",
        "        - Output layer produces logits for classification\n",
        "\n",
        "    Attributes:\n",
        "        in_channels (int): Number of channels in the input image (e.g., 1 for grayscale, 3 for RGB)\n",
        "        image_size (int): Height and width of the square input image\n",
        "        num_classes (int): Number of output classes for classification\n",
        "        CNN_block (nn.Sequential): Feature extraction layers (convolutions + activations + pooling)\n",
        "        classifier (nn.Sequential): Fully connected layers for classification\n",
        "    \"\"\"\n",
        "\n",
        "    def __init__(self, in_channels=1, num_classes=10, image_size=28):\n",
        "        super().__init__()\n",
        "\n",
        "        self.in_channels = in_channels\n",
        "        self.image_size = image_size\n",
        "        self.num_classes = num_classes\n",
        "\n",
        "        # Feature extraction block\n",
        "        self.CNN_block = nn.Sequential(\n",
        "            nn.Conv2d(in_channels=in_channels, out_channels=32, kernel_size=3, stride=1, padding=1, bias=True),\n",
        "            nn.ReLU(),\n",
        "            nn.MaxPool2d(kernel_size=2, stride=2),\n",
        "\n",
        "            nn.Conv2d(in_channels=32, out_channels=64, kernel_size=3, stride=1, padding=1, bias=False),\n",
        "            nn.BatchNorm2d(num_features=64),\n",
        "            nn.ReLU(),\n",
        "            nn.MaxPool2d(kernel_size=2, stride=2)\n",
        "        )\n",
        "\n",
        "        # Fully connected classifier\n",
        "        self.classifier = nn.Sequential(\n",
        "            nn.Flatten(),\n",
        "            nn.Linear(in_features=self._calc_feat_dim(), out_features=1280),\n",
        "            nn.ReLU(),\n",
        "            nn.Dropout(p=0.5),\n",
        "            nn.Linear(in_features=1280, out_features=self.num_classes)\n",
        "        )\n",
        "\n",
        "    def _calc_feat_dim(self) -> int:\n",
        "        \"\"\"\n",
        "        Compute the flattened feature dimension after CNN_block.\n",
        "\n",
        "        This ensures the linear layer is correctly sized for any input image size.\n",
        "\n",
        "        Returns:\n",
        "            int: Number of features after flattening the CNN output\n",
        "        \"\"\"\n",
        "        with torch.no_grad():\n",
        "            device = next(self.parameters()).device  # match the model's device\n",
        "            tmp = torch.zeros((1, self.in_channels, self.image_size, self.image_size), device=device)\n",
        "            tmp = self.CNN_block(tmp)\n",
        "            return tmp.numel()\n",
        "\n",
        "    def forward(self, x: torch.Tensor) -> torch.Tensor:\n",
        "        \"\"\"\n",
        "        Forward pass through the network.\n",
        "\n",
        "        Args:\n",
        "            x (torch.Tensor): Input tensor of shape (batch_size, in_channels, image_size, image_size)\n",
        "\n",
        "        Returns:\n",
        "            torch.Tensor: Output logits of shape (batch_size, num_classes)\n",
        "        \"\"\"\n",
        "        x = self.CNN_block(x)\n",
        "        x = self.classifier(x)\n",
        "        return x"
      ],
      "metadata": {
        "id": "v8DnBPhw_Vc1"
      },
      "execution_count": 11,
      "outputs": []
    },
    {
      "cell_type": "code",
      "source": [
        "model4 = SCNNB_a(in_channels=1, num_classes=10, image_size=28)\n",
        "model5 = SCNNB_a(in_channels=1, num_classes=10, image_size=28)\n",
        "model6 = SCNNB_a(in_channels=3, num_classes=10, image_size=32)"
      ],
      "metadata": {
        "id": "mudZ_R1hfciU"
      },
      "execution_count": 12,
      "outputs": []
    },
    {
      "cell_type": "markdown",
      "source": [
        "# Third Model"
      ],
      "metadata": {
        "id": "i2rqmqG1IShW"
      }
    },
    {
      "cell_type": "code",
      "source": [
        "class SCNNB_b(nn.Module):\n",
        "    \"\"\"\n",
        "    Shallow Convolutional Neural Network with automatic feature dimension calculation.\n",
        "\n",
        "    Architecture:\n",
        "        - Two convolutional layers with ReLU activation and MaxPooling\n",
        "        - No Batch Normalization\n",
        "        - Fully connected classifier with one hidden layer, ReLU, and Dropout\n",
        "        - Output layer produces logits for classification\n",
        "\n",
        "    Attributes:\n",
        "        in_channels (int): Number of channels in the input image (e.g., 1 for grayscale, 3 for RGB)\n",
        "        image_size (int): Height and width of the square input image\n",
        "        num_classes (int): Number of output classes for classification\n",
        "        CNN_block (nn.Sequential): Feature extraction layers (convolutions + activations + pooling)\n",
        "        classifier (nn.Sequential): Fully connected layers for classification\n",
        "    \"\"\"\n",
        "\n",
        "    def __init__(self, in_channels=1, num_classes=10, image_size=28):\n",
        "        super().__init__()\n",
        "\n",
        "        self.in_channels = in_channels\n",
        "        self.image_size = image_size\n",
        "        self.num_classes = num_classes\n",
        "\n",
        "        # Feature extraction block\n",
        "        self.CNN_block = nn.Sequential(\n",
        "            nn.Conv2d(in_channels=in_channels, out_channels=32, kernel_size=3, stride=1, padding=1, bias=True),\n",
        "            nn.ReLU(),\n",
        "            nn.MaxPool2d(kernel_size=2, stride=2),\n",
        "\n",
        "            nn.Conv2d(in_channels=32, out_channels=64, kernel_size=3, stride=1, padding=1, bias=True),\n",
        "            nn.ReLU(),\n",
        "            nn.MaxPool2d(kernel_size=2, stride=2)\n",
        "        )\n",
        "\n",
        "        # Fully connected classifier\n",
        "        self.classifier = nn.Sequential(\n",
        "            nn.Flatten(),\n",
        "            nn.Linear(in_features=self._calc_feat_dim(), out_features=1280),\n",
        "            nn.ReLU(),\n",
        "            nn.Dropout(p=0.5),\n",
        "            nn.Linear(in_features=1280, out_features=self.num_classes)\n",
        "        )\n",
        "\n",
        "    def _calc_feat_dim(self) -> int:\n",
        "        \"\"\"\n",
        "        Compute the flattened feature dimension after CNN_block.\n",
        "\n",
        "        This ensures the linear layer is correctly sized for any input image size.\n",
        "\n",
        "        Returns:\n",
        "            int: Number of features after flattening the CNN output\n",
        "        \"\"\"\n",
        "        with torch.no_grad():\n",
        "            device = next(self.parameters()).device  # match the model's device\n",
        "            tmp = torch.zeros((1, self.in_channels, self.image_size, self.image_size), device=device)\n",
        "            tmp = self.CNN_block(tmp)\n",
        "            return tmp.numel()\n",
        "\n",
        "    def forward(self, x: torch.Tensor) -> torch.Tensor:\n",
        "        \"\"\"\n",
        "        Forward pass through the network.\n",
        "\n",
        "        Args:\n",
        "            x (torch.Tensor): Input tensor of shape (batch_size, in_channels, image_size, image_size)\n",
        "\n",
        "        Returns:\n",
        "            torch.Tensor: Output logits of shape (batch_size, num_classes)\n",
        "        \"\"\"\n",
        "        x = self.CNN_block(x)\n",
        "        x = self.classifier(x)\n",
        "        return x"
      ],
      "metadata": {
        "id": "5r5q_4ToIy5r"
      },
      "execution_count": 13,
      "outputs": []
    },
    {
      "cell_type": "code",
      "source": [
        "model7 = SCNNB_b(in_channels=1, num_classes=10, image_size=28)\n",
        "model8 = SCNNB_b(in_channels=1, num_classes=10, image_size=28)\n",
        "model9 = SCNNB_b(in_channels=3, num_classes=10, image_size=32)"
      ],
      "metadata": {
        "id": "gVEMdOe5f2GG"
      },
      "execution_count": 14,
      "outputs": []
    },
    {
      "cell_type": "markdown",
      "source": [
        "# Define `train_step` & `test_step`"
      ],
      "metadata": {
        "id": "vE6hCiRcJEg6"
      }
    },
    {
      "cell_type": "code",
      "source": [
        "def train_step(model, data_loader, loss_fn, optimizer, accuracy_fn, device):\n",
        "    \"\"\"\n",
        "    Performs one full training epoch over the provided data loader.\n",
        "\n",
        "    Args:\n",
        "        model (torch.nn.Module): The neural network model to train.\n",
        "        data_loader (DataLoader): DataLoader providing training batches.\n",
        "        loss_fn (callable): Loss function to compute the error.\n",
        "        optimizer (torch.optim.Optimizer): Optimizer for updating model parameters.\n",
        "        accuracy_fn (callable): Function to calculate accuracy.\n",
        "        device (torch.device): Device to run computations on (CPU or GPU).\n",
        "\n",
        "    Returns:\n",
        "        tuple: (average_train_loss, average_train_accuracy) over the epoch.\n",
        "    \"\"\"\n",
        "    model.to(device)  # Move model to the specified device (CPU or GPU)\n",
        "    train_loss, train_acc, counter = 0, 0, 0\n",
        "\n",
        "    with tqdm(data_loader, desc='  train') as train_tqdm:\n",
        "        for X, y in train_tqdm:\n",
        "            # Move data to the specified device\n",
        "            X, y = X.to(device), y.to(device)\n",
        "\n",
        "            # Forward pass: predict outputs\n",
        "            y_pred = model(X)\n",
        "\n",
        "            # Compute the loss for current batch\n",
        "            loss = loss_fn(y_pred, y)\n",
        "\n",
        "            # Accumulate loss and accuracy values\n",
        "            train_loss += loss.item()  # Convert tensor loss to float before accumulating\n",
        "            train_acc += accuracy_fn(true=y, pred=y_pred).item()\n",
        "\n",
        "            counter += 1  # Increment batch counter\n",
        "\n",
        "            # Update tqdm progress bar postfix with current average accuracy and loss\n",
        "            train_tqdm.set_postfix(\n",
        "                train_acc=train_acc / counter,\n",
        "                train_loss=train_loss / counter,\n",
        "                refresh=True\n",
        "            )\n",
        "\n",
        "             # Zero gradients before backward pass\n",
        "            optimizer.zero_grad()\n",
        "\n",
        "            # Backward pass: compute gradients\n",
        "            loss.backward()\n",
        "\n",
        "            # Update model parameters\n",
        "            optimizer.step()\n",
        "\n",
        "        # Compute average loss and accuracy over all batches\n",
        "        train_loss /= len(data_loader)\n",
        "        train_acc /= len(data_loader)\n",
        "\n",
        "    return train_loss, train_acc\n"
      ],
      "metadata": {
        "id": "RMgbz6vve-4i"
      },
      "execution_count": 15,
      "outputs": []
    },
    {
      "cell_type": "code",
      "source": [
        "def test_step(model, data_loader, loss_fn, accuracy_fn, device):\n",
        "    \"\"\"\n",
        "    Evaluate a trained model on a test dataset.\n",
        "\n",
        "    Args:\n",
        "        model (torch.nn.Module): The trained PyTorch model to evaluate.\n",
        "        data_loader (torch.utils.data.DataLoader): DataLoader containing the test dataset.\n",
        "        loss_fn (callable): Loss function used to compute the evaluation loss.\n",
        "        accuracy_fn (callable): Function to compute accuracy.\n",
        "                                 Should accept `true` (ground truth labels) and `pred` (model predictions).\n",
        "        device (torch.device or str): Device to perform computation on ('cpu' or 'cuda').\n",
        "\n",
        "    Returns:\n",
        "        tuple:\n",
        "            test_loss (float) - Average loss over the test dataset.\n",
        "            test_acc (float) - Average accuracy over the test dataset.\n",
        "    \"\"\"\n",
        "\n",
        "    # Move the model to the specified device (CPU or GPU)\n",
        "    model.to(device)\n",
        "\n",
        "    # Initialize accumulators for loss, accuracy, and batch count\n",
        "    test_loss, test_acc, counter = 0, 0, 0\n",
        "\n",
        "    # Set the model to evaluation mode (important for layers like dropout, batch norm)\n",
        "    model.eval()\n",
        "\n",
        "    # Use tqdm for a progress bar over the test DataLoader\n",
        "    with tqdm(data_loader, desc='  test') as test_tqdm:\n",
        "        for X, y in test_tqdm:\n",
        "            # Move input data and labels to the selected device\n",
        "            X, y = X.to(device), y.to(device)\n",
        "\n",
        "            # Forward pass (no gradient calculation needed for testing)\n",
        "            test_pred = model(X)\n",
        "\n",
        "            # Accumulate the loss (detach from computation graph)\n",
        "            test_loss += loss_fn(test_pred, y)\n",
        "\n",
        "            # Accumulate accuracy (move predictions and labels back to CPU for calculation)\n",
        "            test_acc += accuracy_fn(true=y, pred=test_pred).item()\n",
        "\n",
        "            # Keep track of processed batches\n",
        "            counter += 1\n",
        "\n",
        "            # Update the progress bar display\n",
        "            test_tqdm.set_postfix(\n",
        "                test_acc=test_acc / counter,\n",
        "                test_loss=test_loss / counter,\n",
        "                refresh=True\n",
        "            )\n",
        "\n",
        "        # Compute the average loss and accuracy over all batches\n",
        "        test_loss /= len(data_loader)\n",
        "        test_acc /= len(data_loader)\n",
        "\n",
        "    return test_loss, test_acc\n",
        "\n"
      ],
      "metadata": {
        "id": "i2SkBrodn66R"
      },
      "execution_count": 16,
      "outputs": []
    },
    {
      "cell_type": "markdown",
      "source": [
        "# Define `accuracy_fn`, `loss_fn` and `optimizer`"
      ],
      "metadata": {
        "id": "bAnHh3k0qdcz"
      }
    },
    {
      "cell_type": "code",
      "source": [
        "loss_fn =nn.CrossEntropyLoss()"
      ],
      "metadata": {
        "id": "ODEcGLojqgeM"
      },
      "execution_count": 17,
      "outputs": []
    },
    {
      "cell_type": "code",
      "source": [
        "device = \"cuda\" if torch.cuda.is_available() else \"cpu\""
      ],
      "metadata": {
        "id": "zkyXsGwTrsKG"
      },
      "execution_count": 18,
      "outputs": []
    },
    {
      "cell_type": "code",
      "source": [
        "def accuracy_fn(true, pred):\n",
        "    # pred: raw logits from model\n",
        "    pred_labels = torch.argmax(pred, dim=1)   # class with max logit\n",
        "    acc = (pred_labels == true).float().mean()  # accuracy\n",
        "    return acc"
      ],
      "metadata": {
        "id": "gCtyp8GYsk6k"
      },
      "execution_count": 19,
      "outputs": []
    },
    {
      "cell_type": "code",
      "source": [
        "def optimizer(model):\n",
        "  optimizer = torch.optim.SGD(model.parameters(), lr=0.02, momentum=0.9, weight_decay=0.000005)\n",
        "  return optimizer\n",
        "\n",
        "optimizer1 = optimizer(model1)\n",
        "optimizer2 = optimizer(model2)\n",
        "optimizer3 = optimizer(model3)\n",
        "optimizer4 = optimizer(model4)\n",
        "optimizer5 = optimizer(model5)\n",
        "optimizer6 = optimizer(model6)\n",
        "optimizer7 = optimizer(model7)\n",
        "optimizer8 = optimizer(model8)\n",
        "optimizer9 = optimizer(model9)"
      ],
      "metadata": {
        "id": "vP9-rvAJtkDO"
      },
      "execution_count": 20,
      "outputs": []
    },
    {
      "cell_type": "markdown",
      "source": [
        "# Define `fit` function"
      ],
      "metadata": {
        "id": "oh0yvefhtlEc"
      }
    },
    {
      "cell_type": "code",
      "source": [
        "def fit(model,\n",
        "        train_loader,\n",
        "        test_loader,\n",
        "        loss_fn,\n",
        "        optimizer,\n",
        "        accuracy_fn,\n",
        "        device,\n",
        "        epochs=20):\n",
        "    \"\"\"\n",
        "    Train and evaluate a PyTorch model.\n",
        "\n",
        "    Args:\n",
        "        model (torch.nn.Module): The neural network model to train.\n",
        "        train_loader (torch.utils.data.DataLoader): DataLoader for training data.\n",
        "        test_loader (torch.utils.data.DataLoader): DataLoader for test/validation data.\n",
        "        loss_fn (callable): Loss function.\n",
        "        optimizer (torch.optim.Optimizer): Optimizer for updating model parameters.\n",
        "        accuracy_fn (callable): Function to compute accuracy.\n",
        "        device (torch.device): Device to run computations on ('cpu' or 'cuda').\n",
        "        epochs (int, optional): Number of training epochs. Default is 20.\n",
        "\n",
        "    Returns:\n",
        "        dict: A dictionary containing:\n",
        "            - \"train_loss\" (list): Training loss per epoch.\n",
        "            - \"train_acc\" (list): Training accuracy per epoch.\n",
        "            - \"test_loss\" (list): Test loss per epoch.\n",
        "            - \"test_acc\" (list): Test accuracy per epoch.\n",
        "            - \"total_time\" (float): Total training time in seconds.\n",
        "    \"\"\"\n",
        "\n",
        "    # Lists to store training and testing metrics for each epoch\n",
        "    train_epoch_loss = []\n",
        "    train_epoch_accuracy = []\n",
        "    test_epoch_loss = []\n",
        "    test_epoch_accuracy = []\n",
        "\n",
        "    # Start timer for total training duration\n",
        "    start_time = timer()\n",
        "\n",
        "    for epoch in range(epochs):\n",
        "        print(f\"EPOCH {epoch + 1}/{epochs} :\")\n",
        "\n",
        "        # -------- Training step --------\n",
        "        train_loss, train_acc = train_step(\n",
        "            model=model,\n",
        "            data_loader=train_loader,\n",
        "            loss_fn=loss_fn,\n",
        "            optimizer=optimizer,\n",
        "            accuracy_fn=accuracy_fn,\n",
        "            device=device\n",
        "        )\n",
        "\n",
        "        # -------- Testing/Validation step --------\n",
        "        with torch.no_grad():  # Disable gradient computation for efficiency\n",
        "            test_loss, test_acc = test_step(\n",
        "                model=model,\n",
        "                data_loader=test_loader,\n",
        "                loss_fn=loss_fn,\n",
        "                accuracy_fn=accuracy_fn,\n",
        "                device=device\n",
        "            )\n",
        "\n",
        "        # Store results (convert tensors to Python floats if necessary)\n",
        "        train_epoch_loss.append(train_loss.item() if torch.is_tensor(train_loss) else train_loss)\n",
        "        train_epoch_accuracy.append(train_acc.item() if torch.is_tensor(train_acc) else train_acc)\n",
        "        test_epoch_loss.append(test_loss.item() if torch.is_tensor(test_loss) else test_loss)\n",
        "        test_epoch_accuracy.append(test_acc.item() if torch.is_tensor(test_acc) else test_acc)\n",
        "\n",
        "        # Free GPU memory to avoid memory buildup\n",
        "        del train_loss, train_acc, test_loss, test_acc\n",
        "        torch.cuda.empty_cache()\n",
        "\n",
        "    # End timer\n",
        "    end_time = timer()\n",
        "    total_time = end_time - start_time\n",
        "    print(f\"Total training time: {total_time:.3f} seconds\")\n",
        "\n",
        "    # Return metrics in a dictionary\n",
        "    return {\n",
        "        \"train_loss\": train_epoch_loss,\n",
        "        \"train_acc\": train_epoch_accuracy,\n",
        "        \"test_loss\": test_epoch_loss,\n",
        "        \"test_acc\": test_epoch_accuracy,\n",
        "        \"total_time\": total_time\n",
        "    }\n"
      ],
      "metadata": {
        "id": "zP3sGi6Zokn_"
      },
      "execution_count": 21,
      "outputs": []
    },
    {
      "cell_type": "markdown",
      "source": [
        "# Implementation Results"
      ],
      "metadata": {
        "id": "nlaDux2spWyu"
      }
    },
    {
      "cell_type": "code",
      "source": [
        "def accloss_plots(train_loss1, test_loss1, train_acc1, test_acc1,\n",
        "                  train_loss2, test_loss2, train_acc2, test_acc2,\n",
        "                  train_loss3, test_loss3, train_acc3, test_acc3):\n",
        "    num_epochs = len(train_loss1)\n",
        "    plt.figure(figsize=(13, 10))\n",
        "\n",
        "    # Plot training loss for all sets\n",
        "    plt.subplot(221)\n",
        "    plt.plot(train_loss1, '-.', label='Train Set SCNNB')\n",
        "    plt.plot(train_loss2, '-.', label='Train Set SCNNB-a')\n",
        "    plt.plot(train_loss3, '-.', label='Train Set SCNNB-b')\n",
        "    plt.xlabel('Epochs', fontsize=10, labelpad=8)\n",
        "    plt.title('Loss', fontsize=25, pad=15)\n",
        "    plt.grid()\n",
        "    plt.legend()\n",
        "    sns.despine()\n",
        "\n",
        "    # Plot training accuracy for all sets\n",
        "    plt.subplot(222)\n",
        "    plt.plot(train_acc1, '-.', label='Train Set SCNNB')\n",
        "    plt.plot(train_acc2, '-.', label='Train Set SCNNB-a')\n",
        "    plt.plot(train_acc3, '-.', label='Train Set SCNNB-b')\n",
        "    plt.xlabel('Epochs', fontsize=10, labelpad=8)\n",
        "    plt.title('Accuracy', fontsize=25, pad=15)\n",
        "    plt.tight_layout(pad=3)\n",
        "    plt.grid()\n",
        "    plt.legend()\n",
        "    sns.despine()\n",
        "\n",
        "    # Plot testing loss for all sets\n",
        "    plt.subplot(223)\n",
        "    plt.plot(test_loss1, '-.', label='Test Set SCNNB')\n",
        "    plt.plot(test_loss2, '-.', label='Test Set SCNNB-a')\n",
        "    plt.plot(test_loss3, '-.', label='Test Set SCNNB-b')\n",
        "    plt.xlabel('Epochs', fontsize=10, labelpad=8)\n",
        "    plt.title('Loss', fontsize=25, pad=15)\n",
        "    plt.grid()\n",
        "    plt.legend()\n",
        "    sns.despine()\n",
        "\n",
        "    # Plot testing accuracy for all sets\n",
        "    plt.subplot(224)\n",
        "    plt.plot(test_acc1, '-.', label='Test Set SCNNB')\n",
        "    plt.plot(test_acc2, '-.', label='Test Set SCNNB-a')\n",
        "    plt.plot(test_acc3, '-.', label='Test Set SCNNB-b')\n",
        "    plt.xlabel('Epochs', fontsize=10, labelpad=8)\n",
        "    plt.title('Accuracy', fontsize=25, pad=15)\n",
        "    plt.tight_layout(pad=3)\n",
        "    plt.grid()\n",
        "    plt.legend()\n",
        "    sns.despine()\n",
        "\n",
        "    plt.show()\n"
      ],
      "metadata": {
        "id": "FHs1_2urupwe"
      },
      "execution_count": 22,
      "outputs": []
    },
    {
      "cell_type": "markdown",
      "source": [
        "# Fit for MNIST dataset"
      ],
      "metadata": {
        "id": "r3DrjpTpB0vd"
      }
    },
    {
      "cell_type": "markdown",
      "source": [
        "### Model 1"
      ],
      "metadata": {
        "id": "x9en5IzJCIHw"
      }
    },
    {
      "cell_type": "code",
      "source": [
        "result1_MNIST = fit(model=model1,\n",
        "                    train_loader=train_dataloader_MNIST,\n",
        "                    test_loader=test_dataloader_MNIST,\n",
        "                    loss_fn=loss_fn,\n",
        "                    optimizer=optimizer1,\n",
        "                    accuracy_fn=accuracy_fn,\n",
        "                    device=device,\n",
        "                    epochs=40)"
      ],
      "metadata": {
        "colab": {
          "base_uri": "https://localhost:8080/"
        },
        "id": "eKK3XoIqCKd1",
        "outputId": "21762996-375b-4757-ea6a-429d4b14eebb"
      },
      "execution_count": 30,
      "outputs": [
        {
          "output_type": "stream",
          "name": "stdout",
          "text": [
            "EPOCH 1/40 :\n"
          ]
        },
        {
          "output_type": "stream",
          "name": "stderr",
          "text": [
            "  train: 100%|██████████| 469/469 [00:14<00:00, 31.66it/s, train_acc=0.911, train_loss=0.271]\n",
            "  test: 100%|██████████| 79/79 [00:02<00:00, 28.40it/s, test_acc=0.972, test_loss=tensor(0.0876, device='cuda:0')]\n"
          ]
        },
        {
          "output_type": "stream",
          "name": "stdout",
          "text": [
            "EPOCH 2/40 :\n"
          ]
        },
        {
          "output_type": "stream",
          "name": "stderr",
          "text": [
            "  train: 100%|██████████| 469/469 [00:16<00:00, 29.09it/s, train_acc=0.978, train_loss=0.0695]\n",
            "  test: 100%|██████████| 79/79 [00:02<00:00, 31.36it/s, test_acc=0.982, test_loss=tensor(0.0581, device='cuda:0')]\n"
          ]
        },
        {
          "output_type": "stream",
          "name": "stdout",
          "text": [
            "EPOCH 3/40 :\n"
          ]
        },
        {
          "output_type": "stream",
          "name": "stderr",
          "text": [
            "  train: 100%|██████████| 469/469 [00:15<00:00, 29.35it/s, train_acc=0.986, train_loss=0.0469]\n",
            "  test: 100%|██████████| 79/79 [00:02<00:00, 34.04it/s, test_acc=0.984, test_loss=tensor(0.0482, device='cuda:0')]\n"
          ]
        },
        {
          "output_type": "stream",
          "name": "stdout",
          "text": [
            "EPOCH 4/40 :\n"
          ]
        },
        {
          "output_type": "stream",
          "name": "stderr",
          "text": [
            "  train: 100%|██████████| 469/469 [00:15<00:00, 29.89it/s, train_acc=0.989, train_loss=0.0364]\n",
            "  test: 100%|██████████| 79/79 [00:02<00:00, 32.01it/s, test_acc=0.987, test_loss=tensor(0.0403, device='cuda:0')]\n"
          ]
        },
        {
          "output_type": "stream",
          "name": "stdout",
          "text": [
            "EPOCH 5/40 :\n"
          ]
        },
        {
          "output_type": "stream",
          "name": "stderr",
          "text": [
            "  train: 100%|██████████| 469/469 [00:14<00:00, 31.71it/s, train_acc=0.99, train_loss=0.0305]\n",
            "  test: 100%|██████████| 79/79 [00:02<00:00, 32.54it/s, test_acc=0.987, test_loss=tensor(0.0397, device='cuda:0')]\n"
          ]
        },
        {
          "output_type": "stream",
          "name": "stdout",
          "text": [
            "EPOCH 6/40 :\n"
          ]
        },
        {
          "output_type": "stream",
          "name": "stderr",
          "text": [
            "  train: 100%|██████████| 469/469 [00:14<00:00, 31.45it/s, train_acc=0.992, train_loss=0.0251]\n",
            "  test: 100%|██████████| 79/79 [00:03<00:00, 26.06it/s, test_acc=0.987, test_loss=tensor(0.0375, device='cuda:0')]\n"
          ]
        },
        {
          "output_type": "stream",
          "name": "stdout",
          "text": [
            "EPOCH 7/40 :\n"
          ]
        },
        {
          "output_type": "stream",
          "name": "stderr",
          "text": [
            "  train: 100%|██████████| 469/469 [00:15<00:00, 29.41it/s, train_acc=0.993, train_loss=0.0211]\n",
            "  test: 100%|██████████| 79/79 [00:02<00:00, 33.02it/s, test_acc=0.986, test_loss=tensor(0.0448, device='cuda:0')]\n"
          ]
        },
        {
          "output_type": "stream",
          "name": "stdout",
          "text": [
            "EPOCH 8/40 :\n"
          ]
        },
        {
          "output_type": "stream",
          "name": "stderr",
          "text": [
            "  train: 100%|██████████| 469/469 [00:14<00:00, 31.86it/s, train_acc=0.994, train_loss=0.0186]\n",
            "  test: 100%|██████████| 79/79 [00:02<00:00, 34.71it/s, test_acc=0.989, test_loss=tensor(0.0353, device='cuda:0')]\n"
          ]
        },
        {
          "output_type": "stream",
          "name": "stdout",
          "text": [
            "EPOCH 9/40 :\n"
          ]
        },
        {
          "output_type": "stream",
          "name": "stderr",
          "text": [
            "  train: 100%|██████████| 469/469 [00:15<00:00, 30.11it/s, train_acc=0.995, train_loss=0.0151]\n",
            "  test: 100%|██████████| 79/79 [00:02<00:00, 30.89it/s, test_acc=0.988, test_loss=tensor(0.0428, device='cuda:0')]\n"
          ]
        },
        {
          "output_type": "stream",
          "name": "stdout",
          "text": [
            "EPOCH 10/40 :\n"
          ]
        },
        {
          "output_type": "stream",
          "name": "stderr",
          "text": [
            "  train: 100%|██████████| 469/469 [00:15<00:00, 31.19it/s, train_acc=0.996, train_loss=0.0126]\n",
            "  test: 100%|██████████| 79/79 [00:02<00:00, 34.27it/s, test_acc=0.988, test_loss=tensor(0.0383, device='cuda:0')]\n"
          ]
        },
        {
          "output_type": "stream",
          "name": "stdout",
          "text": [
            "EPOCH 11/40 :\n"
          ]
        },
        {
          "output_type": "stream",
          "name": "stderr",
          "text": [
            "  train: 100%|██████████| 469/469 [00:14<00:00, 31.35it/s, train_acc=0.997, train_loss=0.0107]\n",
            "  test: 100%|██████████| 79/79 [00:02<00:00, 28.16it/s, test_acc=0.989, test_loss=tensor(0.0377, device='cuda:0')]\n"
          ]
        },
        {
          "output_type": "stream",
          "name": "stdout",
          "text": [
            "EPOCH 12/40 :\n"
          ]
        },
        {
          "output_type": "stream",
          "name": "stderr",
          "text": [
            "  train: 100%|██████████| 469/469 [00:15<00:00, 29.76it/s, train_acc=0.997, train_loss=0.00853]\n",
            "  test: 100%|██████████| 79/79 [00:02<00:00, 33.45it/s, test_acc=0.989, test_loss=tensor(0.0396, device='cuda:0')]\n"
          ]
        },
        {
          "output_type": "stream",
          "name": "stdout",
          "text": [
            "EPOCH 13/40 :\n"
          ]
        },
        {
          "output_type": "stream",
          "name": "stderr",
          "text": [
            "  train: 100%|██████████| 469/469 [00:14<00:00, 31.30it/s, train_acc=0.998, train_loss=0.0072]\n",
            "  test: 100%|██████████| 79/79 [00:02<00:00, 33.94it/s, test_acc=0.989, test_loss=tensor(0.0391, device='cuda:0')]\n"
          ]
        },
        {
          "output_type": "stream",
          "name": "stdout",
          "text": [
            "EPOCH 14/40 :\n"
          ]
        },
        {
          "output_type": "stream",
          "name": "stderr",
          "text": [
            "  train: 100%|██████████| 469/469 [00:15<00:00, 30.92it/s, train_acc=0.998, train_loss=0.00781]\n",
            "  test: 100%|██████████| 79/79 [00:03<00:00, 25.24it/s, test_acc=0.987, test_loss=tensor(0.0447, device='cuda:0')]\n"
          ]
        },
        {
          "output_type": "stream",
          "name": "stdout",
          "text": [
            "EPOCH 15/40 :\n"
          ]
        },
        {
          "output_type": "stream",
          "name": "stderr",
          "text": [
            "  train: 100%|██████████| 469/469 [00:14<00:00, 31.42it/s, train_acc=0.998, train_loss=0.00617]\n",
            "  test: 100%|██████████| 79/79 [00:02<00:00, 34.48it/s, test_acc=0.988, test_loss=tensor(0.0413, device='cuda:0')]\n"
          ]
        },
        {
          "output_type": "stream",
          "name": "stdout",
          "text": [
            "EPOCH 16/40 :\n"
          ]
        },
        {
          "output_type": "stream",
          "name": "stderr",
          "text": [
            "  train: 100%|██████████| 469/469 [00:15<00:00, 30.92it/s, train_acc=0.998, train_loss=0.00541]\n",
            "  test: 100%|██████████| 79/79 [00:02<00:00, 33.53it/s, test_acc=0.988, test_loss=tensor(0.0488, device='cuda:0')]\n"
          ]
        },
        {
          "output_type": "stream",
          "name": "stdout",
          "text": [
            "EPOCH 17/40 :\n"
          ]
        },
        {
          "output_type": "stream",
          "name": "stderr",
          "text": [
            "  train: 100%|██████████| 469/469 [00:15<00:00, 29.77it/s, train_acc=0.998, train_loss=0.00521]\n",
            "  test: 100%|██████████| 79/79 [00:02<00:00, 31.56it/s, test_acc=0.988, test_loss=tensor(0.0453, device='cuda:0')]\n"
          ]
        },
        {
          "output_type": "stream",
          "name": "stdout",
          "text": [
            "EPOCH 18/40 :\n"
          ]
        },
        {
          "output_type": "stream",
          "name": "stderr",
          "text": [
            "  train: 100%|██████████| 469/469 [00:15<00:00, 31.11it/s, train_acc=0.998, train_loss=0.00526]\n",
            "  test: 100%|██████████| 79/79 [00:02<00:00, 33.56it/s, test_acc=0.989, test_loss=tensor(0.0427, device='cuda:0')]\n"
          ]
        },
        {
          "output_type": "stream",
          "name": "stdout",
          "text": [
            "EPOCH 19/40 :\n"
          ]
        },
        {
          "output_type": "stream",
          "name": "stderr",
          "text": [
            "  train: 100%|██████████| 469/469 [00:15<00:00, 30.58it/s, train_acc=0.999, train_loss=0.00261]\n",
            "  test: 100%|██████████| 79/79 [00:03<00:00, 23.82it/s, test_acc=0.989, test_loss=tensor(0.0514, device='cuda:0')]\n"
          ]
        },
        {
          "output_type": "stream",
          "name": "stdout",
          "text": [
            "EPOCH 20/40 :\n"
          ]
        },
        {
          "output_type": "stream",
          "name": "stderr",
          "text": [
            "  train: 100%|██████████| 469/469 [00:14<00:00, 31.50it/s, train_acc=0.999, train_loss=0.00284]\n",
            "  test: 100%|██████████| 79/79 [00:02<00:00, 30.88it/s, test_acc=0.988, test_loss=tensor(0.0470, device='cuda:0')]\n"
          ]
        },
        {
          "output_type": "stream",
          "name": "stdout",
          "text": [
            "EPOCH 21/40 :\n"
          ]
        },
        {
          "output_type": "stream",
          "name": "stderr",
          "text": [
            "  train: 100%|██████████| 469/469 [00:15<00:00, 30.64it/s, train_acc=0.999, train_loss=0.00266]\n",
            "  test: 100%|██████████| 79/79 [00:02<00:00, 33.48it/s, test_acc=0.989, test_loss=tensor(0.0415, device='cuda:0')]\n"
          ]
        },
        {
          "output_type": "stream",
          "name": "stdout",
          "text": [
            "EPOCH 22/40 :\n"
          ]
        },
        {
          "output_type": "stream",
          "name": "stderr",
          "text": [
            "  train: 100%|██████████| 469/469 [00:15<00:00, 29.70it/s, train_acc=0.999, train_loss=0.00213]\n",
            "  test: 100%|██████████| 79/79 [00:02<00:00, 31.05it/s, test_acc=0.989, test_loss=tensor(0.0432, device='cuda:0')]\n"
          ]
        },
        {
          "output_type": "stream",
          "name": "stdout",
          "text": [
            "EPOCH 23/40 :\n"
          ]
        },
        {
          "output_type": "stream",
          "name": "stderr",
          "text": [
            "  train: 100%|██████████| 469/469 [00:15<00:00, 31.13it/s, train_acc=1, train_loss=0.00122]\n",
            "  test: 100%|██████████| 79/79 [00:02<00:00, 33.31it/s, test_acc=0.988, test_loss=tensor(0.0481, device='cuda:0')]\n"
          ]
        },
        {
          "output_type": "stream",
          "name": "stdout",
          "text": [
            "EPOCH 24/40 :\n"
          ]
        },
        {
          "output_type": "stream",
          "name": "stderr",
          "text": [
            "  train: 100%|██████████| 469/469 [00:15<00:00, 30.93it/s, train_acc=1, train_loss=0.00126]\n",
            "  test: 100%|██████████| 79/79 [00:03<00:00, 25.75it/s, test_acc=0.99, test_loss=tensor(0.0397, device='cuda:0')]\n"
          ]
        },
        {
          "output_type": "stream",
          "name": "stdout",
          "text": [
            "EPOCH 25/40 :\n"
          ]
        },
        {
          "output_type": "stream",
          "name": "stderr",
          "text": [
            "  train: 100%|██████████| 469/469 [00:15<00:00, 31.02it/s, train_acc=1, train_loss=0.000436]\n",
            "  test: 100%|██████████| 79/79 [00:02<00:00, 33.73it/s, test_acc=0.99, test_loss=tensor(0.0388, device='cuda:0')]\n"
          ]
        },
        {
          "output_type": "stream",
          "name": "stdout",
          "text": [
            "EPOCH 26/40 :\n"
          ]
        },
        {
          "output_type": "stream",
          "name": "stderr",
          "text": [
            "  train: 100%|██████████| 469/469 [00:14<00:00, 31.47it/s, train_acc=1, train_loss=0.00103]\n",
            "  test: 100%|██████████| 79/79 [00:02<00:00, 33.75it/s, test_acc=0.991, test_loss=tensor(0.0407, device='cuda:0')]\n"
          ]
        },
        {
          "output_type": "stream",
          "name": "stdout",
          "text": [
            "EPOCH 27/40 :\n"
          ]
        },
        {
          "output_type": "stream",
          "name": "stderr",
          "text": [
            "  train: 100%|██████████| 469/469 [00:15<00:00, 30.83it/s, train_acc=1, train_loss=0.000901]\n",
            "  test: 100%|██████████| 79/79 [00:02<00:00, 26.36it/s, test_acc=0.99, test_loss=tensor(0.0440, device='cuda:0')]\n"
          ]
        },
        {
          "output_type": "stream",
          "name": "stdout",
          "text": [
            "EPOCH 28/40 :\n"
          ]
        },
        {
          "output_type": "stream",
          "name": "stderr",
          "text": [
            "  train: 100%|██████████| 469/469 [00:16<00:00, 28.66it/s, train_acc=0.999, train_loss=0.00196]\n",
            "  test: 100%|██████████| 79/79 [00:02<00:00, 33.54it/s, test_acc=0.989, test_loss=tensor(0.0517, device='cuda:0')]\n"
          ]
        },
        {
          "output_type": "stream",
          "name": "stdout",
          "text": [
            "EPOCH 29/40 :\n"
          ]
        },
        {
          "output_type": "stream",
          "name": "stderr",
          "text": [
            "  train: 100%|██████████| 469/469 [00:16<00:00, 28.57it/s, train_acc=1, train_loss=0.00151]\n",
            "  test: 100%|██████████| 79/79 [00:03<00:00, 24.74it/s, test_acc=0.988, test_loss=tensor(0.0478, device='cuda:0')]\n"
          ]
        },
        {
          "output_type": "stream",
          "name": "stdout",
          "text": [
            "EPOCH 30/40 :\n"
          ]
        },
        {
          "output_type": "stream",
          "name": "stderr",
          "text": [
            "  train: 100%|██████████| 469/469 [00:16<00:00, 28.91it/s, train_acc=1, train_loss=0.000744]\n",
            "  test: 100%|██████████| 79/79 [00:02<00:00, 34.14it/s, test_acc=0.991, test_loss=tensor(0.0410, device='cuda:0')]\n"
          ]
        },
        {
          "output_type": "stream",
          "name": "stdout",
          "text": [
            "EPOCH 31/40 :\n"
          ]
        },
        {
          "output_type": "stream",
          "name": "stderr",
          "text": [
            "  train: 100%|██████████| 469/469 [00:15<00:00, 30.96it/s, train_acc=1, train_loss=0.000452]\n",
            "  test: 100%|██████████| 79/79 [00:02<00:00, 27.31it/s, test_acc=0.99, test_loss=tensor(0.0402, device='cuda:0')]\n"
          ]
        },
        {
          "output_type": "stream",
          "name": "stdout",
          "text": [
            "EPOCH 32/40 :\n"
          ]
        },
        {
          "output_type": "stream",
          "name": "stderr",
          "text": [
            "  train: 100%|██████████| 469/469 [00:17<00:00, 27.28it/s, train_acc=1, train_loss=0.000332]\n",
            "  test: 100%|██████████| 79/79 [00:02<00:00, 32.40it/s, test_acc=0.99, test_loss=tensor(0.0437, device='cuda:0')]\n"
          ]
        },
        {
          "output_type": "stream",
          "name": "stdout",
          "text": [
            "EPOCH 33/40 :\n"
          ]
        },
        {
          "output_type": "stream",
          "name": "stderr",
          "text": [
            "  train: 100%|██████████| 469/469 [00:15<00:00, 31.24it/s, train_acc=1, train_loss=0.000277]\n",
            "  test: 100%|██████████| 79/79 [00:02<00:00, 31.73it/s, test_acc=0.99, test_loss=tensor(0.0405, device='cuda:0')]\n"
          ]
        },
        {
          "output_type": "stream",
          "name": "stdout",
          "text": [
            "EPOCH 34/40 :\n"
          ]
        },
        {
          "output_type": "stream",
          "name": "stderr",
          "text": [
            "  train: 100%|██████████| 469/469 [00:15<00:00, 29.38it/s, train_acc=1, train_loss=8.85e-5]\n",
            "  test: 100%|██████████| 79/79 [00:02<00:00, 34.03it/s, test_acc=0.991, test_loss=tensor(0.0424, device='cuda:0')]\n"
          ]
        },
        {
          "output_type": "stream",
          "name": "stdout",
          "text": [
            "EPOCH 35/40 :\n"
          ]
        },
        {
          "output_type": "stream",
          "name": "stderr",
          "text": [
            "  train: 100%|██████████| 469/469 [00:14<00:00, 31.63it/s, train_acc=1, train_loss=5.04e-5]\n",
            "  test: 100%|██████████| 79/79 [00:02<00:00, 32.79it/s, test_acc=0.991, test_loss=tensor(0.0414, device='cuda:0')]\n"
          ]
        },
        {
          "output_type": "stream",
          "name": "stdout",
          "text": [
            "EPOCH 36/40 :\n"
          ]
        },
        {
          "output_type": "stream",
          "name": "stderr",
          "text": [
            "  train: 100%|██████████| 469/469 [00:15<00:00, 29.89it/s, train_acc=1, train_loss=4.26e-5]\n",
            "  test: 100%|██████████| 79/79 [00:03<00:00, 24.09it/s, test_acc=0.991, test_loss=tensor(0.0418, device='cuda:0')]\n"
          ]
        },
        {
          "output_type": "stream",
          "name": "stdout",
          "text": [
            "EPOCH 37/40 :\n"
          ]
        },
        {
          "output_type": "stream",
          "name": "stderr",
          "text": [
            "  train: 100%|██████████| 469/469 [00:15<00:00, 30.78it/s, train_acc=1, train_loss=0.000112]\n",
            "  test: 100%|██████████| 79/79 [00:02<00:00, 32.57it/s, test_acc=0.991, test_loss=tensor(0.0428, device='cuda:0')]\n"
          ]
        },
        {
          "output_type": "stream",
          "name": "stdout",
          "text": [
            "EPOCH 38/40 :\n"
          ]
        },
        {
          "output_type": "stream",
          "name": "stderr",
          "text": [
            "  train: 100%|██████████| 469/469 [00:15<00:00, 30.03it/s, train_acc=1, train_loss=0.000299]\n",
            "  test: 100%|██████████| 79/79 [00:02<00:00, 31.21it/s, test_acc=0.991, test_loss=tensor(0.0372, device='cuda:0')]\n"
          ]
        },
        {
          "output_type": "stream",
          "name": "stdout",
          "text": [
            "EPOCH 39/40 :\n"
          ]
        },
        {
          "output_type": "stream",
          "name": "stderr",
          "text": [
            "  train: 100%|██████████| 469/469 [00:16<00:00, 28.83it/s, train_acc=1, train_loss=4.45e-5]\n",
            "  test: 100%|██████████| 79/79 [00:02<00:00, 33.70it/s, test_acc=0.991, test_loss=tensor(0.0414, device='cuda:0')]\n"
          ]
        },
        {
          "output_type": "stream",
          "name": "stdout",
          "text": [
            "EPOCH 40/40 :\n"
          ]
        },
        {
          "output_type": "stream",
          "name": "stderr",
          "text": [
            "  train: 100%|██████████| 469/469 [00:14<00:00, 31.56it/s, train_acc=1, train_loss=3.48e-5]\n",
            "  test: 100%|██████████| 79/79 [00:02<00:00, 33.66it/s, test_acc=0.992, test_loss=tensor(0.0401, device='cuda:0')]"
          ]
        },
        {
          "output_type": "stream",
          "name": "stdout",
          "text": [
            "Total training time: 719.960 seconds\n"
          ]
        },
        {
          "output_type": "stream",
          "name": "stderr",
          "text": [
            "\n"
          ]
        }
      ]
    },
    {
      "cell_type": "code",
      "source": [
        "torch.save(model1.state_dict(), \"trained_model1.pth\")"
      ],
      "metadata": {
        "id": "Fm_uYcDhMNUm"
      },
      "execution_count": null,
      "outputs": []
    },
    {
      "cell_type": "code",
      "source": [
        "images, labels = next(iter(test_dataloader_MNIST))\n",
        "image, label = images[0], labels[0]"
      ],
      "metadata": {
        "id": "hPkxB3yWDT3-"
      },
      "execution_count": null,
      "outputs": []
    },
    {
      "cell_type": "code",
      "source": [
        "    original_image = (image * 0.5) + 0.5\n",
        "\n",
        "    plt.imshow(original_image.permute(1, 2, 0), cmap=\"gray\")\n",
        "    plt.title(f\"Label: {label.item()}\")\n",
        "    plt.axis(\"off\")\n",
        "    plt.show()"
      ],
      "metadata": {
        "colab": {
          "base_uri": "https://localhost:8080/",
          "height": 428
        },
        "id": "09Dsj9xXI4bx",
        "outputId": "e88cbf3c-7944-459f-fb60-50a6e02b876d"
      },
      "execution_count": null,
      "outputs": [
        {
          "output_type": "display_data",
          "data": {
            "text/plain": [
              "<Figure size 640x480 with 1 Axes>"
            ],
            "image/png": "[encoded data removed]"
          },
          "metadata": {}
        }
      ]
    },
    {
      "cell_type": "code",
      "source": [
        "image = image.to(device)\n",
        "\n",
        "model1.eval()\n",
        "\n",
        "with torch.no_grad():\n",
        "    output = model1(image.unsqueeze(dim=0))\n",
        "    predicted_class = torch.argmax(output, dim=1).item()\n",
        "\n",
        "print(\"True label:\", label.item())\n",
        "print(\"Predicted label:\", predicted_class)"
      ],
      "metadata": {
        "colab": {
          "base_uri": "https://localhost:8080/"
        },
        "id": "nTWx0avaKRH1",
        "outputId": "4cde3bf7-d9d5-473e-dd61-ad8927d86cec"
      },
      "execution_count": null,
      "outputs": [
        {
          "output_type": "stream",
          "name": "stdout",
          "text": [
            "True label: 7\n",
            "Predicted label: 7\n"
          ]
        }
      ]
    },
    {
      "cell_type": "markdown",
      "source": [
        "## Model 4"
      ],
      "metadata": {
        "id": "40jrJ3ilKZK6"
      }
    },
    {
      "cell_type": "code",
      "source": [
        "result4_MNIST = fit(model=model4,\n",
        "                    train_loader=train_dataloader_MNIST,\n",
        "                    test_loader=test_dataloader_MNIST,\n",
        "                    loss_fn=loss_fn,\n",
        "                    optimizer=optimizer4,\n",
        "                    accuracy_fn=accuracy_fn,\n",
        "                    device=device,\n",
        "                    epochs=40)"
      ],
      "metadata": {
        "colab": {
          "base_uri": "https://localhost:8080/"
        },
        "id": "xYIJhpKDNjoN",
        "outputId": "13d5567b-3571-4aca-81f4-07f14afe7bb6"
      },
      "execution_count": 32,
      "outputs": [
        {
          "output_type": "stream",
          "name": "stdout",
          "text": [
            "EPOCH 1/40 :\n"
          ]
        },
        {
          "output_type": "stream",
          "name": "stderr",
          "text": [
            "  train: 100%|██████████| 469/469 [00:15<00:00, 30.70it/s, train_acc=0.909, train_loss=0.28]\n",
            "  test: 100%|██████████| 79/79 [00:02<00:00, 33.07it/s, test_acc=0.968, test_loss=tensor(0.0937, device='cuda:0')]\n"
          ]
        },
        {
          "output_type": "stream",
          "name": "stdout",
          "text": [
            "EPOCH 2/40 :\n"
          ]
        },
        {
          "output_type": "stream",
          "name": "stderr",
          "text": [
            "  train: 100%|██████████| 469/469 [00:16<00:00, 29.16it/s, train_acc=0.978, train_loss=0.0688]\n",
            "  test: 100%|██████████| 79/79 [00:02<00:00, 33.56it/s, test_acc=0.982, test_loss=tensor(0.0587, device='cuda:0')]\n"
          ]
        },
        {
          "output_type": "stream",
          "name": "stdout",
          "text": [
            "EPOCH 3/40 :\n"
          ]
        },
        {
          "output_type": "stream",
          "name": "stderr",
          "text": [
            "  train: 100%|██████████| 469/469 [00:14<00:00, 31.54it/s, train_acc=0.986, train_loss=0.0457]\n",
            "  test: 100%|██████████| 79/79 [00:02<00:00, 34.17it/s, test_acc=0.986, test_loss=tensor(0.0456, device='cuda:0')]\n"
          ]
        },
        {
          "output_type": "stream",
          "name": "stdout",
          "text": [
            "EPOCH 4/40 :\n"
          ]
        },
        {
          "output_type": "stream",
          "name": "stderr",
          "text": [
            "  train: 100%|██████████| 469/469 [00:17<00:00, 27.13it/s, train_acc=0.989, train_loss=0.0349]\n",
            "  test: 100%|██████████| 79/79 [00:03<00:00, 22.09it/s, test_acc=0.988, test_loss=tensor(0.0407, device='cuda:0')]\n"
          ]
        },
        {
          "output_type": "stream",
          "name": "stdout",
          "text": [
            "EPOCH 5/40 :\n"
          ]
        },
        {
          "output_type": "stream",
          "name": "stderr",
          "text": [
            "  train: 100%|██████████| 469/469 [00:16<00:00, 27.81it/s, train_acc=0.992, train_loss=0.0274]\n",
            "  test: 100%|██████████| 79/79 [00:03<00:00, 25.82it/s, test_acc=0.989, test_loss=tensor(0.0362, device='cuda:0')]\n"
          ]
        },
        {
          "output_type": "stream",
          "name": "stdout",
          "text": [
            "EPOCH 6/40 :\n"
          ]
        },
        {
          "output_type": "stream",
          "name": "stderr",
          "text": [
            "  train: 100%|██████████| 469/469 [00:15<00:00, 29.85it/s, train_acc=0.993, train_loss=0.0227]\n",
            "  test: 100%|██████████| 79/79 [00:02<00:00, 29.49it/s, test_acc=0.987, test_loss=tensor(0.0389, device='cuda:0')]\n"
          ]
        },
        {
          "output_type": "stream",
          "name": "stdout",
          "text": [
            "EPOCH 7/40 :\n"
          ]
        },
        {
          "output_type": "stream",
          "name": "stderr",
          "text": [
            "  train: 100%|██████████| 469/469 [00:15<00:00, 30.36it/s, train_acc=0.995, train_loss=0.0175]\n",
            "  test: 100%|██████████| 79/79 [00:02<00:00, 31.09it/s, test_acc=0.987, test_loss=tensor(0.0407, device='cuda:0')]\n"
          ]
        },
        {
          "output_type": "stream",
          "name": "stdout",
          "text": [
            "EPOCH 8/40 :\n"
          ]
        },
        {
          "output_type": "stream",
          "name": "stderr",
          "text": [
            "  train: 100%|██████████| 469/469 [00:16<00:00, 28.39it/s, train_acc=0.995, train_loss=0.0168]\n",
            "  test: 100%|██████████| 79/79 [00:03<00:00, 25.30it/s, test_acc=0.987, test_loss=tensor(0.0419, device='cuda:0')]\n"
          ]
        },
        {
          "output_type": "stream",
          "name": "stdout",
          "text": [
            "EPOCH 9/40 :\n"
          ]
        },
        {
          "output_type": "stream",
          "name": "stderr",
          "text": [
            "  train: 100%|██████████| 469/469 [00:16<00:00, 29.20it/s, train_acc=0.996, train_loss=0.0122]\n",
            "  test: 100%|██████████| 79/79 [00:02<00:00, 32.10it/s, test_acc=0.989, test_loss=tensor(0.0337, device='cuda:0')]\n"
          ]
        },
        {
          "output_type": "stream",
          "name": "stdout",
          "text": [
            "EPOCH 10/40 :\n"
          ]
        },
        {
          "output_type": "stream",
          "name": "stderr",
          "text": [
            "  train: 100%|██████████| 469/469 [00:16<00:00, 27.87it/s, train_acc=0.997, train_loss=0.0106]\n",
            "  test: 100%|██████████| 79/79 [00:03<00:00, 23.81it/s, test_acc=0.986, test_loss=tensor(0.0544, device='cuda:0')]\n"
          ]
        },
        {
          "output_type": "stream",
          "name": "stdout",
          "text": [
            "EPOCH 11/40 :\n"
          ]
        },
        {
          "output_type": "stream",
          "name": "stderr",
          "text": [
            "  train: 100%|██████████| 469/469 [00:15<00:00, 30.21it/s, train_acc=0.996, train_loss=0.0108]\n",
            "  test: 100%|██████████| 79/79 [00:02<00:00, 32.53it/s, test_acc=0.989, test_loss=tensor(0.0387, device='cuda:0')]\n"
          ]
        },
        {
          "output_type": "stream",
          "name": "stdout",
          "text": [
            "EPOCH 12/40 :\n"
          ]
        },
        {
          "output_type": "stream",
          "name": "stderr",
          "text": [
            "  train: 100%|██████████| 469/469 [00:17<00:00, 27.03it/s, train_acc=0.997, train_loss=0.0078]\n",
            "  test: 100%|██████████| 79/79 [00:03<00:00, 25.03it/s, test_acc=0.99, test_loss=tensor(0.0361, device='cuda:0')]\n"
          ]
        },
        {
          "output_type": "stream",
          "name": "stdout",
          "text": [
            "EPOCH 13/40 :\n"
          ]
        },
        {
          "output_type": "stream",
          "name": "stderr",
          "text": [
            "  train: 100%|██████████| 469/469 [00:14<00:00, 31.53it/s, train_acc=0.998, train_loss=0.00704]\n",
            "  test: 100%|██████████| 79/79 [00:02<00:00, 34.94it/s, test_acc=0.989, test_loss=tensor(0.0397, device='cuda:0')]\n"
          ]
        },
        {
          "output_type": "stream",
          "name": "stdout",
          "text": [
            "EPOCH 14/40 :\n"
          ]
        },
        {
          "output_type": "stream",
          "name": "stderr",
          "text": [
            "  train: 100%|██████████| 469/469 [00:14<00:00, 31.68it/s, train_acc=0.998, train_loss=0.00571]\n",
            "  test: 100%|██████████| 79/79 [00:02<00:00, 34.15it/s, test_acc=0.989, test_loss=tensor(0.0469, device='cuda:0')]\n"
          ]
        },
        {
          "output_type": "stream",
          "name": "stdout",
          "text": [
            "EPOCH 15/40 :\n"
          ]
        },
        {
          "output_type": "stream",
          "name": "stderr",
          "text": [
            "  train: 100%|██████████| 469/469 [00:15<00:00, 29.61it/s, train_acc=0.998, train_loss=0.00535]\n",
            "  test: 100%|██████████| 79/79 [00:02<00:00, 29.86it/s, test_acc=0.99, test_loss=tensor(0.0405, device='cuda:0')]\n"
          ]
        },
        {
          "output_type": "stream",
          "name": "stdout",
          "text": [
            "EPOCH 16/40 :\n"
          ]
        },
        {
          "output_type": "stream",
          "name": "stderr",
          "text": [
            "  train: 100%|██████████| 469/469 [00:15<00:00, 29.45it/s, train_acc=0.999, train_loss=0.00319]\n",
            "  test: 100%|██████████| 79/79 [00:02<00:00, 33.13it/s, test_acc=0.99, test_loss=tensor(0.0413, device='cuda:0')]\n"
          ]
        },
        {
          "output_type": "stream",
          "name": "stdout",
          "text": [
            "EPOCH 17/40 :\n"
          ]
        },
        {
          "output_type": "stream",
          "name": "stderr",
          "text": [
            "  train: 100%|██████████| 469/469 [00:15<00:00, 30.86it/s, train_acc=0.999, train_loss=0.004]\n",
            "  test: 100%|██████████| 79/79 [00:03<00:00, 25.42it/s, test_acc=0.991, test_loss=tensor(0.0389, device='cuda:0')]\n"
          ]
        },
        {
          "output_type": "stream",
          "name": "stdout",
          "text": [
            "EPOCH 18/40 :\n"
          ]
        },
        {
          "output_type": "stream",
          "name": "stderr",
          "text": [
            "  train: 100%|██████████| 469/469 [00:14<00:00, 31.36it/s, train_acc=0.999, train_loss=0.00288]\n",
            "  test: 100%|██████████| 79/79 [00:02<00:00, 34.70it/s, test_acc=0.99, test_loss=tensor(0.0402, device='cuda:0')]\n"
          ]
        },
        {
          "output_type": "stream",
          "name": "stdout",
          "text": [
            "EPOCH 19/40 :\n"
          ]
        },
        {
          "output_type": "stream",
          "name": "stderr",
          "text": [
            "  train: 100%|██████████| 469/469 [00:15<00:00, 30.39it/s, train_acc=0.999, train_loss=0.00191]\n",
            "  test: 100%|██████████| 79/79 [00:02<00:00, 32.03it/s, test_acc=0.99, test_loss=tensor(0.0405, device='cuda:0')]\n"
          ]
        },
        {
          "output_type": "stream",
          "name": "stdout",
          "text": [
            "EPOCH 20/40 :\n"
          ]
        },
        {
          "output_type": "stream",
          "name": "stderr",
          "text": [
            "  train: 100%|██████████| 469/469 [00:16<00:00, 28.45it/s, train_acc=0.999, train_loss=0.00206]\n",
            "  test: 100%|██████████| 79/79 [00:02<00:00, 29.68it/s, test_acc=0.991, test_loss=tensor(0.0419, device='cuda:0')]\n"
          ]
        },
        {
          "output_type": "stream",
          "name": "stdout",
          "text": [
            "EPOCH 21/40 :\n"
          ]
        },
        {
          "output_type": "stream",
          "name": "stderr",
          "text": [
            "  train: 100%|██████████| 469/469 [00:15<00:00, 31.10it/s, train_acc=1, train_loss=0.00144]\n",
            "  test: 100%|██████████| 79/79 [00:02<00:00, 32.80it/s, test_acc=0.989, test_loss=tensor(0.0456, device='cuda:0')]\n"
          ]
        },
        {
          "output_type": "stream",
          "name": "stdout",
          "text": [
            "EPOCH 22/40 :\n"
          ]
        },
        {
          "output_type": "stream",
          "name": "stderr",
          "text": [
            "  train: 100%|██████████| 469/469 [00:15<00:00, 30.46it/s, train_acc=0.999, train_loss=0.00177]\n",
            "  test: 100%|██████████| 79/79 [00:03<00:00, 24.66it/s, test_acc=0.991, test_loss=tensor(0.0405, device='cuda:0')]\n"
          ]
        },
        {
          "output_type": "stream",
          "name": "stdout",
          "text": [
            "EPOCH 23/40 :\n"
          ]
        },
        {
          "output_type": "stream",
          "name": "stderr",
          "text": [
            "  train: 100%|██████████| 469/469 [00:15<00:00, 30.81it/s, train_acc=1, train_loss=0.000933]\n",
            "  test: 100%|██████████| 79/79 [00:02<00:00, 32.95it/s, test_acc=0.991, test_loss=tensor(0.0379, device='cuda:0')]\n"
          ]
        },
        {
          "output_type": "stream",
          "name": "stdout",
          "text": [
            "EPOCH 24/40 :\n"
          ]
        },
        {
          "output_type": "stream",
          "name": "stderr",
          "text": [
            "  train: 100%|██████████| 469/469 [00:15<00:00, 30.94it/s, train_acc=1, train_loss=0.000389]\n",
            "  test: 100%|██████████| 79/79 [00:02<00:00, 32.98it/s, test_acc=0.991, test_loss=tensor(0.0384, device='cuda:0')]\n"
          ]
        },
        {
          "output_type": "stream",
          "name": "stdout",
          "text": [
            "EPOCH 25/40 :\n"
          ]
        },
        {
          "output_type": "stream",
          "name": "stderr",
          "text": [
            "  train: 100%|██████████| 469/469 [00:16<00:00, 28.78it/s, train_acc=1, train_loss=0.000809]\n",
            "  test: 100%|██████████| 79/79 [00:02<00:00, 33.84it/s, test_acc=0.99, test_loss=tensor(0.0515, device='cuda:0')]\n"
          ]
        },
        {
          "output_type": "stream",
          "name": "stdout",
          "text": [
            "EPOCH 26/40 :\n"
          ]
        },
        {
          "output_type": "stream",
          "name": "stderr",
          "text": [
            "  train: 100%|██████████| 469/469 [00:15<00:00, 30.85it/s, train_acc=1, train_loss=0.00117]\n",
            "  test: 100%|██████████| 79/79 [00:02<00:00, 33.24it/s, test_acc=0.991, test_loss=tensor(0.0409, device='cuda:0')]\n"
          ]
        },
        {
          "output_type": "stream",
          "name": "stdout",
          "text": [
            "EPOCH 27/40 :\n"
          ]
        },
        {
          "output_type": "stream",
          "name": "stderr",
          "text": [
            "  train: 100%|██████████| 469/469 [00:15<00:00, 31.03it/s, train_acc=1, train_loss=0.000499]\n",
            "  test: 100%|██████████| 79/79 [00:03<00:00, 23.83it/s, test_acc=0.991, test_loss=tensor(0.0433, device='cuda:0')]\n"
          ]
        },
        {
          "output_type": "stream",
          "name": "stdout",
          "text": [
            "EPOCH 28/40 :\n"
          ]
        },
        {
          "output_type": "stream",
          "name": "stderr",
          "text": [
            "  train: 100%|██████████| 469/469 [00:15<00:00, 30.85it/s, train_acc=1, train_loss=0.000198]\n",
            "  test: 100%|██████████| 79/79 [00:02<00:00, 31.98it/s, test_acc=0.991, test_loss=tensor(0.0416, device='cuda:0')]\n"
          ]
        },
        {
          "output_type": "stream",
          "name": "stdout",
          "text": [
            "EPOCH 29/40 :\n"
          ]
        },
        {
          "output_type": "stream",
          "name": "stderr",
          "text": [
            "  train: 100%|██████████| 469/469 [00:15<00:00, 31.12it/s, train_acc=1, train_loss=0.000247]\n",
            "  test: 100%|██████████| 79/79 [00:02<00:00, 33.94it/s, test_acc=0.991, test_loss=tensor(0.0459, device='cuda:0')]\n"
          ]
        },
        {
          "output_type": "stream",
          "name": "stdout",
          "text": [
            "EPOCH 30/40 :\n"
          ]
        },
        {
          "output_type": "stream",
          "name": "stderr",
          "text": [
            "  train: 100%|██████████| 469/469 [00:16<00:00, 29.23it/s, train_acc=1, train_loss=0.000391]\n",
            "  test: 100%|██████████| 79/79 [00:02<00:00, 34.19it/s, test_acc=0.992, test_loss=tensor(0.0435, device='cuda:0')]\n"
          ]
        },
        {
          "output_type": "stream",
          "name": "stdout",
          "text": [
            "EPOCH 31/40 :\n"
          ]
        },
        {
          "output_type": "stream",
          "name": "stderr",
          "text": [
            "  train: 100%|██████████| 469/469 [00:14<00:00, 31.72it/s, train_acc=1, train_loss=0.000121]\n",
            "  test: 100%|██████████| 79/79 [00:02<00:00, 34.30it/s, test_acc=0.991, test_loss=tensor(0.0428, device='cuda:0')]\n"
          ]
        },
        {
          "output_type": "stream",
          "name": "stdout",
          "text": [
            "EPOCH 32/40 :\n"
          ]
        },
        {
          "output_type": "stream",
          "name": "stderr",
          "text": [
            "  train: 100%|██████████| 469/469 [00:15<00:00, 30.84it/s, train_acc=1, train_loss=0.000132]\n",
            "  test: 100%|██████████| 79/79 [00:02<00:00, 27.39it/s, test_acc=0.992, test_loss=tensor(0.0410, device='cuda:0')]\n"
          ]
        },
        {
          "output_type": "stream",
          "name": "stdout",
          "text": [
            "EPOCH 33/40 :\n"
          ]
        },
        {
          "output_type": "stream",
          "name": "stderr",
          "text": [
            "  train: 100%|██████████| 469/469 [00:15<00:00, 29.51it/s, train_acc=1, train_loss=4.6e-5]\n",
            "  test: 100%|██████████| 79/79 [00:02<00:00, 31.70it/s, test_acc=0.992, test_loss=tensor(0.0401, device='cuda:0')]\n"
          ]
        },
        {
          "output_type": "stream",
          "name": "stdout",
          "text": [
            "EPOCH 34/40 :\n"
          ]
        },
        {
          "output_type": "stream",
          "name": "stderr",
          "text": [
            "  train: 100%|██████████| 469/469 [00:15<00:00, 30.89it/s, train_acc=1, train_loss=4.32e-5]\n",
            "  test: 100%|██████████| 79/79 [00:02<00:00, 33.46it/s, test_acc=0.991, test_loss=tensor(0.0424, device='cuda:0')]\n"
          ]
        },
        {
          "output_type": "stream",
          "name": "stdout",
          "text": [
            "EPOCH 35/40 :\n"
          ]
        },
        {
          "output_type": "stream",
          "name": "stderr",
          "text": [
            "  train: 100%|██████████| 469/469 [00:15<00:00, 29.69it/s, train_acc=1, train_loss=3.73e-5]\n",
            "  test: 100%|██████████| 79/79 [00:02<00:00, 27.81it/s, test_acc=0.991, test_loss=tensor(0.0412, device='cuda:0')]\n"
          ]
        },
        {
          "output_type": "stream",
          "name": "stdout",
          "text": [
            "EPOCH 36/40 :\n"
          ]
        },
        {
          "output_type": "stream",
          "name": "stderr",
          "text": [
            "  train: 100%|██████████| 469/469 [00:15<00:00, 31.14it/s, train_acc=1, train_loss=3.09e-5]\n",
            "  test: 100%|██████████| 79/79 [00:02<00:00, 32.98it/s, test_acc=0.991, test_loss=tensor(0.0435, device='cuda:0')]\n"
          ]
        },
        {
          "output_type": "stream",
          "name": "stdout",
          "text": [
            "EPOCH 37/40 :\n"
          ]
        },
        {
          "output_type": "stream",
          "name": "stderr",
          "text": [
            "  train: 100%|██████████| 469/469 [00:15<00:00, 30.77it/s, train_acc=1, train_loss=3.13e-5]\n",
            "  test: 100%|██████████| 79/79 [00:02<00:00, 30.68it/s, test_acc=0.991, test_loss=tensor(0.0422, device='cuda:0')]\n"
          ]
        },
        {
          "output_type": "stream",
          "name": "stdout",
          "text": [
            "EPOCH 38/40 :\n"
          ]
        },
        {
          "output_type": "stream",
          "name": "stderr",
          "text": [
            "  train: 100%|██████████| 469/469 [00:15<00:00, 29.62it/s, train_acc=1, train_loss=2.8e-5]\n",
            "  test: 100%|██████████| 79/79 [00:02<00:00, 32.86it/s, test_acc=0.991, test_loss=tensor(0.0408, device='cuda:0')]\n"
          ]
        },
        {
          "output_type": "stream",
          "name": "stdout",
          "text": [
            "EPOCH 39/40 :\n"
          ]
        },
        {
          "output_type": "stream",
          "name": "stderr",
          "text": [
            "  train: 100%|██████████| 469/469 [00:15<00:00, 31.02it/s, train_acc=1, train_loss=2.47e-5]\n",
            "  test: 100%|██████████| 79/79 [00:02<00:00, 34.14it/s, test_acc=0.991, test_loss=tensor(0.0398, device='cuda:0')]\n"
          ]
        },
        {
          "output_type": "stream",
          "name": "stdout",
          "text": [
            "EPOCH 40/40 :\n"
          ]
        },
        {
          "output_type": "stream",
          "name": "stderr",
          "text": [
            "  train: 100%|██████████| 469/469 [00:15<00:00, 30.76it/s, train_acc=1, train_loss=2.42e-5]\n",
            "  test: 100%|██████████| 79/79 [00:03<00:00, 24.17it/s, test_acc=0.992, test_loss=tensor(0.0427, device='cuda:0')]"
          ]
        },
        {
          "output_type": "stream",
          "name": "stdout",
          "text": [
            "Total training time: 729.817 seconds\n"
          ]
        },
        {
          "output_type": "stream",
          "name": "stderr",
          "text": [
            "\n"
          ]
        }
      ]
    },
    {
      "cell_type": "code",
      "source": [
        "torch.save(model4.state_dict(), \"trained_model4.pth\")"
      ],
      "metadata": {
        "id": "q5p533JIN2E5"
      },
      "execution_count": null,
      "outputs": []
    },
    {
      "cell_type": "markdown",
      "source": [
        "## Model 7"
      ],
      "metadata": {
        "id": "mGMMTO0ZhhUB"
      }
    },
    {
      "cell_type": "code",
      "source": [
        "result7_MNIST = fit(model=model7,\n",
        "                    train_loader=train_dataloader_MNIST,\n",
        "                    test_loader=test_dataloader_MNIST,\n",
        "                    loss_fn=loss_fn,\n",
        "                    optimizer=optimizer7,\n",
        "                    accuracy_fn=accuracy_fn,\n",
        "                    device=device,\n",
        "                    epochs=40)"
      ],
      "metadata": {
        "colab": {
          "base_uri": "https://localhost:8080/"
        },
        "id": "yVeCl6gDQ2cs",
        "outputId": "88bee854-b05e-4365-8dee-174ee0198d8c"
      },
      "execution_count": 35,
      "outputs": [
        {
          "output_type": "stream",
          "name": "stdout",
          "text": [
            "EPOCH 1/40 :\n"
          ]
        },
        {
          "output_type": "stream",
          "name": "stderr",
          "text": [
            "  train: 100%|██████████| 469/469 [00:16<00:00, 28.21it/s, train_acc=0.874, train_loss=0.39]\n",
            "  test: 100%|██████████| 79/79 [00:02<00:00, 26.84it/s, test_acc=0.969, test_loss=tensor(0.0978, device='cuda:0')]\n"
          ]
        },
        {
          "output_type": "stream",
          "name": "stdout",
          "text": [
            "EPOCH 2/40 :\n"
          ]
        },
        {
          "output_type": "stream",
          "name": "stderr",
          "text": [
            "  train: 100%|██████████| 469/469 [00:18<00:00, 25.43it/s, train_acc=0.976, train_loss=0.0792]\n",
            "  test: 100%|██████████| 79/79 [00:04<00:00, 17.44it/s, test_acc=0.976, test_loss=tensor(0.0717, device='cuda:0')]\n"
          ]
        },
        {
          "output_type": "stream",
          "name": "stdout",
          "text": [
            "EPOCH 3/40 :\n"
          ]
        },
        {
          "output_type": "stream",
          "name": "stderr",
          "text": [
            "  train: 100%|██████████| 469/469 [00:16<00:00, 28.10it/s, train_acc=0.983, train_loss=0.0551]\n",
            "  test: 100%|██████████| 79/79 [00:03<00:00, 26.23it/s, test_acc=0.983, test_loss=tensor(0.0500, device='cuda:0')]\n"
          ]
        },
        {
          "output_type": "stream",
          "name": "stdout",
          "text": [
            "EPOCH 4/40 :\n"
          ]
        },
        {
          "output_type": "stream",
          "name": "stderr",
          "text": [
            "  train: 100%|██████████| 469/469 [00:16<00:00, 28.56it/s, train_acc=0.987, train_loss=0.0417]\n",
            "  test: 100%|██████████| 79/79 [00:03<00:00, 21.86it/s, test_acc=0.984, test_loss=tensor(0.0465, device='cuda:0')]\n"
          ]
        },
        {
          "output_type": "stream",
          "name": "stdout",
          "text": [
            "EPOCH 5/40 :\n"
          ]
        },
        {
          "output_type": "stream",
          "name": "stderr",
          "text": [
            "  train: 100%|██████████| 469/469 [00:16<00:00, 28.11it/s, train_acc=0.989, train_loss=0.035]\n",
            "  test: 100%|██████████| 79/79 [00:03<00:00, 25.19it/s, test_acc=0.987, test_loss=tensor(0.0387, device='cuda:0')]\n"
          ]
        },
        {
          "output_type": "stream",
          "name": "stdout",
          "text": [
            "EPOCH 6/40 :\n"
          ]
        },
        {
          "output_type": "stream",
          "name": "stderr",
          "text": [
            "  train: 100%|██████████| 469/469 [00:17<00:00, 26.52it/s, train_acc=0.99, train_loss=0.0294]\n",
            "  test: 100%|██████████| 79/79 [00:03<00:00, 22.88it/s, test_acc=0.987, test_loss=tensor(0.0407, device='cuda:0')]\n"
          ]
        },
        {
          "output_type": "stream",
          "name": "stdout",
          "text": [
            "EPOCH 7/40 :\n"
          ]
        },
        {
          "output_type": "stream",
          "name": "stderr",
          "text": [
            "  train: 100%|██████████| 469/469 [00:16<00:00, 28.58it/s, train_acc=0.992, train_loss=0.0248]\n",
            "  test: 100%|██████████| 79/79 [00:03<00:00, 22.52it/s, test_acc=0.988, test_loss=tensor(0.0365, device='cuda:0')]\n"
          ]
        },
        {
          "output_type": "stream",
          "name": "stdout",
          "text": [
            "EPOCH 8/40 :\n"
          ]
        },
        {
          "output_type": "stream",
          "name": "stderr",
          "text": [
            "  train: 100%|██████████| 469/469 [00:18<00:00, 25.66it/s, train_acc=0.993, train_loss=0.0213]\n",
            "  test: 100%|██████████| 79/79 [00:03<00:00, 24.79it/s, test_acc=0.986, test_loss=tensor(0.0419, device='cuda:0')]\n"
          ]
        },
        {
          "output_type": "stream",
          "name": "stdout",
          "text": [
            "EPOCH 9/40 :\n"
          ]
        },
        {
          "output_type": "stream",
          "name": "stderr",
          "text": [
            "  train: 100%|██████████| 469/469 [00:15<00:00, 30.20it/s, train_acc=0.994, train_loss=0.0185]\n",
            "  test: 100%|██████████| 79/79 [00:03<00:00, 20.77it/s, test_acc=0.987, test_loss=tensor(0.0378, device='cuda:0')]\n"
          ]
        },
        {
          "output_type": "stream",
          "name": "stdout",
          "text": [
            "EPOCH 10/40 :\n"
          ]
        },
        {
          "output_type": "stream",
          "name": "stderr",
          "text": [
            "  train: 100%|██████████| 469/469 [00:15<00:00, 30.48it/s, train_acc=0.994, train_loss=0.0165]\n",
            "  test: 100%|██████████| 79/79 [00:02<00:00, 27.28it/s, test_acc=0.989, test_loss=tensor(0.0347, device='cuda:0')]\n"
          ]
        },
        {
          "output_type": "stream",
          "name": "stdout",
          "text": [
            "EPOCH 11/40 :\n"
          ]
        },
        {
          "output_type": "stream",
          "name": "stderr",
          "text": [
            "  train: 100%|██████████| 469/469 [00:15<00:00, 30.03it/s, train_acc=0.996, train_loss=0.0135]\n",
            "  test: 100%|██████████| 79/79 [00:03<00:00, 23.37it/s, test_acc=0.989, test_loss=tensor(0.0348, device='cuda:0')]\n"
          ]
        },
        {
          "output_type": "stream",
          "name": "stdout",
          "text": [
            "EPOCH 12/40 :\n"
          ]
        },
        {
          "output_type": "stream",
          "name": "stderr",
          "text": [
            "  train: 100%|██████████| 469/469 [00:15<00:00, 29.85it/s, train_acc=0.997, train_loss=0.0116]\n",
            "  test: 100%|██████████| 79/79 [00:02<00:00, 26.81it/s, test_acc=0.989, test_loss=tensor(0.0355, device='cuda:0')]\n"
          ]
        },
        {
          "output_type": "stream",
          "name": "stdout",
          "text": [
            "EPOCH 13/40 :\n"
          ]
        },
        {
          "output_type": "stream",
          "name": "stderr",
          "text": [
            "  train: 100%|██████████| 469/469 [00:15<00:00, 30.59it/s, train_acc=0.997, train_loss=0.0109]\n",
            "  test: 100%|██████████| 79/79 [00:03<00:00, 26.33it/s, test_acc=0.989, test_loss=tensor(0.0385, device='cuda:0')]\n"
          ]
        },
        {
          "output_type": "stream",
          "name": "stdout",
          "text": [
            "EPOCH 14/40 :\n"
          ]
        },
        {
          "output_type": "stream",
          "name": "stderr",
          "text": [
            "  train: 100%|██████████| 469/469 [00:16<00:00, 28.40it/s, train_acc=0.997, train_loss=0.00866]\n",
            "  test: 100%|██████████| 79/79 [00:02<00:00, 27.32it/s, test_acc=0.988, test_loss=tensor(0.0399, device='cuda:0')]\n"
          ]
        },
        {
          "output_type": "stream",
          "name": "stdout",
          "text": [
            "EPOCH 15/40 :\n"
          ]
        },
        {
          "output_type": "stream",
          "name": "stderr",
          "text": [
            "  train: 100%|██████████| 469/469 [00:15<00:00, 30.25it/s, train_acc=0.998, train_loss=0.00756]\n",
            "  test: 100%|██████████| 79/79 [00:02<00:00, 26.82it/s, test_acc=0.989, test_loss=tensor(0.0386, device='cuda:0')]\n"
          ]
        },
        {
          "output_type": "stream",
          "name": "stdout",
          "text": [
            "EPOCH 16/40 :\n"
          ]
        },
        {
          "output_type": "stream",
          "name": "stderr",
          "text": [
            "  train: 100%|██████████| 469/469 [00:16<00:00, 27.75it/s, train_acc=0.998, train_loss=0.00735]\n",
            "  test: 100%|██████████| 79/79 [00:02<00:00, 26.82it/s, test_acc=0.989, test_loss=tensor(0.0382, device='cuda:0')]\n"
          ]
        },
        {
          "output_type": "stream",
          "name": "stdout",
          "text": [
            "EPOCH 17/40 :\n"
          ]
        },
        {
          "output_type": "stream",
          "name": "stderr",
          "text": [
            "  train: 100%|██████████| 469/469 [00:15<00:00, 30.51it/s, train_acc=0.998, train_loss=0.00611]\n",
            "  test: 100%|██████████| 79/79 [00:02<00:00, 26.95it/s, test_acc=0.988, test_loss=tensor(0.0428, device='cuda:0')]\n"
          ]
        },
        {
          "output_type": "stream",
          "name": "stdout",
          "text": [
            "EPOCH 18/40 :\n"
          ]
        },
        {
          "output_type": "stream",
          "name": "stderr",
          "text": [
            "  train: 100%|██████████| 469/469 [00:17<00:00, 27.37it/s, train_acc=0.998, train_loss=0.00559]\n",
            "  test: 100%|██████████| 79/79 [00:03<00:00, 26.25it/s, test_acc=0.989, test_loss=tensor(0.0370, device='cuda:0')]\n"
          ]
        },
        {
          "output_type": "stream",
          "name": "stdout",
          "text": [
            "EPOCH 19/40 :\n"
          ]
        },
        {
          "output_type": "stream",
          "name": "stderr",
          "text": [
            "  train: 100%|██████████| 469/469 [00:15<00:00, 29.61it/s, train_acc=0.999, train_loss=0.00415]\n",
            "  test: 100%|██████████| 79/79 [00:03<00:00, 25.77it/s, test_acc=0.988, test_loss=tensor(0.0391, device='cuda:0')]\n"
          ]
        },
        {
          "output_type": "stream",
          "name": "stdout",
          "text": [
            "EPOCH 20/40 :\n"
          ]
        },
        {
          "output_type": "stream",
          "name": "stderr",
          "text": [
            "  train: 100%|██████████| 469/469 [00:16<00:00, 28.07it/s, train_acc=0.999, train_loss=0.00336]\n",
            "  test: 100%|██████████| 79/79 [00:03<00:00, 26.08it/s, test_acc=0.99, test_loss=tensor(0.0402, device='cuda:0')]\n"
          ]
        },
        {
          "output_type": "stream",
          "name": "stdout",
          "text": [
            "EPOCH 21/40 :\n"
          ]
        },
        {
          "output_type": "stream",
          "name": "stderr",
          "text": [
            "  train: 100%|██████████| 469/469 [00:15<00:00, 29.90it/s, train_acc=0.999, train_loss=0.00387]\n",
            "  test: 100%|██████████| 79/79 [00:03<00:00, 25.34it/s, test_acc=0.989, test_loss=tensor(0.0423, device='cuda:0')]\n"
          ]
        },
        {
          "output_type": "stream",
          "name": "stdout",
          "text": [
            "EPOCH 22/40 :\n"
          ]
        },
        {
          "output_type": "stream",
          "name": "stderr",
          "text": [
            "  train: 100%|██████████| 469/469 [00:16<00:00, 28.77it/s, train_acc=0.999, train_loss=0.00295]\n",
            "  test: 100%|██████████| 79/79 [00:02<00:00, 27.36it/s, test_acc=0.99, test_loss=tensor(0.0374, device='cuda:0')]\n"
          ]
        },
        {
          "output_type": "stream",
          "name": "stdout",
          "text": [
            "EPOCH 23/40 :\n"
          ]
        },
        {
          "output_type": "stream",
          "name": "stderr",
          "text": [
            "  train: 100%|██████████| 469/469 [00:15<00:00, 30.42it/s, train_acc=1, train_loss=0.00213]\n",
            "  test: 100%|██████████| 79/79 [00:02<00:00, 27.50it/s, test_acc=0.99, test_loss=tensor(0.0388, device='cuda:0')]\n"
          ]
        },
        {
          "output_type": "stream",
          "name": "stdout",
          "text": [
            "EPOCH 24/40 :\n"
          ]
        },
        {
          "output_type": "stream",
          "name": "stderr",
          "text": [
            "  train: 100%|██████████| 469/469 [00:16<00:00, 28.16it/s, train_acc=0.999, train_loss=0.00228]\n",
            "  test: 100%|██████████| 79/79 [00:02<00:00, 27.62it/s, test_acc=0.991, test_loss=tensor(0.0374, device='cuda:0')]\n"
          ]
        },
        {
          "output_type": "stream",
          "name": "stdout",
          "text": [
            "EPOCH 25/40 :\n"
          ]
        },
        {
          "output_type": "stream",
          "name": "stderr",
          "text": [
            "  train: 100%|██████████| 469/469 [00:15<00:00, 30.11it/s, train_acc=1, train_loss=0.00176]\n",
            "  test: 100%|██████████| 79/79 [00:02<00:00, 27.67it/s, test_acc=0.991, test_loss=tensor(0.0370, device='cuda:0')]\n"
          ]
        },
        {
          "output_type": "stream",
          "name": "stdout",
          "text": [
            "EPOCH 26/40 :\n"
          ]
        },
        {
          "output_type": "stream",
          "name": "stderr",
          "text": [
            "  train: 100%|██████████| 469/469 [00:15<00:00, 29.40it/s, train_acc=1, train_loss=0.00143]\n",
            "  test: 100%|██████████| 79/79 [00:03<00:00, 25.55it/s, test_acc=0.991, test_loss=tensor(0.0368, device='cuda:0')]\n"
          ]
        },
        {
          "output_type": "stream",
          "name": "stdout",
          "text": [
            "EPOCH 27/40 :\n"
          ]
        },
        {
          "output_type": "stream",
          "name": "stderr",
          "text": [
            "  train: 100%|██████████| 469/469 [00:15<00:00, 29.55it/s, train_acc=1, train_loss=0.00151]\n",
            "  test: 100%|██████████| 79/79 [00:02<00:00, 27.16it/s, test_acc=0.99, test_loss=tensor(0.0365, device='cuda:0')]\n"
          ]
        },
        {
          "output_type": "stream",
          "name": "stdout",
          "text": [
            "EPOCH 28/40 :\n"
          ]
        },
        {
          "output_type": "stream",
          "name": "stderr",
          "text": [
            "  train: 100%|██████████| 469/469 [00:16<00:00, 28.22it/s, train_acc=1, train_loss=0.0013]\n",
            "  test: 100%|██████████| 79/79 [00:03<00:00, 24.08it/s, test_acc=0.99, test_loss=tensor(0.0407, device='cuda:0')]\n"
          ]
        },
        {
          "output_type": "stream",
          "name": "stdout",
          "text": [
            "EPOCH 29/40 :\n"
          ]
        },
        {
          "output_type": "stream",
          "name": "stderr",
          "text": [
            "  train: 100%|██████████| 469/469 [00:15<00:00, 29.37it/s, train_acc=1, train_loss=0.00038]\n",
            "  test: 100%|██████████| 79/79 [00:02<00:00, 26.62it/s, test_acc=0.99, test_loss=tensor(0.0398, device='cuda:0')]\n"
          ]
        },
        {
          "output_type": "stream",
          "name": "stdout",
          "text": [
            "EPOCH 30/40 :\n"
          ]
        },
        {
          "output_type": "stream",
          "name": "stderr",
          "text": [
            "  train: 100%|██████████| 469/469 [00:16<00:00, 28.43it/s, train_acc=1, train_loss=0.000312]\n",
            "  test: 100%|██████████| 79/79 [00:03<00:00, 25.41it/s, test_acc=0.99, test_loss=tensor(0.0390, device='cuda:0')]\n"
          ]
        },
        {
          "output_type": "stream",
          "name": "stdout",
          "text": [
            "EPOCH 31/40 :\n"
          ]
        },
        {
          "output_type": "stream",
          "name": "stderr",
          "text": [
            "  train: 100%|██████████| 469/469 [00:15<00:00, 29.84it/s, train_acc=1, train_loss=0.000259]\n",
            "  test: 100%|██████████| 79/79 [00:02<00:00, 26.91it/s, test_acc=0.99, test_loss=tensor(0.0406, device='cuda:0')]\n"
          ]
        },
        {
          "output_type": "stream",
          "name": "stdout",
          "text": [
            "EPOCH 32/40 :\n"
          ]
        },
        {
          "output_type": "stream",
          "name": "stderr",
          "text": [
            "  train: 100%|██████████| 469/469 [00:16<00:00, 28.44it/s, train_acc=1, train_loss=0.000224]\n",
            "  test: 100%|██████████| 79/79 [00:03<00:00, 24.35it/s, test_acc=0.99, test_loss=tensor(0.0405, device='cuda:0')]\n"
          ]
        },
        {
          "output_type": "stream",
          "name": "stdout",
          "text": [
            "EPOCH 33/40 :\n"
          ]
        },
        {
          "output_type": "stream",
          "name": "stderr",
          "text": [
            "  train: 100%|██████████| 469/469 [00:15<00:00, 29.43it/s, train_acc=1, train_loss=0.000265]\n",
            "  test: 100%|██████████| 79/79 [00:02<00:00, 26.73it/s, test_acc=0.991, test_loss=tensor(0.0407, device='cuda:0')]\n"
          ]
        },
        {
          "output_type": "stream",
          "name": "stdout",
          "text": [
            "EPOCH 34/40 :\n"
          ]
        },
        {
          "output_type": "stream",
          "name": "stderr",
          "text": [
            "  train: 100%|██████████| 469/469 [00:16<00:00, 28.48it/s, train_acc=1, train_loss=0.000233]\n",
            "  test: 100%|██████████| 79/79 [00:03<00:00, 24.23it/s, test_acc=0.99, test_loss=tensor(0.0397, device='cuda:0')]\n"
          ]
        },
        {
          "output_type": "stream",
          "name": "stdout",
          "text": [
            "EPOCH 35/40 :\n"
          ]
        },
        {
          "output_type": "stream",
          "name": "stderr",
          "text": [
            "  train: 100%|██████████| 469/469 [00:15<00:00, 29.33it/s, train_acc=1, train_loss=0.000223]\n",
            "  test: 100%|██████████| 79/79 [00:03<00:00, 26.21it/s, test_acc=0.991, test_loss=tensor(0.0401, device='cuda:0')]\n"
          ]
        },
        {
          "output_type": "stream",
          "name": "stdout",
          "text": [
            "EPOCH 36/40 :\n"
          ]
        },
        {
          "output_type": "stream",
          "name": "stderr",
          "text": [
            "  train: 100%|██████████| 469/469 [00:16<00:00, 27.78it/s, train_acc=1, train_loss=0.000139]\n",
            "  test: 100%|██████████| 79/79 [00:03<00:00, 24.54it/s, test_acc=0.991, test_loss=tensor(0.0392, device='cuda:0')]\n"
          ]
        },
        {
          "output_type": "stream",
          "name": "stdout",
          "text": [
            "EPOCH 37/40 :\n"
          ]
        },
        {
          "output_type": "stream",
          "name": "stderr",
          "text": [
            "  train: 100%|██████████| 469/469 [00:15<00:00, 29.46it/s, train_acc=1, train_loss=0.000127]\n",
            "  test: 100%|██████████| 79/79 [00:02<00:00, 26.75it/s, test_acc=0.991, test_loss=tensor(0.0403, device='cuda:0')]\n"
          ]
        },
        {
          "output_type": "stream",
          "name": "stdout",
          "text": [
            "EPOCH 38/40 :\n"
          ]
        },
        {
          "output_type": "stream",
          "name": "stderr",
          "text": [
            "  train: 100%|██████████| 469/469 [00:16<00:00, 28.24it/s, train_acc=1, train_loss=0.000102]\n",
            "  test: 100%|██████████| 79/79 [00:03<00:00, 25.26it/s, test_acc=0.99, test_loss=tensor(0.0396, device='cuda:0')]\n"
          ]
        },
        {
          "output_type": "stream",
          "name": "stdout",
          "text": [
            "EPOCH 39/40 :\n"
          ]
        },
        {
          "output_type": "stream",
          "name": "stderr",
          "text": [
            "  train: 100%|██████████| 469/469 [00:15<00:00, 30.06it/s, train_acc=1, train_loss=9.2e-5]\n",
            "  test: 100%|██████████| 79/79 [00:02<00:00, 26.79it/s, test_acc=0.991, test_loss=tensor(0.0404, device='cuda:0')]\n"
          ]
        },
        {
          "output_type": "stream",
          "name": "stdout",
          "text": [
            "EPOCH 40/40 :\n"
          ]
        },
        {
          "output_type": "stream",
          "name": "stderr",
          "text": [
            "  train: 100%|██████████| 469/469 [00:16<00:00, 28.95it/s, train_acc=1, train_loss=9.5e-5]\n",
            "  test: 100%|██████████| 79/79 [00:03<00:00, 23.93it/s, test_acc=0.99, test_loss=tensor(0.0422, device='cuda:0')]"
          ]
        },
        {
          "output_type": "stream",
          "name": "stdout",
          "text": [
            "Total training time: 776.720 seconds\n"
          ]
        },
        {
          "output_type": "stream",
          "name": "stderr",
          "text": [
            "\n"
          ]
        }
      ]
    },
    {
      "cell_type": "code",
      "source": [
        "torch.save(model7.state_dict(), \"trained_model7.pth\")"
      ],
      "metadata": {
        "id": "B_KnHhAtUW0s"
      },
      "execution_count": null,
      "outputs": []
    },
    {
      "cell_type": "markdown",
      "source": [
        "# Fit for FasshinMNIST dataset"
      ],
      "metadata": {
        "id": "Qg3RRTpaRGvg"
      }
    },
    {
      "cell_type": "markdown",
      "source": [
        "## Model 2\n"
      ],
      "metadata": {
        "id": "bdtPPju_Tt-q"
      }
    },
    {
      "cell_type": "code",
      "source": [
        "result2_FashionMNIST = fit(model=model2,\n",
        "                           train_loader=train_dataloader_FashionMNIST,\n",
        "                           test_loader=test_dataloader_FashionMNIST,\n",
        "                           loss_fn=loss_fn,\n",
        "                           optimizer=optimizer2,\n",
        "                           accuracy_fn=accuracy_fn,\n",
        "                           device=device,\n",
        "                           epochs=30)"
      ],
      "metadata": {
        "colab": {
          "base_uri": "https://localhost:8080/"
        },
        "id": "YaACtKkLT4Zh",
        "outputId": "a92de0ff-2664-4895-9bbd-30bb95c6deab"
      },
      "execution_count": 37,
      "outputs": [
        {
          "output_type": "stream",
          "name": "stdout",
          "text": [
            "EPOCH 1/30 :\n"
          ]
        },
        {
          "output_type": "stream",
          "name": "stderr",
          "text": [
            "  train: 100%|██████████| 469/469 [00:14<00:00, 31.64it/s, train_acc=0.812, train_loss=0.523]\n",
            "  test: 100%|██████████| 79/79 [00:02<00:00, 32.75it/s, test_acc=0.866, test_loss=tensor(0.3628, device='cuda:0')]\n"
          ]
        },
        {
          "output_type": "stream",
          "name": "stdout",
          "text": [
            "EPOCH 2/30 :\n"
          ]
        },
        {
          "output_type": "stream",
          "name": "stderr",
          "text": [
            "  train: 100%|██████████| 469/469 [00:14<00:00, 31.84it/s, train_acc=0.893, train_loss=0.29]\n",
            "  test: 100%|██████████| 79/79 [00:02<00:00, 34.36it/s, test_acc=0.903, test_loss=tensor(0.2706, device='cuda:0')]\n"
          ]
        },
        {
          "output_type": "stream",
          "name": "stdout",
          "text": [
            "EPOCH 3/30 :\n"
          ]
        },
        {
          "output_type": "stream",
          "name": "stderr",
          "text": [
            "  train: 100%|██████████| 469/469 [00:15<00:00, 29.46it/s, train_acc=0.911, train_loss=0.239]\n",
            "  test: 100%|██████████| 79/79 [00:02<00:00, 33.75it/s, test_acc=0.901, test_loss=tensor(0.2709, device='cuda:0')]\n"
          ]
        },
        {
          "output_type": "stream",
          "name": "stdout",
          "text": [
            "EPOCH 4/30 :\n"
          ]
        },
        {
          "output_type": "stream",
          "name": "stderr",
          "text": [
            "  train: 100%|██████████| 469/469 [00:14<00:00, 31.30it/s, train_acc=0.922, train_loss=0.21]\n",
            "  test: 100%|██████████| 79/79 [00:02<00:00, 34.42it/s, test_acc=0.907, test_loss=tensor(0.2628, device='cuda:0')]\n"
          ]
        },
        {
          "output_type": "stream",
          "name": "stdout",
          "text": [
            "EPOCH 5/30 :\n"
          ]
        },
        {
          "output_type": "stream",
          "name": "stderr",
          "text": [
            "  train: 100%|██████████| 469/469 [00:14<00:00, 31.42it/s, train_acc=0.932, train_loss=0.185]\n",
            "  test: 100%|██████████| 79/79 [00:03<00:00, 25.66it/s, test_acc=0.914, test_loss=tensor(0.2404, device='cuda:0')]\n"
          ]
        },
        {
          "output_type": "stream",
          "name": "stdout",
          "text": [
            "EPOCH 6/30 :\n"
          ]
        },
        {
          "output_type": "stream",
          "name": "stderr",
          "text": [
            "  train: 100%|██████████| 469/469 [00:14<00:00, 31.50it/s, train_acc=0.938, train_loss=0.169]\n",
            "  test: 100%|██████████| 79/79 [00:02<00:00, 34.87it/s, test_acc=0.915, test_loss=tensor(0.2404, device='cuda:0')]\n"
          ]
        },
        {
          "output_type": "stream",
          "name": "stdout",
          "text": [
            "EPOCH 7/30 :\n"
          ]
        },
        {
          "output_type": "stream",
          "name": "stderr",
          "text": [
            "  train: 100%|██████████| 469/469 [00:14<00:00, 31.60it/s, train_acc=0.944, train_loss=0.153]\n",
            "  test: 100%|██████████| 79/79 [00:02<00:00, 32.94it/s, test_acc=0.916, test_loss=tensor(0.2408, device='cuda:0')]\n"
          ]
        },
        {
          "output_type": "stream",
          "name": "stdout",
          "text": [
            "EPOCH 8/30 :\n"
          ]
        },
        {
          "output_type": "stream",
          "name": "stderr",
          "text": [
            "  train: 100%|██████████| 469/469 [00:14<00:00, 31.82it/s, train_acc=0.95, train_loss=0.136]\n",
            "  test: 100%|██████████| 79/79 [00:03<00:00, 23.63it/s, test_acc=0.922, test_loss=tensor(0.2263, device='cuda:0')]\n"
          ]
        },
        {
          "output_type": "stream",
          "name": "stdout",
          "text": [
            "EPOCH 9/30 :\n"
          ]
        },
        {
          "output_type": "stream",
          "name": "stderr",
          "text": [
            "  train: 100%|██████████| 469/469 [00:14<00:00, 31.69it/s, train_acc=0.956, train_loss=0.12]\n",
            "  test: 100%|██████████| 79/79 [00:02<00:00, 34.45it/s, test_acc=0.919, test_loss=tensor(0.2298, device='cuda:0')]\n"
          ]
        },
        {
          "output_type": "stream",
          "name": "stdout",
          "text": [
            "EPOCH 10/30 :\n"
          ]
        },
        {
          "output_type": "stream",
          "name": "stderr",
          "text": [
            "  train: 100%|██████████| 469/469 [00:14<00:00, 31.55it/s, train_acc=0.962, train_loss=0.105]\n",
            "  test: 100%|██████████| 79/79 [00:02<00:00, 34.04it/s, test_acc=0.922, test_loss=tensor(0.2391, device='cuda:0')]\n"
          ]
        },
        {
          "output_type": "stream",
          "name": "stdout",
          "text": [
            "EPOCH 11/30 :\n"
          ]
        },
        {
          "output_type": "stream",
          "name": "stderr",
          "text": [
            "  train: 100%|██████████| 469/469 [00:15<00:00, 30.59it/s, train_acc=0.966, train_loss=0.0929]\n",
            "  test: 100%|██████████| 79/79 [00:02<00:00, 28.19it/s, test_acc=0.92, test_loss=tensor(0.2617, device='cuda:0')]\n"
          ]
        },
        {
          "output_type": "stream",
          "name": "stdout",
          "text": [
            "EPOCH 12/30 :\n"
          ]
        },
        {
          "output_type": "stream",
          "name": "stderr",
          "text": [
            "  train: 100%|██████████| 469/469 [00:14<00:00, 31.55it/s, train_acc=0.97, train_loss=0.0844]\n",
            "  test: 100%|██████████| 79/79 [00:02<00:00, 35.05it/s, test_acc=0.921, test_loss=tensor(0.2776, device='cuda:0')]\n"
          ]
        },
        {
          "output_type": "stream",
          "name": "stdout",
          "text": [
            "EPOCH 13/30 :\n"
          ]
        },
        {
          "output_type": "stream",
          "name": "stderr",
          "text": [
            "  train: 100%|██████████| 469/469 [00:14<00:00, 31.57it/s, train_acc=0.972, train_loss=0.0749]\n",
            "  test: 100%|██████████| 79/79 [00:02<00:00, 34.66it/s, test_acc=0.921, test_loss=tensor(0.2817, device='cuda:0')]\n"
          ]
        },
        {
          "output_type": "stream",
          "name": "stdout",
          "text": [
            "EPOCH 14/30 :\n"
          ]
        },
        {
          "output_type": "stream",
          "name": "stderr",
          "text": [
            "  train: 100%|██████████| 469/469 [00:15<00:00, 30.17it/s, train_acc=0.976, train_loss=0.0655]\n",
            "  test: 100%|██████████| 79/79 [00:02<00:00, 33.22it/s, test_acc=0.919, test_loss=tensor(0.2899, device='cuda:0')]\n"
          ]
        },
        {
          "output_type": "stream",
          "name": "stdout",
          "text": [
            "EPOCH 15/30 :\n"
          ]
        },
        {
          "output_type": "stream",
          "name": "stderr",
          "text": [
            "  train: 100%|██████████| 469/469 [00:14<00:00, 32.05it/s, train_acc=0.979, train_loss=0.0593]\n",
            "  test: 100%|██████████| 79/79 [00:02<00:00, 35.15it/s, test_acc=0.922, test_loss=tensor(0.2853, device='cuda:0')]\n"
          ]
        },
        {
          "output_type": "stream",
          "name": "stdout",
          "text": [
            "EPOCH 16/30 :\n"
          ]
        },
        {
          "output_type": "stream",
          "name": "stderr",
          "text": [
            "  train: 100%|██████████| 469/469 [00:14<00:00, 31.95it/s, train_acc=0.981, train_loss=0.0517]\n",
            "  test: 100%|██████████| 79/79 [00:02<00:00, 30.48it/s, test_acc=0.922, test_loss=tensor(0.3081, device='cuda:0')]\n"
          ]
        },
        {
          "output_type": "stream",
          "name": "stdout",
          "text": [
            "EPOCH 17/30 :\n"
          ]
        },
        {
          "output_type": "stream",
          "name": "stderr",
          "text": [
            "  train: 100%|██████████| 469/469 [00:15<00:00, 30.78it/s, train_acc=0.984, train_loss=0.043]\n",
            "  test: 100%|██████████| 79/79 [00:02<00:00, 34.53it/s, test_acc=0.923, test_loss=tensor(0.3568, device='cuda:0')]\n"
          ]
        },
        {
          "output_type": "stream",
          "name": "stdout",
          "text": [
            "EPOCH 18/30 :\n"
          ]
        },
        {
          "output_type": "stream",
          "name": "stderr",
          "text": [
            "  train: 100%|██████████| 469/469 [00:14<00:00, 31.96it/s, train_acc=0.985, train_loss=0.0411]\n",
            "  test: 100%|██████████| 79/79 [00:02<00:00, 35.21it/s, test_acc=0.92, test_loss=tensor(0.3407, device='cuda:0')]\n"
          ]
        },
        {
          "output_type": "stream",
          "name": "stdout",
          "text": [
            "EPOCH 19/30 :\n"
          ]
        },
        {
          "output_type": "stream",
          "name": "stderr",
          "text": [
            "  train: 100%|██████████| 469/469 [00:14<00:00, 31.65it/s, train_acc=0.985, train_loss=0.0403]\n",
            "  test: 100%|██████████| 79/79 [00:03<00:00, 26.22it/s, test_acc=0.92, test_loss=tensor(0.3503, device='cuda:0')]\n"
          ]
        },
        {
          "output_type": "stream",
          "name": "stdout",
          "text": [
            "EPOCH 20/30 :\n"
          ]
        },
        {
          "output_type": "stream",
          "name": "stderr",
          "text": [
            "  train: 100%|██████████| 469/469 [00:14<00:00, 31.81it/s, train_acc=0.987, train_loss=0.0347]\n",
            "  test: 100%|██████████| 79/79 [00:02<00:00, 34.83it/s, test_acc=0.918, test_loss=tensor(0.3777, device='cuda:0')]\n"
          ]
        },
        {
          "output_type": "stream",
          "name": "stdout",
          "text": [
            "EPOCH 21/30 :\n"
          ]
        },
        {
          "output_type": "stream",
          "name": "stderr",
          "text": [
            "  train: 100%|██████████| 469/469 [00:14<00:00, 32.49it/s, train_acc=0.989, train_loss=0.0313]\n",
            "  test: 100%|██████████| 79/79 [00:02<00:00, 35.11it/s, test_acc=0.921, test_loss=tensor(0.4068, device='cuda:0')]\n"
          ]
        },
        {
          "output_type": "stream",
          "name": "stdout",
          "text": [
            "EPOCH 22/30 :\n"
          ]
        },
        {
          "output_type": "stream",
          "name": "stderr",
          "text": [
            "  train: 100%|██████████| 469/469 [00:14<00:00, 32.65it/s, train_acc=0.988, train_loss=0.0335]\n",
            "  test: 100%|██████████| 79/79 [00:02<00:00, 26.53it/s, test_acc=0.922, test_loss=tensor(0.3934, device='cuda:0')]\n"
          ]
        },
        {
          "output_type": "stream",
          "name": "stdout",
          "text": [
            "EPOCH 23/30 :\n"
          ]
        },
        {
          "output_type": "stream",
          "name": "stderr",
          "text": [
            "  train: 100%|██████████| 469/469 [00:14<00:00, 32.02it/s, train_acc=0.991, train_loss=0.0243]\n",
            "  test: 100%|██████████| 79/79 [00:02<00:00, 35.74it/s, test_acc=0.921, test_loss=tensor(0.4294, device='cuda:0')]\n"
          ]
        },
        {
          "output_type": "stream",
          "name": "stdout",
          "text": [
            "EPOCH 24/30 :\n"
          ]
        },
        {
          "output_type": "stream",
          "name": "stderr",
          "text": [
            "  train: 100%|██████████| 469/469 [00:14<00:00, 32.72it/s, train_acc=0.992, train_loss=0.0243]\n",
            "  test: 100%|██████████| 79/79 [00:02<00:00, 35.06it/s, test_acc=0.921, test_loss=tensor(0.4216, device='cuda:0')]\n"
          ]
        },
        {
          "output_type": "stream",
          "name": "stdout",
          "text": [
            "EPOCH 25/30 :\n"
          ]
        },
        {
          "output_type": "stream",
          "name": "stderr",
          "text": [
            "  train: 100%|██████████| 469/469 [00:14<00:00, 32.90it/s, train_acc=0.992, train_loss=0.0218]\n",
            "  test: 100%|██████████| 79/79 [00:02<00:00, 27.32it/s, test_acc=0.925, test_loss=tensor(0.3995, device='cuda:0')]\n"
          ]
        },
        {
          "output_type": "stream",
          "name": "stdout",
          "text": [
            "EPOCH 26/30 :\n"
          ]
        },
        {
          "output_type": "stream",
          "name": "stderr",
          "text": [
            "  train: 100%|██████████| 469/469 [00:14<00:00, 32.04it/s, train_acc=0.994, train_loss=0.0165]\n",
            "  test: 100%|██████████| 79/79 [00:02<00:00, 36.05it/s, test_acc=0.922, test_loss=tensor(0.4460, device='cuda:0')]\n"
          ]
        },
        {
          "output_type": "stream",
          "name": "stdout",
          "text": [
            "EPOCH 27/30 :\n"
          ]
        },
        {
          "output_type": "stream",
          "name": "stderr",
          "text": [
            "  train: 100%|██████████| 469/469 [00:14<00:00, 32.99it/s, train_acc=0.994, train_loss=0.0159]\n",
            "  test: 100%|██████████| 79/79 [00:02<00:00, 35.37it/s, test_acc=0.923, test_loss=tensor(0.4695, device='cuda:0')]\n"
          ]
        },
        {
          "output_type": "stream",
          "name": "stdout",
          "text": [
            "EPOCH 28/30 :\n"
          ]
        },
        {
          "output_type": "stream",
          "name": "stderr",
          "text": [
            "  train: 100%|██████████| 469/469 [00:14<00:00, 32.91it/s, train_acc=0.994, train_loss=0.0187]\n",
            "  test: 100%|██████████| 79/79 [00:02<00:00, 30.14it/s, test_acc=0.92, test_loss=tensor(0.4616, device='cuda:0')]\n"
          ]
        },
        {
          "output_type": "stream",
          "name": "stdout",
          "text": [
            "EPOCH 29/30 :\n"
          ]
        },
        {
          "output_type": "stream",
          "name": "stderr",
          "text": [
            "  train: 100%|██████████| 469/469 [00:14<00:00, 31.62it/s, train_acc=0.994, train_loss=0.0183]\n",
            "  test: 100%|██████████| 79/79 [00:02<00:00, 35.59it/s, test_acc=0.918, test_loss=tensor(0.4785, device='cuda:0')]\n"
          ]
        },
        {
          "output_type": "stream",
          "name": "stdout",
          "text": [
            "EPOCH 30/30 :\n"
          ]
        },
        {
          "output_type": "stream",
          "name": "stderr",
          "text": [
            "  train: 100%|██████████| 469/469 [00:14<00:00, 32.50it/s, train_acc=0.995, train_loss=0.0147]\n",
            "  test: 100%|██████████| 79/79 [00:02<00:00, 35.10it/s, test_acc=0.921, test_loss=tensor(0.4734, device='cuda:0')]"
          ]
        },
        {
          "output_type": "stream",
          "name": "stdout",
          "text": [
            "Total training time: 517.172 seconds\n"
          ]
        },
        {
          "output_type": "stream",
          "name": "stderr",
          "text": [
            "\n"
          ]
        }
      ]
    },
    {
      "cell_type": "code",
      "source": [
        "torch.save(model2.state_dict(), \"trained_model2.pth\")"
      ],
      "metadata": {
        "id": "a5Yl5y4pUqwI"
      },
      "execution_count": null,
      "outputs": []
    },
    {
      "cell_type": "markdown",
      "source": [
        "## Model 5"
      ],
      "metadata": {
        "id": "XduOdcAYYRSx"
      }
    },
    {
      "cell_type": "code",
      "source": [
        "result5_FashionMNIST = fit(model=model5,\n",
        "                           train_loader=train_dataloader_FashionMNIST,\n",
        "                           test_loader=test_dataloader_FashionMNIST,\n",
        "                           loss_fn=loss_fn,\n",
        "                           optimizer=optimizer5,\n",
        "                           accuracy_fn=accuracy_fn,\n",
        "                           device=device,\n",
        "                           epochs=30)"
      ],
      "metadata": {
        "colab": {
          "base_uri": "https://localhost:8080/"
        },
        "id": "Cs3u6GYaYXG4",
        "outputId": "4ddf5053-1bab-4068-f5cd-b40712b30da6"
      },
      "execution_count": null,
      "outputs": [
        {
          "output_type": "stream",
          "name": "stdout",
          "text": [
            "EPOCH 1/30 :\n"
          ]
        },
        {
          "output_type": "stream",
          "name": "stderr",
          "text": [
            "  train: 100%|██████████| 469/469 [00:15<00:00, 29.63it/s, train_acc=0.812, train_loss=0.52]\n",
            "  test: 100%|██████████| 79/79 [00:03<00:00, 23.64it/s, test_acc=0.875, test_loss=tensor(0.3439, device='cuda:0')]\n"
          ]
        },
        {
          "output_type": "stream",
          "name": "stdout",
          "text": [
            "EPOCH 2/30 :\n"
          ]
        },
        {
          "output_type": "stream",
          "name": "stderr",
          "text": [
            "  train: 100%|██████████| 469/469 [00:16<00:00, 29.15it/s, train_acc=0.895, train_loss=0.288]\n",
            "  test: 100%|██████████| 79/79 [00:02<00:00, 31.87it/s, test_acc=0.9, test_loss=tensor(0.2811, device='cuda:0')]\n"
          ]
        },
        {
          "output_type": "stream",
          "name": "stdout",
          "text": [
            "EPOCH 3/30 :\n"
          ]
        },
        {
          "output_type": "stream",
          "name": "stderr",
          "text": [
            "  train: 100%|██████████| 469/469 [00:15<00:00, 29.42it/s, train_acc=0.912, train_loss=0.239]\n",
            "  test: 100%|██████████| 79/79 [00:02<00:00, 27.30it/s, test_acc=0.902, test_loss=tensor(0.2562, device='cuda:0')]\n"
          ]
        },
        {
          "output_type": "stream",
          "name": "stdout",
          "text": [
            "EPOCH 4/30 :\n"
          ]
        },
        {
          "output_type": "stream",
          "name": "stderr",
          "text": [
            "  train: 100%|██████████| 469/469 [00:16<00:00, 28.52it/s, train_acc=0.924, train_loss=0.206]\n",
            "  test: 100%|██████████| 79/79 [00:02<00:00, 30.95it/s, test_acc=0.914, test_loss=tensor(0.2393, device='cuda:0')]\n"
          ]
        },
        {
          "output_type": "stream",
          "name": "stdout",
          "text": [
            "EPOCH 5/30 :\n"
          ]
        },
        {
          "output_type": "stream",
          "name": "stderr",
          "text": [
            "  train: 100%|██████████| 469/469 [00:16<00:00, 29.14it/s, train_acc=0.93, train_loss=0.187]\n",
            "  test: 100%|██████████| 79/79 [00:02<00:00, 31.49it/s, test_acc=0.915, test_loss=tensor(0.2325, device='cuda:0')]\n"
          ]
        },
        {
          "output_type": "stream",
          "name": "stdout",
          "text": [
            "EPOCH 6/30 :\n"
          ]
        },
        {
          "output_type": "stream",
          "name": "stderr",
          "text": [
            "  train: 100%|██████████| 469/469 [00:16<00:00, 27.67it/s, train_acc=0.938, train_loss=0.167]\n",
            "  test: 100%|██████████| 79/79 [00:02<00:00, 29.85it/s, test_acc=0.919, test_loss=tensor(0.2371, device='cuda:0')]\n"
          ]
        },
        {
          "output_type": "stream",
          "name": "stdout",
          "text": [
            "EPOCH 7/30 :\n"
          ]
        },
        {
          "output_type": "stream",
          "name": "stderr",
          "text": [
            "  train: 100%|██████████| 469/469 [00:16<00:00, 29.22it/s, train_acc=0.944, train_loss=0.15]\n",
            "  test: 100%|██████████| 79/79 [00:02<00:00, 31.50it/s, test_acc=0.912, test_loss=tensor(0.2461, device='cuda:0')]\n"
          ]
        },
        {
          "output_type": "stream",
          "name": "stdout",
          "text": [
            "EPOCH 8/30 :\n"
          ]
        },
        {
          "output_type": "stream",
          "name": "stderr",
          "text": [
            "  train: 100%|██████████| 469/469 [00:17<00:00, 27.41it/s, train_acc=0.95, train_loss=0.134]\n",
            "  test: 100%|██████████| 79/79 [00:02<00:00, 31.62it/s, test_acc=0.914, test_loss=tensor(0.2516, device='cuda:0')]\n"
          ]
        },
        {
          "output_type": "stream",
          "name": "stdout",
          "text": [
            "EPOCH 9/30 :\n"
          ]
        },
        {
          "output_type": "stream",
          "name": "stderr",
          "text": [
            "  train: 100%|██████████| 469/469 [00:16<00:00, 29.24it/s, train_acc=0.956, train_loss=0.12]\n",
            "  test: 100%|██████████| 79/79 [00:02<00:00, 31.28it/s, test_acc=0.925, test_loss=tensor(0.2389, device='cuda:0')]\n"
          ]
        },
        {
          "output_type": "stream",
          "name": "stdout",
          "text": [
            "EPOCH 10/30 :\n"
          ]
        },
        {
          "output_type": "stream",
          "name": "stderr",
          "text": [
            "  train: 100%|██████████| 469/469 [00:17<00:00, 27.09it/s, train_acc=0.961, train_loss=0.108]\n",
            "  test: 100%|██████████| 79/79 [00:02<00:00, 31.57it/s, test_acc=0.924, test_loss=tensor(0.2364, device='cuda:0')]\n"
          ]
        },
        {
          "output_type": "stream",
          "name": "stdout",
          "text": [
            "EPOCH 11/30 :\n"
          ]
        },
        {
          "output_type": "stream",
          "name": "stderr",
          "text": [
            "  train: 100%|██████████| 469/469 [00:15<00:00, 29.41it/s, train_acc=0.965, train_loss=0.0947]\n",
            "  test: 100%|██████████| 79/79 [00:02<00:00, 31.52it/s, test_acc=0.919, test_loss=tensor(0.2635, device='cuda:0')]\n"
          ]
        },
        {
          "output_type": "stream",
          "name": "stdout",
          "text": [
            "EPOCH 12/30 :\n"
          ]
        },
        {
          "output_type": "stream",
          "name": "stderr",
          "text": [
            "  train: 100%|██████████| 469/469 [00:19<00:00, 24.35it/s, train_acc=0.97, train_loss=0.0816]\n",
            "  test: 100%|██████████| 79/79 [00:02<00:00, 31.65it/s, test_acc=0.92, test_loss=tensor(0.2802, device='cuda:0')]\n"
          ]
        },
        {
          "output_type": "stream",
          "name": "stdout",
          "text": [
            "EPOCH 13/30 :\n"
          ]
        },
        {
          "output_type": "stream",
          "name": "stderr",
          "text": [
            "  train: 100%|██████████| 469/469 [00:16<00:00, 29.08it/s, train_acc=0.972, train_loss=0.076]\n",
            "  test: 100%|██████████| 79/79 [00:02<00:00, 31.23it/s, test_acc=0.92, test_loss=tensor(0.2792, device='cuda:0')]\n"
          ]
        },
        {
          "output_type": "stream",
          "name": "stdout",
          "text": [
            "EPOCH 14/30 :\n"
          ]
        },
        {
          "output_type": "stream",
          "name": "stderr",
          "text": [
            "  train: 100%|██████████| 469/469 [00:17<00:00, 27.53it/s, train_acc=0.975, train_loss=0.0674]\n",
            "  test: 100%|██████████| 79/79 [00:02<00:00, 31.44it/s, test_acc=0.923, test_loss=tensor(0.2725, device='cuda:0')]\n"
          ]
        },
        {
          "output_type": "stream",
          "name": "stdout",
          "text": [
            "EPOCH 15/30 :\n"
          ]
        },
        {
          "output_type": "stream",
          "name": "stderr",
          "text": [
            "  train: 100%|██████████| 469/469 [00:15<00:00, 29.51it/s, train_acc=0.978, train_loss=0.0593]\n",
            "  test: 100%|██████████| 79/79 [00:02<00:00, 31.14it/s, test_acc=0.923, test_loss=tensor(0.2982, device='cuda:0')]\n"
          ]
        },
        {
          "output_type": "stream",
          "name": "stdout",
          "text": [
            "EPOCH 16/30 :\n"
          ]
        },
        {
          "output_type": "stream",
          "name": "stderr",
          "text": [
            "  train: 100%|██████████| 469/469 [00:17<00:00, 27.38it/s, train_acc=0.981, train_loss=0.0532]\n",
            "  test: 100%|██████████| 79/79 [00:02<00:00, 31.64it/s, test_acc=0.923, test_loss=tensor(0.3051, device='cuda:0')]\n"
          ]
        },
        {
          "output_type": "stream",
          "name": "stdout",
          "text": [
            "EPOCH 17/30 :\n"
          ]
        },
        {
          "output_type": "stream",
          "name": "stderr",
          "text": [
            "  train: 100%|██████████| 469/469 [00:16<00:00, 28.07it/s, train_acc=0.983, train_loss=0.0451]\n",
            "  test: 100%|██████████| 79/79 [00:02<00:00, 30.36it/s, test_acc=0.926, test_loss=tensor(0.3168, device='cuda:0')]\n"
          ]
        },
        {
          "output_type": "stream",
          "name": "stdout",
          "text": [
            "EPOCH 18/30 :\n"
          ]
        },
        {
          "output_type": "stream",
          "name": "stderr",
          "text": [
            "  train: 100%|██████████| 469/469 [00:17<00:00, 27.20it/s, train_acc=0.984, train_loss=0.0432]\n",
            "  test: 100%|██████████| 79/79 [00:02<00:00, 30.99it/s, test_acc=0.925, test_loss=tensor(0.3238, device='cuda:0')]\n"
          ]
        },
        {
          "output_type": "stream",
          "name": "stdout",
          "text": [
            "EPOCH 19/30 :\n"
          ]
        },
        {
          "output_type": "stream",
          "name": "stderr",
          "text": [
            "  train: 100%|██████████| 469/469 [00:16<00:00, 28.89it/s, train_acc=0.987, train_loss=0.0368]\n",
            "  test: 100%|██████████| 79/79 [00:02<00:00, 31.14it/s, test_acc=0.922, test_loss=tensor(0.3319, device='cuda:0')]\n"
          ]
        },
        {
          "output_type": "stream",
          "name": "stdout",
          "text": [
            "EPOCH 20/30 :\n"
          ]
        },
        {
          "output_type": "stream",
          "name": "stderr",
          "text": [
            "  train: 100%|██████████| 469/469 [00:16<00:00, 28.08it/s, train_acc=0.987, train_loss=0.0356]\n",
            "  test: 100%|██████████| 79/79 [00:02<00:00, 27.65it/s, test_acc=0.926, test_loss=tensor(0.3550, device='cuda:0')]\n"
          ]
        },
        {
          "output_type": "stream",
          "name": "stdout",
          "text": [
            "EPOCH 21/30 :\n"
          ]
        },
        {
          "output_type": "stream",
          "name": "stderr",
          "text": [
            "  train: 100%|██████████| 469/469 [00:16<00:00, 29.01it/s, train_acc=0.99, train_loss=0.0289]\n",
            "  test: 100%|██████████| 79/79 [00:02<00:00, 30.58it/s, test_acc=0.929, test_loss=tensor(0.3426, device='cuda:0')]\n"
          ]
        },
        {
          "output_type": "stream",
          "name": "stdout",
          "text": [
            "EPOCH 22/30 :\n"
          ]
        },
        {
          "output_type": "stream",
          "name": "stderr",
          "text": [
            "  train: 100%|██████████| 469/469 [00:16<00:00, 28.48it/s, train_acc=0.99, train_loss=0.0284]\n",
            "  test: 100%|██████████| 79/79 [00:03<00:00, 23.95it/s, test_acc=0.925, test_loss=tensor(0.3750, device='cuda:0')]\n"
          ]
        },
        {
          "output_type": "stream",
          "name": "stdout",
          "text": [
            "EPOCH 23/30 :\n"
          ]
        },
        {
          "output_type": "stream",
          "name": "stderr",
          "text": [
            "  train: 100%|██████████| 469/469 [00:16<00:00, 29.12it/s, train_acc=0.991, train_loss=0.0255]\n",
            "  test: 100%|██████████| 79/79 [00:02<00:00, 30.85it/s, test_acc=0.926, test_loss=tensor(0.3542, device='cuda:0')]\n"
          ]
        },
        {
          "output_type": "stream",
          "name": "stdout",
          "text": [
            "EPOCH 24/30 :\n"
          ]
        },
        {
          "output_type": "stream",
          "name": "stderr",
          "text": [
            "  train: 100%|██████████| 469/469 [00:16<00:00, 28.88it/s, train_acc=0.991, train_loss=0.0251]\n",
            "  test: 100%|██████████| 79/79 [00:03<00:00, 22.89it/s, test_acc=0.924, test_loss=tensor(0.3775, device='cuda:0')]\n"
          ]
        },
        {
          "output_type": "stream",
          "name": "stdout",
          "text": [
            "EPOCH 25/30 :\n"
          ]
        },
        {
          "output_type": "stream",
          "name": "stderr",
          "text": [
            "  train: 100%|██████████| 469/469 [00:15<00:00, 29.46it/s, train_acc=0.993, train_loss=0.0199]\n",
            "  test: 100%|██████████| 79/79 [00:02<00:00, 30.33it/s, test_acc=0.927, test_loss=tensor(0.3945, device='cuda:0')]\n"
          ]
        },
        {
          "output_type": "stream",
          "name": "stdout",
          "text": [
            "EPOCH 26/30 :\n"
          ]
        },
        {
          "output_type": "stream",
          "name": "stderr",
          "text": [
            "  train: 100%|██████████| 469/469 [00:15<00:00, 29.38it/s, train_acc=0.993, train_loss=0.0191]\n",
            "  test: 100%|██████████| 79/79 [00:03<00:00, 24.08it/s, test_acc=0.928, test_loss=tensor(0.4014, device='cuda:0')]\n"
          ]
        },
        {
          "output_type": "stream",
          "name": "stdout",
          "text": [
            "EPOCH 27/30 :\n"
          ]
        },
        {
          "output_type": "stream",
          "name": "stderr",
          "text": [
            "  train: 100%|██████████| 469/469 [00:16<00:00, 28.76it/s, train_acc=0.993, train_loss=0.0198]\n",
            "  test: 100%|██████████| 79/79 [00:02<00:00, 31.28it/s, test_acc=0.926, test_loss=tensor(0.3836, device='cuda:0')]\n"
          ]
        },
        {
          "output_type": "stream",
          "name": "stdout",
          "text": [
            "EPOCH 28/30 :\n"
          ]
        },
        {
          "output_type": "stream",
          "name": "stderr",
          "text": [
            "  train: 100%|██████████| 469/469 [00:15<00:00, 29.44it/s, train_acc=0.993, train_loss=0.0201]\n",
            "  test: 100%|██████████| 79/79 [00:02<00:00, 27.24it/s, test_acc=0.921, test_loss=tensor(0.4225, device='cuda:0')]\n"
          ]
        },
        {
          "output_type": "stream",
          "name": "stdout",
          "text": [
            "EPOCH 29/30 :\n"
          ]
        },
        {
          "output_type": "stream",
          "name": "stderr",
          "text": [
            "  train: 100%|██████████| 469/469 [00:16<00:00, 27.65it/s, train_acc=0.994, train_loss=0.0151]\n",
            "  test: 100%|██████████| 79/79 [00:02<00:00, 31.01it/s, test_acc=0.925, test_loss=tensor(0.4380, device='cuda:0')]\n"
          ]
        },
        {
          "output_type": "stream",
          "name": "stdout",
          "text": [
            "EPOCH 30/30 :\n"
          ]
        },
        {
          "output_type": "stream",
          "name": "stderr",
          "text": [
            "  train: 100%|██████████| 469/469 [00:16<00:00, 28.55it/s, train_acc=0.995, train_loss=0.0128]\n",
            "  test: 100%|██████████| 79/79 [00:02<00:00, 27.92it/s, test_acc=0.925, test_loss=tensor(0.4579, device='cuda:0')]"
          ]
        },
        {
          "output_type": "stream",
          "name": "stdout",
          "text": [
            "Total training time: 575.667 seconds\n"
          ]
        },
        {
          "output_type": "stream",
          "name": "stderr",
          "text": [
            "\n"
          ]
        }
      ]
    },
    {
      "cell_type": "code",
      "source": [
        "torch.save(model5.state_dict(), \"trained_model5.pth\")"
      ],
      "metadata": {
        "id": "ROW8cNa_YhL4"
      },
      "execution_count": null,
      "outputs": []
    },
    {
      "cell_type": "markdown",
      "source": [
        "## Model 8"
      ],
      "metadata": {
        "id": "UOUkoYxBYxKl"
      }
    },
    {
      "cell_type": "code",
      "source": [
        "result8_FashionMNIST = fit(model=model8,\n",
        "                           train_loader=train_dataloader_FashionMNIST,\n",
        "                           test_loader=test_dataloader_FashionMNIST,\n",
        "                           loss_fn=loss_fn,\n",
        "                           optimizer=optimizer8,\n",
        "                           accuracy_fn=accuracy_fn,\n",
        "                           device=device,\n",
        "                           epochs=30)"
      ],
      "metadata": {
        "colab": {
          "base_uri": "https://localhost:8080/"
        },
        "id": "Lf0pBtgCY0gi",
        "outputId": "37cbf591-f45b-4a69-d2c5-398518c25d38"
      },
      "execution_count": null,
      "outputs": [
        {
          "output_type": "stream",
          "name": "stdout",
          "text": [
            "EPOCH 1/30 :\n"
          ]
        },
        {
          "output_type": "stream",
          "name": "stderr",
          "text": [
            "  train: 100%|██████████| 469/469 [00:15<00:00, 29.68it/s, train_acc=0.778, train_loss=0.616]\n",
            "  test: 100%|██████████| 79/79 [00:02<00:00, 31.84it/s, test_acc=0.843, test_loss=tensor(0.4207, device='cuda:0')]\n"
          ]
        },
        {
          "output_type": "stream",
          "name": "stdout",
          "text": [
            "EPOCH 2/30 :\n"
          ]
        },
        {
          "output_type": "stream",
          "name": "stderr",
          "text": [
            "  train: 100%|██████████| 469/469 [00:16<00:00, 29.19it/s, train_acc=0.882, train_loss=0.325]\n",
            "  test: 100%|██████████| 79/79 [00:03<00:00, 23.41it/s, test_acc=0.887, test_loss=tensor(0.3119, device='cuda:0')]\n"
          ]
        },
        {
          "output_type": "stream",
          "name": "stdout",
          "text": [
            "EPOCH 3/30 :\n"
          ]
        },
        {
          "output_type": "stream",
          "name": "stderr",
          "text": [
            "  train: 100%|██████████| 469/469 [00:16<00:00, 29.25it/s, train_acc=0.899, train_loss=0.275]\n",
            "  test: 100%|██████████| 79/79 [00:02<00:00, 30.30it/s, test_acc=0.893, test_loss=tensor(0.2843, device='cuda:0')]\n"
          ]
        },
        {
          "output_type": "stream",
          "name": "stdout",
          "text": [
            "EPOCH 4/30 :\n"
          ]
        },
        {
          "output_type": "stream",
          "name": "stderr",
          "text": [
            "  train: 100%|██████████| 469/469 [00:15<00:00, 29.49it/s, train_acc=0.909, train_loss=0.246]\n",
            "  test: 100%|██████████| 79/79 [00:02<00:00, 28.67it/s, test_acc=0.906, test_loss=tensor(0.2617, device='cuda:0')]\n"
          ]
        },
        {
          "output_type": "stream",
          "name": "stdout",
          "text": [
            "EPOCH 5/30 :\n"
          ]
        },
        {
          "output_type": "stream",
          "name": "stderr",
          "text": [
            "  train: 100%|██████████| 469/469 [00:16<00:00, 27.80it/s, train_acc=0.917, train_loss=0.222]\n",
            "  test: 100%|██████████| 79/79 [00:02<00:00, 31.06it/s, test_acc=0.905, test_loss=tensor(0.2654, device='cuda:0')]\n"
          ]
        },
        {
          "output_type": "stream",
          "name": "stdout",
          "text": [
            "EPOCH 6/30 :\n"
          ]
        },
        {
          "output_type": "stream",
          "name": "stderr",
          "text": [
            "  train: 100%|██████████| 469/469 [00:15<00:00, 29.42it/s, train_acc=0.923, train_loss=0.209]\n",
            "  test: 100%|██████████| 79/79 [00:02<00:00, 30.84it/s, test_acc=0.894, test_loss=tensor(0.2777, device='cuda:0')]\n"
          ]
        },
        {
          "output_type": "stream",
          "name": "stdout",
          "text": [
            "EPOCH 7/30 :\n"
          ]
        },
        {
          "output_type": "stream",
          "name": "stderr",
          "text": [
            "  train: 100%|██████████| 469/469 [00:17<00:00, 27.32it/s, train_acc=0.929, train_loss=0.191]\n",
            "  test: 100%|██████████| 79/79 [00:02<00:00, 30.87it/s, test_acc=0.916, test_loss=tensor(0.2307, device='cuda:0')]\n"
          ]
        },
        {
          "output_type": "stream",
          "name": "stdout",
          "text": [
            "EPOCH 8/30 :\n"
          ]
        },
        {
          "output_type": "stream",
          "name": "stderr",
          "text": [
            "  train: 100%|██████████| 469/469 [00:16<00:00, 29.20it/s, train_acc=0.936, train_loss=0.175]\n",
            "  test: 100%|██████████| 79/79 [00:02<00:00, 31.47it/s, test_acc=0.907, test_loss=tensor(0.2607, device='cuda:0')]\n"
          ]
        },
        {
          "output_type": "stream",
          "name": "stdout",
          "text": [
            "EPOCH 9/30 :\n"
          ]
        },
        {
          "output_type": "stream",
          "name": "stderr",
          "text": [
            "  train: 100%|██████████| 469/469 [00:16<00:00, 27.68it/s, train_acc=0.939, train_loss=0.164]\n",
            "  test: 100%|██████████| 79/79 [00:02<00:00, 31.84it/s, test_acc=0.916, test_loss=tensor(0.2362, device='cuda:0')]\n"
          ]
        },
        {
          "output_type": "stream",
          "name": "stdout",
          "text": [
            "EPOCH 10/30 :\n"
          ]
        },
        {
          "output_type": "stream",
          "name": "stderr",
          "text": [
            "  train: 100%|██████████| 469/469 [00:16<00:00, 29.24it/s, train_acc=0.946, train_loss=0.151]\n",
            "  test: 100%|██████████| 79/79 [00:02<00:00, 30.54it/s, test_acc=0.922, test_loss=tensor(0.2223, device='cuda:0')]\n"
          ]
        },
        {
          "output_type": "stream",
          "name": "stdout",
          "text": [
            "EPOCH 11/30 :\n"
          ]
        },
        {
          "output_type": "stream",
          "name": "stderr",
          "text": [
            "  train: 100%|██████████| 469/469 [00:17<00:00, 27.48it/s, train_acc=0.949, train_loss=0.139]\n",
            "  test: 100%|██████████| 79/79 [00:02<00:00, 29.63it/s, test_acc=0.917, test_loss=tensor(0.2468, device='cuda:0')]\n"
          ]
        },
        {
          "output_type": "stream",
          "name": "stdout",
          "text": [
            "EPOCH 12/30 :\n"
          ]
        },
        {
          "output_type": "stream",
          "name": "stderr",
          "text": [
            "  train: 100%|██████████| 469/469 [00:15<00:00, 29.62it/s, train_acc=0.952, train_loss=0.129]\n",
            "  test: 100%|██████████| 79/79 [00:02<00:00, 31.07it/s, test_acc=0.921, test_loss=tensor(0.2355, device='cuda:0')]\n"
          ]
        },
        {
          "output_type": "stream",
          "name": "stdout",
          "text": [
            "EPOCH 13/30 :\n"
          ]
        },
        {
          "output_type": "stream",
          "name": "stderr",
          "text": [
            "  train: 100%|██████████| 469/469 [00:16<00:00, 27.90it/s, train_acc=0.957, train_loss=0.118]\n",
            "  test: 100%|██████████| 79/79 [00:02<00:00, 28.88it/s, test_acc=0.92, test_loss=tensor(0.2373, device='cuda:0')]\n"
          ]
        },
        {
          "output_type": "stream",
          "name": "stdout",
          "text": [
            "EPOCH 14/30 :\n"
          ]
        },
        {
          "output_type": "stream",
          "name": "stderr",
          "text": [
            "  train: 100%|██████████| 469/469 [00:16<00:00, 29.17it/s, train_acc=0.96, train_loss=0.108]\n",
            "  test: 100%|██████████| 79/79 [00:02<00:00, 31.52it/s, test_acc=0.924, test_loss=tensor(0.2376, device='cuda:0')]\n"
          ]
        },
        {
          "output_type": "stream",
          "name": "stdout",
          "text": [
            "EPOCH 15/30 :\n"
          ]
        },
        {
          "output_type": "stream",
          "name": "stderr",
          "text": [
            "  train: 100%|██████████| 469/469 [00:16<00:00, 28.59it/s, train_acc=0.964, train_loss=0.0983]\n",
            "  test: 100%|██████████| 79/79 [00:03<00:00, 24.84it/s, test_acc=0.922, test_loss=tensor(0.2301, device='cuda:0')]\n"
          ]
        },
        {
          "output_type": "stream",
          "name": "stdout",
          "text": [
            "EPOCH 16/30 :\n"
          ]
        },
        {
          "output_type": "stream",
          "name": "stderr",
          "text": [
            "  train: 100%|██████████| 469/469 [00:16<00:00, 28.94it/s, train_acc=0.968, train_loss=0.0903]\n",
            "  test: 100%|██████████| 79/79 [00:02<00:00, 31.09it/s, test_acc=0.92, test_loss=tensor(0.2614, device='cuda:0')]\n"
          ]
        },
        {
          "output_type": "stream",
          "name": "stdout",
          "text": [
            "EPOCH 17/30 :\n"
          ]
        },
        {
          "output_type": "stream",
          "name": "stderr",
          "text": [
            "  train: 100%|██████████| 469/469 [00:15<00:00, 29.50it/s, train_acc=0.972, train_loss=0.0784]\n",
            "  test: 100%|██████████| 79/79 [00:03<00:00, 22.32it/s, test_acc=0.923, test_loss=tensor(0.2535, device='cuda:0')]\n"
          ]
        },
        {
          "output_type": "stream",
          "name": "stdout",
          "text": [
            "EPOCH 18/30 :\n"
          ]
        },
        {
          "output_type": "stream",
          "name": "stderr",
          "text": [
            "  train: 100%|██████████| 469/469 [00:16<00:00, 29.28it/s, train_acc=0.973, train_loss=0.0743]\n",
            "  test: 100%|██████████| 79/79 [00:02<00:00, 31.41it/s, test_acc=0.922, test_loss=tensor(0.2675, device='cuda:0')]\n"
          ]
        },
        {
          "output_type": "stream",
          "name": "stdout",
          "text": [
            "EPOCH 19/30 :\n"
          ]
        },
        {
          "output_type": "stream",
          "name": "stderr",
          "text": [
            "  train: 100%|██████████| 469/469 [00:15<00:00, 29.50it/s, train_acc=0.976, train_loss=0.0674]\n",
            "  test: 100%|██████████| 79/79 [00:03<00:00, 22.93it/s, test_acc=0.92, test_loss=tensor(0.2708, device='cuda:0')]\n"
          ]
        },
        {
          "output_type": "stream",
          "name": "stdout",
          "text": [
            "EPOCH 20/30 :\n"
          ]
        },
        {
          "output_type": "stream",
          "name": "stderr",
          "text": [
            "  train: 100%|██████████| 469/469 [00:16<00:00, 28.98it/s, train_acc=0.978, train_loss=0.0611]\n",
            "  test: 100%|██████████| 79/79 [00:02<00:00, 32.13it/s, test_acc=0.919, test_loss=tensor(0.2723, device='cuda:0')]\n"
          ]
        },
        {
          "output_type": "stream",
          "name": "stdout",
          "text": [
            "EPOCH 21/30 :\n"
          ]
        },
        {
          "output_type": "stream",
          "name": "stderr",
          "text": [
            "  train: 100%|██████████| 469/469 [00:16<00:00, 28.98it/s, train_acc=0.98, train_loss=0.0555]\n",
            "  test: 100%|██████████| 79/79 [00:03<00:00, 25.06it/s, test_acc=0.921, test_loss=tensor(0.2973, device='cuda:0')]\n"
          ]
        },
        {
          "output_type": "stream",
          "name": "stdout",
          "text": [
            "EPOCH 22/30 :\n"
          ]
        },
        {
          "output_type": "stream",
          "name": "stderr",
          "text": [
            "  train: 100%|██████████| 469/469 [00:16<00:00, 28.76it/s, train_acc=0.983, train_loss=0.048]\n",
            "  test: 100%|██████████| 79/79 [00:02<00:00, 31.47it/s, test_acc=0.924, test_loss=tensor(0.2877, device='cuda:0')]\n"
          ]
        },
        {
          "output_type": "stream",
          "name": "stdout",
          "text": [
            "EPOCH 23/30 :\n"
          ]
        },
        {
          "output_type": "stream",
          "name": "stderr",
          "text": [
            "  train: 100%|██████████| 469/469 [00:16<00:00, 28.95it/s, train_acc=0.984, train_loss=0.0435]\n",
            "  test: 100%|██████████| 79/79 [00:02<00:00, 27.13it/s, test_acc=0.922, test_loss=tensor(0.3060, device='cuda:0')]\n"
          ]
        },
        {
          "output_type": "stream",
          "name": "stdout",
          "text": [
            "EPOCH 24/30 :\n"
          ]
        },
        {
          "output_type": "stream",
          "name": "stderr",
          "text": [
            "  train: 100%|██████████| 469/469 [00:16<00:00, 27.82it/s, train_acc=0.987, train_loss=0.0368]\n",
            "  test: 100%|██████████| 79/79 [00:02<00:00, 31.05it/s, test_acc=0.923, test_loss=tensor(0.3066, device='cuda:0')]\n"
          ]
        },
        {
          "output_type": "stream",
          "name": "stdout",
          "text": [
            "EPOCH 25/30 :\n"
          ]
        },
        {
          "output_type": "stream",
          "name": "stderr",
          "text": [
            "  train: 100%|██████████| 469/469 [00:16<00:00, 29.25it/s, train_acc=0.987, train_loss=0.0362]\n",
            "  test: 100%|██████████| 79/79 [00:02<00:00, 31.10it/s, test_acc=0.925, test_loss=tensor(0.3360, device='cuda:0')]\n"
          ]
        },
        {
          "output_type": "stream",
          "name": "stdout",
          "text": [
            "EPOCH 26/30 :\n"
          ]
        },
        {
          "output_type": "stream",
          "name": "stderr",
          "text": [
            "  train: 100%|██████████| 469/469 [00:16<00:00, 27.65it/s, train_acc=0.989, train_loss=0.0302]\n",
            "  test: 100%|██████████| 79/79 [00:02<00:00, 31.47it/s, test_acc=0.925, test_loss=tensor(0.3118, device='cuda:0')]\n"
          ]
        },
        {
          "output_type": "stream",
          "name": "stdout",
          "text": [
            "EPOCH 27/30 :\n"
          ]
        },
        {
          "output_type": "stream",
          "name": "stderr",
          "text": [
            "  train: 100%|██████████| 469/469 [00:16<00:00, 29.07it/s, train_acc=0.991, train_loss=0.0259]\n",
            "  test: 100%|██████████| 79/79 [00:02<00:00, 30.09it/s, test_acc=0.929, test_loss=tensor(0.3162, device='cuda:0')]\n"
          ]
        },
        {
          "output_type": "stream",
          "name": "stdout",
          "text": [
            "EPOCH 28/30 :\n"
          ]
        },
        {
          "output_type": "stream",
          "name": "stderr",
          "text": [
            "  train: 100%|██████████| 469/469 [00:17<00:00, 27.58it/s, train_acc=0.993, train_loss=0.0218]\n",
            "  test: 100%|██████████| 79/79 [00:02<00:00, 31.21it/s, test_acc=0.925, test_loss=tensor(0.3435, device='cuda:0')]\n"
          ]
        },
        {
          "output_type": "stream",
          "name": "stdout",
          "text": [
            "EPOCH 29/30 :\n"
          ]
        },
        {
          "output_type": "stream",
          "name": "stderr",
          "text": [
            "  train: 100%|██████████| 469/469 [00:16<00:00, 28.97it/s, train_acc=0.994, train_loss=0.0184]\n",
            "  test: 100%|██████████| 79/79 [00:02<00:00, 31.39it/s, test_acc=0.919, test_loss=tensor(0.3899, device='cuda:0')]\n"
          ]
        },
        {
          "output_type": "stream",
          "name": "stdout",
          "text": [
            "EPOCH 30/30 :\n"
          ]
        },
        {
          "output_type": "stream",
          "name": "stderr",
          "text": [
            "  train: 100%|██████████| 469/469 [00:17<00:00, 27.44it/s, train_acc=0.994, train_loss=0.018]\n",
            "  test: 100%|██████████| 79/79 [00:02<00:00, 30.95it/s, test_acc=0.927, test_loss=tensor(0.3559, device='cuda:0')]"
          ]
        },
        {
          "output_type": "stream",
          "name": "stdout",
          "text": [
            "Total training time: 571.520 seconds\n"
          ]
        },
        {
          "output_type": "stream",
          "name": "stderr",
          "text": [
            "\n"
          ]
        }
      ]
    },
    {
      "cell_type": "code",
      "source": [
        "torch.save(model8.state_dict(), \"trained_model8.pth\")"
      ],
      "metadata": {
        "id": "36w0XnDTbQQv"
      },
      "execution_count": null,
      "outputs": []
    },
    {
      "cell_type": "markdown",
      "source": [
        "# Fit for CIFAR10 dataset"
      ],
      "metadata": {
        "id": "i6RcOaGzmhnX"
      }
    },
    {
      "cell_type": "markdown",
      "source": [
        "## Model 3"
      ],
      "metadata": {
        "id": "z3wV3P3yVSQI"
      }
    },
    {
      "cell_type": "code",
      "source": [
        "result3_CIFAR10 = fit(model=model3,\n",
        "                           train_loader=train_dataloader_CIFAR10,\n",
        "                           test_loader=test_dataloader_CIFAR10,\n",
        "                           loss_fn=loss_fn,\n",
        "                           optimizer=optimizer3,\n",
        "                           accuracy_fn=accuracy_fn,\n",
        "                           device=device,\n",
        "                           epochs=40)"
      ],
      "metadata": {
        "colab": {
          "base_uri": "https://localhost:8080/"
        },
        "id": "kHS2hizDVU1P",
        "outputId": "4638c096-b3c0-4f16-8260-3e1c26ffa448"
      },
      "execution_count": 23,
      "outputs": [
        {
          "output_type": "stream",
          "name": "stdout",
          "text": [
            "EPOCH 1/40 :\n"
          ]
        },
        {
          "output_type": "stream",
          "name": "stderr",
          "text": [
            "  train: 100%|██████████| 391/391 [00:15<00:00, 26.04it/s, train_acc=0.471, train_loss=1.46]\n",
            "  test: 100%|██████████| 79/79 [00:02<00:00, 28.54it/s, test_acc=0.57, test_loss=tensor(1.1875, device='cuda:0')]\n"
          ]
        },
        {
          "output_type": "stream",
          "name": "stdout",
          "text": [
            "EPOCH 2/40 :\n"
          ]
        },
        {
          "output_type": "stream",
          "name": "stderr",
          "text": [
            "  train: 100%|██████████| 391/391 [00:14<00:00, 26.82it/s, train_acc=0.651, train_loss=0.992]\n",
            "  test: 100%|██████████| 79/79 [00:03<00:00, 22.71it/s, test_acc=0.687, test_loss=tensor(0.9166, device='cuda:0')]\n"
          ]
        },
        {
          "output_type": "stream",
          "name": "stdout",
          "text": [
            "EPOCH 3/40 :\n"
          ]
        },
        {
          "output_type": "stream",
          "name": "stderr",
          "text": [
            "  train: 100%|██████████| 391/391 [00:13<00:00, 27.93it/s, train_acc=0.716, train_loss=0.812]\n",
            "  test: 100%|██████████| 79/79 [00:02<00:00, 31.74it/s, test_acc=0.713, test_loss=tensor(0.8181, device='cuda:0')]\n"
          ]
        },
        {
          "output_type": "stream",
          "name": "stdout",
          "text": [
            "EPOCH 4/40 :\n"
          ]
        },
        {
          "output_type": "stream",
          "name": "stderr",
          "text": [
            "  train: 100%|██████████| 391/391 [00:13<00:00, 28.81it/s, train_acc=0.759, train_loss=0.689]\n",
            "  test: 100%|██████████| 79/79 [00:02<00:00, 31.77it/s, test_acc=0.732, test_loss=tensor(0.7834, device='cuda:0')]\n"
          ]
        },
        {
          "output_type": "stream",
          "name": "stdout",
          "text": [
            "EPOCH 5/40 :\n"
          ]
        },
        {
          "output_type": "stream",
          "name": "stderr",
          "text": [
            "  train: 100%|██████████| 391/391 [00:14<00:00, 27.51it/s, train_acc=0.796, train_loss=0.586]\n",
            "  test: 100%|██████████| 79/79 [00:03<00:00, 24.32it/s, test_acc=0.735, test_loss=tensor(0.7677, device='cuda:0')]\n"
          ]
        },
        {
          "output_type": "stream",
          "name": "stdout",
          "text": [
            "EPOCH 6/40 :\n"
          ]
        },
        {
          "output_type": "stream",
          "name": "stderr",
          "text": [
            "  train: 100%|██████████| 391/391 [00:13<00:00, 28.29it/s, train_acc=0.826, train_loss=0.501]\n",
            "  test: 100%|██████████| 79/79 [00:02<00:00, 31.35it/s, test_acc=0.75, test_loss=tensor(0.7698, device='cuda:0')]\n"
          ]
        },
        {
          "output_type": "stream",
          "name": "stdout",
          "text": [
            "EPOCH 7/40 :\n"
          ]
        },
        {
          "output_type": "stream",
          "name": "stderr",
          "text": [
            "  train: 100%|██████████| 391/391 [00:13<00:00, 28.98it/s, train_acc=0.858, train_loss=0.416]\n",
            "  test: 100%|██████████| 79/79 [00:02<00:00, 31.61it/s, test_acc=0.752, test_loss=tensor(0.7815, device='cuda:0')]\n"
          ]
        },
        {
          "output_type": "stream",
          "name": "stdout",
          "text": [
            "EPOCH 8/40 :\n"
          ]
        },
        {
          "output_type": "stream",
          "name": "stderr",
          "text": [
            "  train: 100%|██████████| 391/391 [00:13<00:00, 28.58it/s, train_acc=0.88, train_loss=0.355]\n",
            "  test: 100%|██████████| 79/79 [00:02<00:00, 30.59it/s, test_acc=0.748, test_loss=tensor(0.8148, device='cuda:0')]\n"
          ]
        },
        {
          "output_type": "stream",
          "name": "stdout",
          "text": [
            "EPOCH 9/40 :\n"
          ]
        },
        {
          "output_type": "stream",
          "name": "stderr",
          "text": [
            "  train: 100%|██████████| 391/391 [00:14<00:00, 27.67it/s, train_acc=0.901, train_loss=0.293]\n",
            "  test: 100%|██████████| 79/79 [00:03<00:00, 24.73it/s, test_acc=0.758, test_loss=tensor(0.8499, device='cuda:0')]\n"
          ]
        },
        {
          "output_type": "stream",
          "name": "stdout",
          "text": [
            "EPOCH 10/40 :\n"
          ]
        },
        {
          "output_type": "stream",
          "name": "stderr",
          "text": [
            "  train: 100%|██████████| 391/391 [00:13<00:00, 28.50it/s, train_acc=0.921, train_loss=0.236]\n",
            "  test: 100%|██████████| 79/79 [00:02<00:00, 30.87it/s, test_acc=0.744, test_loss=tensor(0.8982, device='cuda:0')]\n"
          ]
        },
        {
          "output_type": "stream",
          "name": "stdout",
          "text": [
            "EPOCH 11/40 :\n"
          ]
        },
        {
          "output_type": "stream",
          "name": "stderr",
          "text": [
            "  train: 100%|██████████| 391/391 [00:13<00:00, 28.30it/s, train_acc=0.932, train_loss=0.204]\n",
            "  test: 100%|██████████| 79/79 [00:02<00:00, 30.32it/s, test_acc=0.753, test_loss=tensor(0.9850, device='cuda:0')]\n"
          ]
        },
        {
          "output_type": "stream",
          "name": "stdout",
          "text": [
            "EPOCH 12/40 :\n"
          ]
        },
        {
          "output_type": "stream",
          "name": "stderr",
          "text": [
            "  train: 100%|██████████| 391/391 [00:13<00:00, 28.47it/s, train_acc=0.946, train_loss=0.163]\n",
            "  test: 100%|██████████| 79/79 [00:03<00:00, 23.23it/s, test_acc=0.756, test_loss=tensor(0.9990, device='cuda:0')]\n"
          ]
        },
        {
          "output_type": "stream",
          "name": "stdout",
          "text": [
            "EPOCH 13/40 :\n"
          ]
        },
        {
          "output_type": "stream",
          "name": "stderr",
          "text": [
            "  train: 100%|██████████| 391/391 [00:14<00:00, 27.55it/s, train_acc=0.953, train_loss=0.143]\n",
            "  test: 100%|██████████| 79/79 [00:02<00:00, 31.17it/s, test_acc=0.762, test_loss=tensor(1.0063, device='cuda:0')]\n"
          ]
        },
        {
          "output_type": "stream",
          "name": "stdout",
          "text": [
            "EPOCH 14/40 :\n"
          ]
        },
        {
          "output_type": "stream",
          "name": "stderr",
          "text": [
            "  train: 100%|██████████| 391/391 [00:13<00:00, 28.08it/s, train_acc=0.959, train_loss=0.121]\n",
            "  test: 100%|██████████| 79/79 [00:02<00:00, 30.32it/s, test_acc=0.756, test_loss=tensor(1.0679, device='cuda:0')]\n"
          ]
        },
        {
          "output_type": "stream",
          "name": "stdout",
          "text": [
            "EPOCH 15/40 :\n"
          ]
        },
        {
          "output_type": "stream",
          "name": "stderr",
          "text": [
            "  train: 100%|██████████| 391/391 [00:13<00:00, 27.97it/s, train_acc=0.967, train_loss=0.0983]\n",
            "  test: 100%|██████████| 79/79 [00:02<00:00, 29.30it/s, test_acc=0.756, test_loss=tensor(1.1824, device='cuda:0')]\n"
          ]
        },
        {
          "output_type": "stream",
          "name": "stdout",
          "text": [
            "EPOCH 16/40 :\n"
          ]
        },
        {
          "output_type": "stream",
          "name": "stderr",
          "text": [
            "  train: 100%|██████████| 391/391 [00:14<00:00, 27.34it/s, train_acc=0.973, train_loss=0.0811]\n",
            "  test: 100%|██████████| 79/79 [00:02<00:00, 27.40it/s, test_acc=0.762, test_loss=tensor(1.2312, device='cuda:0')]\n"
          ]
        },
        {
          "output_type": "stream",
          "name": "stdout",
          "text": [
            "EPOCH 17/40 :\n"
          ]
        },
        {
          "output_type": "stream",
          "name": "stderr",
          "text": [
            "  train: 100%|██████████| 391/391 [00:13<00:00, 28.44it/s, train_acc=0.973, train_loss=0.0808]\n",
            "  test: 100%|██████████| 79/79 [00:02<00:00, 31.05it/s, test_acc=0.767, test_loss=tensor(1.2252, device='cuda:0')]\n"
          ]
        },
        {
          "output_type": "stream",
          "name": "stdout",
          "text": [
            "EPOCH 18/40 :\n"
          ]
        },
        {
          "output_type": "stream",
          "name": "stderr",
          "text": [
            "  train: 100%|██████████| 391/391 [00:13<00:00, 28.31it/s, train_acc=0.977, train_loss=0.0678]\n",
            "  test: 100%|██████████| 79/79 [00:02<00:00, 31.11it/s, test_acc=0.756, test_loss=tensor(1.3121, device='cuda:0')]\n"
          ]
        },
        {
          "output_type": "stream",
          "name": "stdout",
          "text": [
            "EPOCH 19/40 :\n"
          ]
        },
        {
          "output_type": "stream",
          "name": "stderr",
          "text": [
            "  train: 100%|██████████| 391/391 [00:13<00:00, 28.08it/s, train_acc=0.977, train_loss=0.0694]\n",
            "  test: 100%|██████████| 79/79 [00:03<00:00, 21.85it/s, test_acc=0.755, test_loss=tensor(1.3444, device='cuda:0')]\n"
          ]
        },
        {
          "output_type": "stream",
          "name": "stdout",
          "text": [
            "EPOCH 20/40 :\n"
          ]
        },
        {
          "output_type": "stream",
          "name": "stderr",
          "text": [
            "  train: 100%|██████████| 391/391 [00:13<00:00, 28.73it/s, train_acc=0.98, train_loss=0.062]\n",
            "  test: 100%|██████████| 79/79 [00:02<00:00, 30.01it/s, test_acc=0.757, test_loss=tensor(1.3244, device='cuda:0')]\n"
          ]
        },
        {
          "output_type": "stream",
          "name": "stdout",
          "text": [
            "EPOCH 21/40 :\n"
          ]
        },
        {
          "output_type": "stream",
          "name": "stderr",
          "text": [
            "  train: 100%|██████████| 391/391 [00:13<00:00, 28.34it/s, train_acc=0.983, train_loss=0.0547]\n",
            "  test: 100%|██████████| 79/79 [00:02<00:00, 31.16it/s, test_acc=0.754, test_loss=tensor(1.3956, device='cuda:0')]\n"
          ]
        },
        {
          "output_type": "stream",
          "name": "stdout",
          "text": [
            "EPOCH 22/40 :\n"
          ]
        },
        {
          "output_type": "stream",
          "name": "stderr",
          "text": [
            "  train: 100%|██████████| 391/391 [00:13<00:00, 28.57it/s, train_acc=0.984, train_loss=0.0462]\n",
            "  test: 100%|██████████| 79/79 [00:03<00:00, 25.96it/s, test_acc=0.759, test_loss=tensor(1.4492, device='cuda:0')]\n"
          ]
        },
        {
          "output_type": "stream",
          "name": "stdout",
          "text": [
            "EPOCH 23/40 :\n"
          ]
        },
        {
          "output_type": "stream",
          "name": "stderr",
          "text": [
            "  train: 100%|██████████| 391/391 [00:14<00:00, 27.77it/s, train_acc=0.986, train_loss=0.0451]\n",
            "  test: 100%|██████████| 79/79 [00:02<00:00, 30.31it/s, test_acc=0.764, test_loss=tensor(1.4781, device='cuda:0')]\n"
          ]
        },
        {
          "output_type": "stream",
          "name": "stdout",
          "text": [
            "EPOCH 24/40 :\n"
          ]
        },
        {
          "output_type": "stream",
          "name": "stderr",
          "text": [
            "  train: 100%|██████████| 391/391 [00:13<00:00, 28.37it/s, train_acc=0.984, train_loss=0.0479]\n",
            "  test: 100%|██████████| 79/79 [00:02<00:00, 30.81it/s, test_acc=0.751, test_loss=tensor(1.5044, device='cuda:0')]\n"
          ]
        },
        {
          "output_type": "stream",
          "name": "stdout",
          "text": [
            "EPOCH 25/40 :\n"
          ]
        },
        {
          "output_type": "stream",
          "name": "stderr",
          "text": [
            "  train: 100%|██████████| 391/391 [00:13<00:00, 28.12it/s, train_acc=0.988, train_loss=0.0375]\n",
            "  test: 100%|██████████| 79/79 [00:02<00:00, 30.55it/s, test_acc=0.766, test_loss=tensor(1.5412, device='cuda:0')]\n"
          ]
        },
        {
          "output_type": "stream",
          "name": "stdout",
          "text": [
            "EPOCH 26/40 :\n"
          ]
        },
        {
          "output_type": "stream",
          "name": "stderr",
          "text": [
            "  train: 100%|██████████| 391/391 [00:13<00:00, 27.98it/s, train_acc=0.989, train_loss=0.0323]\n",
            "  test: 100%|██████████| 79/79 [00:03<00:00, 23.42it/s, test_acc=0.764, test_loss=tensor(1.5625, device='cuda:0')]\n"
          ]
        },
        {
          "output_type": "stream",
          "name": "stdout",
          "text": [
            "EPOCH 27/40 :\n"
          ]
        },
        {
          "output_type": "stream",
          "name": "stderr",
          "text": [
            "  train: 100%|██████████| 391/391 [00:13<00:00, 28.18it/s, train_acc=0.989, train_loss=0.0336]\n",
            "  test: 100%|██████████| 79/79 [00:02<00:00, 30.79it/s, test_acc=0.761, test_loss=tensor(1.5786, device='cuda:0')]\n"
          ]
        },
        {
          "output_type": "stream",
          "name": "stdout",
          "text": [
            "EPOCH 28/40 :\n"
          ]
        },
        {
          "output_type": "stream",
          "name": "stderr",
          "text": [
            "  train: 100%|██████████| 391/391 [00:13<00:00, 28.12it/s, train_acc=0.991, train_loss=0.0281]\n",
            "  test: 100%|██████████| 79/79 [00:02<00:00, 30.94it/s, test_acc=0.765, test_loss=tensor(1.5386, device='cuda:0')]\n"
          ]
        },
        {
          "output_type": "stream",
          "name": "stdout",
          "text": [
            "EPOCH 29/40 :\n"
          ]
        },
        {
          "output_type": "stream",
          "name": "stderr",
          "text": [
            "  train: 100%|██████████| 391/391 [00:13<00:00, 28.56it/s, train_acc=0.991, train_loss=0.0291]\n",
            "  test: 100%|██████████| 79/79 [00:03<00:00, 22.95it/s, test_acc=0.764, test_loss=tensor(1.5464, device='cuda:0')]\n"
          ]
        },
        {
          "output_type": "stream",
          "name": "stdout",
          "text": [
            "EPOCH 30/40 :\n"
          ]
        },
        {
          "output_type": "stream",
          "name": "stderr",
          "text": [
            "  train: 100%|██████████| 391/391 [00:13<00:00, 28.53it/s, train_acc=0.992, train_loss=0.0251]\n",
            "  test: 100%|██████████| 79/79 [00:02<00:00, 31.47it/s, test_acc=0.765, test_loss=tensor(1.6475, device='cuda:0')]\n"
          ]
        },
        {
          "output_type": "stream",
          "name": "stdout",
          "text": [
            "EPOCH 31/40 :\n"
          ]
        },
        {
          "output_type": "stream",
          "name": "stderr",
          "text": [
            "  train: 100%|██████████| 391/391 [00:13<00:00, 28.42it/s, train_acc=0.991, train_loss=0.0255]\n",
            "  test: 100%|██████████| 79/79 [00:02<00:00, 30.15it/s, test_acc=0.757, test_loss=tensor(1.7139, device='cuda:0')]\n"
          ]
        },
        {
          "output_type": "stream",
          "name": "stdout",
          "text": [
            "EPOCH 32/40 :\n"
          ]
        },
        {
          "output_type": "stream",
          "name": "stderr",
          "text": [
            "  train: 100%|██████████| 391/391 [00:13<00:00, 28.46it/s, train_acc=0.991, train_loss=0.0279]\n",
            "  test: 100%|██████████| 79/79 [00:02<00:00, 28.69it/s, test_acc=0.765, test_loss=tensor(1.6481, device='cuda:0')]\n"
          ]
        },
        {
          "output_type": "stream",
          "name": "stdout",
          "text": [
            "EPOCH 33/40 :\n"
          ]
        },
        {
          "output_type": "stream",
          "name": "stderr",
          "text": [
            "  train: 100%|██████████| 391/391 [00:14<00:00, 27.80it/s, train_acc=0.991, train_loss=0.0273]\n",
            "  test: 100%|██████████| 79/79 [00:02<00:00, 27.60it/s, test_acc=0.767, test_loss=tensor(1.6424, device='cuda:0')]\n"
          ]
        },
        {
          "output_type": "stream",
          "name": "stdout",
          "text": [
            "EPOCH 34/40 :\n"
          ]
        },
        {
          "output_type": "stream",
          "name": "stderr",
          "text": [
            "  train: 100%|██████████| 391/391 [00:13<00:00, 28.65it/s, train_acc=0.99, train_loss=0.032]\n",
            "  test: 100%|██████████| 79/79 [00:02<00:00, 31.36it/s, test_acc=0.751, test_loss=tensor(1.7346, device='cuda:0')]\n"
          ]
        },
        {
          "output_type": "stream",
          "name": "stdout",
          "text": [
            "EPOCH 35/40 :\n"
          ]
        },
        {
          "output_type": "stream",
          "name": "stderr",
          "text": [
            "  train: 100%|██████████| 391/391 [00:13<00:00, 28.57it/s, train_acc=0.992, train_loss=0.0243]\n",
            "  test: 100%|██████████| 79/79 [00:02<00:00, 31.47it/s, test_acc=0.766, test_loss=tensor(1.7006, device='cuda:0')]\n"
          ]
        },
        {
          "output_type": "stream",
          "name": "stdout",
          "text": [
            "EPOCH 36/40 :\n"
          ]
        },
        {
          "output_type": "stream",
          "name": "stderr",
          "text": [
            "  train: 100%|██████████| 391/391 [00:13<00:00, 28.77it/s, train_acc=0.993, train_loss=0.0235]\n",
            "  test: 100%|██████████| 79/79 [00:03<00:00, 22.38it/s, test_acc=0.758, test_loss=tensor(1.7285, device='cuda:0')]\n"
          ]
        },
        {
          "output_type": "stream",
          "name": "stdout",
          "text": [
            "EPOCH 37/40 :\n"
          ]
        },
        {
          "output_type": "stream",
          "name": "stderr",
          "text": [
            "  train: 100%|██████████| 391/391 [00:13<00:00, 28.57it/s, train_acc=0.992, train_loss=0.0256]\n",
            "  test: 100%|██████████| 79/79 [00:02<00:00, 32.00it/s, test_acc=0.758, test_loss=tensor(1.6780, device='cuda:0')]\n"
          ]
        },
        {
          "output_type": "stream",
          "name": "stdout",
          "text": [
            "EPOCH 38/40 :\n"
          ]
        },
        {
          "output_type": "stream",
          "name": "stderr",
          "text": [
            "  train: 100%|██████████| 391/391 [00:13<00:00, 28.87it/s, train_acc=0.993, train_loss=0.0194]\n",
            "  test: 100%|██████████| 79/79 [00:02<00:00, 31.50it/s, test_acc=0.766, test_loss=tensor(1.8030, device='cuda:0')]\n"
          ]
        },
        {
          "output_type": "stream",
          "name": "stdout",
          "text": [
            "EPOCH 39/40 :\n"
          ]
        },
        {
          "output_type": "stream",
          "name": "stderr",
          "text": [
            "  train: 100%|██████████| 391/391 [00:13<00:00, 28.65it/s, train_acc=0.994, train_loss=0.0167]\n",
            "  test: 100%|██████████| 79/79 [00:02<00:00, 31.59it/s, test_acc=0.769, test_loss=tensor(1.7764, device='cuda:0')]\n"
          ]
        },
        {
          "output_type": "stream",
          "name": "stdout",
          "text": [
            "EPOCH 40/40 :\n"
          ]
        },
        {
          "output_type": "stream",
          "name": "stderr",
          "text": [
            "  train: 100%|██████████| 391/391 [00:13<00:00, 28.18it/s, train_acc=0.993, train_loss=0.0214]\n",
            "  test: 100%|██████████| 79/79 [00:03<00:00, 26.28it/s, test_acc=0.768, test_loss=tensor(1.7364, device='cuda:0')]"
          ]
        },
        {
          "output_type": "stream",
          "name": "stdout",
          "text": [
            "Total training time: 666.495 seconds\n"
          ]
        },
        {
          "output_type": "stream",
          "name": "stderr",
          "text": [
            "\n"
          ]
        }
      ]
    },
    {
      "cell_type": "code",
      "source": [
        "torch.save(model3.state_dict(), \"trained_model3.pth\")"
      ],
      "metadata": {
        "id": "VYtgnbLpYiDQ"
      },
      "execution_count": 24,
      "outputs": []
    },
    {
      "cell_type": "markdown",
      "source": [
        "## Model 6"
      ],
      "metadata": {
        "id": "Cs81ZAEbVkSs"
      }
    },
    {
      "cell_type": "code",
      "source": [
        "result6_CIFAR10 = fit(model=model6,\n",
        "                           train_loader=train_dataloader_CIFAR10,\n",
        "                           test_loader=test_dataloader_CIFAR10,\n",
        "                           loss_fn=loss_fn,\n",
        "                           optimizer=optimizer6,\n",
        "                           accuracy_fn=accuracy_fn,\n",
        "                           device=device,\n",
        "                           epochs=40)"
      ],
      "metadata": {
        "colab": {
          "base_uri": "https://localhost:8080/"
        },
        "id": "wCY5uYiiYpbF",
        "outputId": "052b1361-185d-42f4-ce00-359beeb02c07"
      },
      "execution_count": 25,
      "outputs": [
        {
          "output_type": "stream",
          "name": "stdout",
          "text": [
            "EPOCH 1/40 :\n"
          ]
        },
        {
          "output_type": "stream",
          "name": "stderr",
          "text": [
            "  train: 100%|██████████| 391/391 [00:13<00:00, 28.68it/s, train_acc=0.46, train_loss=1.49]\n",
            "  test: 100%|██████████| 79/79 [00:02<00:00, 31.26it/s, test_acc=0.571, test_loss=tensor(1.1992, device='cuda:0')]\n"
          ]
        },
        {
          "output_type": "stream",
          "name": "stdout",
          "text": [
            "EPOCH 2/40 :\n"
          ]
        },
        {
          "output_type": "stream",
          "name": "stderr",
          "text": [
            "  train: 100%|██████████| 391/391 [00:14<00:00, 27.01it/s, train_acc=0.643, train_loss=1.01]\n",
            "  test: 100%|██████████| 79/79 [00:03<00:00, 22.83it/s, test_acc=0.667, test_loss=tensor(0.9525, device='cuda:0')]\n"
          ]
        },
        {
          "output_type": "stream",
          "name": "stdout",
          "text": [
            "EPOCH 3/40 :\n"
          ]
        },
        {
          "output_type": "stream",
          "name": "stderr",
          "text": [
            "  train: 100%|██████████| 391/391 [00:13<00:00, 28.75it/s, train_acc=0.715, train_loss=0.814]\n",
            "  test: 100%|██████████| 79/79 [00:02<00:00, 31.15it/s, test_acc=0.705, test_loss=tensor(0.8492, device='cuda:0')]\n"
          ]
        },
        {
          "output_type": "stream",
          "name": "stdout",
          "text": [
            "EPOCH 4/40 :\n"
          ]
        },
        {
          "output_type": "stream",
          "name": "stderr",
          "text": [
            "  train: 100%|██████████| 391/391 [00:13<00:00, 28.67it/s, train_acc=0.76, train_loss=0.681]\n",
            "  test: 100%|██████████| 79/79 [00:02<00:00, 31.20it/s, test_acc=0.72, test_loss=tensor(0.8186, device='cuda:0')]\n"
          ]
        },
        {
          "output_type": "stream",
          "name": "stdout",
          "text": [
            "EPOCH 5/40 :\n"
          ]
        },
        {
          "output_type": "stream",
          "name": "stderr",
          "text": [
            "  train: 100%|██████████| 391/391 [00:13<00:00, 28.54it/s, train_acc=0.799, train_loss=0.577]\n",
            "  test: 100%|██████████| 79/79 [00:03<00:00, 26.08it/s, test_acc=0.75, test_loss=tensor(0.7573, device='cuda:0')]\n"
          ]
        },
        {
          "output_type": "stream",
          "name": "stdout",
          "text": [
            "EPOCH 6/40 :\n"
          ]
        },
        {
          "output_type": "stream",
          "name": "stderr",
          "text": [
            "  train: 100%|██████████| 391/391 [00:14<00:00, 27.90it/s, train_acc=0.829, train_loss=0.493]\n",
            "  test: 100%|██████████| 79/79 [00:02<00:00, 31.48it/s, test_acc=0.755, test_loss=tensor(0.7299, device='cuda:0')]\n"
          ]
        },
        {
          "output_type": "stream",
          "name": "stdout",
          "text": [
            "EPOCH 7/40 :\n"
          ]
        },
        {
          "output_type": "stream",
          "name": "stderr",
          "text": [
            "  train: 100%|██████████| 391/391 [00:13<00:00, 28.84it/s, train_acc=0.862, train_loss=0.403]\n",
            "  test: 100%|██████████| 79/79 [00:02<00:00, 31.07it/s, test_acc=0.763, test_loss=tensor(0.7567, device='cuda:0')]\n"
          ]
        },
        {
          "output_type": "stream",
          "name": "stdout",
          "text": [
            "EPOCH 8/40 :\n"
          ]
        },
        {
          "output_type": "stream",
          "name": "stderr",
          "text": [
            "  train: 100%|██████████| 391/391 [00:13<00:00, 28.67it/s, train_acc=0.887, train_loss=0.332]\n",
            "  test: 100%|██████████| 79/79 [00:02<00:00, 29.99it/s, test_acc=0.75, test_loss=tensor(0.8145, device='cuda:0')]\n"
          ]
        },
        {
          "output_type": "stream",
          "name": "stdout",
          "text": [
            "EPOCH 9/40 :\n"
          ]
        },
        {
          "output_type": "stream",
          "name": "stderr",
          "text": [
            "  train: 100%|██████████| 391/391 [00:13<00:00, 28.45it/s, train_acc=0.908, train_loss=0.271]\n",
            "  test: 100%|██████████| 79/79 [00:03<00:00, 21.67it/s, test_acc=0.755, test_loss=tensor(0.8710, device='cuda:0')]\n"
          ]
        },
        {
          "output_type": "stream",
          "name": "stdout",
          "text": [
            "EPOCH 10/40 :\n"
          ]
        },
        {
          "output_type": "stream",
          "name": "stderr",
          "text": [
            "  train: 100%|██████████| 391/391 [00:14<00:00, 27.87it/s, train_acc=0.924, train_loss=0.226]\n",
            "  test: 100%|██████████| 79/79 [00:02<00:00, 30.47it/s, test_acc=0.764, test_loss=tensor(0.8873, device='cuda:0')]\n"
          ]
        },
        {
          "output_type": "stream",
          "name": "stdout",
          "text": [
            "EPOCH 11/40 :\n"
          ]
        },
        {
          "output_type": "stream",
          "name": "stderr",
          "text": [
            "  train: 100%|██████████| 391/391 [00:13<00:00, 27.95it/s, train_acc=0.939, train_loss=0.186]\n",
            "  test: 100%|██████████| 79/79 [00:02<00:00, 30.76it/s, test_acc=0.757, test_loss=tensor(0.9586, device='cuda:0')]\n"
          ]
        },
        {
          "output_type": "stream",
          "name": "stdout",
          "text": [
            "EPOCH 12/40 :\n"
          ]
        },
        {
          "output_type": "stream",
          "name": "stderr",
          "text": [
            "  train: 100%|██████████| 391/391 [00:14<00:00, 26.73it/s, train_acc=0.948, train_loss=0.159]\n",
            "  test: 100%|██████████| 79/79 [00:03<00:00, 21.06it/s, test_acc=0.755, test_loss=tensor(1.0671, device='cuda:0')]\n"
          ]
        },
        {
          "output_type": "stream",
          "name": "stdout",
          "text": [
            "EPOCH 13/40 :\n"
          ]
        },
        {
          "output_type": "stream",
          "name": "stderr",
          "text": [
            "  train: 100%|██████████| 391/391 [00:14<00:00, 26.93it/s, train_acc=0.957, train_loss=0.126]\n",
            "  test: 100%|██████████| 79/79 [00:02<00:00, 29.79it/s, test_acc=0.758, test_loss=tensor(1.0932, device='cuda:0')]\n"
          ]
        },
        {
          "output_type": "stream",
          "name": "stdout",
          "text": [
            "EPOCH 14/40 :\n"
          ]
        },
        {
          "output_type": "stream",
          "name": "stderr",
          "text": [
            "  train: 100%|██████████| 391/391 [00:14<00:00, 27.45it/s, train_acc=0.962, train_loss=0.115]\n",
            "  test: 100%|██████████| 79/79 [00:02<00:00, 28.89it/s, test_acc=0.762, test_loss=tensor(1.1553, device='cuda:0')]\n"
          ]
        },
        {
          "output_type": "stream",
          "name": "stdout",
          "text": [
            "EPOCH 15/40 :\n"
          ]
        },
        {
          "output_type": "stream",
          "name": "stderr",
          "text": [
            "  train: 100%|██████████| 391/391 [00:14<00:00, 27.73it/s, train_acc=0.968, train_loss=0.0974]\n",
            "  test: 100%|██████████| 79/79 [00:03<00:00, 21.38it/s, test_acc=0.761, test_loss=tensor(1.1529, device='cuda:0')]\n"
          ]
        },
        {
          "output_type": "stream",
          "name": "stdout",
          "text": [
            "EPOCH 16/40 :\n"
          ]
        },
        {
          "output_type": "stream",
          "name": "stderr",
          "text": [
            "  train: 100%|██████████| 391/391 [00:13<00:00, 28.26it/s, train_acc=0.973, train_loss=0.0828]\n",
            "  test: 100%|██████████| 79/79 [00:02<00:00, 31.31it/s, test_acc=0.764, test_loss=tensor(1.2351, device='cuda:0')]\n"
          ]
        },
        {
          "output_type": "stream",
          "name": "stdout",
          "text": [
            "EPOCH 17/40 :\n"
          ]
        },
        {
          "output_type": "stream",
          "name": "stderr",
          "text": [
            "  train: 100%|██████████| 391/391 [00:13<00:00, 28.09it/s, train_acc=0.977, train_loss=0.0717]\n",
            "  test: 100%|██████████| 79/79 [00:02<00:00, 30.83it/s, test_acc=0.767, test_loss=tensor(1.2739, device='cuda:0')]\n"
          ]
        },
        {
          "output_type": "stream",
          "name": "stdout",
          "text": [
            "EPOCH 18/40 :\n"
          ]
        },
        {
          "output_type": "stream",
          "name": "stderr",
          "text": [
            "  train: 100%|██████████| 391/391 [00:13<00:00, 27.99it/s, train_acc=0.976, train_loss=0.0711]\n",
            "  test: 100%|██████████| 79/79 [00:03<00:00, 24.33it/s, test_acc=0.76, test_loss=tensor(1.3236, device='cuda:0')]\n"
          ]
        },
        {
          "output_type": "stream",
          "name": "stdout",
          "text": [
            "EPOCH 19/40 :\n"
          ]
        },
        {
          "output_type": "stream",
          "name": "stderr",
          "text": [
            "  train: 100%|██████████| 391/391 [00:14<00:00, 27.11it/s, train_acc=0.977, train_loss=0.07]\n",
            "  test: 100%|██████████| 79/79 [00:02<00:00, 30.75it/s, test_acc=0.755, test_loss=tensor(1.3810, device='cuda:0')]\n"
          ]
        },
        {
          "output_type": "stream",
          "name": "stdout",
          "text": [
            "EPOCH 20/40 :\n"
          ]
        },
        {
          "output_type": "stream",
          "name": "stderr",
          "text": [
            "  train: 100%|██████████| 391/391 [00:13<00:00, 27.97it/s, train_acc=0.982, train_loss=0.0538]\n",
            "  test: 100%|██████████| 79/79 [00:02<00:00, 30.27it/s, test_acc=0.76, test_loss=tensor(1.3730, device='cuda:0')]\n"
          ]
        },
        {
          "output_type": "stream",
          "name": "stdout",
          "text": [
            "EPOCH 21/40 :\n"
          ]
        },
        {
          "output_type": "stream",
          "name": "stderr",
          "text": [
            "  train: 100%|██████████| 391/391 [00:14<00:00, 27.62it/s, train_acc=0.983, train_loss=0.0521]\n",
            "  test: 100%|██████████| 79/79 [00:02<00:00, 28.06it/s, test_acc=0.759, test_loss=tensor(1.4053, device='cuda:0')]\n"
          ]
        },
        {
          "output_type": "stream",
          "name": "stdout",
          "text": [
            "EPOCH 22/40 :\n"
          ]
        },
        {
          "output_type": "stream",
          "name": "stderr",
          "text": [
            "  train: 100%|██████████| 391/391 [00:14<00:00, 26.28it/s, train_acc=0.986, train_loss=0.0439]\n",
            "  test: 100%|██████████| 79/79 [00:02<00:00, 29.89it/s, test_acc=0.766, test_loss=tensor(1.4097, device='cuda:0')]\n"
          ]
        },
        {
          "output_type": "stream",
          "name": "stdout",
          "text": [
            "EPOCH 23/40 :\n"
          ]
        },
        {
          "output_type": "stream",
          "name": "stderr",
          "text": [
            "  train: 100%|██████████| 391/391 [00:13<00:00, 27.99it/s, train_acc=0.988, train_loss=0.0376]\n",
            "  test: 100%|██████████| 79/79 [00:02<00:00, 30.86it/s, test_acc=0.764, test_loss=tensor(1.5206, device='cuda:0')]\n"
          ]
        },
        {
          "output_type": "stream",
          "name": "stdout",
          "text": [
            "EPOCH 24/40 :\n"
          ]
        },
        {
          "output_type": "stream",
          "name": "stderr",
          "text": [
            "  train: 100%|██████████| 391/391 [00:13<00:00, 28.14it/s, train_acc=0.984, train_loss=0.049]\n",
            "  test: 100%|██████████| 79/79 [00:02<00:00, 28.17it/s, test_acc=0.767, test_loss=tensor(1.4274, device='cuda:0')]\n"
          ]
        },
        {
          "output_type": "stream",
          "name": "stdout",
          "text": [
            "EPOCH 25/40 :\n"
          ]
        },
        {
          "output_type": "stream",
          "name": "stderr",
          "text": [
            "  train: 100%|██████████| 391/391 [00:14<00:00, 27.41it/s, train_acc=0.988, train_loss=0.0367]\n",
            "  test: 100%|██████████| 79/79 [00:02<00:00, 27.18it/s, test_acc=0.769, test_loss=tensor(1.5678, device='cuda:0')]\n"
          ]
        },
        {
          "output_type": "stream",
          "name": "stdout",
          "text": [
            "EPOCH 26/40 :\n"
          ]
        },
        {
          "output_type": "stream",
          "name": "stderr",
          "text": [
            "  train: 100%|██████████| 391/391 [00:13<00:00, 28.65it/s, train_acc=0.987, train_loss=0.0383]\n",
            "  test: 100%|██████████| 79/79 [00:02<00:00, 30.97it/s, test_acc=0.765, test_loss=tensor(1.4955, device='cuda:0')]\n"
          ]
        },
        {
          "output_type": "stream",
          "name": "stdout",
          "text": [
            "EPOCH 27/40 :\n"
          ]
        },
        {
          "output_type": "stream",
          "name": "stderr",
          "text": [
            "  train: 100%|██████████| 391/391 [00:13<00:00, 28.84it/s, train_acc=0.99, train_loss=0.0294]\n",
            "  test: 100%|██████████| 79/79 [00:02<00:00, 31.04it/s, test_acc=0.765, test_loss=tensor(1.6423, device='cuda:0')]\n"
          ]
        },
        {
          "output_type": "stream",
          "name": "stdout",
          "text": [
            "EPOCH 28/40 :\n"
          ]
        },
        {
          "output_type": "stream",
          "name": "stderr",
          "text": [
            "  train: 100%|██████████| 391/391 [00:13<00:00, 28.52it/s, train_acc=0.989, train_loss=0.0346]\n",
            "  test: 100%|██████████| 79/79 [00:03<00:00, 21.93it/s, test_acc=0.772, test_loss=tensor(1.5517, device='cuda:0')]\n"
          ]
        },
        {
          "output_type": "stream",
          "name": "stdout",
          "text": [
            "EPOCH 29/40 :\n"
          ]
        },
        {
          "output_type": "stream",
          "name": "stderr",
          "text": [
            "  train: 100%|██████████| 391/391 [00:13<00:00, 28.59it/s, train_acc=0.989, train_loss=0.0331]\n",
            "  test: 100%|██████████| 79/79 [00:02<00:00, 30.76it/s, test_acc=0.765, test_loss=tensor(1.5947, device='cuda:0')]\n"
          ]
        },
        {
          "output_type": "stream",
          "name": "stdout",
          "text": [
            "EPOCH 30/40 :\n"
          ]
        },
        {
          "output_type": "stream",
          "name": "stderr",
          "text": [
            "  train: 100%|██████████| 391/391 [00:13<00:00, 28.35it/s, train_acc=0.991, train_loss=0.0262]\n",
            "  test: 100%|██████████| 79/79 [00:02<00:00, 30.82it/s, test_acc=0.765, test_loss=tensor(1.6616, device='cuda:0')]\n"
          ]
        },
        {
          "output_type": "stream",
          "name": "stdout",
          "text": [
            "EPOCH 31/40 :\n"
          ]
        },
        {
          "output_type": "stream",
          "name": "stderr",
          "text": [
            "  train: 100%|██████████| 391/391 [00:13<00:00, 28.35it/s, train_acc=0.991, train_loss=0.0276]\n",
            "  test: 100%|██████████| 79/79 [00:03<00:00, 24.67it/s, test_acc=0.764, test_loss=tensor(1.6419, device='cuda:0')]\n"
          ]
        },
        {
          "output_type": "stream",
          "name": "stdout",
          "text": [
            "EPOCH 32/40 :\n"
          ]
        },
        {
          "output_type": "stream",
          "name": "stderr",
          "text": [
            "  train: 100%|██████████| 391/391 [00:14<00:00, 27.55it/s, train_acc=0.991, train_loss=0.029]\n",
            "  test: 100%|██████████| 79/79 [00:02<00:00, 30.54it/s, test_acc=0.772, test_loss=tensor(1.6562, device='cuda:0')]\n"
          ]
        },
        {
          "output_type": "stream",
          "name": "stdout",
          "text": [
            "EPOCH 33/40 :\n"
          ]
        },
        {
          "output_type": "stream",
          "name": "stderr",
          "text": [
            "  train: 100%|██████████| 391/391 [00:13<00:00, 28.31it/s, train_acc=0.989, train_loss=0.034]\n",
            "  test: 100%|██████████| 79/79 [00:02<00:00, 30.28it/s, test_acc=0.763, test_loss=tensor(1.6706, device='cuda:0')]\n"
          ]
        },
        {
          "output_type": "stream",
          "name": "stdout",
          "text": [
            "EPOCH 34/40 :\n"
          ]
        },
        {
          "output_type": "stream",
          "name": "stderr",
          "text": [
            "  train: 100%|██████████| 391/391 [00:14<00:00, 27.86it/s, train_acc=0.991, train_loss=0.0258]\n",
            "  test: 100%|██████████| 79/79 [00:02<00:00, 26.74it/s, test_acc=0.767, test_loss=tensor(1.6957, device='cuda:0')]\n"
          ]
        },
        {
          "output_type": "stream",
          "name": "stdout",
          "text": [
            "EPOCH 35/40 :\n"
          ]
        },
        {
          "output_type": "stream",
          "name": "stderr",
          "text": [
            "  train: 100%|██████████| 391/391 [00:14<00:00, 27.25it/s, train_acc=0.992, train_loss=0.0232]\n",
            "  test: 100%|██████████| 79/79 [00:02<00:00, 28.96it/s, test_acc=0.774, test_loss=tensor(1.6617, device='cuda:0')]\n"
          ]
        },
        {
          "output_type": "stream",
          "name": "stdout",
          "text": [
            "EPOCH 36/40 :\n"
          ]
        },
        {
          "output_type": "stream",
          "name": "stderr",
          "text": [
            "  train: 100%|██████████| 391/391 [00:13<00:00, 28.44it/s, train_acc=0.993, train_loss=0.022]\n",
            "  test: 100%|██████████| 79/79 [00:02<00:00, 31.71it/s, test_acc=0.768, test_loss=tensor(1.7408, device='cuda:0')]\n"
          ]
        },
        {
          "output_type": "stream",
          "name": "stdout",
          "text": [
            "EPOCH 37/40 :\n"
          ]
        },
        {
          "output_type": "stream",
          "name": "stderr",
          "text": [
            "  train: 100%|██████████| 391/391 [00:13<00:00, 28.29it/s, train_acc=0.994, train_loss=0.0198]\n",
            "  test: 100%|██████████| 79/79 [00:02<00:00, 29.79it/s, test_acc=0.771, test_loss=tensor(1.7487, device='cuda:0')]\n"
          ]
        },
        {
          "output_type": "stream",
          "name": "stdout",
          "text": [
            "EPOCH 38/40 :\n"
          ]
        },
        {
          "output_type": "stream",
          "name": "stderr",
          "text": [
            "  train: 100%|██████████| 391/391 [00:14<00:00, 27.80it/s, train_acc=0.994, train_loss=0.0179]\n",
            "  test: 100%|██████████| 79/79 [00:03<00:00, 24.53it/s, test_acc=0.767, test_loss=tensor(1.8148, device='cuda:0')]\n"
          ]
        },
        {
          "output_type": "stream",
          "name": "stdout",
          "text": [
            "EPOCH 39/40 :\n"
          ]
        },
        {
          "output_type": "stream",
          "name": "stderr",
          "text": [
            "  train: 100%|██████████| 391/391 [00:13<00:00, 28.45it/s, train_acc=0.991, train_loss=0.027]\n",
            "  test: 100%|██████████| 79/79 [00:02<00:00, 31.13it/s, test_acc=0.76, test_loss=tensor(1.8118, device='cuda:0')]\n"
          ]
        },
        {
          "output_type": "stream",
          "name": "stdout",
          "text": [
            "EPOCH 40/40 :\n"
          ]
        },
        {
          "output_type": "stream",
          "name": "stderr",
          "text": [
            "  train: 100%|██████████| 391/391 [00:13<00:00, 28.68it/s, train_acc=0.993, train_loss=0.0198]\n",
            "  test: 100%|██████████| 79/79 [00:02<00:00, 30.81it/s, test_acc=0.775, test_loss=tensor(1.7676, device='cuda:0')]"
          ]
        },
        {
          "output_type": "stream",
          "name": "stdout",
          "text": [
            "Total training time: 670.885 seconds\n"
          ]
        },
        {
          "output_type": "stream",
          "name": "stderr",
          "text": [
            "\n"
          ]
        }
      ]
    },
    {
      "cell_type": "code",
      "source": [
        "torch.save(model6.state_dict(), \"trained_model6.pth\")"
      ],
      "metadata": {
        "id": "Gls5Yy0DYxmg"
      },
      "execution_count": 26,
      "outputs": []
    },
    {
      "cell_type": "markdown",
      "source": [
        "## Model 9"
      ],
      "metadata": {
        "id": "6HkRi4m5bvp4"
      }
    },
    {
      "cell_type": "code",
      "source": [
        "result9_CIFAR10 = fit(model=model9,\n",
        "                           train_loader=train_dataloader_CIFAR10,\n",
        "                           test_loader=test_dataloader_CIFAR10,\n",
        "                           loss_fn=loss_fn,\n",
        "                           optimizer=optimizer9,\n",
        "                           accuracy_fn=accuracy_fn,\n",
        "                           device=device,\n",
        "                           epochs=40)"
      ],
      "metadata": {
        "colab": {
          "base_uri": "https://localhost:8080/"
        },
        "id": "jBF9GMn_bxtO",
        "outputId": "02a3f784-54ec-4a7e-9380-df3e6a450969"
      },
      "execution_count": 27,
      "outputs": [
        {
          "output_type": "stream",
          "name": "stdout",
          "text": [
            "EPOCH 1/40 :\n"
          ]
        },
        {
          "output_type": "stream",
          "name": "stderr",
          "text": [
            "  train: 100%|██████████| 391/391 [00:13<00:00, 28.79it/s, train_acc=0.429, train_loss=1.58]\n",
            "  test: 100%|██████████| 79/79 [00:02<00:00, 30.32it/s, test_acc=0.575, test_loss=tensor(1.2045, device='cuda:0')]\n"
          ]
        },
        {
          "output_type": "stream",
          "name": "stdout",
          "text": [
            "EPOCH 2/40 :\n"
          ]
        },
        {
          "output_type": "stream",
          "name": "stderr",
          "text": [
            "  train: 100%|██████████| 391/391 [00:13<00:00, 29.01it/s, train_acc=0.622, train_loss=1.07]\n",
            "  test: 100%|██████████| 79/79 [00:02<00:00, 31.14it/s, test_acc=0.661, test_loss=tensor(0.9557, device='cuda:0')]\n"
          ]
        },
        {
          "output_type": "stream",
          "name": "stdout",
          "text": [
            "EPOCH 3/40 :\n"
          ]
        },
        {
          "output_type": "stream",
          "name": "stderr",
          "text": [
            "  train: 100%|██████████| 391/391 [00:13<00:00, 28.80it/s, train_acc=0.693, train_loss=0.871]\n",
            "  test: 100%|██████████| 79/79 [00:02<00:00, 28.72it/s, test_acc=0.699, test_loss=tensor(0.8481, device='cuda:0')]\n"
          ]
        },
        {
          "output_type": "stream",
          "name": "stdout",
          "text": [
            "EPOCH 4/40 :\n"
          ]
        },
        {
          "output_type": "stream",
          "name": "stderr",
          "text": [
            "  train: 100%|██████████| 391/391 [00:13<00:00, 28.06it/s, train_acc=0.741, train_loss=0.742]\n",
            "  test: 100%|██████████| 79/79 [00:02<00:00, 27.32it/s, test_acc=0.719, test_loss=tensor(0.8076, device='cuda:0')]\n"
          ]
        },
        {
          "output_type": "stream",
          "name": "stdout",
          "text": [
            "EPOCH 5/40 :\n"
          ]
        },
        {
          "output_type": "stream",
          "name": "stderr",
          "text": [
            "  train: 100%|██████████| 391/391 [00:14<00:00, 26.68it/s, train_acc=0.78, train_loss=0.638]\n",
            "  test: 100%|██████████| 79/79 [00:02<00:00, 31.38it/s, test_acc=0.738, test_loss=tensor(0.7602, device='cuda:0')]\n"
          ]
        },
        {
          "output_type": "stream",
          "name": "stdout",
          "text": [
            "EPOCH 6/40 :\n"
          ]
        },
        {
          "output_type": "stream",
          "name": "stderr",
          "text": [
            "  train: 100%|██████████| 391/391 [00:13<00:00, 28.77it/s, train_acc=0.812, train_loss=0.544]\n",
            "  test: 100%|██████████| 79/79 [00:02<00:00, 30.83it/s, test_acc=0.745, test_loss=tensor(0.7457, device='cuda:0')]\n"
          ]
        },
        {
          "output_type": "stream",
          "name": "stdout",
          "text": [
            "EPOCH 7/40 :\n"
          ]
        },
        {
          "output_type": "stream",
          "name": "stderr",
          "text": [
            "  train: 100%|██████████| 391/391 [00:14<00:00, 27.81it/s, train_acc=0.842, train_loss=0.459]\n",
            "  test: 100%|██████████| 79/79 [00:03<00:00, 24.23it/s, test_acc=0.752, test_loss=tensor(0.7318, device='cuda:0')]\n"
          ]
        },
        {
          "output_type": "stream",
          "name": "stdout",
          "text": [
            "EPOCH 8/40 :\n"
          ]
        },
        {
          "output_type": "stream",
          "name": "stderr",
          "text": [
            "  train: 100%|██████████| 391/391 [00:13<00:00, 28.37it/s, train_acc=0.868, train_loss=0.388]\n",
            "  test: 100%|██████████| 79/79 [00:02<00:00, 31.29it/s, test_acc=0.764, test_loss=tensor(0.7276, device='cuda:0')]\n"
          ]
        },
        {
          "output_type": "stream",
          "name": "stdout",
          "text": [
            "EPOCH 9/40 :\n"
          ]
        },
        {
          "output_type": "stream",
          "name": "stderr",
          "text": [
            "  train: 100%|██████████| 391/391 [00:13<00:00, 27.97it/s, train_acc=0.895, train_loss=0.312]\n",
            "  test: 100%|██████████| 79/79 [00:02<00:00, 30.81it/s, test_acc=0.759, test_loss=tensor(0.7787, device='cuda:0')]\n"
          ]
        },
        {
          "output_type": "stream",
          "name": "stdout",
          "text": [
            "EPOCH 10/40 :\n"
          ]
        },
        {
          "output_type": "stream",
          "name": "stderr",
          "text": [
            "  train: 100%|██████████| 391/391 [00:14<00:00, 27.93it/s, train_acc=0.918, train_loss=0.247]\n",
            "  test: 100%|██████████| 79/79 [00:03<00:00, 22.12it/s, test_acc=0.758, test_loss=tensor(0.8297, device='cuda:0')]\n"
          ]
        },
        {
          "output_type": "stream",
          "name": "stdout",
          "text": [
            "EPOCH 11/40 :\n"
          ]
        },
        {
          "output_type": "stream",
          "name": "stderr",
          "text": [
            "  train: 100%|██████████| 391/391 [00:14<00:00, 27.85it/s, train_acc=0.935, train_loss=0.196]\n",
            "  test: 100%|██████████| 79/79 [00:02<00:00, 30.01it/s, test_acc=0.759, test_loss=tensor(0.8640, device='cuda:0')]\n"
          ]
        },
        {
          "output_type": "stream",
          "name": "stdout",
          "text": [
            "EPOCH 12/40 :\n"
          ]
        },
        {
          "output_type": "stream",
          "name": "stderr",
          "text": [
            "  train: 100%|██████████| 391/391 [00:13<00:00, 28.36it/s, train_acc=0.946, train_loss=0.167]\n",
            "  test: 100%|██████████| 79/79 [00:02<00:00, 30.02it/s, test_acc=0.77, test_loss=tensor(0.8743, device='cuda:0')]\n"
          ]
        },
        {
          "output_type": "stream",
          "name": "stdout",
          "text": [
            "EPOCH 13/40 :\n"
          ]
        },
        {
          "output_type": "stream",
          "name": "stderr",
          "text": [
            "  train: 100%|██████████| 391/391 [00:13<00:00, 28.05it/s, train_acc=0.959, train_loss=0.127]\n",
            "  test: 100%|██████████| 79/79 [00:03<00:00, 22.86it/s, test_acc=0.777, test_loss=tensor(0.9408, device='cuda:0')]\n"
          ]
        },
        {
          "output_type": "stream",
          "name": "stdout",
          "text": [
            "EPOCH 14/40 :\n"
          ]
        },
        {
          "output_type": "stream",
          "name": "stderr",
          "text": [
            "  train: 100%|██████████| 391/391 [00:14<00:00, 27.10it/s, train_acc=0.97, train_loss=0.0959]\n",
            "  test: 100%|██████████| 79/79 [00:02<00:00, 29.65it/s, test_acc=0.769, test_loss=tensor(0.9803, device='cuda:0')]\n"
          ]
        },
        {
          "output_type": "stream",
          "name": "stdout",
          "text": [
            "EPOCH 15/40 :\n"
          ]
        },
        {
          "output_type": "stream",
          "name": "stderr",
          "text": [
            "  train: 100%|██████████| 391/391 [00:14<00:00, 27.43it/s, train_acc=0.975, train_loss=0.0782]\n",
            "  test: 100%|██████████| 79/79 [00:02<00:00, 29.81it/s, test_acc=0.774, test_loss=tensor(1.0310, device='cuda:0')]\n"
          ]
        },
        {
          "output_type": "stream",
          "name": "stdout",
          "text": [
            "EPOCH 16/40 :\n"
          ]
        },
        {
          "output_type": "stream",
          "name": "stderr",
          "text": [
            "  train: 100%|██████████| 391/391 [00:14<00:00, 27.68it/s, train_acc=0.98, train_loss=0.0639]\n",
            "  test: 100%|██████████| 79/79 [00:03<00:00, 23.57it/s, test_acc=0.773, test_loss=tensor(1.0895, device='cuda:0')]\n"
          ]
        },
        {
          "output_type": "stream",
          "name": "stdout",
          "text": [
            "EPOCH 17/40 :\n"
          ]
        },
        {
          "output_type": "stream",
          "name": "stderr",
          "text": [
            "  train: 100%|██████████| 391/391 [00:14<00:00, 27.20it/s, train_acc=0.983, train_loss=0.054]\n",
            "  test: 100%|██████████| 79/79 [00:02<00:00, 30.21it/s, test_acc=0.776, test_loss=tensor(1.0937, device='cuda:0')]\n"
          ]
        },
        {
          "output_type": "stream",
          "name": "stdout",
          "text": [
            "EPOCH 18/40 :\n"
          ]
        },
        {
          "output_type": "stream",
          "name": "stderr",
          "text": [
            "  train: 100%|██████████| 391/391 [00:14<00:00, 27.53it/s, train_acc=0.985, train_loss=0.0452]\n",
            "  test: 100%|██████████| 79/79 [00:02<00:00, 29.97it/s, test_acc=0.777, test_loss=tensor(1.1304, device='cuda:0')]\n"
          ]
        },
        {
          "output_type": "stream",
          "name": "stdout",
          "text": [
            "EPOCH 19/40 :\n"
          ]
        },
        {
          "output_type": "stream",
          "name": "stderr",
          "text": [
            "  train: 100%|██████████| 391/391 [00:13<00:00, 28.11it/s, train_acc=0.989, train_loss=0.0356]\n",
            "  test: 100%|██████████| 79/79 [00:03<00:00, 26.17it/s, test_acc=0.785, test_loss=tensor(1.1781, device='cuda:0')]\n"
          ]
        },
        {
          "output_type": "stream",
          "name": "stdout",
          "text": [
            "EPOCH 20/40 :\n"
          ]
        },
        {
          "output_type": "stream",
          "name": "stderr",
          "text": [
            "  train: 100%|██████████| 391/391 [00:14<00:00, 27.41it/s, train_acc=0.991, train_loss=0.0293]\n",
            "  test: 100%|██████████| 79/79 [00:02<00:00, 30.02it/s, test_acc=0.775, test_loss=tensor(1.2075, device='cuda:0')]\n"
          ]
        },
        {
          "output_type": "stream",
          "name": "stdout",
          "text": [
            "EPOCH 21/40 :\n"
          ]
        },
        {
          "output_type": "stream",
          "name": "stderr",
          "text": [
            "  train: 100%|██████████| 391/391 [00:13<00:00, 28.16it/s, train_acc=0.99, train_loss=0.0292]\n",
            "  test: 100%|██████████| 79/79 [00:02<00:00, 30.26it/s, test_acc=0.775, test_loss=tensor(1.2666, device='cuda:0')]\n"
          ]
        },
        {
          "output_type": "stream",
          "name": "stdout",
          "text": [
            "EPOCH 22/40 :\n"
          ]
        },
        {
          "output_type": "stream",
          "name": "stderr",
          "text": [
            "  train: 100%|██████████| 391/391 [00:14<00:00, 27.89it/s, train_acc=0.992, train_loss=0.0266]\n",
            "  test: 100%|██████████| 79/79 [00:02<00:00, 29.68it/s, test_acc=0.768, test_loss=tensor(1.2683, device='cuda:0')]\n"
          ]
        },
        {
          "output_type": "stream",
          "name": "stdout",
          "text": [
            "EPOCH 23/40 :\n"
          ]
        },
        {
          "output_type": "stream",
          "name": "stderr",
          "text": [
            "  train: 100%|██████████| 391/391 [00:14<00:00, 27.35it/s, train_acc=0.992, train_loss=0.0272]\n",
            "  test: 100%|██████████| 79/79 [00:02<00:00, 26.93it/s, test_acc=0.777, test_loss=tensor(1.2663, device='cuda:0')]\n"
          ]
        },
        {
          "output_type": "stream",
          "name": "stdout",
          "text": [
            "EPOCH 24/40 :\n"
          ]
        },
        {
          "output_type": "stream",
          "name": "stderr",
          "text": [
            "  train: 100%|██████████| 391/391 [00:13<00:00, 28.43it/s, train_acc=0.995, train_loss=0.0163]\n",
            "  test: 100%|██████████| 79/79 [00:02<00:00, 30.64it/s, test_acc=0.775, test_loss=tensor(1.3116, device='cuda:0')]\n"
          ]
        },
        {
          "output_type": "stream",
          "name": "stdout",
          "text": [
            "EPOCH 25/40 :\n"
          ]
        },
        {
          "output_type": "stream",
          "name": "stderr",
          "text": [
            "  train: 100%|██████████| 391/391 [00:13<00:00, 28.22it/s, train_acc=0.995, train_loss=0.0176]\n",
            "  test: 100%|██████████| 79/79 [00:02<00:00, 30.37it/s, test_acc=0.778, test_loss=tensor(1.3412, device='cuda:0')]\n"
          ]
        },
        {
          "output_type": "stream",
          "name": "stdout",
          "text": [
            "EPOCH 26/40 :\n"
          ]
        },
        {
          "output_type": "stream",
          "name": "stderr",
          "text": [
            "  train: 100%|██████████| 391/391 [00:13<00:00, 28.41it/s, train_acc=0.996, train_loss=0.0152]\n",
            "  test: 100%|██████████| 79/79 [00:03<00:00, 22.15it/s, test_acc=0.784, test_loss=tensor(1.3300, device='cuda:0')]\n"
          ]
        },
        {
          "output_type": "stream",
          "name": "stdout",
          "text": [
            "EPOCH 27/40 :\n"
          ]
        },
        {
          "output_type": "stream",
          "name": "stderr",
          "text": [
            "  train: 100%|██████████| 391/391 [00:13<00:00, 28.33it/s, train_acc=0.996, train_loss=0.0138]\n",
            "  test: 100%|██████████| 79/79 [00:02<00:00, 30.80it/s, test_acc=0.778, test_loss=tensor(1.3759, device='cuda:0')]\n"
          ]
        },
        {
          "output_type": "stream",
          "name": "stdout",
          "text": [
            "EPOCH 28/40 :\n"
          ]
        },
        {
          "output_type": "stream",
          "name": "stderr",
          "text": [
            "  train: 100%|██████████| 391/391 [00:13<00:00, 28.37it/s, train_acc=0.998, train_loss=0.00669]\n",
            "  test: 100%|██████████| 79/79 [00:02<00:00, 30.51it/s, test_acc=0.786, test_loss=tensor(1.4083, device='cuda:0')]\n"
          ]
        },
        {
          "output_type": "stream",
          "name": "stdout",
          "text": [
            "EPOCH 29/40 :\n"
          ]
        },
        {
          "output_type": "stream",
          "name": "stderr",
          "text": [
            "  train: 100%|██████████| 391/391 [00:13<00:00, 28.34it/s, train_acc=0.998, train_loss=0.00612]\n",
            "  test: 100%|██████████| 79/79 [00:02<00:00, 26.95it/s, test_acc=0.786, test_loss=tensor(1.4274, device='cuda:0')]\n"
          ]
        },
        {
          "output_type": "stream",
          "name": "stdout",
          "text": [
            "EPOCH 30/40 :\n"
          ]
        },
        {
          "output_type": "stream",
          "name": "stderr",
          "text": [
            "  train: 100%|██████████| 391/391 [00:14<00:00, 27.71it/s, train_acc=0.998, train_loss=0.00872]\n",
            "  test: 100%|██████████| 79/79 [00:02<00:00, 27.67it/s, test_acc=0.79, test_loss=tensor(1.4065, device='cuda:0')]\n"
          ]
        },
        {
          "output_type": "stream",
          "name": "stdout",
          "text": [
            "EPOCH 31/40 :\n"
          ]
        },
        {
          "output_type": "stream",
          "name": "stderr",
          "text": [
            "  train: 100%|██████████| 391/391 [00:13<00:00, 28.61it/s, train_acc=0.999, train_loss=0.0038]\n",
            "  test: 100%|██████████| 79/79 [00:02<00:00, 30.84it/s, test_acc=0.788, test_loss=tensor(1.4263, device='cuda:0')]\n"
          ]
        },
        {
          "output_type": "stream",
          "name": "stdout",
          "text": [
            "EPOCH 32/40 :\n"
          ]
        },
        {
          "output_type": "stream",
          "name": "stderr",
          "text": [
            "  train: 100%|██████████| 391/391 [00:13<00:00, 28.07it/s, train_acc=0.998, train_loss=0.00653]\n",
            "  test: 100%|██████████| 79/79 [00:02<00:00, 30.18it/s, test_acc=0.788, test_loss=tensor(1.4555, device='cuda:0')]\n"
          ]
        },
        {
          "output_type": "stream",
          "name": "stdout",
          "text": [
            "EPOCH 33/40 :\n"
          ]
        },
        {
          "output_type": "stream",
          "name": "stderr",
          "text": [
            "  train: 100%|██████████| 391/391 [00:13<00:00, 28.32it/s, train_acc=1, train_loss=0.00156]\n",
            "  test: 100%|██████████| 79/79 [00:03<00:00, 23.21it/s, test_acc=0.792, test_loss=tensor(1.4355, device='cuda:0')]\n"
          ]
        },
        {
          "output_type": "stream",
          "name": "stdout",
          "text": [
            "EPOCH 34/40 :\n"
          ]
        },
        {
          "output_type": "stream",
          "name": "stderr",
          "text": [
            "  train: 100%|██████████| 391/391 [00:13<00:00, 28.45it/s, train_acc=1, train_loss=0.00111]\n",
            "  test: 100%|██████████| 79/79 [00:02<00:00, 30.07it/s, test_acc=0.789, test_loss=tensor(1.4652, device='cuda:0')]\n"
          ]
        },
        {
          "output_type": "stream",
          "name": "stdout",
          "text": [
            "EPOCH 35/40 :\n"
          ]
        },
        {
          "output_type": "stream",
          "name": "stderr",
          "text": [
            "  train: 100%|██████████| 391/391 [00:13<00:00, 28.39it/s, train_acc=1, train_loss=0.00121]\n",
            "  test: 100%|██████████| 79/79 [00:02<00:00, 30.48it/s, test_acc=0.792, test_loss=tensor(1.4966, device='cuda:0')]\n"
          ]
        },
        {
          "output_type": "stream",
          "name": "stdout",
          "text": [
            "EPOCH 36/40 :\n"
          ]
        },
        {
          "output_type": "stream",
          "name": "stderr",
          "text": [
            "  train: 100%|██████████| 391/391 [00:13<00:00, 28.22it/s, train_acc=1, train_loss=0.000673]\n",
            "  test: 100%|██████████| 79/79 [00:03<00:00, 22.69it/s, test_acc=0.788, test_loss=tensor(1.4959, device='cuda:0')]\n"
          ]
        },
        {
          "output_type": "stream",
          "name": "stdout",
          "text": [
            "EPOCH 37/40 :\n"
          ]
        },
        {
          "output_type": "stream",
          "name": "stderr",
          "text": [
            "  train: 100%|██████████| 391/391 [00:14<00:00, 27.80it/s, train_acc=1, train_loss=0.000265]\n",
            "  test: 100%|██████████| 79/79 [00:02<00:00, 30.75it/s, test_acc=0.792, test_loss=tensor(1.4971, device='cuda:0')]\n"
          ]
        },
        {
          "output_type": "stream",
          "name": "stdout",
          "text": [
            "EPOCH 38/40 :\n"
          ]
        },
        {
          "output_type": "stream",
          "name": "stderr",
          "text": [
            "  train: 100%|██████████| 391/391 [00:13<00:00, 27.98it/s, train_acc=1, train_loss=0.000184]\n",
            "  test: 100%|██████████| 79/79 [00:02<00:00, 30.04it/s, test_acc=0.796, test_loss=tensor(1.5032, device='cuda:0')]\n"
          ]
        },
        {
          "output_type": "stream",
          "name": "stdout",
          "text": [
            "EPOCH 39/40 :\n"
          ]
        },
        {
          "output_type": "stream",
          "name": "stderr",
          "text": [
            "  train: 100%|██████████| 391/391 [00:13<00:00, 28.25it/s, train_acc=1, train_loss=0.000185]\n",
            "  test: 100%|██████████| 79/79 [00:02<00:00, 27.24it/s, test_acc=0.792, test_loss=tensor(1.5044, device='cuda:0')]\n"
          ]
        },
        {
          "output_type": "stream",
          "name": "stdout",
          "text": [
            "EPOCH 40/40 :\n"
          ]
        },
        {
          "output_type": "stream",
          "name": "stderr",
          "text": [
            "  train: 100%|██████████| 391/391 [00:14<00:00, 26.80it/s, train_acc=1, train_loss=0.00014]\n",
            "  test: 100%|██████████| 79/79 [00:02<00:00, 29.08it/s, test_acc=0.794, test_loss=tensor(1.4892, device='cuda:0')]"
          ]
        },
        {
          "output_type": "stream",
          "name": "stdout",
          "text": [
            "Total training time: 670.830 seconds\n"
          ]
        },
        {
          "output_type": "stream",
          "name": "stderr",
          "text": [
            "\n"
          ]
        }
      ]
    },
    {
      "cell_type": "code",
      "source": [
        "torch.save(model9.state_dict(), \"trained_model9.pth\")"
      ],
      "metadata": {
        "id": "xW6PIuU9b3j3"
      },
      "execution_count": 28,
      "outputs": []
    },
    {
      "cell_type": "markdown",
      "source": [
        "# Show the results"
      ],
      "metadata": {
        "id": "GxyVSFe5epcP"
      }
    },
    {
      "cell_type": "code",
      "source": [
        "accloss_plots(result1_MNIST['train_loss'], result1_MNIST['test_loss'], result1_MNIST['train_acc'], result1_MNIST['test_acc'],\n",
        "              result4_MNIST['train_loss'], result4_MNIST['test_loss'], result4_MNIST['train_acc'], result4_MNIST['test_acc'],\n",
        "              result7_MNIST['train_loss'], result7_MNIST['test_loss'], result7_MNIST['train_acc'], result7_MNIST['test_acc'])"
      ],
      "metadata": {
        "id": "H-FummVjoXKE",
        "outputId": "cf7ee734-bf51-401a-ed2e-9ee1bf963dad",
        "colab": {
          "base_uri": "https://localhost:8080/",
          "height": 953
        }
      },
      "execution_count": 36,
      "outputs": [
        {
          "output_type": "display_data",
          "data": {
            "text/plain": [
              "<Figure size 1300x1000 with 4 Axes>"
            ],
            "image/png": "[encoded data removed]"
          },
          "metadata": {}
        }
      ]
    },
    {
      "cell_type": "code",
      "source": [
        "accloss_plots(result3_CIFAR10['train_loss'], result3_CIFAR10['test_loss'], result3_CIFAR10['train_acc'], result3_CIFAR10['test_acc'],\n",
        "              result6_CIFAR10['train_loss'], result6_CIFAR10['test_loss'], result6_CIFAR10['train_acc'], result6_CIFAR10['test_acc'],\n",
        "              result9_CIFAR10['train_loss'], result9_CIFAR10['test_loss'], result9_CIFAR10['train_acc'], result9_CIFAR10['test_acc'])"
      ],
      "metadata": {
        "id": "XRSXn9T2e52c",
        "outputId": "ae5238cc-f4d1-469f-848b-9f3d8695cdce",
        "colab": {
          "base_uri": "https://localhost:8080/",
          "height": 953
        }
      },
      "execution_count": 34,
      "outputs": [
        {
          "output_type": "display_data",
          "data": {
            "text/plain": [
              "<Figure size 1300x1000 with 4 Axes>"
            ],
            "image/png": "[encoded data removed]"
          },
          "metadata": {}
        }
      ]
    },
    {
      "cell_type": "code",
      "source": [],
      "metadata": {
        "id": "vTCWXq4ufUF0"
      },
      "execution_count": null,
      "outputs": []
    }
  ]
}