{
  "nbformat": 4,
  "nbformat_minor": 0,
  "metadata": {
    "colab": {
      "provenance": [],
      "authorship_tag": "ABX9TyPqlo598rP2JxxwaEoyNxKZ",
      "include_colab_link": true
    },
    "kernelspec": {
      "name": "python3",
      "display_name": "Python 3"
    },
    "language_info": {
      "name": "python"
    }
  },
  "cells": [
    {
      "cell_type": "markdown",
      "metadata": {
        "id": "view-in-github",
        "colab_type": "text"
      },
      "source": [
        "<a href=\"https://colab.research.google.com/github/mjmousavi97/Deep-Learning-Tehran-uni/blob/main/HomeWorks/02%20HW/advanced_pytorch.ipynb\" target=\"_parent\"><img src=\"https://colab.research.google.com/assets/colab-badge.svg\" alt=\"Open In Colab\"/></a>"
      ]
    },
    {
      "cell_type": "markdown",
      "source": [
        "# Import libraries"
      ],
      "metadata": {
        "id": "7--kvYcpUhfK"
      }
    },
    {
      "cell_type": "code",
      "source": [
        "import torch  # Core PyTorch library for tensors and GPU computations\n",
        "from torch import nn  # Module for building neural network layers\n",
        "import torch.nn.functional as F  # Functional API for layers and activations (stateless functions)\n",
        "from torch.utils.data import DataLoader, Dataset  # Tools for batching, shuffling, and creating custom datasets\n",
        "\n",
        "import torchvision  # PyTorch package for computer vision datasets, models, and transforms\n",
        "from torchvision import transforms  # Image preprocessing and transformations (resize, normalize, etc.)\n",
        "from torchvision.datasets import ImageFolder  # Loads images from folders organized by class labels\n",
        "\n",
        "import matplotlib.pyplot as plt  # Plotting graphs and displaying images\n",
        "import numpy as np  # Numerical computations and array operations\n",
        "import seaborn as sns  # Statistical data visualization\n",
        "import os  # File and directory operations\n",
        "import glob  # File path pattern matching (wildcards)\n",
        "import cv2  # OpenCV for image processing (reading, editing, filtering, etc.)\n",
        "from tqdm import tqdm  # Progress bar for loops\n",
        "from PIL import Image  # Pillow library for opening, saving, and manipulating images\n"
      ],
      "metadata": {
        "id": "JFjDsAxXUzV3"
      },
      "execution_count": 4,
      "outputs": []
    },
    {
      "cell_type": "markdown",
      "source": [
        "#### Mounting Google Drive"
      ],
      "metadata": {
        "id": "3CNgmvyffNxb"
      }
    },
    {
      "cell_type": "code",
      "source": [
        "from google.colab import drive\n",
        "drive.mount('/content/drive')"
      ],
      "metadata": {
        "colab": {
          "base_uri": "https://localhost:8080/"
        },
        "id": "UtdzjcG9fPxn",
        "outputId": "199f3258-436a-4d1c-e97f-1a7d3e69ab53"
      },
      "execution_count": 5,
      "outputs": [
        {
          "output_type": "stream",
          "name": "stdout",
          "text": [
            "Mounted at /content/drive\n"
          ]
        }
      ]
    },
    {
      "cell_type": "markdown",
      "source": [
        "# Dataset"
      ],
      "metadata": {
        "id": "xzTs9JVZS04N"
      }
    },
    {
      "cell_type": "code",
      "source": [
        "DIR_TRAIN = \"/content/drive/MyDrive/fashionmnist/train/\"\n",
        "DIR_TEST = \"/content/drive/MyDrive/fashionmnist/test/\""
      ],
      "metadata": {
        "id": "YDvL2o2GTnNe"
      },
      "execution_count": 6,
      "outputs": []
    },
    {
      "cell_type": "code",
      "source": [
        "classes = os.listdir(DIR_TRAIN)\n",
        "print(f\"Names of classes are: {classes}.\\nThere are {len(classes)} classes.\")"
      ],
      "metadata": {
        "colab": {
          "base_uri": "https://localhost:8080/"
        },
        "id": "4LYgWvELUdw1",
        "outputId": "976ab6cd-3fd1-47be-9eec-8eec04e19c0c"
      },
      "execution_count": 16,
      "outputs": [
        {
          "output_type": "stream",
          "name": "stdout",
          "text": [
            "Names of classes are: ['Dress', 'Pullover', 'Sandal', 'Shirt', 'Sneaker', 'T-shirt', 'Trouser', 'Angle boot', 'Bag', 'Coat'].\n",
            "There are 10 classes.\n"
          ]
        }
      ]
    },
    {
      "cell_type": "code",
      "source": [
        "train_images = []\n",
        "test_images = []\n",
        "\n",
        "for _class in classes:\n",
        "    train_images += glob.glob(DIR_TRAIN + _class + '/*.jpg')\n",
        "    test_images += glob.glob(DIR_TEST + _class + '/*.jpg')\n",
        "\n",
        "print(\"Total train images:\", len(train_images))\n",
        "print(\"Total test images:\", len(test_images))"
      ],
      "metadata": {
        "colab": {
          "base_uri": "https://localhost:8080/"
        },
        "id": "_6w59SoAkEop",
        "outputId": "8e46dac2-07c9-4dc5-d55c-ac282f6146f3"
      },
      "execution_count": 19,
      "outputs": [
        {
          "output_type": "stream",
          "name": "stdout",
          "text": [
            "Total train images: 60000\n",
            "Total test images: 10000\n"
          ]
        }
      ]
    },
    {
      "cell_type": "code",
      "source": [
        "Transforms = transforms.Compose([transforms.ToTensor(),\n",
        "                                 transforms.Normalize(mean=0.5, std=0.5)])"
      ],
      "metadata": {
        "id": "IRD6n9GxoXXF"
      },
      "execution_count": 20,
      "outputs": []
    },
    {
      "cell_type": "code",
      "source": [
        "train_dataset = torchvision.datasets.FashionMNIST(\n",
        "    root = \"data\", # where to download data to\n",
        "    train = True, # get training data\n",
        "    download = True, # download data if it doesn't exist on disk\n",
        "    transform = Transforms # images come as PIL format, we want to apply transform on them\n",
        ")\n",
        "\n",
        "test_dataset = torchvision.datasets.FashionMNIST(\n",
        "    root = \"data\",\n",
        "    train = False, # get test data\n",
        "    download = True,\n",
        "    transform = Transforms\n",
        ")"
      ],
      "metadata": {
        "colab": {
          "base_uri": "https://localhost:8080/"
        },
        "id": "XPMwap19vk8N",
        "outputId": "10dd8d48-0ab9-4a49-b7c7-22ef73b45887"
      },
      "execution_count": 21,
      "outputs": [
        {
          "output_type": "stream",
          "name": "stderr",
          "text": [
            "100%|██████████| 26.4M/26.4M [00:01<00:00, 16.2MB/s]\n",
            "100%|██████████| 29.5k/29.5k [00:00<00:00, 274kB/s]\n",
            "100%|██████████| 4.42M/4.42M [00:00<00:00, 4.46MB/s]\n",
            "100%|██████████| 5.15k/5.15k [00:00<00:00, 11.9MB/s]\n"
          ]
        }
      ]
    },
    {
      "cell_type": "markdown",
      "source": [
        "## Creating Dataloader"
      ],
      "metadata": {
        "id": "TyaXLrw2vyAH"
      }
    },
    {
      "cell_type": "code",
      "source": [
        "train_loader = DataLoader(\n",
        "    dataset=train_dataset,\n",
        "    batch_size=32,\n",
        "    num_workers=2,\n",
        "    shuffle=True\n",
        ")\n",
        "\n",
        "test_loader = DataLoader(\n",
        "    dataset=test_dataset,\n",
        "    batch_size=32,\n",
        "    num_workers=2\n",
        ")"
      ],
      "metadata": {
        "id": "eZNDi_wuv24_"
      },
      "execution_count": 23,
      "outputs": []
    },
    {
      "cell_type": "code",
      "source": [
        "train_sample_batch, train_label_batch = next(iter(train_loader))"
      ],
      "metadata": {
        "id": "xc-rMLvZ4HH8"
      },
      "execution_count": 24,
      "outputs": []
    },
    {
      "cell_type": "code",
      "source": [
        "print(train_sample_batch.shape, '\\n')\n",
        "print(train_label_batch.shape)"
      ],
      "metadata": {
        "colab": {
          "base_uri": "https://localhost:8080/"
        },
        "id": "I0KGXt314Zkr",
        "outputId": "9a780040-442e-4eae-db23-3e43e5e03627"
      },
      "execution_count": 28,
      "outputs": [
        {
          "output_type": "stream",
          "name": "stdout",
          "text": [
            "torch.Size([32, 1, 28, 28]) \n",
            "\n",
            "torch.Size([32])\n"
          ]
        }
      ]
    },
    {
      "cell_type": "code",
      "source": [
        "sample_image = train_sample_batch[0].permute(1, 2, 0)\n",
        "label_of_sample_image = train_label_batch[0]\n",
        "\n",
        "mean, std = 0.5, 0.5\n",
        "sample_image = std * (sample_image + mean)\n",
        "\n",
        "plt.imshow(sample_image, cmap='grey')\n",
        "plt.axis('off')\n",
        "plt.title(f'A sample image of train data with label={classes[label_of_sample_image]}')\n",
        "\n"
      ],
      "metadata": {
        "colab": {
          "base_uri": "https://localhost:8080/",
          "height": 445
        },
        "id": "NN7_F5mW4d6w",
        "outputId": "3bab1185-6e78-4891-ad41-8a1382f6671c"
      },
      "execution_count": 30,
      "outputs": [
        {
          "output_type": "execute_result",
          "data": {
            "text/plain": [
              "Text(0.5, 1.0, 'A sample image of train data with label=Dress')"
            ]
          },
          "metadata": {},
          "execution_count": 30
        },
        {
          "output_type": "display_data",
          "data": {
            "text/plain": [
              "<Figure size 640x480 with 1 Axes>"
            ],
            "image/png": "[encoded data removed]"
          },
          "metadata": {}
        }
      ]
    },
    {
      "cell_type": "code",
      "source": [],
      "metadata": {
        "id": "vutHfpK157yf"
      },
      "execution_count": null,
      "outputs": []
    }
  ]
}