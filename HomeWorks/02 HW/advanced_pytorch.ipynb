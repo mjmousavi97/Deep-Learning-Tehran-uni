{
  "cells": [
    {
      "cell_type": "markdown",
      "metadata": {
        "id": "view-in-github",
        "colab_type": "text"
      },
      "source": [
        "<a href=\"https://colab.research.google.com/github/mjmousavi97/Deep-Learning-Tehran-uni/blob/main/HomeWorks/02%20HW/advanced_pytorch.ipynb\" target=\"_parent\"><img src=\"https://colab.research.google.com/assets/colab-badge.svg\" alt=\"Open In Colab\"/></a>"
      ]
    },
    {
      "cell_type": "markdown",
      "metadata": {
        "id": "7--kvYcpUhfK"
      },
      "source": [
        "# Import libraries"
      ]
    },
    {
      "cell_type": "code",
      "execution_count": 36,
      "metadata": {
        "id": "JFjDsAxXUzV3"
      },
      "outputs": [],
      "source": [
        "import torch  # Core PyTorch library for tensors and GPU computations\n",
        "from torch import nn  # Module for building neural network layers\n",
        "import torch.nn.functional as F  # Functional API for layers and activations (stateless functions)\n",
        "from torch.utils.data import DataLoader, Dataset  # Tools for batching, shuffling, and creating custom datasets\n",
        "\n",
        "import torchvision  # PyTorch package for computer vision datasets, models, and transforms\n",
        "from torchvision import transforms  # Image preprocessing and transformations (resize, normalize, etc.)\n",
        "from torchvision.datasets import ImageFolder  # Loads images from folders organized by class labels\n",
        "\n",
        "import matplotlib.pyplot as plt  # Plotting graphs and displaying images\n",
        "import numpy as np  # Numerical computations and array operations\n",
        "import seaborn as sns  # Statistical data visualization\n",
        "import os  # File and directory operations\n",
        "import random\n",
        "import glob  # File path pattern matching (wildcards)\n",
        "import cv2  # OpenCV for image processing (reading, editing, filtering, etc.)\n",
        "from tqdm import tqdm  # Progress bar for loops\n",
        "from PIL import Image  # Pillow library for opening, saving, and manipulating images\n"
      ]
    },
    {
      "cell_type": "markdown",
      "metadata": {
        "id": "3CNgmvyffNxb"
      },
      "source": [
        "#### Mounting Google Drive"
      ]
    },
    {
      "cell_type": "code",
      "execution_count": 2,
      "metadata": {
        "colab": {
          "base_uri": "https://localhost:8080/"
        },
        "id": "UtdzjcG9fPxn",
        "outputId": "fd6308fc-fb7a-4eca-aed8-f266f6f1ad96"
      },
      "outputs": [
        {
          "output_type": "stream",
          "name": "stdout",
          "text": [
            "Mounted at /content/drive\n"
          ]
        }
      ],
      "source": [
        "from google.colab import drive\n",
        "drive.mount('/content/drive')"
      ]
    },
    {
      "cell_type": "markdown",
      "metadata": {
        "id": "xzTs9JVZS04N"
      },
      "source": [
        "# Dataset"
      ]
    },
    {
      "cell_type": "code",
      "execution_count": 3,
      "metadata": {
        "id": "YDvL2o2GTnNe"
      },
      "outputs": [],
      "source": [
        "DIR_TRAIN = \"/content/drive/MyDrive/fashionmnist/train/\"\n",
        "DIR_TEST = \"/content/drive/MyDrive/fashionmnist/test/\""
      ]
    },
    {
      "cell_type": "code",
      "execution_count": 4,
      "metadata": {
        "colab": {
          "base_uri": "https://localhost:8080/"
        },
        "id": "4LYgWvELUdw1",
        "outputId": "38a310a5-359b-4ba4-8e49-8541cf524341"
      },
      "outputs": [
        {
          "output_type": "stream",
          "name": "stdout",
          "text": [
            "Names of classes are: ['Dress', 'Pullover', 'Sandal', 'Shirt', 'Sneaker', 'T-shirt', 'Trouser', 'Angle boot', 'Bag', 'Coat'].\n",
            "There are 10 classes.\n"
          ]
        }
      ],
      "source": [
        "classes = os.listdir(DIR_TRAIN)\n",
        "print(f\"Names of classes are: {classes}.\\nThere are {len(classes)} classes.\")"
      ]
    },
    {
      "cell_type": "code",
      "execution_count": 5,
      "metadata": {
        "colab": {
          "base_uri": "https://localhost:8080/"
        },
        "id": "_6w59SoAkEop",
        "outputId": "1bcc4022-118e-4d8b-b4e5-f980e3cfcc5a"
      },
      "outputs": [
        {
          "output_type": "stream",
          "name": "stdout",
          "text": [
            "Total train images: 60000\n",
            "Total test images: 10000\n"
          ]
        }
      ],
      "source": [
        "train_images = []\n",
        "test_images = []\n",
        "\n",
        "for _class in classes:\n",
        "    train_images += glob.glob(DIR_TRAIN + _class + '/*.jpg')\n",
        "    test_images += glob.glob(DIR_TEST + _class + '/*.jpg')\n",
        "\n",
        "print(\"Total train images:\", len(train_images))\n",
        "print(\"Total test images:\", len(test_images))"
      ]
    },
    {
      "cell_type": "code",
      "execution_count": 6,
      "metadata": {
        "id": "IRD6n9GxoXXF"
      },
      "outputs": [],
      "source": [
        "Transforms = transforms.Compose([transforms.ToTensor(),\n",
        "                                 transforms.Normalize(mean=0.5, std=0.5)])"
      ]
    },
    {
      "cell_type": "code",
      "execution_count": 7,
      "metadata": {
        "id": "XPMwap19vk8N",
        "colab": {
          "base_uri": "https://localhost:8080/"
        },
        "outputId": "dfe3ddc6-9f20-4d70-e360-ee65f08a8589"
      },
      "outputs": [
        {
          "output_type": "stream",
          "name": "stderr",
          "text": [
            "100%|██████████| 26.4M/26.4M [00:02<00:00, 11.8MB/s]\n",
            "100%|██████████| 29.5k/29.5k [00:00<00:00, 200kB/s]\n",
            "100%|██████████| 4.42M/4.42M [00:01<00:00, 3.73MB/s]\n",
            "100%|██████████| 5.15k/5.15k [00:00<00:00, 14.5MB/s]\n"
          ]
        }
      ],
      "source": [
        "train_dataset = torchvision.datasets.FashionMNIST(\n",
        "    root = \"data\", # where to download data to\n",
        "    train = True, # get training data\n",
        "    download = True, # download data if it doesn't exist on disk\n",
        "    transform = Transforms # images come as PIL format, we want to apply transform on them\n",
        ")\n",
        "\n",
        "test_dataset = torchvision.datasets.FashionMNIST(\n",
        "    root = \"data\",\n",
        "    train = False, # get test data\n",
        "    download = True,\n",
        "    transform = Transforms\n",
        ")"
      ]
    },
    {
      "cell_type": "markdown",
      "metadata": {
        "id": "TyaXLrw2vyAH"
      },
      "source": [
        "## Creating Dataloader"
      ]
    },
    {
      "cell_type": "code",
      "execution_count": 8,
      "metadata": {
        "id": "eZNDi_wuv24_"
      },
      "outputs": [],
      "source": [
        "train_loader = DataLoader(\n",
        "    dataset=train_dataset,\n",
        "    batch_size=32,\n",
        "    num_workers=2,\n",
        "    shuffle=True\n",
        ")\n",
        "\n",
        "test_loader = DataLoader(\n",
        "    dataset=test_dataset,\n",
        "    batch_size=32,\n",
        "    num_workers=2\n",
        ")"
      ]
    },
    {
      "cell_type": "code",
      "execution_count": 9,
      "metadata": {
        "id": "xc-rMLvZ4HH8"
      },
      "outputs": [],
      "source": [
        "train_sample_batch, train_label_batch = next(iter(train_loader))"
      ]
    },
    {
      "cell_type": "code",
      "execution_count": 10,
      "metadata": {
        "colab": {
          "base_uri": "https://localhost:8080/"
        },
        "id": "I0KGXt314Zkr",
        "outputId": "7ee3125a-b18d-4481-8826-6f7e22576fec"
      },
      "outputs": [
        {
          "output_type": "stream",
          "name": "stdout",
          "text": [
            "torch.Size([32, 1, 28, 28]) \n",
            "\n",
            "torch.Size([32])\n"
          ]
        }
      ],
      "source": [
        "print(train_sample_batch.shape, '\\n')\n",
        "print(train_label_batch.shape)"
      ]
    },
    {
      "cell_type": "code",
      "execution_count": 11,
      "metadata": {
        "colab": {
          "base_uri": "https://localhost:8080/",
          "height": 445
        },
        "id": "NN7_F5mW4d6w",
        "outputId": "6052db67-66be-428c-bb51-135aef8d5272"
      },
      "outputs": [
        {
          "output_type": "execute_result",
          "data": {
            "text/plain": [
              "Text(0.5, 1.0, 'A sample image of train data with label=Sandal')"
            ]
          },
          "metadata": {},
          "execution_count": 11
        },
        {
          "output_type": "display_data",
          "data": {
            "text/plain": [
              "<Figure size 640x480 with 1 Axes>"
            ],
            "image/png": "[encoded data removed]"
          },
          "metadata": {}
        }
      ],
      "source": [
        "sample_image = train_sample_batch[0].permute(1, 2, 0)\n",
        "label_of_sample_image = train_label_batch[0]\n",
        "\n",
        "mean, std = 0.5, 0.5\n",
        "sample_image = std * (sample_image + mean)\n",
        "\n",
        "plt.imshow(sample_image, cmap='grey')\n",
        "plt.axis('off')\n",
        "plt.title(f'A sample image of train data with label={classes[label_of_sample_image]}')\n",
        "\n"
      ]
    },
    {
      "cell_type": "markdown",
      "metadata": {
        "id": "vutHfpK157yf"
      },
      "source": [
        "# Network Structure"
      ]
    },
    {
      "cell_type": "markdown",
      "metadata": {
        "id": "L4-CTTp1vxkw"
      },
      "source": [
        "\n",
        "\n",
        "\n",
        "[CNN Explainer](https://poloclub.github.io/cnn-explainer/)\n",
        "\n"
      ]
    },
    {
      "cell_type": "code",
      "execution_count": 12,
      "metadata": {
        "id": "HyU2AZaxv1xV"
      },
      "outputs": [],
      "source": [
        "class CNN_Model(nn.Module):\n",
        "    \"\"\"\n",
        "    A simple Convolutional Neural Network (CNN) model for image classification.\n",
        "\n",
        "    Architecture:\n",
        "    - Two convolutional layers each followed by Batch Normalization and ReLU activation.\n",
        "    - A MaxPooling layer to downsample the feature maps.\n",
        "    - A classifier consisting of Flatten, Dropout, and a Linear (fully connected) layer\n",
        "      to produce the final output.\n",
        "\n",
        "    Args:\n",
        "        input_channel (int): Number of input channels (e.g., 3 for RGB images).\n",
        "        hidden_unit (int): Number of filters (feature maps) in the convolutional layers.\n",
        "        output_shape (int): Number of classes or output features.\n",
        "\n",
        "    Forward pass:\n",
        "        - Input tensor of shape (batch_size, input_channel, height, width).\n",
        "        - Outputs raw logits of shape (batch_size, output_shape).\n",
        "    \"\"\"\n",
        "\n",
        "    def __init__(self, input_channel, hidden_unit, output_shape):\n",
        "        super().__init__()\n",
        "\n",
        "        # Feature extractor: convolutional block\n",
        "        self.CNN_block = nn.Sequential(\n",
        "            # First convolutional layer\n",
        "            nn.Conv2d(in_channels=input_channel, out_channels=hidden_unit, kernel_size=3, stride=1, padding=1),\n",
        "            nn.BatchNorm2d(num_features=hidden_unit),  # Normalize activations for stability and faster convergence\n",
        "            nn.ReLU(inplace=True),                      # Non-linear activation\n",
        "\n",
        "            # Second convolutional layer\n",
        "            nn.Conv2d(in_channels=hidden_unit, out_channels=hidden_unit, kernel_size=3, stride=1, padding=1),\n",
        "            nn.BatchNorm2d(num_features=hidden_unit),  # Batch normalization again\n",
        "            nn.ReLU(inplace=True),\n",
        "\n",
        "            # MaxPooling to reduce spatial dimensions by factor of 2\n",
        "            nn.MaxPool2d(kernel_size=2, stride=2)\n",
        "        )\n",
        "\n",
        "        # Classifier: fully connected layers\n",
        "        self.classifier = nn.Sequential(\n",
        "            nn.Flatten(),       # Flatten feature maps into a vector\n",
        "            nn.Dropout(p=0.5),  # Dropout for regularization to prevent overfitting\n",
        "            nn.Linear(in_features=hidden_unit*14*14, out_features=output_shape)  # Final linear layer for classification\n",
        "        )\n",
        "\n",
        "    def forward(self, x: torch.Tensor):\n",
        "        \"\"\"\n",
        "        Defines the forward computation of the network.\n",
        "\n",
        "        Args:\n",
        "            x (torch.Tensor): Input tensor of shape (batch_size, input_channel, height, width).\n",
        "\n",
        "        Returns:\n",
        "            torch.Tensor: Output logits of shape (batch_size, output_shape).\n",
        "        \"\"\"\n",
        "        x = self.CNN_block(x)    # Pass input through convolutional feature extractor\n",
        "        x = self.classifier(x)   # Pass extracted features through classifier\n",
        "        return x\n"
      ]
    },
    {
      "cell_type": "code",
      "execution_count": 13,
      "metadata": {
        "colab": {
          "base_uri": "https://localhost:8080/"
        },
        "id": "6Fx9UI12GAhN",
        "outputId": "4c1309d6-6e67-42b5-aecc-e20cf7cf00ae"
      },
      "outputs": [
        {
          "output_type": "execute_result",
          "data": {
            "text/plain": [
              "CNN_Model(\n",
              "  (CNN_block): Sequential(\n",
              "    (0): Conv2d(1, 10, kernel_size=(3, 3), stride=(1, 1), padding=(1, 1))\n",
              "    (1): BatchNorm2d(10, eps=1e-05, momentum=0.1, affine=True, track_running_stats=True)\n",
              "    (2): ReLU(inplace=True)\n",
              "    (3): Conv2d(10, 10, kernel_size=(3, 3), stride=(1, 1), padding=(1, 1))\n",
              "    (4): BatchNorm2d(10, eps=1e-05, momentum=0.1, affine=True, track_running_stats=True)\n",
              "    (5): ReLU(inplace=True)\n",
              "    (6): MaxPool2d(kernel_size=2, stride=2, padding=0, dilation=1, ceil_mode=False)\n",
              "  )\n",
              "  (classifier): Sequential(\n",
              "    (0): Flatten(start_dim=1, end_dim=-1)\n",
              "    (1): Dropout(p=0.5, inplace=False)\n",
              "    (2): Linear(in_features=1960, out_features=10, bias=True)\n",
              "  )\n",
              ")"
            ]
          },
          "metadata": {},
          "execution_count": 13
        }
      ],
      "source": [
        "model = CNN_Model(input_channel=1, hidden_unit=10, output_shape=len(classes))\n",
        "model"
      ]
    },
    {
      "cell_type": "code",
      "execution_count": 14,
      "metadata": {
        "colab": {
          "base_uri": "https://localhost:8080/"
        },
        "id": "PhdkaHZEGM_v",
        "outputId": "14d80d08-7bd9-46c1-d3ce-04c7892a91f6"
      },
      "outputs": [
        {
          "output_type": "execute_result",
          "data": {
            "text/plain": [
              "torch.Size([1, 10])"
            ]
          },
          "metadata": {},
          "execution_count": 14
        }
      ],
      "source": [
        "random_sample = torch.randn((1, 1, 28, 28))\n",
        "model(random_sample).shape"
      ]
    },
    {
      "cell_type": "markdown",
      "metadata": {
        "id": "wl5Tab4LHA8w"
      },
      "source": [
        "# Training"
      ]
    },
    {
      "cell_type": "markdown",
      "metadata": {
        "id": "AGmYtzKEy_Lh"
      },
      "source": [
        "# Understanding `with` and `tqdm` in Python\n",
        "\n",
        "## `with` statement\n",
        "- Used to wrap the execution of a block with methods defined by a context manager (`__enter__` and `__exit__`).\n",
        "- Ensures proper setup and cleanup (e.g., opening and closing files, managing resources).\n",
        "- Guarantees cleanup even if errors occur inside the block.\n",
        "- Syntax example:\n",
        "  ```python\n",
        "  with open(\"file.txt\", \"r\") as f:\n",
        "      data = f.read()\n",
        "  ```\n",
        "\n",
        "## `tqdm`\n",
        "- A Python library to display progress bars for iterables.\n",
        "- Wraps any iterable (e.g., lists, ranges, DataLoader) to show progress.\n",
        "- Updates progress bar each iteration, showing completion %, elapsed time, estimated time, etc.\n",
        "- Common usage:\n",
        "  ```python\n",
        "  from tqdm import tqdm\n",
        "\n",
        "  for item in tqdm(iterable, desc=\"Processing\"):\n",
        "      # process item\n",
        "      pass\n",
        "  ```\n",
        "- Can be used with `with` to automatically handle progress bar lifecycle:\n",
        "  ```python\n",
        "  with tqdm(iterable, desc=\"Processing\") as pbar:\n",
        "      for item in pbar:\n",
        "          # process item\n",
        "          pass\n",
        "  ```\n",
        "- When wrapping a DataLoader, tqdm tracks progress over **all batches**, not individual samples.\n"
      ]
    },
    {
      "cell_type": "code",
      "execution_count": 15,
      "metadata": {
        "id": "LRH9EGguHHlU"
      },
      "outputs": [],
      "source": [
        "def train_step(model, data_loader, loss_fn, optimizer, accuracy_fn, device):\n",
        "    \"\"\"\n",
        "    Performs one full training epoch over the provided data loader.\n",
        "\n",
        "    Args:\n",
        "        model (torch.nn.Module): The neural network model to train.\n",
        "        data_loader (DataLoader): DataLoader providing training batches.\n",
        "        loss_fn (callable): Loss function to compute the error.\n",
        "        optimizer (torch.optim.Optimizer): Optimizer for updating model parameters.\n",
        "        accuracy_fn (callable): Function to calculate accuracy.\n",
        "        device (torch.device): Device to run computations on (CPU or GPU).\n",
        "\n",
        "    Returns:\n",
        "        tuple: (average_train_loss, average_train_accuracy) over the epoch.\n",
        "    \"\"\"\n",
        "    model.to(device)  # Move model to the specified device (CPU or GPU)\n",
        "    train_loss, train_acc, counter = 0, 0, 0\n",
        "\n",
        "    with tqdm(data_loader, desc='  train') as train_tqdm:\n",
        "        for X, y in train_tqdm:\n",
        "            # Move data to the specified device\n",
        "            X, y = X.to(device), y.to(device)\n",
        "\n",
        "            # Forward pass: predict outputs\n",
        "            y_pred = model(X)\n",
        "\n",
        "            # Compute the loss for current batch\n",
        "            loss = loss_fn(y_pred, y)\n",
        "\n",
        "            # Accumulate loss and accuracy values\n",
        "            train_loss += loss.item()  # Convert tensor loss to float before accumulating\n",
        "            train_acc += accuracy_fn(true=y.cpu(), pred=y_pred.cpu())\n",
        "\n",
        "            counter += 1  # Increment batch counter\n",
        "\n",
        "            # Update tqdm progress bar postfix with current average accuracy and loss\n",
        "            train_tqdm.set_postfix(\n",
        "                train_acc=train_acc / counter,\n",
        "                train_loss=train_loss / counter,\n",
        "                refresh=True\n",
        "            )\n",
        "\n",
        "            # Zero gradients before backward pass\n",
        "            optimizer.zero_grad()\n",
        "\n",
        "            # Backward pass: compute gradients\n",
        "            loss.backward()\n",
        "\n",
        "            # Update model parameters\n",
        "            optimizer.step()\n",
        "\n",
        "        # Compute average loss and accuracy over all batches\n",
        "        train_loss /= len(data_loader)\n",
        "        train_acc /= len(data_loader)\n",
        "\n",
        "    return train_loss, train_acc\n"
      ]
    },
    {
      "cell_type": "markdown",
      "metadata": {
        "id": "ypMuKqcr40Gl"
      },
      "source": [
        "# Test Function"
      ]
    },
    {
      "cell_type": "code",
      "execution_count": 16,
      "metadata": {
        "id": "iGD9_zCpir5i"
      },
      "outputs": [],
      "source": [
        "def test_step(model, data_loader, loss_fn, accuracy_fn, device):\n",
        "    \"\"\"\n",
        "    Evaluate a trained model on a test dataset.\n",
        "\n",
        "    Args:\n",
        "        model (torch.nn.Module): The trained PyTorch model to evaluate.\n",
        "        data_loader (torch.utils.data.DataLoader): DataLoader containing the test dataset.\n",
        "        loss_fn (callable): Loss function used to compute the evaluation loss.\n",
        "        accuracy_fn (callable): Function to compute accuracy.\n",
        "                                 Should accept `true` (ground truth labels) and `pred` (model predictions).\n",
        "        device (torch.device or str): Device to perform computation on ('cpu' or 'cuda').\n",
        "\n",
        "    Returns:\n",
        "        tuple:\n",
        "            test_loss (float) - Average loss over the test dataset.\n",
        "            test_acc (float) - Average accuracy over the test dataset.\n",
        "    \"\"\"\n",
        "\n",
        "    # Move the model to the specified device (CPU or GPU)\n",
        "    model.to(device)\n",
        "\n",
        "    # Initialize accumulators for loss, accuracy, and batch count\n",
        "    test_loss, test_acc, counter = 0, 0, 0\n",
        "\n",
        "    # Set the model to evaluation mode (important for layers like dropout, batch norm)\n",
        "    model.eval()\n",
        "\n",
        "    # Use tqdm for a progress bar over the test DataLoader\n",
        "    with tqdm(data_loader, desc='  test') as test_tqdm:\n",
        "        for X, y in test_tqdm:\n",
        "            # Move input data and labels to the selected device\n",
        "            X, y = X.to(device), y.to(device)\n",
        "\n",
        "            # Forward pass (no gradient calculation needed for testing)\n",
        "            test_pred = model(X)\n",
        "\n",
        "            # Accumulate the loss (detach from computation graph)\n",
        "            test_loss += loss_fn(test_pred, y)\n",
        "\n",
        "            # Accumulate accuracy (move predictions and labels back to CPU for calculation)\n",
        "            test_acc += accuracy_fn(true=y.cpu(), pred=test_pred.cpu())\n",
        "\n",
        "            # Keep track of processed batches\n",
        "            counter += 1\n",
        "\n",
        "            # Update the progress bar display\n",
        "            test_tqdm.set_postfix(\n",
        "                test_acc=test_acc / counter,\n",
        "                test_loss=test_loss / counter,\n",
        "                refresh=True\n",
        "            )\n",
        "\n",
        "        # Compute the average loss and accuracy over all batches\n",
        "        test_loss /= len(data_loader)\n",
        "        test_acc /= len(data_loader)\n",
        "\n",
        "    return test_loss, test_acc\n"
      ]
    },
    {
      "cell_type": "markdown",
      "metadata": {
        "id": "Lx2he-a-j6DI"
      },
      "source": [
        "# Main loop"
      ]
    },
    {
      "cell_type": "code",
      "execution_count": 17,
      "metadata": {
        "id": "RBwG6ZbWkVNt"
      },
      "outputs": [],
      "source": [
        "loss_fn =nn.CrossEntropyLoss()\n",
        "optimizer = torch.optim.Adam(params=model.parameters(), lr=0.0001)\n",
        "device = \"cuda\" if torch.cuda.is_available() else \"cpu\"\n",
        "def accuracy_fn(true, pred):\n",
        "    pred = F.softmax(pred, dim=1)\n",
        "    pred = torch.argmax(pred, dim=1)\n",
        "    # true = torch.zeros(pred.shape[0], pred.shape[1]).scatter_(dim=1, index=true.unsqueeze(dim=1), value=1.0)\n",
        "    # true = torch.argmax(true, dim=1)\n",
        "    return torch.mean((pred == true).float())"
      ]
    },
    {
      "cell_type": "code",
      "execution_count": 18,
      "metadata": {
        "id": "BtFD65p8opwG"
      },
      "outputs": [],
      "source": [
        "from timeit import default_timer as timer"
      ]
    },
    {
      "cell_type": "code",
      "execution_count": 19,
      "metadata": {
        "colab": {
          "base_uri": "https://localhost:8080/"
        },
        "id": "o81Uqzu_xhLg",
        "outputId": "d462f7b7-6643-4763-ebe2-7a38fa87506b"
      },
      "outputs": [
        {
          "output_type": "stream",
          "name": "stdout",
          "text": [
            "EPOCH 1/20 :\n"
          ]
        },
        {
          "output_type": "stream",
          "name": "stderr",
          "text": [
            "  train: 100%|██████████| 1875/1875 [00:22<00:00, 83.33it/s, train_acc=tensor(0.7696), train_loss=0.658] \n",
            "  test: 100%|██████████| 313/313 [00:03<00:00, 83.16it/s, test_acc=tensor(0.8489), test_loss=tensor(0.4249, device='cuda:0')]\n"
          ]
        },
        {
          "output_type": "stream",
          "name": "stdout",
          "text": [
            "EPOCH 2/20 :\n"
          ]
        },
        {
          "output_type": "stream",
          "name": "stderr",
          "text": [
            "  train: 100%|██████████| 1875/1875 [00:21<00:00, 85.31it/s, train_acc=tensor(0.8748), train_loss=0.356] \n",
            "  test: 100%|██████████| 313/313 [00:03<00:00, 100.50it/s, test_acc=tensor(0.8795), test_loss=tensor(0.3477, device='cuda:0')]\n"
          ]
        },
        {
          "output_type": "stream",
          "name": "stdout",
          "text": [
            "EPOCH 3/20 :\n"
          ]
        },
        {
          "output_type": "stream",
          "name": "stderr",
          "text": [
            "  train: 100%|██████████| 1875/1875 [00:22<00:00, 84.77it/s, train_acc=tensor(0.8914), train_loss=0.307]\n",
            "  test: 100%|██████████| 313/313 [00:03<00:00, 100.69it/s, test_acc=tensor(0.8874), test_loss=tensor(0.3260, device='cuda:0')]\n"
          ]
        },
        {
          "output_type": "stream",
          "name": "stdout",
          "text": [
            "EPOCH 4/20 :\n"
          ]
        },
        {
          "output_type": "stream",
          "name": "stderr",
          "text": [
            "  train: 100%|██████████| 1875/1875 [00:21<00:00, 87.40it/s, train_acc=tensor(0.9014), train_loss=0.281]\n",
            "  test: 100%|██████████| 313/313 [00:03<00:00, 89.59it/s, test_acc=tensor(0.8891), test_loss=tensor(0.3117, device='cuda:0')] \n"
          ]
        },
        {
          "output_type": "stream",
          "name": "stdout",
          "text": [
            "EPOCH 5/20 :\n"
          ]
        },
        {
          "output_type": "stream",
          "name": "stderr",
          "text": [
            "  train: 100%|██████████| 1875/1875 [00:20<00:00, 90.06it/s, train_acc=tensor(0.9078), train_loss=0.263] \n",
            "  test: 100%|██████████| 313/313 [00:03<00:00, 79.81it/s, test_acc=tensor(0.8850), test_loss=tensor(0.3106, device='cuda:0')]\n"
          ]
        },
        {
          "output_type": "stream",
          "name": "stdout",
          "text": [
            "EPOCH 6/20 :\n"
          ]
        },
        {
          "output_type": "stream",
          "name": "stderr",
          "text": [
            "  train: 100%|██████████| 1875/1875 [00:21<00:00, 89.22it/s, train_acc=tensor(0.9128), train_loss=0.248]\n",
            "  test: 100%|██████████| 313/313 [00:03<00:00, 100.75it/s, test_acc=tensor(0.8950), test_loss=tensor(0.2939, device='cuda:0')]\n"
          ]
        },
        {
          "output_type": "stream",
          "name": "stdout",
          "text": [
            "EPOCH 7/20 :\n"
          ]
        },
        {
          "output_type": "stream",
          "name": "stderr",
          "text": [
            "  train: 100%|██████████| 1875/1875 [00:22<00:00, 84.85it/s, train_acc=tensor(0.9160), train_loss=0.237]\n",
            "  test: 100%|██████████| 313/313 [00:03<00:00, 99.42it/s, test_acc=tensor(0.9015), test_loss=tensor(0.2823, device='cuda:0')] \n"
          ]
        },
        {
          "output_type": "stream",
          "name": "stdout",
          "text": [
            "EPOCH 8/20 :\n"
          ]
        },
        {
          "output_type": "stream",
          "name": "stderr",
          "text": [
            "  train: 100%|██████████| 1875/1875 [00:22<00:00, 84.18it/s, train_acc=tensor(0.9194), train_loss=0.226]\n",
            "  test: 100%|██████████| 313/313 [00:03<00:00, 99.91it/s, test_acc=tensor(0.8981), test_loss=tensor(0.2847, device='cuda:0')] \n"
          ]
        },
        {
          "output_type": "stream",
          "name": "stdout",
          "text": [
            "EPOCH 9/20 :\n"
          ]
        },
        {
          "output_type": "stream",
          "name": "stderr",
          "text": [
            "  train: 100%|██████████| 1875/1875 [00:20<00:00, 89.89it/s, train_acc=tensor(0.9227), train_loss=0.218]\n",
            "  test: 100%|██████████| 313/313 [00:04<00:00, 74.46it/s, test_acc=tensor(0.8995), test_loss=tensor(0.2851, device='cuda:0')] \n"
          ]
        },
        {
          "output_type": "stream",
          "name": "stdout",
          "text": [
            "EPOCH 10/20 :\n"
          ]
        },
        {
          "output_type": "stream",
          "name": "stderr",
          "text": [
            "  train: 100%|██████████| 1875/1875 [00:21<00:00, 89.10it/s, train_acc=tensor(0.9256), train_loss=0.21]\n",
            "  test: 100%|██████████| 313/313 [00:03<00:00, 89.01it/s, test_acc=tensor(0.9026), test_loss=tensor(0.2734, device='cuda:0')]\n"
          ]
        },
        {
          "output_type": "stream",
          "name": "stdout",
          "text": [
            "EPOCH 11/20 :\n"
          ]
        },
        {
          "output_type": "stream",
          "name": "stderr",
          "text": [
            "  train: 100%|██████████| 1875/1875 [00:21<00:00, 86.43it/s, train_acc=tensor(0.9279), train_loss=0.203]\n",
            "  test: 100%|██████████| 313/313 [00:03<00:00, 101.00it/s, test_acc=tensor(0.9069), test_loss=tensor(0.2683, device='cuda:0')]\n"
          ]
        },
        {
          "output_type": "stream",
          "name": "stdout",
          "text": [
            "EPOCH 12/20 :\n"
          ]
        },
        {
          "output_type": "stream",
          "name": "stderr",
          "text": [
            "  train: 100%|██████████| 1875/1875 [00:22<00:00, 84.76it/s, train_acc=tensor(0.9298), train_loss=0.196]\n",
            "  test: 100%|██████████| 313/313 [00:03<00:00, 98.38it/s, test_acc=tensor(0.9020), test_loss=tensor(0.2765, device='cuda:0')] \n"
          ]
        },
        {
          "output_type": "stream",
          "name": "stdout",
          "text": [
            "EPOCH 13/20 :\n"
          ]
        },
        {
          "output_type": "stream",
          "name": "stderr",
          "text": [
            "  train: 100%|██████████| 1875/1875 [00:22<00:00, 84.39it/s, train_acc=tensor(0.9316), train_loss=0.191]\n",
            "  test: 100%|██████████| 313/313 [00:03<00:00, 100.84it/s, test_acc=tensor(0.9045), test_loss=tensor(0.2729, device='cuda:0')]\n"
          ]
        },
        {
          "output_type": "stream",
          "name": "stdout",
          "text": [
            "EPOCH 14/20 :\n"
          ]
        },
        {
          "output_type": "stream",
          "name": "stderr",
          "text": [
            "  train: 100%|██████████| 1875/1875 [00:21<00:00, 88.23it/s, train_acc=tensor(0.9339), train_loss=0.186]\n",
            "  test: 100%|██████████| 313/313 [00:04<00:00, 72.57it/s, test_acc=tensor(0.9055), test_loss=tensor(0.2743, device='cuda:0')]\n"
          ]
        },
        {
          "output_type": "stream",
          "name": "stdout",
          "text": [
            "EPOCH 15/20 :\n"
          ]
        },
        {
          "output_type": "stream",
          "name": "stderr",
          "text": [
            "  train: 100%|██████████| 1875/1875 [00:21<00:00, 88.44it/s, train_acc=tensor(0.9352), train_loss=0.181]\n",
            "  test: 100%|██████████| 313/313 [00:03<00:00, 81.23it/s, test_acc=tensor(0.9022), test_loss=tensor(0.2945, device='cuda:0')]\n"
          ]
        },
        {
          "output_type": "stream",
          "name": "stdout",
          "text": [
            "EPOCH 16/20 :\n"
          ]
        },
        {
          "output_type": "stream",
          "name": "stderr",
          "text": [
            "  train: 100%|██████████| 1875/1875 [00:21<00:00, 85.48it/s, train_acc=tensor(0.9370), train_loss=0.176]\n",
            "  test: 100%|██████████| 313/313 [00:03<00:00, 99.33it/s, test_acc=tensor(0.9015), test_loss=tensor(0.2900, device='cuda:0')] \n"
          ]
        },
        {
          "output_type": "stream",
          "name": "stdout",
          "text": [
            "EPOCH 17/20 :\n"
          ]
        },
        {
          "output_type": "stream",
          "name": "stderr",
          "text": [
            "  train: 100%|██████████| 1875/1875 [00:22<00:00, 82.28it/s, train_acc=tensor(0.9370), train_loss=0.173]\n",
            "  test: 100%|██████████| 313/313 [00:03<00:00, 98.83it/s, test_acc=tensor(0.9057), test_loss=tensor(0.2765, device='cuda:0')]\n"
          ]
        },
        {
          "output_type": "stream",
          "name": "stdout",
          "text": [
            "EPOCH 18/20 :\n"
          ]
        },
        {
          "output_type": "stream",
          "name": "stderr",
          "text": [
            "  train: 100%|██████████| 1875/1875 [00:22<00:00, 83.41it/s, train_acc=tensor(0.9393), train_loss=0.17]\n",
            "  test: 100%|██████████| 313/313 [00:03<00:00, 96.61it/s, test_acc=tensor(0.9080), test_loss=tensor(0.2748, device='cuda:0')]\n"
          ]
        },
        {
          "output_type": "stream",
          "name": "stdout",
          "text": [
            "EPOCH 19/20 :\n"
          ]
        },
        {
          "output_type": "stream",
          "name": "stderr",
          "text": [
            "  train: 100%|██████████| 1875/1875 [00:22<00:00, 84.33it/s, train_acc=tensor(0.9408), train_loss=0.165]\n",
            "  test: 100%|██████████| 313/313 [00:03<00:00, 91.54it/s, test_acc=tensor(0.9038), test_loss=tensor(0.2924, device='cuda:0')]\n"
          ]
        },
        {
          "output_type": "stream",
          "name": "stdout",
          "text": [
            "EPOCH 20/20 :\n"
          ]
        },
        {
          "output_type": "stream",
          "name": "stderr",
          "text": [
            "  train: 100%|██████████| 1875/1875 [00:21<00:00, 87.19it/s, train_acc=tensor(0.9418), train_loss=0.162]\n",
            "  test: 100%|██████████| 313/313 [00:04<00:00, 72.83it/s, test_acc=tensor(0.9086), test_loss=tensor(0.2801, device='cuda:0')]"
          ]
        },
        {
          "output_type": "stream",
          "name": "stdout",
          "text": [
            "Total training time: 505.325 seconds\n"
          ]
        },
        {
          "output_type": "stream",
          "name": "stderr",
          "text": [
            "\n"
          ]
        }
      ],
      "source": [
        "train_epoch_loss = []\n",
        "train_epoch_accuracy = []\n",
        "test_epoch_loss = []\n",
        "test_epoch_accuracy = []\n",
        "\n",
        "start_time = timer()\n",
        "\n",
        "epochs = 20\n",
        "for epoch in range(epochs):\n",
        "    print(f\"EPOCH {epoch + 1}/{epochs} :\")\n",
        "\n",
        "    # Training step\n",
        "    train_loss, train_acc = train_step(\n",
        "        model=model,\n",
        "        data_loader=train_loader,\n",
        "        loss_fn=loss_fn,\n",
        "        optimizer=optimizer,\n",
        "        accuracy_fn=accuracy_fn,\n",
        "        device=device\n",
        "    )\n",
        "\n",
        "    # Test step (no grad to save memory)\n",
        "    with torch.no_grad():\n",
        "        test_loss, test_acc = test_step(\n",
        "            model=model,\n",
        "            data_loader=test_loader,\n",
        "            loss_fn=loss_fn,\n",
        "            accuracy_fn=accuracy_fn,\n",
        "            device=device\n",
        "        )\n",
        "\n",
        "    # Store results (convert to CPU before appending)\n",
        "    train_epoch_loss.append(train_loss.item() if torch.is_tensor(train_loss) else train_loss)\n",
        "    train_epoch_accuracy.append(train_acc.item() if torch.is_tensor(train_acc) else train_acc)\n",
        "    test_epoch_loss.append(test_loss.item() if torch.is_tensor(test_loss) else test_loss)\n",
        "    test_epoch_accuracy.append(test_acc.item() if torch.is_tensor(test_acc) else test_acc)\n",
        "\n",
        "    # Free GPU memory\n",
        "    del train_loss, train_acc, test_loss, test_acc\n",
        "    torch.cuda.empty_cache()\n",
        "\n",
        "end_time = timer()\n",
        "total_time = end_time - start_time\n",
        "print(f\"Total training time: {total_time:.3f} seconds\")\n"
      ]
    },
    {
      "cell_type": "code",
      "source": [
        "torch.save(model.state_dict(), 'saved_model')"
      ],
      "metadata": {
        "id": "4mTeFh414qh-"
      },
      "execution_count": 20,
      "outputs": []
    },
    {
      "cell_type": "markdown",
      "source": [
        "# Evaluation"
      ],
      "metadata": {
        "id": "rkiW3XYf421t"
      }
    },
    {
      "cell_type": "code",
      "source": [
        "epochs = list(range(1, len(train_epoch_accuracy)+1))\n",
        "fig, axes = plt.subplots(1, 2, figsize=(13, 5))\n",
        "\n",
        "axes[0].plot(epochs, train_epoch_loss, 'r', label='Train Loss')\n",
        "axes[0].plot(epochs, test_epoch_loss, 'g', label='Test Loss')\n",
        "axes[0].set_title('Loss', fontsize=18)\n",
        "axes[0].set_xlabel('Epochs')\n",
        "axes[0].legend()\n",
        "sns.despine(ax=axes[0])\n",
        "\n",
        "axes[1].plot(epochs, train_epoch_accuracy, 'b', label='Train Accuracy')\n",
        "axes[1].plot(epochs, test_epoch_accuracy, 'y', label='Test Accuracy')\n",
        "axes[1].set_title('Accuracy', fontsize=18)\n",
        "axes[1].set_xlabel('Epochs')\n",
        "axes[1].legend()\n",
        "sns.despine(ax=axes[1])"
      ],
      "metadata": {
        "colab": {
          "base_uri": "https://localhost:8080/",
          "height": 492
        },
        "id": "EGrs8DKn5AZr",
        "outputId": "d6f0660b-5d60-4234-e170-ffe6fd1ea212"
      },
      "execution_count": 28,
      "outputs": [
        {
          "output_type": "display_data",
          "data": {
            "text/plain": [
              "<Figure size 1300x500 with 2 Axes>"
            ],
            "image/png": "[encoded data removed]"
          },
          "metadata": {}
        }
      ]
    },
    {
      "cell_type": "code",
      "source": [
        "num_samples = 9\n",
        "true_labels = []\n",
        "samples = []\n",
        "pred_labels = []\n",
        "\n",
        "device = next(model.parameters()).device\n",
        "indices = random.sample(range(len(test_dataset)), k=num_samples)\n",
        "\n",
        "for idx in indices:\n",
        "    sample, label = test_dataset[idx]\n",
        "    samples.append(sample.squeeze(dim=0))\n",
        "    true_labels.append(label)\n",
        "\n",
        "    model.eval()\n",
        "    pred = model(sample.unsqueeze(0).to(device))\n",
        "    pred_label = torch.argmax(pred, dim=1)\n",
        "    pred_labels.append(pred_label.item())\n"
      ],
      "metadata": {
        "id": "o_4_LSLT5JIH"
      },
      "execution_count": 54,
      "outputs": []
    },
    {
      "cell_type": "code",
      "source": [
        "class_names = [\n",
        "    \"T-shirt/top\", \"Trouser\", \"Pullover\", \"Dress\", \"Coat\",\n",
        "    \"Sandal\", \"Shirt\", \"Sneaker\", \"Bag\", \"Ankle boot\"\n",
        "]\n",
        "\n",
        "plt.figure(figsize=(12, 4))\n",
        "for i in range(num_samples):\n",
        "    plt.subplot(1, num_samples, i+1)\n",
        "    plt.imshow(samples[i], cmap=\"gray\")\n",
        "    plt.title(f\"True: {class_names[true_labels[i]]}\\nPred: {class_names[pred_labels[i]]}\", fontsize=9)\n",
        "    plt.axis(\"off\")\n",
        "\n",
        "plt.tight_layout()\n",
        "plt.show()\n"
      ],
      "metadata": {
        "colab": {
          "base_uri": "https://localhost:8080/",
          "height": 187
        },
        "id": "jk8mYhFVIy-m",
        "outputId": "42bab09d-609d-4b1a-e4da-a2602e9820db"
      },
      "execution_count": 55,
      "outputs": [
        {
          "output_type": "display_data",
          "data": {
            "text/plain": [
              "<Figure size 1200x400 with 9 Axes>"
            ],
            "image/png": "[encoded data removed]"
          },
          "metadata": {}
        }
      ]
    },
    {
      "cell_type": "code",
      "source": [
        "y_preds = []\n",
        "model.eval()\n",
        "\n",
        "for X, y in tqdm(test_loader, desc=\"Making predictions\"):\n",
        "    X, y = X.to(device), y.to(device)\n",
        "\n",
        "    y_logit = model(X)\n",
        "    y_pred = torch.softmax(y_logit, dim=1).argmax(dim=1)\n",
        "    y_preds.append(y_pred)\n",
        "\n",
        "y_pred_tensor = torch.cat(y_preds)\n"
      ],
      "metadata": {
        "colab": {
          "base_uri": "https://localhost:8080/"
        },
        "id": "u1ExyG4VKeRA",
        "outputId": "68bf4d7f-6b89-4c9a-ce03-8bd80888dc54"
      },
      "execution_count": 57,
      "outputs": [
        {
          "output_type": "stream",
          "name": "stderr",
          "text": [
            "Making predictions: 100%|██████████| 313/313 [00:03<00:00, 92.14it/s]\n"
          ]
        }
      ]
    },
    {
      "cell_type": "code",
      "source": [
        "from sklearn.metrics import confusion_matrix\n",
        "y_pred_numpy = y_pred_tensor.cpu().numpy()\n",
        "CM = confusion_matrix(y_true=test_dataset.targets.numpy(),\n",
        "                      y_pred=y_pred_numpy)\n",
        "CM"
      ],
      "metadata": {
        "colab": {
          "base_uri": "https://localhost:8080/"
        },
        "id": "wc8PNf-ENeDo",
        "outputId": "aa343e53-bfc9-4f3a-f3a0-dd06c19d9938"
      },
      "execution_count": 62,
      "outputs": [
        {
          "output_type": "execute_result",
          "data": {
            "text/plain": [
              "array([[871,   0,  15,  18,   6,   2,  80,   0,   8,   0],\n",
              "       [  2, 979,   0,  11,   4,   0,   4,   0,   0,   0],\n",
              "       [ 15,   1, 831,   8,  78,   0,  66,   0,   0,   1],\n",
              "       [ 16,   7,   8, 913,  26,   0,  27,   0,   3,   0],\n",
              "       [  2,   0,  32,  20, 901,   0,  43,   0,   2,   0],\n",
              "       [  1,   0,   0,   0,   0, 979,   0,  13,   1,   6],\n",
              "       [118,   1,  51,  30,  86,   0, 708,   0,   6,   0],\n",
              "       [  0,   0,   0,   0,   0,   9,   0, 974,   0,  17],\n",
              "       [  1,   2,   0,   8,   3,   5,   5,   2, 974,   0],\n",
              "       [  0,   0,   1,   0,   0,   8,   0,  34,   0, 957]])"
            ]
          },
          "metadata": {},
          "execution_count": 62
        }
      ]
    },
    {
      "cell_type": "code",
      "source": [
        "plt.figure(figsize=(10,10))\n",
        "sns.heatmap(CM, cmap='Blues', annot=True, cbar=False, fmt=\".0f\",\n",
        "            xticklabels=classes, yticklabels=classes)\n",
        "plt.xlabel('Predicted Label', labelpad=20)\n",
        "plt.ylabel('True Label', labelpad=20)\n",
        "plt.title('Confusion Matrix', fontsize=30);"
      ],
      "metadata": {
        "colab": {
          "base_uri": "https://localhost:8080/",
          "height": 914
        },
        "id": "BrUCe9YwNvM_",
        "outputId": "87060d86-2519-4324-9b51-3b6689a297d0"
      },
      "execution_count": 63,
      "outputs": [
        {
          "output_type": "display_data",
          "data": {
            "text/plain": [
              "<Figure size 1000x1000 with 1 Axes>"
            ],
            "image/png": "[encoded data removed]"
          },
          "metadata": {}
        }
      ]
    },
    {
      "cell_type": "markdown",
      "source": [
        "____"
      ],
      "metadata": {
        "id": "LpTC4zMZOpYx"
      }
    }
  ],
  "metadata": {
    "accelerator": "GPU",
    "colab": {
      "gpuType": "T4",
      "provenance": [],
      "authorship_tag": "ABX9TyMDMk8bewLHskzRXQFT8Z9A",
      "include_colab_link": true
    },
    "kernelspec": {
      "display_name": "Python 3",
      "name": "python3"
    },
    "language_info": {
      "name": "python"
    }
  },
  "nbformat": 4,
  "nbformat_minor": 0
}